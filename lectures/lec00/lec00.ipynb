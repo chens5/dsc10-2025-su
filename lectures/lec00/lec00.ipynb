{
 "cells": [
  {
   "cell_type": "code",
   "execution_count": 1,
   "metadata": {
    "slideshow": {
     "slide_type": "skip"
    }
   },
   "outputs": [],
   "source": [
    "# Imports\n",
    "import babypandas as bpd\n",
    "import numpy as np\n",
    "\n",
    "import plotly.express as px\n",
    "import matplotlib.pyplot as plt\n",
    "plt.style.use('ggplot')"
   ]
  },
  {
   "attachments": {},
   "cell_type": "markdown",
   "metadata": {
    "slideshow": {
     "slide_type": "slide"
    }
   },
   "source": [
    "# Lecture 0, June 30, 2025 – Introduction\n",
    "\n",
    "## DSC 10, Summer Session I 2025"
   ]
  },
  {
   "cell_type": "markdown",
   "metadata": {},
   "source": []
  },
  {
   "cell_type": "markdown",
   "metadata": {
    "slideshow": {
     "slide_type": "slide"
    }
   },
   "source": [
    "### Welcome to DSC 10! 👋\n",
    "- A guided tour of data science.\n",
    "    - Developed by UC Berkeley in 2015.\n",
    "    - Adapted by UC San Diego in 2017.\n",
    "- Learn just enough programming and statistics to do data science.\n",
    "    - Statistics without too much math, mostly simulation.\n",
    "    - Lays the foundation for all other courses in the DSC major."
   ]
  },
  {
   "cell_type": "markdown",
   "metadata": {
    "slideshow": {
     "slide_type": "slide"
    }
   },
   "source": [
    "### Agenda\n",
    "\n",
    "- Course staff.\n",
    "- What is data science?\n",
    "- How will this course run?\n",
    "- Jumping into Python basics:\n",
    "    - Doing basic calculations in Python \n",
    "    - Variables and assignment\n",
    "    - Data types: how do we represent numbers?"
   ]
  },
  {
   "cell_type": "markdown",
   "metadata": {
    "slideshow": {
     "slide_type": "slide"
    }
   },
   "source": [
    "## Course staff"
   ]
  },
  {
   "cell_type": "markdown",
   "metadata": {
    "slideshow": {
     "slide_type": "slide"
    }
   },
   "source": [
    "### Instructor: Samantha Chen (call me Sam)\n",
    "\n",
    "- Originally from Midland, Michigan (〽️)\n",
    "- BS (’20) in Mathematics and Computer Science from Carleton College (Northfield, Minnesota) and now in the 5th year of my PhD here at UCSD\n",
    "- Teaching \n",
    "    - I was a teaching assistant in Fall term 2023 for CSE 20: Discrete Mathematics for Computer Science\n",
    "    - This is the first course I'm teaching!\n",
    "- Outside the classroom: watching movies, reading books, hanging out at cafes, swimming, climbing, (short) hikes etc.\n"
   ]
  },
  {
   "cell_type": "markdown",
   "metadata": {
    "slideshow": {
     "slide_type": "slide"
    }
   },
   "source": [
    "<center><img src=\"images/aboutme.png\" width=40%></center>"
   ]
  },
  {
   "cell_type": "markdown",
   "metadata": {
    "slideshow": {
     "slide_type": "slide"
    }
   },
   "source": [
    "### TA: Ashley Ho\n",
    "\n",
    "- Originally from Irvine, CA.\n",
    "- BS in Probability & Statistics, minor in Data Science from UCSD in 2024.\n",
    "- Currently a 1st year Data Science Master's student at UCSD.\n",
    "    - Previously tutored DSC 10 four times. Tutored DSC 30 and DSC 80 as well.\n",
    "    - Fourth time TA-ing DSC 10!\n",
    "- Outside interests: piano, cooking, movies & TV shows, my dog!"
   ]
  },
  {
   "cell_type": "markdown",
   "metadata": {},
   "source": [
    "<center><img src=\"images/ash-bean.jpg\" width=40%></center>"
   ]
  },
  {
   "cell_type": "markdown",
   "metadata": {
    "slideshow": {
     "slide_type": "slide"
    }
   },
   "source": [
    "## What is \"data science\"? 🤔"
   ]
  },
  {
   "cell_type": "markdown",
   "metadata": {
    "slideshow": {
     "slide_type": "slide"
    }
   },
   "source": [
    "<center><img src='images/what-is-ds.png' width=1250>Everyone seems to have their own definition of data science.</center>"
   ]
  },
  {
   "cell_type": "markdown",
   "metadata": {
    "slideshow": {
     "slide_type": "slide"
    }
   },
   "source": [
    "### What is \"data science\"?\n",
    "\n",
    "Data science is about **drawing useful conclusions from data using computation**. Throughout the quarter, we'll touch on several aspects of data science:"
   ]
  },
  {
   "cell_type": "markdown",
   "metadata": {
    "slideshow": {
     "slide_type": "fragment"
    }
   },
   "source": [
    "- First 2 weeks: use Python to **explore** data.\n",
    "    - Lots of visualization 📈📊 and \"data manipulation\", using industry-standard tools."
   ]
  },
  {
   "cell_type": "markdown",
   "metadata": {
    "slideshow": {
     "slide_type": "fragment"
    }
   },
   "source": [
    "- Next 2 weeks: use data to **infer** about a population, given just a sample.\n",
    "    - Rely heavily on simulation, rather than formulas."
   ]
  },
  {
   "cell_type": "markdown",
   "metadata": {
    "slideshow": {
     "slide_type": "fragment"
    }
   },
   "source": [
    "- Last 1 week: use data from the past to **predict** what may happen in the future.\n",
    "    - A taste of machine learning 🤖."
   ]
  },
  {
   "cell_type": "markdown",
   "metadata": {
    "slideshow": {
     "slide_type": "slide"
    }
   },
   "source": [
    "### Data science is more relevant than ever 🤧\n",
    "\n",
    "We spent all of 2020 looking at graphs that look like this: \n",
    "\n",
    "<center><img src='images/covid.png' width=65%></center>\n",
    "\n",
    "As of March 2023, both the New York Times and Johns Hopkins have stopped updating their COVID dashboards."
   ]
  },
  {
   "cell_type": "markdown",
   "metadata": {
    "slideshow": {
     "slide_type": "slide"
    }
   },
   "source": [
    "### It can be fun, too!\n",
    "\n",
    "The site [The Pudding](https://pudding.cool) is home to several interactive data-rich articles.\n",
    "\n",
    "<center><img src='images/vocab.png' width=75%>(<a href=\"https://pudding.cool/projects/vocabulary\">source</a>)</center>"
   ]
  },
  {
   "cell_type": "markdown",
   "metadata": {
    "slideshow": {
     "slide_type": "slide"
    }
   },
   "source": [
    "<center><img src='images/map.png' width=65%>(<a href=\"https://pudding.cool/2023/03/same-name/\">source</a>)</center>\n",
    "\n"
   ]
  },
  {
   "attachments": {},
   "cell_type": "markdown",
   "metadata": {
    "slideshow": {
     "slide_type": "slide"
    }
   },
   "source": [
    "## Course logistics"
   ]
  },
  {
   "cell_type": "markdown",
   "metadata": {
    "slideshow": {
     "slide_type": "slide"
    }
   },
   "source": [
    "### Course website\n",
    "\n",
    "The course website is your one-stop-shop for all things related to the course.\n",
    "\n",
    "<center><h3><a href=\"https://dsc10.com\">dsc10.com</a></h3></center>\n",
    "\n",
    "This is where lectures, homeworks, labs, practice problems, and all other content will be posted. Check it often, and **read the [syllabus](https://dsc10.com/syllabus)**!"
   ]
  },
  {
   "attachments": {},
   "cell_type": "markdown",
   "metadata": {
    "slideshow": {
     "slide_type": "slide"
    }
   },
   "source": [
    "### Getting set up\n",
    "\n",
    "- **Campuswire**: Q&A forum. All announcements will be made here. You should have gotten email invitation; if not, there's a link on syllabus.\n",
    "- **Gradescope**: Where you will submit all assignments for autograding, and where all of your grades will live. You should have been automatically added; contact us if not.\n",
    "- **DataHub**: Where you will access and run all code in this class. Access at [datahub.ucsd.edu](https://datahub.ucsd.edu). \n",
    "- We will **not** be using Canvas for anything!\n",
    "\n",
    "In addition, you must also fill out the [Welcome Survey](https://docs.google.com/forms/d/e/1FAIpQLSfP_7dzEgsXgKcrV6zcafpJgepABS_WLXch_9iXHzTtJevTqw/viewform)."
   ]
  },
  {
   "attachments": {},
   "cell_type": "markdown",
   "metadata": {
    "slideshow": {
     "slide_type": "slide"
    }
   },
   "source": [
    "### Lecture\n",
    "\n",
    "- Lectures will be *hybrid*: there is an in-person and zoom option. All lectures will also be recorded for viewing afterwards.\n",
    "    - In person: 9:30am-10:50am, Zoom: https://ucsd.zoom.us/j/97178497084?pwd=pv6DgQLlRPey6fHcUnYa9SCOobfiCQ.1 (password to zoom room should have been sent to you via email). \n",
    "    - Recordings can be found at [podcast.ucsd.edu](https://podcast.ucsd.edu) and on the course website.\n",
    "    - Participation (either in-person or on zoom) counts for 2% of your overall grade. You will get full points if you attend 14/19 lectures and if you filled out the pre-course survey, we'll count that towards your total lecture count. \n",
    "- Slides/code from lecture will be linked on the course website, both in a \"runnable\" code format and as an HTML file (✏️), which you can save as a PDF and annotate on your tablet.\n",
    "- We will try to make lectures engaging. **Bring your laptop or tablet**, if you have one."
   ]
  },
  {
   "attachments": {},
   "cell_type": "markdown",
   "metadata": {
    "slideshow": {
     "slide_type": "slide"
    }
   },
   "source": [
    "### Labs\n",
    "\n",
    "- Labs refer to **lab assignments**, which are a required part of the course and help you develop fluency in Python and working with data.\n",
    "- While working on labs, you'll be able to run **autograder tests** which tell you if your answers are correct.\n",
    "    - For labs, if you pass all autograder tests, you will get 100\\%!\n",
    "- You must submit labs individually, but you can discuss ideas with others (no sharing code).\n",
    "- The first lab is due **this Thursday 07/03/2025 @11:59PM, PST**. "
   ]
  },
  {
   "attachments": {},
   "cell_type": "markdown",
   "metadata": {
    "slideshow": {
     "slide_type": "slide"
    }
   },
   "source": [
    "### Homeworks and projects\n",
    "\n",
    "- Weekly homework assignments build off of skills you develop in labs.\n",
    "- A key difference between homeworks and labs is that **passing autograder tests does not guarantee a perfect score!**\n",
    "    - In homeworks, we have \"hidden tests\" that are only run after you submit the assignment.\n",
    "    - The tests that are available to you within the assignment itself only verify that your answer is reasonable/on the right track.\n",
    "- Again, you must work on homeworks yourself, but you can discuss ideas with other students (no sharing code).\n",
    "- The homework scehdule can be found on the course website!\n",
    "- In the **Final Project**, you will do a deep dive into a dataset! Projects are longer than homeworks, so we give you more time to work on them.\n",
    "    - This quarter's projects: UCSD Admissions 💯 and Meteorite Landings ☄️.\n",
    "    - You can work on projects with partners, following these [project partner guidelines](https://dsc10.com/project-partners). Both of you should actively contribute to **all parts** of the project."
   ]
  },
  {
   "attachments": {},
   "cell_type": "markdown",
   "metadata": {},
   "source": [
    "### Quizzes\n",
    "\n",
    "Instead of using the Monday 1pm-5pm block in the schedule for lab/discussion, we will be having 4 **oral** quizzes in this class. They make up 8% of your grade and are **pass/fail**.\n",
    "- You will meet either me or Ashley for 5 minutes each Monday (starting next Monday). To get through all students, we have blocked out 1pm-3:30pm for this purpose. From 3:30pm-5:00pm, I plan on having office hours **online**. \n",
    "- We will ask one question about topics covered in the previous week. \n",
    "- You **can** make mistakes while answering and still **pass**! We just want to hear your thought process for problem solving."
   ]
  },
  {
   "attachments": {},
   "cell_type": "markdown",
   "metadata": {
    "slideshow": {
     "slide_type": "slide"
    }
   },
   "source": [
    "### Exams\n",
    "\n",
    "We will have two exams this quarter.\n",
    "- **Midterm Exam**: Friday, May 5th, during your scheduled lecture time.\n",
    "- **Final Exam**: Saturday, June 10th, 7-10PM.\n",
    "- Both exams will be conducted **remotely**. However, you **must** turn on your camera during the exams and turn it so your hands and exam sheet are visible. "
   ]
  },
  {
   "cell_type": "markdown",
   "metadata": {
    "slideshow": {
     "slide_type": "slide"
    }
   },
   "source": [
    "### Readings and resources\n",
    "\n",
    "- We will draw readings from two sources. Readings for each lecture will be posted on the course homepage.\n",
    "    - [Computational and Inferential Thinking (CIT)](https://inferentialthinking.com), the textbook created for Berkeley's version of this course.\n",
    "    - [`babypandas` notes](https://notes.dsc10.com), written specifically for the first part of DSC 10.\n",
    "- The [Resources](https://dsc10.com/resources) tab of the course website contains links to helpful resources that you'll want to use throughout the course (e.g. DSC 10 Reference Sheet, programming tutorials, supplemental videos).\n",
    "- The [Debugging](https://dsc10.com/debugging) tab of the course website has answers to many common technical issues."
   ]
  },
  {
   "attachments": {},
   "cell_type": "markdown",
   "metadata": {
    "slideshow": {
     "slide_type": "slide"
    }
   },
   "source": [
    "### First assignment\n",
    "- Lab 0 is due **this Thursday 07/03/2025 @11:59PM, PST**\n",
    "    - Should be released on website. Let me know **ASAP** if you have not yet gotten access to DataHub. \n",
    "- <span style='color:red'><b>🚨 Important: Start early and submit often</b>.</span>"
   ]
  },
  {
   "attachments": {},
   "cell_type": "markdown",
   "metadata": {
    "slideshow": {
     "slide_type": "slide"
    }
   },
   "source": [
    "### Getting help\n",
    "This is a tough, fast-paced course, but we're here to help you – here's how:\n",
    "\n",
    "- **Office Hours (OH)**.\n",
    "    - Held both remotely and in-person!\n",
    "    - Come with questions, or just to work!\n",
    "    - See the schedule and instructions on the [Calendar 📆](https://chens5.github.io/dsc10-2025-su/calendar/).\n",
    "- **Campuswire**\n",
    "    - Post here with any logistical or conceptual questions (please don't email).\n",
    "    - No code or solutions in public posts. Such posts should be private to course staff.\n",
    "    - Otherwise, post publicly (anonymously, if you'd like).\n",
    "- <span style=\"color:red;\"><b>🚨 Important: Use these to your advantage!</b></span>"
   ]
  },
  {
   "attachments": {},
   "cell_type": "markdown",
   "metadata": {
    "slideshow": {
     "slide_type": "slide"
    }
   },
   "source": [
    "### Advice from previous students\n",
    "\n",
    "At the end of each quarter, we ask DSC 10 students to give advice to future students in the course. Here are some responses from Winter 2023:\n",
    "\n",
    "> Start the assignments early, every time that I started an assignment the day or even night of, I always struggled and the added pressure of not getting it in on time didn't help me one bit. The times that I started a day or two in advance, even if it was just completing a couple problems in advance, I felt way more relaxed and in turn I learned and retained a lot more.\n",
    "\n",
    "> Pay attention in lectures and to begin both labs and homework early because they will pile up. The lectures are very helpful references to use if you’re stuck during labs and homework’s and office hours are incredibly useful so go!!!\n",
    "\n",
    "> Use TA's and office hours as much as possible, also the reference sheet was crucial. \n"
   ]
  },
  {
   "cell_type": "markdown",
   "metadata": {
    "slideshow": {
     "slide_type": "slide"
    }
   },
   "source": [
    "### Collaboration\n",
    "\n",
    "#### Asking questions is highly encouraged!\n",
    "- Discuss all questions with each other (except exams).\n",
    "- Submit lab assignments individually, but you can work with others (no sharing code).\n",
    "- Submit homeworks individually, but you can discuss problem-solving strategies with others (no sharing code).\n",
    "- Submit projects individually or in pairs."
   ]
  },
  {
   "cell_type": "markdown",
   "metadata": {
    "slideshow": {
     "slide_type": "fragment"
    }
   },
   "source": [
    "#### The limits of collaboration:\n",
    "- Don't share solutions with each other or look at someone’s code.\n",
    "- Project partners should both contribute to all parts of the project. Don't split up the project.\n",
    "- Don't use ChatGPT or GitHub Copilot – all work you submit should be written by **you**.\n",
    "- Academic integrity violations usually result in failing the course. "
   ]
  },
  {
   "cell_type": "markdown",
   "metadata": {
    "slideshow": {
     "slide_type": "slide"
    }
   },
   "source": [
    "### We're here for you!\n",
    "\n",
    "Regardless of your background, you can succeed in this course. **No prior programming or statistics experience will be assumed!**\n",
    "\n",
    "Watch on YouTube: [We’re All Data Scientists | Rebecca Nugent | TEDxCMU](https://www.youtube.com/watch?v=YMnqPTLoj7o)."
   ]
  },
  {
   "cell_type": "markdown",
   "metadata": {
    "slideshow": {
     "slide_type": "slide"
    }
   },
   "source": [
    "### Campus resources\n",
    "\n",
    "Counseling and Psychological Services (CAPS) is a campus unit that offers “short term counseling for academic, career, and personal issues and also offers psychiatry services for circumstances when medication can help with counseling.”\n",
    "If you or anyone you know is ever in need of mental health care, you should contact CAPS.\n",
    "\n",
    "<center><h3><a href=\"https://caps.ucsd.edu/\">caps.ucsd.edu</a></h3></center>"
   ]
  },
  {
   "cell_type": "markdown",
   "metadata": {
    "slideshow": {
     "slide_type": "slide"
    }
   },
   "source": [
    "## Demo"
   ]
  },
  {
   "cell_type": "markdown",
   "metadata": {
    "slideshow": {
     "slide_type": "slide"
    }
   },
   "source": [
    "### _Little Women_ (1868)\n",
    "\n",
    "- _Little Women_, by Louisa May Alcott, is a novel that follows the life of four sisters – Meg, Jo, Beth, and Amy.\n",
    "    - A movie based on the novel was released in 2019, starring Emma Watson (Meg) and Timothée Chalamet (Laurie).\n",
    "- Using tools from this class, we'll learn (a bit) about the plot of the book, without reading it.\n",
    "- Do not worry about any of this code – we'll cover the necessary pieces in the weeks to come. Sit back and relax!"
   ]
  },
  {
   "cell_type": "code",
   "execution_count": 2,
   "metadata": {
    "scrolled": true,
    "slideshow": {
     "slide_type": "slide"
    }
   },
   "outputs": [],
   "source": [
    "# Read in 'lw.txt' to a variable called little_women_text.\n",
    "little_women_text = open('data/lw.txt').read()"
   ]
  },
  {
   "cell_type": "code",
   "execution_count": 3,
   "metadata": {
    "slideshow": {
     "slide_type": "slide"
    }
   },
   "outputs": [
    {
     "data": {
      "text/plain": [
       "'The Project Gutenberg EBook of Little Women, by Louisa May Alcott\\n\\nThis eBook is for the use of anyone anywhere at no cost and with\\nalmost no restrictions whatsoever.  You may copy it, give it away or\\nre-use it under the terms of the Project Gutenberg License included\\nwith this eBook or online at www.gutenberg.net\\n\\n\\nTitle: Little Women\\n\\nAuthor: Louisa May Alcott\\n\\nPosting Date: September 13, 2008 [EBook #514]\\nRelease Date: May, 1996\\n[This file last updated on August 19, 2010]\\n\\nLanguage: English\\n\\n\\n*** START OF THIS PROJECT GUTENBERG EBOOK LITTLE WOMEN ***\\n\\n\\n\\n\\nLITTLE WOMEN\\n\\n\\nby\\n\\nLouisa May Alcott\\n\\n\\n\\n\\nCONTENTS\\n\\n\\nPART 1\\n\\n          ONE  PLAYING PILGRIMS\\n          TWO  A MERRY CHRISTMAS\\n        THREE  THE LAURENCE BOY\\n         FOUR  BURDENS\\n         FIVE  BEING NEIGHBORLY\\n          SIX  BETH FINDS THE PALACE BEAUTIFUL\\n        SEVEN  AMY\\'S VALLEY OF HUMILIATION\\n        EIGHT  JO MEETS APOLLYON\\n         NINE  MEG GOES TO VANITY FAIR\\n          TEN  THE P.C. AND P.O.\\n       ELEVEN  EXPERIMENTS\\n       TWELVE  CAMP LAURENCE\\n     THIRTEEN  CASTLES IN THE AIR\\n     FOURTEEN  SECRETS\\n      FIFTEEN  A TELEGRAM\\n      SIXTEEN  LETTERS\\n    SEVENTEEN  LITTLE FAITHFUL\\n     EIGHTEEN  DARK DAYS\\n     NINETEEN  AMY\\'S WILL\\n       TWENTY  CONFIDENTIAL\\n   TWENTY-ONE  LAURIE MAKES MISCHIEF, AND JO MAKES PEACE\\n   TWENTY-TWO  PLEASANT MEADOWS\\n TWENTY-THREE  AUNT MARCH SETTLES THE QUESTION\\n\\n\\nPART 2\\n\\n  TWENTY-FOUR  GOSSIP\\n  TWENTY-FIVE  THE FIRST WEDDING\\n   TWENTY-SIX  ARTISTIC ATTEMPTS\\n TWENTY-SEVEN  LITERARY LESSONS\\n TWENTY-EIGHT  DOMESTIC EXPERIENCES\\n  TWENTY-NINE  CALLS\\n       THIRTY  CONSEQUENCES\\n   THIRTY-ONE  OUR FOREIGN CORRESPONDENT\\n   THIRTY-TWO  TENDER TROUBLES\\n THIRTY-THREE  JO\\'S JOURNAL\\n  THIRTY-FOUR  FRIEND\\n  THIRTY-FIVE  HEARTACHE\\n   THIRTY-SIX  BETH\\'S SECRET\\n THIRTY-SEVEN  NEW IMPRESSIONS\\n THIRTY-EIGHT  ON THE SHELF\\n  THIRTY-NINE  LAZY LAURENCE\\n        FORTY  THE VALLEY OF THE SHADOW\\n    FORTY-ONE  LEARNING TO FORGET\\n    FORTY-TWO  ALL ALONE\\n  FORTY-THREE  SURPRISES\\n   FORTY-FOUR  MY LORD AND LADY\\n   FORTY-FIVE  DAISY AND DEMI\\n    FORTY-SIX  UNDER THE UMBRELLA\\n  FORTY-SEVEN  HARVEST TIME\\n\\n\\n\\nCHAPTER ONE\\n\\nPLAYING PILGRIMS\\n\\n\"Christmas won\\'t be Christmas without any presents,\" grumbled Jo, lying\\non the rug.\\n\\n\"It\\'s so dreadful to be poor!\" sighed Meg, looking down at her old\\ndress.\\n\\n\"I don\\'t think it\\'s fair for some girls to have plenty of pretty\\nthings, and other girls nothing at all,\" added little Amy, with an\\ninjured sniff.\\n\\n\"We\\'ve got Father and Mother, and each other,\" said Beth contentedly\\nfrom her corner.\\n\\nThe four young faces on which the firelight shone brightened at the\\ncheerful words, but darkened again as Jo said sadly, \"We haven\\'t got\\nFather, and shall not have him for a long time.\" She didn\\'t say\\n\"perhaps never,\" but each silently added it, thinking of Father far\\naway, where the fighting was.\\n\\nNobody spoke for a minute; then Meg said in an altered tone, \"You know\\nthe reason Mother proposed not having any presents this Christmas was\\nbecause it is going to b'"
      ]
     },
     "execution_count": 3,
     "metadata": {},
     "output_type": "execute_result"
    }
   ],
   "source": [
    "# See the first three thousand characters.\n",
    "little_women_text[:3000]"
   ]
  },
  {
   "cell_type": "code",
   "execution_count": 4,
   "metadata": {
    "slideshow": {
     "slide_type": "slide"
    }
   },
   "outputs": [
    {
     "name": "stdout",
     "output_type": "stream",
     "text": [
      "The Project Gutenberg EBook of Little Women, by Louisa May Alcott\n",
      "\n",
      "This eBook is for the use of anyone anywhere at no cost and with\n",
      "almost no restrictions whatsoever.  You may copy it, give it away or\n",
      "re-use it under the terms of the Project Gutenberg License included\n",
      "with this eBook or online at www.gutenberg.net\n",
      "\n",
      "\n",
      "Title: Little Women\n",
      "\n",
      "Author: Louisa May Alcott\n",
      "\n",
      "Posting Date: September 13, 2008 [EBook #514]\n",
      "Release Date: May, 1996\n",
      "[This file last updated on August 19, 2010]\n",
      "\n",
      "Language: English\n",
      "\n",
      "\n",
      "*** START OF THIS PROJECT GUTENBERG EBOOK LITTLE WOMEN ***\n",
      "\n",
      "\n",
      "\n",
      "\n",
      "LITTLE WOMEN\n",
      "\n",
      "\n",
      "by\n",
      "\n",
      "Louisa May Alcott\n",
      "\n",
      "\n",
      "\n",
      "\n",
      "CONTENTS\n",
      "\n",
      "\n",
      "PART 1\n",
      "\n",
      "          ONE  PLAYING PILGRIMS\n",
      "          TWO  A MERRY CHRISTMAS\n",
      "        THREE  THE LAURENCE BOY\n",
      "         FOUR  BURDENS\n",
      "         FIVE  BEING NEIGHBORLY\n",
      "          SIX  BETH FINDS THE PALACE BEAUTIFUL\n",
      "        SEVEN  AMY'S VALLEY OF HUMILIATION\n",
      "        EIGHT  JO MEETS APOLLYON\n",
      "         NINE  MEG GOES TO VANITY FAIR\n",
      "          TEN  THE P.C. AND P.O.\n",
      "       ELEVEN  EXPERIMENTS\n",
      "       TWELVE  CAMP LAURENCE\n",
      "     THIRTEEN  CASTLES IN THE AIR\n",
      "     FOURTEEN  SECRETS\n",
      "      FIFTEEN  A TELEGRAM\n",
      "      SIXTEEN  LETTERS\n",
      "    SEVENTEEN  LITTLE FAITHFUL\n",
      "     EIGHTEEN  DARK DAYS\n",
      "     NINETEEN  AMY'S WILL\n",
      "       TWENTY  CONFIDENTIAL\n",
      "   TWENTY-ONE  LAURIE MAKES MISCHIEF, AND JO MAKES PEACE\n",
      "   TWENTY-TWO  PLEASANT MEADOWS\n",
      " TWENTY-THREE  AUNT MARCH SETTLES THE QUESTION\n",
      "\n",
      "\n",
      "PART 2\n",
      "\n",
      "  TWENTY-FOUR  GOSSIP\n",
      "  TWENTY-FIVE  THE FIRST WEDDING\n",
      "   TWENTY-SIX  ARTISTIC ATTEMPTS\n",
      " TWENTY-SEVEN  LITERARY LESSONS\n",
      " TWENTY-EIGHT  DOMESTIC EXPERIENCES\n",
      "  TWENTY-NINE  CALLS\n",
      "       THIRTY  CONSEQUENCES\n",
      "   THIRTY-ONE  OUR FOREIGN CORRESPONDENT\n",
      "   THIRTY-TWO  TENDER TROUBLES\n",
      " THIRTY-THREE  JO'S JOURNAL\n",
      "  THIRTY-FOUR  FRIEND\n",
      "  THIRTY-FIVE  HEARTACHE\n",
      "   THIRTY-SIX  BETH'S SECRET\n",
      " THIRTY-SEVEN  NEW IMPRESSIONS\n",
      " THIRTY-EIGHT  ON THE SHELF\n",
      "  THIRTY-NINE  LAZY LAURENCE\n",
      "        FORTY  THE VALLEY OF THE SHADOW\n",
      "    FORTY-ONE  LEARNING TO FORGET\n",
      "    FORTY-TWO  ALL ALONE\n",
      "  FORTY-THREE  SURPRISES\n",
      "   FORTY-FOUR  MY LORD AND LADY\n",
      "   FORTY-FIVE  DAISY AND DEMI\n",
      "    FORTY-SIX  UNDER THE UMBRELLA\n",
      "  FORTY-SEVEN  HARVEST TIME\n",
      "\n",
      "\n",
      "\n",
      "CHAPTER ONE\n",
      "\n",
      "PLAYING PILGRIMS\n",
      "\n",
      "\"Christmas won't be Christmas without any presents,\" grumbled Jo, lying\n",
      "on the rug.\n",
      "\n",
      "\"It's so dreadful to be poor!\" sighed Meg, looking down at her old\n",
      "dress.\n",
      "\n",
      "\"I don't think it's fair for some girls to have plenty of pretty\n",
      "things, and other girls nothing at all,\" added little Amy, with an\n",
      "injured sniff.\n",
      "\n",
      "\"We've got Father and Mother, and each other,\" said Beth contentedly\n",
      "from her corner.\n",
      "\n",
      "The four young faces on which the firelight shone brightened at the\n",
      "cheerful words, but darkened again as Jo said sadly, \"We haven't got\n",
      "Father, and shall not have him for a long time.\" She didn't say\n",
      "\"perhaps never,\" but each silently added it, thinking of Father far\n",
      "away, where the fighting was.\n",
      "\n",
      "Nobody spoke for a minute; then Meg said in an altered tone, \"You know\n",
      "the reason Mother proposed not having any presents this Christmas was\n",
      "because it is going to b\n"
     ]
    }
   ],
   "source": [
    "# Print the first three thousand characters.\n",
    "print(little_women_text[:3000])"
   ]
  },
  {
   "cell_type": "code",
   "execution_count": 5,
   "metadata": {
    "slideshow": {
     "slide_type": "slide"
    }
   },
   "outputs": [
    {
     "data": {
      "text/html": [
       "<div>\n",
       "<style scoped>\n",
       "    .dataframe tbody tr th:only-of-type {\n",
       "        vertical-align: middle;\n",
       "    }\n",
       "\n",
       "    .dataframe tbody tr th {\n",
       "        vertical-align: top;\n",
       "    }\n",
       "\n",
       "    .dataframe thead th {\n",
       "        text-align: right;\n",
       "    }\n",
       "</style>\n",
       "<table border=\"1\" class=\"dataframe\">\n",
       "  <thead>\n",
       "    <tr style=\"text-align: right;\">\n",
       "      <th></th>\n",
       "      <th>chapters</th>\n",
       "    </tr>\n",
       "  </thead>\n",
       "  <tbody>\n",
       "    <tr>\n",
       "      <th>0</th>\n",
       "      <td>The Project Gutenberg EBook of Little Women, b...</td>\n",
       "    </tr>\n",
       "    <tr>\n",
       "      <th>1</th>\n",
       "      <td>ONE\\n\\nPLAYING PILGRIMS\\n\\n\"Christmas won't be...</td>\n",
       "    </tr>\n",
       "    <tr>\n",
       "      <th>2</th>\n",
       "      <td>TWO\\n\\nA MERRY CHRISTMAS\\n\\nJo was the first t...</td>\n",
       "    </tr>\n",
       "    <tr>\n",
       "      <th>3</th>\n",
       "      <td>THREE\\n\\nTHE LAURENCE BOY\\n\\n\"Jo!  Jo!  Where ...</td>\n",
       "    </tr>\n",
       "    <tr>\n",
       "      <th>4</th>\n",
       "      <td>FOUR\\n\\nBURDENS\\n\\n\"Oh, dear, how hard it does...</td>\n",
       "    </tr>\n",
       "    <tr>\n",
       "      <th>...</th>\n",
       "      <td>...</td>\n",
       "    </tr>\n",
       "    <tr>\n",
       "      <th>43</th>\n",
       "      <td>FORTY-THREE\\n\\nSURPRISES\\n\\nJo was alone in th...</td>\n",
       "    </tr>\n",
       "    <tr>\n",
       "      <th>44</th>\n",
       "      <td>FORTY-FOUR\\n\\nMY LORD AND LADY\\n\\n\"Please, Mad...</td>\n",
       "    </tr>\n",
       "    <tr>\n",
       "      <th>45</th>\n",
       "      <td>FORTY-FIVE\\n\\nDAISY AND DEMI\\n\\nI cannot feel ...</td>\n",
       "    </tr>\n",
       "    <tr>\n",
       "      <th>46</th>\n",
       "      <td>FORTY-SIX\\n\\nUNDER THE UMBRELLA\\n\\nWhile Lauri...</td>\n",
       "    </tr>\n",
       "    <tr>\n",
       "      <th>47</th>\n",
       "      <td>FORTY-SEVEN\\n\\nHARVEST TIME\\n\\nFor a year Jo a...</td>\n",
       "    </tr>\n",
       "  </tbody>\n",
       "</table>\n",
       "<p>48 rows × 1 columns</p>\n",
       "</div>"
      ],
      "text/plain": [
       "                                             chapters\n",
       "0   The Project Gutenberg EBook of Little Women, b...\n",
       "1   ONE\\n\\nPLAYING PILGRIMS\\n\\n\"Christmas won't be...\n",
       "2   TWO\\n\\nA MERRY CHRISTMAS\\n\\nJo was the first t...\n",
       "3   THREE\\n\\nTHE LAURENCE BOY\\n\\n\"Jo!  Jo!  Where ...\n",
       "4   FOUR\\n\\nBURDENS\\n\\n\"Oh, dear, how hard it does...\n",
       "..                                                ...\n",
       "43  FORTY-THREE\\n\\nSURPRISES\\n\\nJo was alone in th...\n",
       "44  FORTY-FOUR\\n\\nMY LORD AND LADY\\n\\n\"Please, Mad...\n",
       "45  FORTY-FIVE\\n\\nDAISY AND DEMI\\n\\nI cannot feel ...\n",
       "46  FORTY-SIX\\n\\nUNDER THE UMBRELLA\\n\\nWhile Lauri...\n",
       "47  FORTY-SEVEN\\n\\nHARVEST TIME\\n\\nFor a year Jo a...\n",
       "\n",
       "[48 rows x 1 columns]"
      ]
     },
     "execution_count": 5,
     "metadata": {},
     "output_type": "execute_result"
    }
   ],
   "source": [
    "# Create a variable \"chapters\" by splitting the text on 'CHAPTER '.\n",
    "chapters = little_women_text.split('CHAPTER ') \n",
    "\n",
    "# Create a DataFrame with one column - the text of each chapters.\n",
    "bpd.DataFrame().assign(chapters=chapters)"
   ]
  },
  {
   "cell_type": "code",
   "execution_count": 6,
   "metadata": {
    "slideshow": {
     "slide_type": "slide"
    }
   },
   "outputs": [
    {
     "data": {
      "text/html": [
       "<div>\n",
       "<style scoped>\n",
       "    .dataframe tbody tr th:only-of-type {\n",
       "        vertical-align: middle;\n",
       "    }\n",
       "\n",
       "    .dataframe tbody tr th {\n",
       "        vertical-align: top;\n",
       "    }\n",
       "\n",
       "    .dataframe thead th {\n",
       "        text-align: right;\n",
       "    }\n",
       "</style>\n",
       "<table border=\"1\" class=\"dataframe\">\n",
       "  <thead>\n",
       "    <tr style=\"text-align: right;\">\n",
       "      <th></th>\n",
       "      <th>Amy</th>\n",
       "      <th>Beth</th>\n",
       "      <th>Jo</th>\n",
       "      <th>Meg</th>\n",
       "      <th>Laurie</th>\n",
       "    </tr>\n",
       "  </thead>\n",
       "  <tbody>\n",
       "    <tr>\n",
       "      <th>0</th>\n",
       "      <td>0</td>\n",
       "      <td>0</td>\n",
       "      <td>0</td>\n",
       "      <td>0</td>\n",
       "      <td>0</td>\n",
       "    </tr>\n",
       "    <tr>\n",
       "      <th>1</th>\n",
       "      <td>23</td>\n",
       "      <td>26</td>\n",
       "      <td>44</td>\n",
       "      <td>26</td>\n",
       "      <td>0</td>\n",
       "    </tr>\n",
       "    <tr>\n",
       "      <th>2</th>\n",
       "      <td>13</td>\n",
       "      <td>12</td>\n",
       "      <td>21</td>\n",
       "      <td>20</td>\n",
       "      <td>0</td>\n",
       "    </tr>\n",
       "    <tr>\n",
       "      <th>3</th>\n",
       "      <td>2</td>\n",
       "      <td>2</td>\n",
       "      <td>62</td>\n",
       "      <td>36</td>\n",
       "      <td>16</td>\n",
       "    </tr>\n",
       "    <tr>\n",
       "      <th>4</th>\n",
       "      <td>14</td>\n",
       "      <td>18</td>\n",
       "      <td>34</td>\n",
       "      <td>17</td>\n",
       "      <td>0</td>\n",
       "    </tr>\n",
       "    <tr>\n",
       "      <th>...</th>\n",
       "      <td>...</td>\n",
       "      <td>...</td>\n",
       "      <td>...</td>\n",
       "      <td>...</td>\n",
       "      <td>...</td>\n",
       "    </tr>\n",
       "    <tr>\n",
       "      <th>43</th>\n",
       "      <td>31</td>\n",
       "      <td>8</td>\n",
       "      <td>61</td>\n",
       "      <td>3</td>\n",
       "      <td>29</td>\n",
       "    </tr>\n",
       "    <tr>\n",
       "      <th>44</th>\n",
       "      <td>13</td>\n",
       "      <td>0</td>\n",
       "      <td>9</td>\n",
       "      <td>0</td>\n",
       "      <td>10</td>\n",
       "    </tr>\n",
       "    <tr>\n",
       "      <th>45</th>\n",
       "      <td>1</td>\n",
       "      <td>2</td>\n",
       "      <td>6</td>\n",
       "      <td>2</td>\n",
       "      <td>0</td>\n",
       "    </tr>\n",
       "    <tr>\n",
       "      <th>46</th>\n",
       "      <td>2</td>\n",
       "      <td>1</td>\n",
       "      <td>56</td>\n",
       "      <td>4</td>\n",
       "      <td>2</td>\n",
       "    </tr>\n",
       "    <tr>\n",
       "      <th>47</th>\n",
       "      <td>10</td>\n",
       "      <td>3</td>\n",
       "      <td>37</td>\n",
       "      <td>6</td>\n",
       "      <td>13</td>\n",
       "    </tr>\n",
       "  </tbody>\n",
       "</table>\n",
       "<p>48 rows × 5 columns</p>\n",
       "</div>"
      ],
      "text/plain": [
       "    Amy  Beth  Jo  Meg  Laurie\n",
       "0     0     0   0    0       0\n",
       "1    23    26  44   26       0\n",
       "2    13    12  21   20       0\n",
       "3     2     2  62   36      16\n",
       "4    14    18  34   17       0\n",
       "..  ...   ...  ..  ...     ...\n",
       "43   31     8  61    3      29\n",
       "44   13     0   9    0      10\n",
       "45    1     2   6    2       0\n",
       "46    2     1  56    4       2\n",
       "47   10     3  37    6      13\n",
       "\n",
       "[48 rows x 5 columns]"
      ]
     },
     "execution_count": 6,
     "metadata": {},
     "output_type": "execute_result"
    }
   ],
   "source": [
    "# Number of occurrences of each name in each chapter.\n",
    "\n",
    "counts = bpd.DataFrame().assign(\n",
    "    Amy=np.char.count(chapters, 'Amy'),\n",
    "    Beth=np.char.count(chapters, 'Beth'),\n",
    "    Jo=np.char.count(chapters, 'Jo'),\n",
    "    Meg=np.char.count(chapters, 'Meg'),\n",
    "    Laurie=np.char.count(chapters, 'Laurie'),\n",
    ")\n",
    "counts"
   ]
  },
  {
   "cell_type": "code",
   "execution_count": 7,
   "metadata": {
    "slideshow": {
     "slide_type": "slide"
    }
   },
   "outputs": [
    {
     "data": {
      "text/html": [
       "<div>\n",
       "<style scoped>\n",
       "    .dataframe tbody tr th:only-of-type {\n",
       "        vertical-align: middle;\n",
       "    }\n",
       "\n",
       "    .dataframe tbody tr th {\n",
       "        vertical-align: top;\n",
       "    }\n",
       "\n",
       "    .dataframe thead th {\n",
       "        text-align: right;\n",
       "    }\n",
       "</style>\n",
       "<table border=\"1\" class=\"dataframe\">\n",
       "  <thead>\n",
       "    <tr style=\"text-align: right;\">\n",
       "      <th></th>\n",
       "      <th>Amy</th>\n",
       "      <th>Beth</th>\n",
       "      <th>Jo</th>\n",
       "      <th>Meg</th>\n",
       "      <th>Laurie</th>\n",
       "      <th>Chapter</th>\n",
       "    </tr>\n",
       "  </thead>\n",
       "  <tbody>\n",
       "    <tr>\n",
       "      <th>0</th>\n",
       "      <td>0</td>\n",
       "      <td>0</td>\n",
       "      <td>0</td>\n",
       "      <td>0</td>\n",
       "      <td>0</td>\n",
       "      <td>1</td>\n",
       "    </tr>\n",
       "    <tr>\n",
       "      <th>1</th>\n",
       "      <td>23</td>\n",
       "      <td>26</td>\n",
       "      <td>44</td>\n",
       "      <td>26</td>\n",
       "      <td>0</td>\n",
       "      <td>2</td>\n",
       "    </tr>\n",
       "    <tr>\n",
       "      <th>2</th>\n",
       "      <td>36</td>\n",
       "      <td>38</td>\n",
       "      <td>65</td>\n",
       "      <td>46</td>\n",
       "      <td>0</td>\n",
       "      <td>3</td>\n",
       "    </tr>\n",
       "    <tr>\n",
       "      <th>3</th>\n",
       "      <td>38</td>\n",
       "      <td>40</td>\n",
       "      <td>127</td>\n",
       "      <td>82</td>\n",
       "      <td>16</td>\n",
       "      <td>4</td>\n",
       "    </tr>\n",
       "    <tr>\n",
       "      <th>4</th>\n",
       "      <td>52</td>\n",
       "      <td>58</td>\n",
       "      <td>161</td>\n",
       "      <td>99</td>\n",
       "      <td>16</td>\n",
       "      <td>5</td>\n",
       "    </tr>\n",
       "    <tr>\n",
       "      <th>...</th>\n",
       "      <td>...</td>\n",
       "      <td>...</td>\n",
       "      <td>...</td>\n",
       "      <td>...</td>\n",
       "      <td>...</td>\n",
       "      <td>...</td>\n",
       "    </tr>\n",
       "    <tr>\n",
       "      <th>43</th>\n",
       "      <td>619</td>\n",
       "      <td>459</td>\n",
       "      <td>1435</td>\n",
       "      <td>673</td>\n",
       "      <td>571</td>\n",
       "      <td>44</td>\n",
       "    </tr>\n",
       "    <tr>\n",
       "      <th>44</th>\n",
       "      <td>632</td>\n",
       "      <td>459</td>\n",
       "      <td>1444</td>\n",
       "      <td>673</td>\n",
       "      <td>581</td>\n",
       "      <td>45</td>\n",
       "    </tr>\n",
       "    <tr>\n",
       "      <th>45</th>\n",
       "      <td>633</td>\n",
       "      <td>461</td>\n",
       "      <td>1450</td>\n",
       "      <td>675</td>\n",
       "      <td>581</td>\n",
       "      <td>46</td>\n",
       "    </tr>\n",
       "    <tr>\n",
       "      <th>46</th>\n",
       "      <td>635</td>\n",
       "      <td>462</td>\n",
       "      <td>1506</td>\n",
       "      <td>679</td>\n",
       "      <td>583</td>\n",
       "      <td>47</td>\n",
       "    </tr>\n",
       "    <tr>\n",
       "      <th>47</th>\n",
       "      <td>645</td>\n",
       "      <td>465</td>\n",
       "      <td>1543</td>\n",
       "      <td>685</td>\n",
       "      <td>596</td>\n",
       "      <td>48</td>\n",
       "    </tr>\n",
       "  </tbody>\n",
       "</table>\n",
       "<p>48 rows × 6 columns</p>\n",
       "</div>"
      ],
      "text/plain": [
       "    Amy  Beth    Jo  Meg  Laurie  Chapter\n",
       "0     0     0     0    0       0        1\n",
       "1    23    26    44   26       0        2\n",
       "2    36    38    65   46       0        3\n",
       "3    38    40   127   82      16        4\n",
       "4    52    58   161   99      16        5\n",
       "..  ...   ...   ...  ...     ...      ...\n",
       "43  619   459  1435  673     571       44\n",
       "44  632   459  1444  673     581       45\n",
       "45  633   461  1450  675     581       46\n",
       "46  635   462  1506  679     583       47\n",
       "47  645   465  1543  685     596       48\n",
       "\n",
       "[48 rows x 6 columns]"
      ]
     },
     "execution_count": 7,
     "metadata": {},
     "output_type": "execute_result"
    }
   ],
   "source": [
    "# Cumulative number of times each name appears.\n",
    "\n",
    "cumulative_counts = bpd.DataFrame().assign(\n",
    "    Amy=np.cumsum(counts.get('Amy')),\n",
    "    Beth=np.cumsum(counts.get('Beth')),\n",
    "    Jo=np.cumsum(counts.get('Jo')),\n",
    "    Meg=np.cumsum(counts.get('Meg')),\n",
    "    Laurie=np.cumsum(counts.get('Laurie')),\n",
    "    Chapter=np.arange(1, 49, 1)\n",
    ")\n",
    "\n",
    "cumulative_counts"
   ]
  },
  {
   "cell_type": "code",
   "execution_count": 13,
   "metadata": {},
   "outputs": [
    {
     "data": {
      "text/html": [
       "<div>\n",
       "<style scoped>\n",
       "    .dataframe tbody tr th:only-of-type {\n",
       "        vertical-align: middle;\n",
       "    }\n",
       "\n",
       "    .dataframe tbody tr th {\n",
       "        vertical-align: top;\n",
       "    }\n",
       "\n",
       "    .dataframe thead th {\n",
       "        text-align: right;\n",
       "    }\n",
       "</style>\n",
       "<table border=\"1\" class=\"dataframe\">\n",
       "  <thead>\n",
       "    <tr style=\"text-align: right;\">\n",
       "      <th></th>\n",
       "      <th>name</th>\n",
       "      <th>Count</th>\n",
       "      <th>Chapter</th>\n",
       "    </tr>\n",
       "  </thead>\n",
       "  <tbody>\n",
       "    <tr>\n",
       "      <th>0</th>\n",
       "      <td>Amy</td>\n",
       "      <td>0</td>\n",
       "      <td>1</td>\n",
       "    </tr>\n",
       "    <tr>\n",
       "      <th>1</th>\n",
       "      <td>Amy</td>\n",
       "      <td>23</td>\n",
       "      <td>2</td>\n",
       "    </tr>\n",
       "    <tr>\n",
       "      <th>2</th>\n",
       "      <td>Amy</td>\n",
       "      <td>36</td>\n",
       "      <td>3</td>\n",
       "    </tr>\n",
       "    <tr>\n",
       "      <th>3</th>\n",
       "      <td>Amy</td>\n",
       "      <td>38</td>\n",
       "      <td>4</td>\n",
       "    </tr>\n",
       "    <tr>\n",
       "      <th>4</th>\n",
       "      <td>Amy</td>\n",
       "      <td>52</td>\n",
       "      <td>5</td>\n",
       "    </tr>\n",
       "    <tr>\n",
       "      <th>...</th>\n",
       "      <td>...</td>\n",
       "      <td>...</td>\n",
       "      <td>...</td>\n",
       "    </tr>\n",
       "    <tr>\n",
       "      <th>235</th>\n",
       "      <td>Laurie</td>\n",
       "      <td>571</td>\n",
       "      <td>44</td>\n",
       "    </tr>\n",
       "    <tr>\n",
       "      <th>236</th>\n",
       "      <td>Laurie</td>\n",
       "      <td>581</td>\n",
       "      <td>45</td>\n",
       "    </tr>\n",
       "    <tr>\n",
       "      <th>237</th>\n",
       "      <td>Laurie</td>\n",
       "      <td>581</td>\n",
       "      <td>46</td>\n",
       "    </tr>\n",
       "    <tr>\n",
       "      <th>238</th>\n",
       "      <td>Laurie</td>\n",
       "      <td>583</td>\n",
       "      <td>47</td>\n",
       "    </tr>\n",
       "    <tr>\n",
       "      <th>239</th>\n",
       "      <td>Laurie</td>\n",
       "      <td>596</td>\n",
       "      <td>48</td>\n",
       "    </tr>\n",
       "  </tbody>\n",
       "</table>\n",
       "<p>240 rows × 3 columns</p>\n",
       "</div>"
      ],
      "text/plain": [
       "       name  Count  Chapter\n",
       "0       Amy      0        1\n",
       "1       Amy     23        2\n",
       "2       Amy     36        3\n",
       "3       Amy     38        4\n",
       "4       Amy     52        5\n",
       "..      ...    ...      ...\n",
       "235  Laurie    571       44\n",
       "236  Laurie    581       45\n",
       "237  Laurie    581       46\n",
       "238  Laurie    583       47\n",
       "239  Laurie    596       48\n",
       "\n",
       "[240 rows x 3 columns]"
      ]
     },
     "execution_count": 13,
     "metadata": {},
     "output_type": "execute_result"
    }
   ],
   "source": [
    "df = cumulative_counts.drop(columns=['Chapter']).to_df().melt().rename(columns={'variable': 'name', 'value': 'Count'})\n",
    "df.assign(Chapter=list(range(1, 49)) * 5)"
   ]
  },
  {
   "cell_type": "code",
   "execution_count": 8,
   "metadata": {
    "slideshow": {
     "slide_type": "slide"
    }
   },
   "outputs": [
    {
     "data": {
      "application/vnd.plotly.v1+json": {
       "config": {
        "plotlyServerURL": "https://plot.ly"
       },
       "data": [
        {
         "hovertemplate": "name=Amy<br>Chapter=%{x}<br>Count=%{y}<extra></extra>",
         "legendgroup": "Amy",
         "line": {
          "color": "#F8766D",
          "dash": "solid"
         },
         "marker": {
          "symbol": "circle"
         },
         "mode": "lines",
         "name": "Amy",
         "orientation": "v",
         "showlegend": true,
         "type": "scatter",
         "x": {
          "bdata": "AQIDBAUGBwgJCgsMDQ4PEBESExQVFhcYGRobHB0eHyAhIiMkJSYnKCkqKywtLi8w",
          "dtype": "i1"
         },
         "xaxis": "x",
         "y": {
          "bdata": "AAAXACQAJgA0ADoAQABbAIsAjgCTAKQArwC3AL0AxQDMAN8A4gAAAQkBCwEUARsBKgExAVYBWQFcAYoBwwHIAc8B1AHUAdQB1wH2AfYBIwIkAkUCTAJrAngCeQJ7AoUC",
          "dtype": "i2"
         },
         "yaxis": "y"
        },
        {
         "hovertemplate": "name=Beth<br>Chapter=%{x}<br>Count=%{y}<extra></extra>",
         "legendgroup": "Beth",
         "line": {
          "color": "#A3A500",
          "dash": "solid"
         },
         "marker": {
          "symbol": "circle"
         },
         "mode": "lines",
         "name": "Beth",
         "orientation": "v",
         "showlegend": true,
         "type": "scatter",
         "x": {
          "bdata": "AQIDBAUGBwgJCgsMDQ4PEBESExQVFhcYGRobHB0eHyAhIiMkJSYnKCkqKywtLi8w",
          "dtype": "i1"
         },
         "xaxis": "x",
         "y": {
          "bdata": "AAAaACYAKAA6AEgAZABpAHIAdwB8AJAApACxALYAwgDLAOgABgENARQBFQEkASoBMwE5AT4BQgFCAUMBSAFLAWwBcgF0AXcBnAGdAZ0BngGzAboBwwHLAcsBzQHOAdEB",
          "dtype": "i2"
         },
         "yaxis": "y"
        },
        {
         "hovertemplate": "name=Jo<br>Chapter=%{x}<br>Count=%{y}<extra></extra>",
         "legendgroup": "Jo",
         "line": {
          "color": "#00BF7D",
          "dash": "solid"
         },
         "marker": {
          "symbol": "circle"
         },
         "mode": "lines",
         "name": "Jo",
         "orientation": "v",
         "showlegend": true,
         "type": "scatter",
         "x": {
          "bdata": "AQIDBAUGBwgJCgsMDQ4PEBESExQVFhcYGRobHB0eHyAhIiMkJSYnKCkqKywtLi8w",
          "dtype": "i1"
         },
         "xaxis": "x",
         "y": {
          "bdata": "AAAsAEEAfwChANgA5QDuADUBSgFWAYABvAHUAQQCHgIrAkgCawJwAo0C0ALhAhQDOANEA1UDcQO2A+cDDgQVBFEEUwSKBLQE1wTcBAsFGgUpBToFXgWbBaQFqgXiBQcG",
          "dtype": "i2"
         },
         "yaxis": "y"
        },
        {
         "hovertemplate": "name=Meg<br>Chapter=%{x}<br>Count=%{y}<extra></extra>",
         "legendgroup": "Meg",
         "line": {
          "color": "#00B0F6",
          "dash": "solid"
         },
         "marker": {
          "symbol": "circle"
         },
         "mode": "lines",
         "name": "Meg",
         "orientation": "v",
         "showlegend": true,
         "type": "scatter",
         "x": {
          "bdata": "AQIDBAUGBwgJCgsMDQ4PEBESExQVFhcYGRobHB0eHyAhIiMkJSYnKCkqKywtLi8w",
          "dtype": "i1"
         },
         "xaxis": "x",
         "y": {
          "bdata": "AAAaAC4AUgBjAHAAdQB6AIoA0QDVAO0AFgErAUABUgFhAXYBhAGFAZ4BvQHGAf4BGwIqAi8CMQJlAmcCZwJoAmsCbAJsAm4CcQJxApkCmgKbApsCngKhAqECowKnAq0C",
          "dtype": "i2"
         },
         "yaxis": "y"
        },
        {
         "hovertemplate": "name=Laurie<br>Chapter=%{x}<br>Count=%{y}<extra></extra>",
         "legendgroup": "Laurie",
         "line": {
          "color": "#E76BF3",
          "dash": "solid"
         },
         "marker": {
          "symbol": "circle"
         },
         "mode": "lines",
         "name": "Laurie",
         "orientation": "v",
         "showlegend": true,
         "type": "scatter",
         "x": {
          "bdata": "AQIDBAUGBwgJCgsMDQ4PEBESExQVFhcYGRobHB0eHyAhIiMkJSYnKCkqKywtLi8w",
          "dtype": "i1"
         },
         "xaxis": "x",
         "y": {
          "bdata": "AAAAAAAAEAAQADMAPABDAFQAbABwAHsAmgC1AMoA0gDbAOcA/QANARIBLAE0AT8BUwFeAWMBYwFuAXEBfQGAAZUBlgGYAboBvQHXAdcB+AH4ARoCHgI7AkUCRQJHAlQC",
          "dtype": "i2"
         },
         "yaxis": "y"
        }
       ],
       "layout": {
        "height": 600,
        "legend": {
         "title": {
          "text": "name"
         },
         "tracegroupgap": 0
        },
        "template": {
         "data": {
          "bar": [
           {
            "error_x": {
             "color": "rgb(51,51,51)"
            },
            "error_y": {
             "color": "rgb(51,51,51)"
            },
            "marker": {
             "line": {
              "color": "rgb(237,237,237)",
              "width": 0.5
             },
             "pattern": {
              "fillmode": "overlay",
              "size": 10,
              "solidity": 0.2
             }
            },
            "type": "bar"
           }
          ],
          "barpolar": [
           {
            "marker": {
             "line": {
              "color": "rgb(237,237,237)",
              "width": 0.5
             },
             "pattern": {
              "fillmode": "overlay",
              "size": 10,
              "solidity": 0.2
             }
            },
            "type": "barpolar"
           }
          ],
          "carpet": [
           {
            "aaxis": {
             "endlinecolor": "rgb(51,51,51)",
             "gridcolor": "white",
             "linecolor": "white",
             "minorgridcolor": "white",
             "startlinecolor": "rgb(51,51,51)"
            },
            "baxis": {
             "endlinecolor": "rgb(51,51,51)",
             "gridcolor": "white",
             "linecolor": "white",
             "minorgridcolor": "white",
             "startlinecolor": "rgb(51,51,51)"
            },
            "type": "carpet"
           }
          ],
          "choropleth": [
           {
            "colorbar": {
             "outlinewidth": 0,
             "tickcolor": "rgb(237,237,237)",
             "ticklen": 6,
             "ticks": "inside"
            },
            "type": "choropleth"
           }
          ],
          "contour": [
           {
            "colorbar": {
             "outlinewidth": 0,
             "tickcolor": "rgb(237,237,237)",
             "ticklen": 6,
             "ticks": "inside"
            },
            "colorscale": [
             [
              0,
              "rgb(20,44,66)"
             ],
             [
              1,
              "rgb(90,179,244)"
             ]
            ],
            "type": "contour"
           }
          ],
          "contourcarpet": [
           {
            "colorbar": {
             "outlinewidth": 0,
             "tickcolor": "rgb(237,237,237)",
             "ticklen": 6,
             "ticks": "inside"
            },
            "type": "contourcarpet"
           }
          ],
          "heatmap": [
           {
            "colorbar": {
             "outlinewidth": 0,
             "tickcolor": "rgb(237,237,237)",
             "ticklen": 6,
             "ticks": "inside"
            },
            "colorscale": [
             [
              0,
              "rgb(20,44,66)"
             ],
             [
              1,
              "rgb(90,179,244)"
             ]
            ],
            "type": "heatmap"
           }
          ],
          "histogram": [
           {
            "marker": {
             "pattern": {
              "fillmode": "overlay",
              "size": 10,
              "solidity": 0.2
             }
            },
            "type": "histogram"
           }
          ],
          "histogram2d": [
           {
            "colorbar": {
             "outlinewidth": 0,
             "tickcolor": "rgb(237,237,237)",
             "ticklen": 6,
             "ticks": "inside"
            },
            "colorscale": [
             [
              0,
              "rgb(20,44,66)"
             ],
             [
              1,
              "rgb(90,179,244)"
             ]
            ],
            "type": "histogram2d"
           }
          ],
          "histogram2dcontour": [
           {
            "colorbar": {
             "outlinewidth": 0,
             "tickcolor": "rgb(237,237,237)",
             "ticklen": 6,
             "ticks": "inside"
            },
            "colorscale": [
             [
              0,
              "rgb(20,44,66)"
             ],
             [
              1,
              "rgb(90,179,244)"
             ]
            ],
            "type": "histogram2dcontour"
           }
          ],
          "mesh3d": [
           {
            "colorbar": {
             "outlinewidth": 0,
             "tickcolor": "rgb(237,237,237)",
             "ticklen": 6,
             "ticks": "inside"
            },
            "type": "mesh3d"
           }
          ],
          "parcoords": [
           {
            "line": {
             "colorbar": {
              "outlinewidth": 0,
              "tickcolor": "rgb(237,237,237)",
              "ticklen": 6,
              "ticks": "inside"
             }
            },
            "type": "parcoords"
           }
          ],
          "pie": [
           {
            "automargin": true,
            "type": "pie"
           }
          ],
          "scatter": [
           {
            "fillpattern": {
             "fillmode": "overlay",
             "size": 10,
             "solidity": 0.2
            },
            "type": "scatter"
           }
          ],
          "scatter3d": [
           {
            "line": {
             "colorbar": {
              "outlinewidth": 0,
              "tickcolor": "rgb(237,237,237)",
              "ticklen": 6,
              "ticks": "inside"
             }
            },
            "marker": {
             "colorbar": {
              "outlinewidth": 0,
              "tickcolor": "rgb(237,237,237)",
              "ticklen": 6,
              "ticks": "inside"
             }
            },
            "type": "scatter3d"
           }
          ],
          "scattercarpet": [
           {
            "marker": {
             "colorbar": {
              "outlinewidth": 0,
              "tickcolor": "rgb(237,237,237)",
              "ticklen": 6,
              "ticks": "inside"
             }
            },
            "type": "scattercarpet"
           }
          ],
          "scattergeo": [
           {
            "marker": {
             "colorbar": {
              "outlinewidth": 0,
              "tickcolor": "rgb(237,237,237)",
              "ticklen": 6,
              "ticks": "inside"
             }
            },
            "type": "scattergeo"
           }
          ],
          "scattergl": [
           {
            "marker": {
             "colorbar": {
              "outlinewidth": 0,
              "tickcolor": "rgb(237,237,237)",
              "ticklen": 6,
              "ticks": "inside"
             }
            },
            "type": "scattergl"
           }
          ],
          "scattermap": [
           {
            "marker": {
             "colorbar": {
              "outlinewidth": 0,
              "tickcolor": "rgb(237,237,237)",
              "ticklen": 6,
              "ticks": "inside"
             }
            },
            "type": "scattermap"
           }
          ],
          "scattermapbox": [
           {
            "marker": {
             "colorbar": {
              "outlinewidth": 0,
              "tickcolor": "rgb(237,237,237)",
              "ticklen": 6,
              "ticks": "inside"
             }
            },
            "type": "scattermapbox"
           }
          ],
          "scatterpolar": [
           {
            "marker": {
             "colorbar": {
              "outlinewidth": 0,
              "tickcolor": "rgb(237,237,237)",
              "ticklen": 6,
              "ticks": "inside"
             }
            },
            "type": "scatterpolar"
           }
          ],
          "scatterpolargl": [
           {
            "marker": {
             "colorbar": {
              "outlinewidth": 0,
              "tickcolor": "rgb(237,237,237)",
              "ticklen": 6,
              "ticks": "inside"
             }
            },
            "type": "scatterpolargl"
           }
          ],
          "scatterternary": [
           {
            "marker": {
             "colorbar": {
              "outlinewidth": 0,
              "tickcolor": "rgb(237,237,237)",
              "ticklen": 6,
              "ticks": "inside"
             }
            },
            "type": "scatterternary"
           }
          ],
          "surface": [
           {
            "colorbar": {
             "outlinewidth": 0,
             "tickcolor": "rgb(237,237,237)",
             "ticklen": 6,
             "ticks": "inside"
            },
            "colorscale": [
             [
              0,
              "rgb(20,44,66)"
             ],
             [
              1,
              "rgb(90,179,244)"
             ]
            ],
            "type": "surface"
           }
          ],
          "table": [
           {
            "cells": {
             "fill": {
              "color": "rgb(237,237,237)"
             },
             "line": {
              "color": "white"
             }
            },
            "header": {
             "fill": {
              "color": "rgb(217,217,217)"
             },
             "line": {
              "color": "white"
             }
            },
            "type": "table"
           }
          ]
         },
         "layout": {
          "annotationdefaults": {
           "arrowhead": 0,
           "arrowwidth": 1
          },
          "autotypenumbers": "strict",
          "coloraxis": {
           "colorbar": {
            "outlinewidth": 0,
            "tickcolor": "rgb(237,237,237)",
            "ticklen": 6,
            "ticks": "inside"
           }
          },
          "colorscale": {
           "sequential": [
            [
             0,
             "rgb(20,44,66)"
            ],
            [
             1,
             "rgb(90,179,244)"
            ]
           ],
           "sequentialminus": [
            [
             0,
             "rgb(20,44,66)"
            ],
            [
             1,
             "rgb(90,179,244)"
            ]
           ]
          },
          "colorway": [
           "#F8766D",
           "#A3A500",
           "#00BF7D",
           "#00B0F6",
           "#E76BF3"
          ],
          "font": {
           "color": "rgb(51,51,51)"
          },
          "geo": {
           "bgcolor": "white",
           "lakecolor": "white",
           "landcolor": "rgb(237,237,237)",
           "showlakes": true,
           "showland": true,
           "subunitcolor": "white"
          },
          "hoverlabel": {
           "align": "left"
          },
          "hovermode": "closest",
          "paper_bgcolor": "white",
          "plot_bgcolor": "rgb(237,237,237)",
          "polar": {
           "angularaxis": {
            "gridcolor": "white",
            "linecolor": "white",
            "showgrid": true,
            "tickcolor": "rgb(51,51,51)",
            "ticks": "outside"
           },
           "bgcolor": "rgb(237,237,237)",
           "radialaxis": {
            "gridcolor": "white",
            "linecolor": "white",
            "showgrid": true,
            "tickcolor": "rgb(51,51,51)",
            "ticks": "outside"
           }
          },
          "scene": {
           "xaxis": {
            "backgroundcolor": "rgb(237,237,237)",
            "gridcolor": "white",
            "gridwidth": 2,
            "linecolor": "white",
            "showbackground": true,
            "showgrid": true,
            "tickcolor": "rgb(51,51,51)",
            "ticks": "outside",
            "zerolinecolor": "white"
           },
           "yaxis": {
            "backgroundcolor": "rgb(237,237,237)",
            "gridcolor": "white",
            "gridwidth": 2,
            "linecolor": "white",
            "showbackground": true,
            "showgrid": true,
            "tickcolor": "rgb(51,51,51)",
            "ticks": "outside",
            "zerolinecolor": "white"
           },
           "zaxis": {
            "backgroundcolor": "rgb(237,237,237)",
            "gridcolor": "white",
            "gridwidth": 2,
            "linecolor": "white",
            "showbackground": true,
            "showgrid": true,
            "tickcolor": "rgb(51,51,51)",
            "ticks": "outside",
            "zerolinecolor": "white"
           }
          },
          "shapedefaults": {
           "fillcolor": "black",
           "line": {
            "width": 0
           },
           "opacity": 0.3
          },
          "ternary": {
           "aaxis": {
            "gridcolor": "white",
            "linecolor": "white",
            "showgrid": true,
            "tickcolor": "rgb(51,51,51)",
            "ticks": "outside"
           },
           "baxis": {
            "gridcolor": "white",
            "linecolor": "white",
            "showgrid": true,
            "tickcolor": "rgb(51,51,51)",
            "ticks": "outside"
           },
           "bgcolor": "rgb(237,237,237)",
           "caxis": {
            "gridcolor": "white",
            "linecolor": "white",
            "showgrid": true,
            "tickcolor": "rgb(51,51,51)",
            "ticks": "outside"
           }
          },
          "xaxis": {
           "automargin": true,
           "gridcolor": "white",
           "linecolor": "white",
           "showgrid": true,
           "tickcolor": "rgb(51,51,51)",
           "ticks": "outside",
           "title": {
            "standoff": 15
           },
           "zerolinecolor": "white"
          },
          "yaxis": {
           "automargin": true,
           "gridcolor": "white",
           "linecolor": "white",
           "showgrid": true,
           "tickcolor": "rgb(51,51,51)",
           "ticks": "outside",
           "title": {
            "standoff": 15
           },
           "zerolinecolor": "white"
          }
         }
        },
        "title": {
         "text": "Cumulative Number of Times Each Name Appears"
        },
        "width": 900,
        "xaxis": {
         "anchor": "y",
         "domain": [
          0,
          1
         ],
         "title": {
          "text": "Chapter"
         }
        },
        "yaxis": {
         "anchor": "x",
         "domain": [
          0,
          1
         ],
         "title": {
          "text": "Count"
         }
        }
       }
      }
     },
     "metadata": {},
     "output_type": "display_data"
    }
   ],
   "source": [
    "# Putting it all together, we get a helpful visualization.\n",
    "cumulative_counts_df = cumulative_counts.drop(columns=['Chapter']).to_df().melt().rename(columns={'variable': 'name', 'value': 'Count'})\n",
    "cumulative_counts_df = cumulative_counts_df.assign(Chapter=list(range(1, 49)) * 5)\n",
    "px.line(cumulative_counts_df, x='Chapter', y='Count', color='name', width=900, height=600, title='Cumulative Number of Times Each Name Appears', template='ggplot2').show()"
   ]
  },
  {
   "cell_type": "markdown",
   "metadata": {
    "slideshow": {
     "slide_type": "fragment"
    }
   },
   "source": [
    "- In Chapter 32, Jo moves to New York alone. Her relationship with which sister suffers the most from this faraway move?"
   ]
  },
  {
   "cell_type": "markdown",
   "metadata": {
    "slideshow": {
     "slide_type": "fragment"
    }
   },
   "source": [
    "- Laurie is a man who marries one of the sisters at the end. Which one?\n"
   ]
  },
  {
   "cell_type": "markdown",
   "metadata": {
    "slideshow": {
     "slide_type": "slide"
    }
   },
   "source": [
    "## What is code? What are Jupyter Notebooks? 💻\n"
   ]
  },
  {
   "cell_type": "markdown",
   "metadata": {},
   "source": [
    "### What is code?\n",
    "\n",
    "- Instructions for computers are written in **programming languages**, and are referred to as **code**.\n",
    "- “Computer programs” are nothing more than **recipes**: we write programs that tell the computer exactly what to do, and it does exactly that – nothing more, and nothing less."
   ]
  },
  {
   "cell_type": "markdown",
   "metadata": {},
   "source": [
    "### Why Python?"
   ]
  },
  {
   "cell_type": "markdown",
   "metadata": {},
   "source": [
    "- It's popular!\n",
    "\n",
    "<center>\n",
    "<img src='images/languages.jpg' width=40%>\n",
    "</center>"
   ]
  },
  {
   "cell_type": "markdown",
   "metadata": {},
   "source": [
    "- It has a variety of use cases. Some examples:\n",
    "    - Web development.\n",
    "    - Data science and machine learning.\n",
    "    - Scripting and automation."
   ]
  },
  {
   "cell_type": "markdown",
   "metadata": {},
   "source": [
    "- It's (relatively) easy to dive right in! 🏊"
   ]
  },
  {
   "cell_type": "markdown",
   "metadata": {},
   "source": [
    "### Jupyter Notebooks 📓"
   ]
  },
  {
   "cell_type": "markdown",
   "metadata": {},
   "source": [
    "- Often, but not in this class, code is written in a text editor and then run in a command-line interface (or both steps are done in an IDE).\n",
    "\n",
    "<center>\n",
    "<img src='images/terminal.png' width=800>\n",
    "</center>"
   ]
  },
  {
   "cell_type": "markdown",
   "metadata": {},
   "source": [
    "- **Jupyter Notebooks** allow us to write and run code within a single document. They also allow us to embed text and code. **We will be using Jupyter Notebooks throughout the quarter**."
   ]
  },
  {
   "cell_type": "markdown",
   "metadata": {},
   "source": [
    "- [DataHub](https://datahub.ucsd.edu) is a server that allows you to run Jupyter Notebooks from your web browser without having to install any software locally."
   ]
  },
  {
   "cell_type": "markdown",
   "metadata": {},
   "source": [
    "## Expressions"
   ]
  },
  {
   "cell_type": "markdown",
   "metadata": {},
   "source": [
    "### Python as a calculator"
   ]
  },
  {
   "cell_type": "markdown",
   "metadata": {},
   "source": [
    "- An **expression** is a combination of values, operators, and functions that **evaluates** to some **value**."
   ]
  },
  {
   "cell_type": "markdown",
   "metadata": {},
   "source": [
    "- For now, let's think of Python like a calculator – it takes expressions and evaluates them."
   ]
  },
  {
   "cell_type": "markdown",
   "metadata": {},
   "source": [
    "- We will enter our expressions in **code cells**. To run a code cell, either:\n",
    "    - **Hit `shift` + `enter` (or `shift` + `return`) on your keyboard (strongly preferred)**, or\n",
    "    - Press the \"▶ Run\" button in the toolbar."
   ]
  },
  {
   "cell_type": "code",
   "execution_count": null,
   "metadata": {},
   "outputs": [],
   "source": [
    "23"
   ]
  },
  {
   "cell_type": "code",
   "execution_count": null,
   "metadata": {},
   "outputs": [],
   "source": [
    "-15 + 2.718"
   ]
  },
  {
   "cell_type": "code",
   "execution_count": null,
   "metadata": {},
   "outputs": [],
   "source": [
    "4 ** 3"
   ]
  },
  {
   "cell_type": "code",
   "execution_count": null,
   "metadata": {},
   "outputs": [],
   "source": [
    "(2 + 3 + 4) / 3"
   ]
  },
  {
   "cell_type": "code",
   "execution_count": null,
   "metadata": {},
   "outputs": [],
   "source": [
    "# Only one value is displayed. Why?\n",
    "9 + 10\n",
    "13 / 4\n",
    "21"
   ]
  },
  {
   "cell_type": "markdown",
   "metadata": {},
   "source": [
    "### Arithmetic operations\n",
    "\n",
    "| Operation | Operator | Example | Value | \n",
    "| --- | --- | --- | --- |\n",
    "| Addition | `+` | `2 + 3` | `5` |\n",
    "| Subtraction | `-` | `2 - 3` | `-1` |\n",
    "| Multiplication | `*` | `2 * 3` | `6` |\n",
    "| Division | `/` | `7 / 3` | `2.66667` |\n",
    "| Remainder | `%` | `7 % 3` | `1` |\n",
    "| Exponentiation | `**` | `2 ** 0.5` | `1.41421` |"
   ]
  },
  {
   "cell_type": "markdown",
   "metadata": {},
   "source": [
    "### Python uses the typical order of operations – PEMDAS (BEDMAS? 🛏️) "
   ]
  },
  {
   "cell_type": "code",
   "execution_count": null,
   "metadata": {},
   "outputs": [],
   "source": [
    "5 * 2 ** 3"
   ]
  },
  {
   "cell_type": "code",
   "execution_count": null,
   "metadata": {},
   "outputs": [],
   "source": [
    "(5 * 2) ** 3"
   ]
  },
  {
   "cell_type": "markdown",
   "metadata": {},
   "source": [
    "### Activity\n",
    "\n",
    "In the cell below, write an expression that's equivalent to\n",
    "\n",
    "$$(19 + 6 \\cdot 3) - 15 \\cdot \\left(\\sqrt{100} \\cdot \\frac{1}{30}\\right) \\cdot \\frac{3}{5} + \\frac{4^2}{2^3} + \\left( 6 - \\frac{2}{3} \\right) \\cdot 12 $$\n"
   ]
  },
  {
   "cell_type": "markdown",
   "metadata": {},
   "source": [
    "## Variables"
   ]
  },
  {
   "cell_type": "markdown",
   "metadata": {},
   "source": [
    "### Motivation\n",
    "\n",
    "Below, we compute the number of seconds in a year."
   ]
  },
  {
   "cell_type": "code",
   "execution_count": null,
   "metadata": {},
   "outputs": [],
   "source": [
    "60 * 60 * 24 * 365"
   ]
  },
  {
   "cell_type": "markdown",
   "metadata": {},
   "source": [
    "If we want to use the above value later in our notebook to find, say, the number of seconds in 12 years, we'd have to copy-and-paste the expression. **This is inconvenient, and prone to introducing errors.**"
   ]
  },
  {
   "cell_type": "code",
   "execution_count": null,
   "metadata": {},
   "outputs": [],
   "source": [
    "60 * 60 * 24 * 365 * 12"
   ]
  },
  {
   "cell_type": "markdown",
   "metadata": {},
   "source": [
    "It would be great if we could **store** the initial value and refer to it later on!"
   ]
  },
  {
   "cell_type": "markdown",
   "metadata": {},
   "source": [
    "### Variables and assignment statements"
   ]
  },
  {
   "cell_type": "markdown",
   "metadata": {},
   "source": [
    "- A **variable** is a place to store a value so that it can be referred to later in our code. To define a variable, we use an **assignment statement**.\n",
    "\n",
    "$$ \\overbrace{\\texttt{zebra}}^{\\text{name}} = \\overbrace{\\texttt{23 - 14}}^{\\text{any expression}} $$\n"
   ]
  },
  {
   "cell_type": "markdown",
   "metadata": {},
   "source": [
    "-  An assignment statement changes the meaning of the **name** to the left of the `=` symbol."
   ]
  },
  {
   "cell_type": "markdown",
   "metadata": {},
   "source": [
    "- The expression on the right-hand side of the `=` symbol is evaluated before being assigned to the name on the left-hand side.\n",
    "    * e.g. `zebra` is bound to `9` (value) not `23 - 14` (expression)."
   ]
  },
  {
   "cell_type": "markdown",
   "metadata": {},
   "source": [
    "### Think of variable names as nametags!"
   ]
  },
  {
   "cell_type": "code",
   "execution_count": null,
   "metadata": {},
   "outputs": [],
   "source": [
    "# Note: This is an assignment statement, not an expression.\n",
    "# Assignment statements don't output anything!\n",
    "a = 1"
   ]
  },
  {
   "cell_type": "code",
   "execution_count": null,
   "metadata": {},
   "outputs": [],
   "source": [
    "a = 2"
   ]
  },
  {
   "cell_type": "code",
   "execution_count": null,
   "metadata": {},
   "outputs": [],
   "source": [
    "b = 2"
   ]
  },
  {
   "cell_type": "markdown",
   "metadata": {},
   "source": [
    "### Example\n",
    "\n",
    "Note that before we use it in an assignment statement, `triton` has no meaning."
   ]
  },
  {
   "cell_type": "code",
   "execution_count": null,
   "metadata": {},
   "outputs": [],
   "source": [
    "triton"
   ]
  },
  {
   "cell_type": "markdown",
   "metadata": {},
   "source": [
    "After using it in an assignment statement, we can ask Python for its value."
   ]
  },
  {
   "cell_type": "code",
   "execution_count": null,
   "metadata": {},
   "outputs": [],
   "source": [
    "triton = 15 - 5"
   ]
  },
  {
   "cell_type": "code",
   "execution_count": null,
   "metadata": {},
   "outputs": [],
   "source": [
    "triton"
   ]
  },
  {
   "cell_type": "markdown",
   "metadata": {},
   "source": [
    "Any time we use `triton` in an expression, `10` is substituted for it."
   ]
  },
  {
   "cell_type": "code",
   "execution_count": null,
   "metadata": {},
   "outputs": [],
   "source": [
    "triton * -4"
   ]
  },
  {
   "cell_type": "markdown",
   "metadata": {},
   "source": [
    "Note that the above expression **did not change** the value of `triton`, because **we did not re-assign `triton`**!"
   ]
  },
  {
   "cell_type": "code",
   "execution_count": null,
   "metadata": {},
   "outputs": [],
   "source": [
    "triton"
   ]
  },
  {
   "cell_type": "markdown",
   "metadata": {},
   "source": [
    "### Naming variables\n",
    "\n",
    "- Give your variables helpful names so that you know what they refer to.\n",
    "- Variable names can contain uppercase and lowercase characters, the digits 0-9, and underscores.\n",
    "    - They cannot start with a number.\n",
    "    - They are case sensitive!"
   ]
  },
  {
   "cell_type": "markdown",
   "metadata": {},
   "source": [
    "The following assignment statements are **valid**, but use **poor** variable names 😕."
   ]
  },
  {
   "cell_type": "code",
   "execution_count": null,
   "metadata": {},
   "outputs": [],
   "source": [
    "six = 15"
   ]
  },
  {
   "cell_type": "code",
   "execution_count": null,
   "metadata": {},
   "outputs": [],
   "source": [
    "i_45love_chocolate_9999 = 60 * 60 * 24 * 365"
   ]
  },
  {
   "cell_type": "markdown",
   "metadata": {},
   "source": [
    "The following assignment statements are **valid**, and use **good** variable names ✅."
   ]
  },
  {
   "cell_type": "code",
   "execution_count": null,
   "metadata": {},
   "outputs": [],
   "source": [
    "seconds_per_hour = 60 * 60\n",
    "hours_per_year = 24 * 365\n",
    "seconds_per_year = seconds_per_hour * hours_per_year"
   ]
  },
  {
   "cell_type": "markdown",
   "metadata": {},
   "source": [
    "The following \"assignment statements\" are **invalid ❌**."
   ]
  },
  {
   "cell_type": "code",
   "execution_count": null,
   "metadata": {},
   "outputs": [],
   "source": [
    "7_days = 24 * 7"
   ]
  },
  {
   "cell_type": "code",
   "execution_count": null,
   "metadata": {},
   "outputs": [],
   "source": [
    "3 = 2 + 1"
   ]
  },
  {
   "cell_type": "markdown",
   "metadata": {},
   "source": [
    "### Python functions\n",
    "\n",
    "- Functions in Python work the same way functions in math do.\n",
    "- The inputs to functions are called **arguments**.\n",
    "- Python comes with a number of built-in functions that we are free to use.\n",
    "- **Calling** a function, or using a function, means asking the function to \"run its recipe\" on the given input."
   ]
  },
  {
   "cell_type": "code",
   "execution_count": null,
   "metadata": {},
   "outputs": [],
   "source": [
    "abs(-23)"
   ]
  },
  {
   "cell_type": "markdown",
   "metadata": {},
   "source": [
    "### Some functions can take a variable number of arguments"
   ]
  },
  {
   "cell_type": "code",
   "execution_count": null,
   "metadata": {},
   "outputs": [],
   "source": [
    "max(4, -8)"
   ]
  },
  {
   "cell_type": "code",
   "execution_count": null,
   "metadata": {},
   "outputs": [],
   "source": [
    "max(2, -3, -6, 10, -4)"
   ]
  },
  {
   "cell_type": "code",
   "execution_count": null,
   "metadata": {},
   "outputs": [],
   "source": [
    "max(9)"
   ]
  },
  {
   "cell_type": "code",
   "execution_count": null,
   "metadata": {},
   "outputs": [],
   "source": [
    "max(9 + 10, 9 - 10)"
   ]
  },
  {
   "cell_type": "markdown",
   "metadata": {},
   "source": [
    "### Put ```?``` after a function's name to see its documentation 📄\n",
    "\n",
    "Or use the `help` function, e.g. `help(round)`."
   ]
  },
  {
   "cell_type": "code",
   "execution_count": null,
   "metadata": {},
   "outputs": [],
   "source": [
    "round(1.45678)"
   ]
  },
  {
   "cell_type": "code",
   "execution_count": null,
   "metadata": {},
   "outputs": [],
   "source": [
    "round?"
   ]
  },
  {
   "cell_type": "code",
   "execution_count": null,
   "metadata": {},
   "outputs": [],
   "source": [
    "round(1.45678, 3)"
   ]
  },
  {
   "cell_type": "markdown",
   "metadata": {},
   "source": [
    "### Nested evaluation\n",
    "\n",
    "We can **nest** many function calls to evaluate sophisticated expressions."
   ]
  },
  {
   "cell_type": "code",
   "execution_count": null,
   "metadata": {},
   "outputs": [],
   "source": [
    "min(abs(max(-1, -2, -3, min(4, -2))), max(5, 100))"
   ]
  },
  {
   "cell_type": "markdown",
   "metadata": {},
   "source": [
    "...how did that work?"
   ]
  },
  {
   "cell_type": "code",
   "execution_count": null,
   "metadata": {},
   "outputs": [],
   "source": [
    "from lec00_imports import *\n",
    "show_nested_eval()"
   ]
  },
  {
   "cell_type": "markdown",
   "metadata": {},
   "source": [
    "### Import statements\n",
    "- Python doesn't have everything we need built in.\n",
    "- In order to gain additional functionality, we import **modules** through **import statements**.\n",
    "- **Modules** are collections of Python functions and values.\n",
    "- Call these functions using the syntax `module.function()`, called \"dot notation\"."
   ]
  },
  {
   "cell_type": "markdown",
   "metadata": {},
   "source": [
    "### Example: `import math`\n",
    "\n",
    "Some of the many functions built into the `math` module are `sqrt`, `pow`, and `log`."
   ]
  },
  {
   "cell_type": "code",
   "execution_count": null,
   "metadata": {},
   "outputs": [],
   "source": [
    "import math"
   ]
  },
  {
   "cell_type": "code",
   "execution_count": null,
   "metadata": {},
   "outputs": [],
   "source": [
    "math.sqrt(16)"
   ]
  },
  {
   "cell_type": "code",
   "execution_count": null,
   "metadata": {},
   "outputs": [],
   "source": [
    "math.pow(2, 5)"
   ]
  },
  {
   "cell_type": "markdown",
   "metadata": {},
   "source": [
    "`math` also has constants built in!"
   ]
  },
  {
   "cell_type": "code",
   "execution_count": null,
   "metadata": {},
   "outputs": [],
   "source": [
    "math.pi"
   ]
  },
  {
   "cell_type": "markdown",
   "metadata": {},
   "source": [
    "### Concept Check ✅ – Answer at [cc.dsc10.com](http://cc.dsc10.com) \n",
    "\n",
    "Assume you have run the following statements:\n",
    "\n",
    "```py\n",
    "x = 3\n",
    "y = -2\n",
    "```\n",
    "\n",
    "Which of these examples results in an error? For the ones that don't error, try to determine what they evaluate to!\n",
    "\n",
    "A. `abs(x, y)`\n",
    "\n",
    "B. `math.pow(x, abs(y))`\n",
    "\n",
    "C. `round(x, max(abs(y ** 2)))`\n",
    "\n",
    "D. `math.pow(x, math.pow(y, x))`\n",
    "\n",
    "E. More than one of the above"
   ]
  },
  {
   "cell_type": "markdown",
   "metadata": {},
   "source": [
    "## Data types"
   ]
  },
  {
   "cell_type": "markdown",
   "metadata": {},
   "source": [
    "### What's the difference? 🧐"
   ]
  },
  {
   "cell_type": "code",
   "execution_count": null,
   "metadata": {},
   "outputs": [],
   "source": [
    "4 / 2"
   ]
  },
  {
   "cell_type": "code",
   "execution_count": null,
   "metadata": {},
   "outputs": [],
   "source": [
    "5 - 3"
   ]
  },
  {
   "cell_type": "markdown",
   "metadata": {},
   "source": [
    "To us, `2.0` and `2` are the same number, $2$. But to Python, these appear to be different! "
   ]
  },
  {
   "cell_type": "markdown",
   "metadata": {},
   "source": [
    "### Data types\n",
    "- Every value in Python has a **type**.\n",
    "    - Use the `type` function to check a value's type.\n",
    "- It's important to understand how different types work with different operations, as the results may not always be what we expect."
   ]
  },
  {
   "cell_type": "markdown",
   "metadata": {},
   "source": [
    "### Two numeric data types: ```int``` and ```float``` \n",
    "- ```int```: An integer of any size.\n",
    "- ```float```: A number with a decimal point."
   ]
  },
  {
   "cell_type": "markdown",
   "metadata": {},
   "source": [
    "### ```int```\n",
    "- If you add (`+`), subtract (`-`), multiply (`*`), or exponentiate (`**`) `int`s, the result will be another `int`.\n",
    "- `int`s have arbitrary precision in Python, meaning that your calculations will always be exact. "
   ]
  },
  {
   "cell_type": "code",
   "execution_count": null,
   "metadata": {},
   "outputs": [],
   "source": [
    "7 - 15"
   ]
  },
  {
   "cell_type": "code",
   "execution_count": null,
   "metadata": {},
   "outputs": [],
   "source": [
    "type(7 - 15)"
   ]
  },
  {
   "cell_type": "code",
   "execution_count": null,
   "metadata": {},
   "outputs": [],
   "source": [
    "2 ** 300"
   ]
  },
  {
   "cell_type": "code",
   "execution_count": null,
   "metadata": {},
   "outputs": [],
   "source": [
    "2 ** 3000"
   ]
  },
  {
   "cell_type": "markdown",
   "metadata": {},
   "source": [
    "### ```float```\n",
    "* A `float` is specified using a **decimal** point.\n",
    "* A `float` might be printed using scientific notation."
   ]
  },
  {
   "cell_type": "code",
   "execution_count": null,
   "metadata": {},
   "outputs": [],
   "source": [
    "3.2 + 2.5"
   ]
  },
  {
   "cell_type": "code",
   "execution_count": null,
   "metadata": {},
   "outputs": [],
   "source": [
    "type(3.2 + 2.5)"
   ]
  },
  {
   "cell_type": "code",
   "execution_count": null,
   "metadata": {},
   "outputs": [],
   "source": [
    "# The result is in scientific notation: e+90 means \"times 10^90\".\n",
    "2.0 ** 300"
   ]
  },
  {
   "cell_type": "markdown",
   "metadata": {},
   "source": [
    "### The pitfalls of ```float```\n",
    "* `floats` have limited precision; after arithmetic, the final few decimal places can be wrong in unexpected ways.\n",
    "* `float`s have limited size, though the limit is huge."
   ]
  },
  {
   "cell_type": "code",
   "execution_count": null,
   "metadata": {},
   "outputs": [],
   "source": [
    "1 + 0.2"
   ]
  },
  {
   "cell_type": "code",
   "execution_count": null,
   "metadata": {},
   "outputs": [],
   "source": [
    "1 + 0.1 + 0.1"
   ]
  },
  {
   "cell_type": "code",
   "execution_count": null,
   "metadata": {},
   "outputs": [],
   "source": [
    "2.0 ** 3000"
   ]
  },
  {
   "cell_type": "markdown",
   "metadata": {},
   "source": [
    "### Converting between ```int``` and ```float```\n",
    "- If you mix `int`s and `float`s in an expression, the result will always be a `float`.\n",
    "     - Note that when you divide two `int`s, you get a `float` back.\n",
    "- A value can be explicity **coerced** (i.e. converted) using the ```int``` and ```float``` functions."
   ]
  },
  {
   "cell_type": "code",
   "execution_count": null,
   "metadata": {},
   "outputs": [],
   "source": [
    "2.0 + 3"
   ]
  },
  {
   "cell_type": "code",
   "execution_count": null,
   "metadata": {},
   "outputs": [],
   "source": [
    "12 / 2"
   ]
  },
  {
   "cell_type": "code",
   "execution_count": null,
   "metadata": {},
   "outputs": [],
   "source": [
    "int(12 / 2)"
   ]
  },
  {
   "cell_type": "code",
   "execution_count": null,
   "metadata": {},
   "outputs": [],
   "source": [
    "int(-2.9)"
   ]
  },
  {
   "cell_type": "markdown",
   "metadata": {},
   "source": [
    "### Summary\n",
    "\n",
    "- Expressions evaluate to values. Python will display the value of the last expression in a cell by default.\n",
    "- Python knows about all of the standard mathematical operators and follows PEMDAS.\n",
    "- Assignment statements allow us to bind values to variables.\n",
    "- We can call functions in Python similar to how we call functions in math.\n",
    "    - Python knows some functions by default, and import statements allow us to bring additional functionality from modules.\n",
    "- All values in Python have a data type.\n",
    "    - `int`s and `float`s are numbers.\n",
    "    - `int`s are integers, while `float`s contain decimal points."
   ]
  },
  {
   "cell_type": "code",
   "execution_count": null,
   "metadata": {},
   "outputs": [],
   "source": []
  }
 ],
 "metadata": {
  "kernelspec": {
   "display_name": "base",
   "language": "python",
   "name": "python3"
  },
  "language_info": {
   "codemirror_mode": {
    "name": "ipython",
    "version": 3
   },
   "file_extension": ".py",
   "mimetype": "text/x-python",
   "name": "python",
   "nbconvert_exporter": "python",
   "pygments_lexer": "ipython3",
   "version": "3.11.5"
  },
  "livereveal": {
   "scroll": true,
   "transition": "none"
  },
  "rise": {
   "enable_chalkboard": true
  },
  "vscode": {
   "interpreter": {
    "hash": "661c719dae718e49a1162d72fd619be7e051566969fd39c03e5568043e0b0a2e"
   }
  }
 },
 "nbformat": 4,
 "nbformat_minor": 4
}
