{
 "cells": [
  {
   "cell_type": "code",
   "execution_count": 54,
   "metadata": {
    "slideshow": {
     "slide_type": "skip"
    }
   },
   "outputs": [],
   "source": [
    "# Run this cell to set up packages for lecture.\n",
    "from lec10_imports import *"
   ]
  },
  {
   "cell_type": "markdown",
   "metadata": {
    "slideshow": {
     "slide_type": "slide"
    }
   },
   "source": [
    "# Lecture 10 – Conditional Statements and Iteration\n",
    "\n",
    "## DSC 10, Summer 2024"
   ]
  },
  {
   "cell_type": "markdown",
   "metadata": {
    "slideshow": {
     "slide_type": "slide"
    }
   },
   "source": [
    "### Agenda\n",
    "\n",
    "- Booleans.\n",
    "- Conditional statements (i.e. `if`-statements).\n",
    "- Iteration (i.e. `for`-loops).\n",
    "\n",
    "**Note:** \n",
    "- We've finished introducing new DataFrame manipulation techniques. \n",
    "- Today we'll cover some foundational programming tools, which will be very relevant as we start to cover more ideas in statistics in the second half of the class."
   ]
  },
  {
   "cell_type": "markdown",
   "metadata": {
    "slideshow": {
     "slide_type": "slide"
    }
   },
   "source": [
    "## Booleans"
   ]
  },
  {
   "cell_type": "markdown",
   "metadata": {
    "slideshow": {
     "slide_type": "slide"
    }
   },
   "source": [
    "### Recap: Booleans\n",
    "\n",
    "- `bool` is a data type in Python, just like `int`, `float`, and `str`. \n",
    "    - It stands for \"Boolean\", named after George Boole, an early mathematician.\n",
    "- There are only two possible Boolean values: `True` or `False`.\n",
    "    - Yes or no.\n",
    "    - On or off.\n",
    "    - 1 or 0.\n",
    "- Comparisons result in Boolean values."
   ]
  },
  {
   "cell_type": "code",
   "execution_count": 55,
   "metadata": {},
   "outputs": [],
   "source": [
    "dept = 'DSC'\n",
    "course = 10"
   ]
  },
  {
   "cell_type": "code",
   "execution_count": 56,
   "metadata": {},
   "outputs": [
    {
     "data": {
      "text/plain": [
       "True"
      ]
     },
     "execution_count": 56,
     "metadata": {},
     "output_type": "execute_result"
    }
   ],
   "source": [
    "course < 20"
   ]
  },
  {
   "cell_type": "code",
   "execution_count": 57,
   "metadata": {},
   "outputs": [
    {
     "data": {
      "text/plain": [
       "bool"
      ]
     },
     "execution_count": 57,
     "metadata": {},
     "output_type": "execute_result"
    }
   ],
   "source": [
    "type(course < 20)"
   ]
  },
  {
   "cell_type": "markdown",
   "metadata": {
    "slideshow": {
     "slide_type": "slide"
    }
   },
   "source": [
    "### The `in` operator\n",
    "\n",
    "Sometimes, we'll want to check if a particular element is in a list/array, or a particular **substring** is in a string. The `in` operator can do this for us, and it also results in a Boolean value."
   ]
  },
  {
   "cell_type": "code",
   "execution_count": 58,
   "metadata": {},
   "outputs": [
    {
     "data": {
      "text/plain": [
       "True"
      ]
     },
     "execution_count": 58,
     "metadata": {},
     "output_type": "execute_result"
    }
   ],
   "source": [
    "course in [10, 20, 30]"
   ]
  },
  {
   "cell_type": "code",
   "execution_count": 59,
   "metadata": {},
   "outputs": [
    {
     "data": {
      "text/plain": [
       "True"
      ]
     },
     "execution_count": 59,
     "metadata": {},
     "output_type": "execute_result"
    }
   ],
   "source": [
    "'DS' in dept"
   ]
  },
  {
   "cell_type": "code",
   "execution_count": 60,
   "metadata": {},
   "outputs": [
    {
     "data": {
      "text/plain": [
       "False"
      ]
     },
     "execution_count": 60,
     "metadata": {},
     "output_type": "execute_result"
    }
   ],
   "source": [
    "'DS' in 'Data Science'"
   ]
  },
  {
   "cell_type": "markdown",
   "metadata": {
    "slideshow": {
     "slide_type": "slide"
    }
   },
   "source": [
    "### Boolean operators; `not`\n",
    "\n",
    "There are three operators that allow us to perform arithmetic with Booleans – `not`, `and`, and `or`."
   ]
  },
  {
   "cell_type": "markdown",
   "metadata": {
    "slideshow": {
     "slide_type": "fragment"
    }
   },
   "source": [
    "`not` flips `True` ↔️ `False`."
   ]
  },
  {
   "cell_type": "code",
   "execution_count": 61,
   "metadata": {},
   "outputs": [
    {
     "data": {
      "text/plain": [
       "True"
      ]
     },
     "execution_count": 61,
     "metadata": {},
     "output_type": "execute_result"
    }
   ],
   "source": [
    "dept == 'DSC'"
   ]
  },
  {
   "cell_type": "code",
   "execution_count": 62,
   "metadata": {},
   "outputs": [
    {
     "data": {
      "text/plain": [
       "False"
      ]
     },
     "execution_count": 62,
     "metadata": {},
     "output_type": "execute_result"
    }
   ],
   "source": [
    "not dept == 'DSC'"
   ]
  },
  {
   "cell_type": "markdown",
   "metadata": {
    "slideshow": {
     "slide_type": "slide"
    }
   },
   "source": [
    "### The `and` operator\n",
    "\n",
    "The `and` operator is placed between two `bool`s. It is `True` if **both** are `True`; otherwise, it's `False`."
   ]
  },
  {
   "cell_type": "code",
   "execution_count": 63,
   "metadata": {},
   "outputs": [
    {
     "data": {
      "text/plain": [
       "False"
      ]
     },
     "execution_count": 63,
     "metadata": {},
     "output_type": "execute_result"
    }
   ],
   "source": [
    "80 < 30 and course < 20"
   ]
  },
  {
   "cell_type": "code",
   "execution_count": 64,
   "metadata": {},
   "outputs": [
    {
     "data": {
      "text/plain": [
       "True"
      ]
     },
     "execution_count": 64,
     "metadata": {},
     "output_type": "execute_result"
    }
   ],
   "source": [
    "80 > 30 and course < 20"
   ]
  },
  {
   "cell_type": "markdown",
   "metadata": {
    "slideshow": {
     "slide_type": "slide"
    }
   },
   "source": [
    "### The `or` operator\n",
    "\n",
    "The `or` operator is placed between two `bool`s. It is `True` if **at least one** is `True`; otherwise, it's `False`."
   ]
  },
  {
   "cell_type": "code",
   "execution_count": 65,
   "metadata": {},
   "outputs": [
    {
     "data": {
      "text/plain": [
       "True"
      ]
     },
     "execution_count": 65,
     "metadata": {},
     "output_type": "execute_result"
    }
   ],
   "source": [
    "course in [10, 20, 30, 80] or type(course) == str"
   ]
  },
  {
   "cell_type": "code",
   "execution_count": 66,
   "metadata": {},
   "outputs": [
    {
     "data": {
      "text/plain": [
       "True"
      ]
     },
     "execution_count": 66,
     "metadata": {},
     "output_type": "execute_result"
    }
   ],
   "source": [
    "# Both are True!\n",
    "course in [10, 20, 30, 80] or type(course) == int"
   ]
  },
  {
   "cell_type": "code",
   "execution_count": 67,
   "metadata": {},
   "outputs": [
    {
     "data": {
      "text/plain": [
       "False"
      ]
     },
     "execution_count": 67,
     "metadata": {},
     "output_type": "execute_result"
    }
   ],
   "source": [
    "# Both are False!\n",
    "course == 80 or type(course) == str"
   ]
  },
  {
   "cell_type": "markdown",
   "metadata": {
    "slideshow": {
     "slide_type": "slide"
    }
   },
   "source": [
    "### Order of operations\n",
    "\n",
    "- By default, the order of operations is `not`, `and`, `or`. See the _precedence_ of all operators in Python [here](https://www.programiz.com/python-programming/precedence-associativity).\n",
    "- As usual, use **`(`parentheses`)`** to make expressions more clear."
   ]
  },
  {
   "cell_type": "code",
   "execution_count": 68,
   "metadata": {},
   "outputs": [
    {
     "data": {
      "text/plain": [
       "True"
      ]
     },
     "execution_count": 68,
     "metadata": {},
     "output_type": "execute_result"
    }
   ],
   "source": [
    "course == 10 or (dept == 'DSC' and dept == 'CSE')"
   ]
  },
  {
   "cell_type": "code",
   "execution_count": 69,
   "metadata": {},
   "outputs": [
    {
     "data": {
      "text/plain": [
       "False"
      ]
     },
     "execution_count": 69,
     "metadata": {},
     "output_type": "execute_result"
    }
   ],
   "source": [
    "# Different meaning!\n",
    "(course == 10 or dept == 'DSC') and dept == 'CSE'"
   ]
  },
  {
   "cell_type": "code",
   "execution_count": 70,
   "metadata": {},
   "outputs": [
    {
     "data": {
      "text/plain": [
       "True"
      ]
     },
     "execution_count": 70,
     "metadata": {},
     "output_type": "execute_result"
    }
   ],
   "source": [
    "# With no parentheses, \"and\" has precedence.\n",
    "course == 10 or dept == 'DSC' and dept == 'CSE'"
   ]
  },
  {
   "cell_type": "markdown",
   "metadata": {
    "slideshow": {
     "slide_type": "slide"
    }
   },
   "source": [
    "### Note: `&` and `|` vs. `and` and `or`"
   ]
  },
  {
   "cell_type": "markdown",
   "metadata": {
    "slideshow": {
     "slide_type": "fragment"
    }
   },
   "source": [
    "- Use the `&` and `|` operators between two **Series**. Arithmetic will be done element-wise (separately for each row).\n",
    "    - This is relevant when writing DataFrame queries, e.g. `courses[(courses.get('dept') == 'DSC') & (courses.get('course') == 10)]`."
   ]
  },
  {
   "cell_type": "markdown",
   "metadata": {
    "slideshow": {
     "slide_type": "fragment"
    }
   },
   "source": [
    "- Use the `and` and `or` operators between two **individual** Booleans.\n",
    "    - e.g. `dept == 'DSC' and course == 10`."
   ]
  },
  {
   "cell_type": "markdown",
   "metadata": {
    "slideshow": {
     "slide_type": "slide"
    }
   },
   "source": [
    "## Conditionals"
   ]
  },
  {
   "cell_type": "markdown",
   "metadata": {
    "slideshow": {
     "slide_type": "slide"
    }
   },
   "source": [
    "### `if`-statements\n",
    "\n",
    "- Often, we'll want to run a block of code only if a particular conditional expression is `True`.\n",
    "- The syntax for this is as follows (don't forget the colon!):\n",
    "\n",
    "```py\n",
    "if <condition>:\n",
    "    <body>\n",
    "```\n",
    "            \n",
    "- Indentation matters!"
   ]
  },
  {
   "cell_type": "code",
   "execution_count": 71,
   "metadata": {},
   "outputs": [
    {
     "data": {
      "text/plain": [
       "'finished'"
      ]
     },
     "execution_count": 71,
     "metadata": {},
     "output_type": "execute_result"
    }
   ],
   "source": [
    "capstone = 'finished'\n",
    "capstone"
   ]
  },
  {
   "cell_type": "code",
   "execution_count": 72,
   "metadata": {},
   "outputs": [
    {
     "name": "stdout",
     "output_type": "stream",
     "text": [
      "Looks like you are ready to graduate!\n"
     ]
    }
   ],
   "source": [
    "if capstone == 'finished':\n",
    "    print('Looks like you are ready to graduate!')"
   ]
  },
  {
   "cell_type": "markdown",
   "metadata": {
    "slideshow": {
     "slide_type": "slide"
    }
   },
   "source": [
    "### `else`\n",
    "\n",
    "If you want to do something else if the specified condition is `False`, use the `else` keyword."
   ]
  },
  {
   "cell_type": "code",
   "execution_count": 73,
   "metadata": {},
   "outputs": [
    {
     "data": {
      "text/plain": [
       "'finished'"
      ]
     },
     "execution_count": 73,
     "metadata": {},
     "output_type": "execute_result"
    }
   ],
   "source": [
    "capstone = 'finished'\n",
    "capstone"
   ]
  },
  {
   "cell_type": "code",
   "execution_count": 74,
   "metadata": {},
   "outputs": [
    {
     "name": "stdout",
     "output_type": "stream",
     "text": [
      "Looks like you are ready to graduate!\n"
     ]
    }
   ],
   "source": [
    "if capstone == 'finished':\n",
    "    print('Looks like you are ready to graduate!')\n",
    "else:\n",
    "    print('Before you graduate, you need to finish your capstone project.')"
   ]
  },
  {
   "cell_type": "markdown",
   "metadata": {
    "slideshow": {
     "slide_type": "slide"
    }
   },
   "source": [
    "### `elif`\n",
    "\n",
    "- What if we want to check more than one condition? Use `elif`.\n",
    "- `elif`: if the specified condition is `False`, check the next condition.\n",
    "- If that condition is `False`, check the next condition, and so on, until we see a `True` condition.\n",
    "    - After seeing a `True` condition, it evaluates the indented code and stops.\n",
    "- If none of the conditions are `True`, the `else` body is run."
   ]
  },
  {
   "cell_type": "code",
   "execution_count": 75,
   "metadata": {},
   "outputs": [
    {
     "name": "stdout",
     "output_type": "stream",
     "text": [
      "Before you graduate, you need to finish your capstone project and take 57 more units.\n"
     ]
    }
   ],
   "source": [
    "capstone = 'in progress'\n",
    "units = 123\n",
    "\n",
    "if capstone == 'finished' and units >= 180:\n",
    "    print('Looks like you are ready to graduate!')\n",
    "elif capstone != 'finished' and units < 180:\n",
    "    print('Before you graduate, you need to finish your capstone project and take', \n",
    "          180 - units, 'more units.')\n",
    "elif units >= 180:\n",
    "    print('Before you graduate, you need to finish your capstone project.')\n",
    "else:\n",
    "    print('Before you graduate, you need to take', 180 - units, 'more units.')"
   ]
  },
  {
   "cell_type": "markdown",
   "metadata": {
    "slideshow": {
     "slide_type": "fragment"
    }
   },
   "source": [
    "What if we use `if` instead of `elif`?"
   ]
  },
  {
   "cell_type": "code",
   "execution_count": 76,
   "metadata": {
    "slideshow": {
     "slide_type": "-"
    }
   },
   "outputs": [
    {
     "name": "stdout",
     "output_type": "stream",
     "text": [
      "Before you graduate, you need to finish your capstone project and take 57 more units.\n",
      "Before you graduate, you need to take 57 more units.\n"
     ]
    }
   ],
   "source": [
    "if capstone == 'finished' and units >= 180:\n",
    "    print('Looks like you are ready to graduate!')\n",
    "if capstone != 'finished' and units < 180:\n",
    "    print('Before you graduate, you need to finish your capstone project and take',\n",
    "          180 - units, 'more units.')\n",
    "if units >= 180:\n",
    "    print('Before you graduate, you need to finish your capstone project.')\n",
    "else:\n",
    "    print('Before you graduate, you need to take', 180 - units, 'more units.')"
   ]
  },
  {
   "cell_type": "markdown",
   "metadata": {
    "slideshow": {
     "slide_type": "slide"
    }
   },
   "source": [
    "### Example: Percentage to letter grade\n",
    "\n",
    "Below, complete the implementation of the function, `grade_converter`, which takes in a percentage grade (`grade`) and returns the corresponding letter grade, according to this table:\n",
    "\n",
    "| Letter | Range |\n",
    "| --- | --- |\n",
    "| A | [90, 100] |\n",
    "| B | [80, 90) |\n",
    "| C | [70, 80) |\n",
    "| D | [60, 70) |\n",
    "| F | [0, 60)\n",
    "\n",
    "Your function should work on these examples:\n",
    "\n",
    "```py\n",
    ">>> grade_converter(84)\n",
    "'B'\n",
    "\n",
    ">>> grade_converter(60)\n",
    "'D'\n",
    "```\n",
    "\n",
    "<br>\n",
    "\n",
    "<details>\n",
    "<summary>✅ Click <b>here</b> to see the solution <b>after</b> you've tried it yourself.</summary>\n",
    "    \n",
    "<pre>\n",
    "def grade_converter(grade):\n",
    "    if grade >= 90:\n",
    "        return 'A'\n",
    "    elif grade >= 80:\n",
    "        return 'B'\n",
    "    elif grade >= 70:\n",
    "        return 'C'\n",
    "    elif grade >= 60:\n",
    "        return 'D'\n",
    "    else:\n",
    "        return 'F'\n",
    "</pre>\n",
    "</details>"
   ]
  },
  {
   "cell_type": "code",
   "execution_count": 77,
   "metadata": {},
   "outputs": [],
   "source": [
    "def grade_converter(grade):\n",
    "    ..."
   ]
  },
  {
   "cell_type": "code",
   "execution_count": 25,
   "metadata": {},
   "outputs": [],
   "source": [
    "grade_converter(84)"
   ]
  },
  {
   "cell_type": "code",
   "execution_count": 26,
   "metadata": {},
   "outputs": [],
   "source": [
    "grade_converter(60)"
   ]
  },
  {
   "cell_type": "markdown",
   "metadata": {
    "slideshow": {
     "slide_type": "slide"
    }
   },
   "source": [
    "### Extra Practice\n",
    "\n",
    "```py\n",
    "\n",
    "def mystery(a, b):\n",
    "    if (a + b > 4) and (b > 0):\n",
    "        return 'bear'\n",
    "    elif (a * b >= 4) or (b < 0):\n",
    "        return 'triton'\n",
    "    else:\n",
    "        return 'bruin'\n",
    "```\n",
    "\n",
    "Without running code:\n",
    "1. What does `mystery(2, 2)` return?\n",
    "1. Find inputs so that calling `mystery` will produce `'bruin'`."
   ]
  },
  {
   "cell_type": "code",
   "execution_count": 27,
   "metadata": {
    "slideshow": {
     "slide_type": "slide"
    }
   },
   "outputs": [],
   "source": [
    "def mystery(a, b):\n",
    "    if (a + b > 4) and (b > 0):\n",
    "        return 'bear'\n",
    "    elif (a * b >= 4) or (b < 0):\n",
    "        return 'triton'\n",
    "    else:\n",
    "        return 'bruin'"
   ]
  },
  {
   "cell_type": "code",
   "execution_count": null,
   "metadata": {},
   "outputs": [],
   "source": []
  },
  {
   "cell_type": "code",
   "execution_count": null,
   "metadata": {},
   "outputs": [],
   "source": []
  },
  {
   "cell_type": "markdown",
   "metadata": {
    "slideshow": {
     "slide_type": "slide"
    }
   },
   "source": [
    "## Iteration"
   ]
  },
  {
   "cell_type": "markdown",
   "metadata": {
    "slideshow": {
     "slide_type": "slide"
    }
   },
   "source": [
    "<center><img src='images/iteration.png' width=60%></center>"
   ]
  },
  {
   "cell_type": "markdown",
   "metadata": {
    "slideshow": {
     "slide_type": "slide"
    }
   },
   "source": [
    "### `for`-loops"
   ]
  },
  {
   "cell_type": "code",
   "execution_count": 28,
   "metadata": {},
   "outputs": [
    {
     "name": "stdout",
     "output_type": "stream",
     "text": [
      "Launching in...\n",
      "t-minus 10\n",
      "t-minus 9\n",
      "t-minus 8\n",
      "t-minus 7\n",
      "t-minus 6\n",
      "t-minus 5\n",
      "t-minus 4\n",
      "t-minus 3\n",
      "t-minus 2\n",
      "t-minus 1\n",
      "Blast off! 🚀\n"
     ]
    }
   ],
   "source": [
    "import time\n",
    "\n",
    "print('Launching in...')\n",
    "\n",
    "for x in [10, 9, 8, 7, 6, 5, 4, 3, 2, 1]:\n",
    "    print('t-minus', x)\n",
    "    time.sleep(0.5) # Pauses for half a second.\n",
    "    \n",
    "print('Blast off! 🚀')"
   ]
  },
  {
   "cell_type": "markdown",
   "metadata": {
    "slideshow": {
     "slide_type": "slide"
    }
   },
   "source": [
    "### `for`-loops\n",
    "\n",
    "- Loops allow us to repeat the execution of code. There are two types of loops in Python; the `for`-loop is one of them.\n",
    "- The syntax of a `for`-loop is as follows:\n",
    "```py\n",
    "for <element> in <sequence>:\n",
    "    <for body>\n",
    "```\n",
    "- Read this as: \"for each element of this sequence, repeat this code.\" \n",
    "    - Lists, arrays, and strings are all examples of sequences.\n",
    "- Like with `if`-statements, indentation matters!"
   ]
  },
  {
   "cell_type": "markdown",
   "metadata": {
    "slideshow": {
     "slide_type": "slide"
    }
   },
   "source": [
    "### Example: Squares"
   ]
  },
  {
   "cell_type": "code",
   "execution_count": 29,
   "metadata": {},
   "outputs": [
    {
     "name": "stdout",
     "output_type": "stream",
     "text": [
      "4 squared is 16\n",
      "2 squared is 4\n",
      "1 squared is 1\n",
      "3 squared is 9\n"
     ]
    }
   ],
   "source": [
    "num = 4\n",
    "print(num, 'squared is', num ** 2)\n",
    "\n",
    "num = 2\n",
    "print(num, 'squared is', num ** 2)\n",
    "\n",
    "num = 1\n",
    "print(num, 'squared is', num ** 2)\n",
    "\n",
    "num = 3\n",
    "print(num, 'squared is', num ** 2)"
   ]
  },
  {
   "cell_type": "code",
   "execution_count": 30,
   "metadata": {
    "scrolled": false,
    "slideshow": {
     "slide_type": "fragment"
    }
   },
   "outputs": [
    {
     "name": "stdout",
     "output_type": "stream",
     "text": [
      "4 squared is 16\n",
      "2 squared is 4\n",
      "1 squared is 1\n",
      "3 squared is 9\n"
     ]
    }
   ],
   "source": [
    "# The loop variable can be anything!\n",
    "\n",
    "list_of_numbers = [4, 2, 1, 3]\n",
    "\n",
    "for num in list_of_numbers:\n",
    "    print(num, 'squared is', num ** 2)"
   ]
  },
  {
   "cell_type": "markdown",
   "metadata": {
    "slideshow": {
     "slide_type": "fragment"
    }
   },
   "source": [
    "The line `print(num, 'squared is', num ** 2)` is run four times:\n",
    "- On the first iteration, `num` is 4.\n",
    "- On the second iteration, `num` is 2.\n",
    "- On the third iteration, `num` is 1.\n",
    "- On the fourth iteration, `num` is 3.\n",
    "\n",
    "This happens, even though there is no `num = ` anywhere."
   ]
  },
  {
   "cell_type": "markdown",
   "metadata": {
    "slideshow": {
     "slide_type": "slide"
    }
   },
   "source": [
    "### Activity\n",
    "\n",
    "Using the array `colleges`, write a `for`-loop that prints:\n",
    "\n",
    "```\n",
    "Revelle College\n",
    "John Muir College\n",
    "Thurgood Marshall College\n",
    "Earl Warren College\n",
    "Eleanor Roosevelt College\n",
    "Sixth College\n",
    "Seventh College\n",
    "Eighth College\n",
    "```\n",
    "\n",
    "<br>\n",
    "<details>\n",
    "    <summary>✅ Click <b>here</b> to see the solution <b>after</b> you've tried it yourself.</summary>\n",
    "<br>\n",
    "<pre>\n",
    "for college in colleges:\n",
    "    print(college + ' College')\n",
    "</pre>\n",
    "    \n",
    "</details>"
   ]
  },
  {
   "cell_type": "code",
   "execution_count": 31,
   "metadata": {},
   "outputs": [],
   "source": [
    "colleges = np.array(['Revelle', 'John Muir', 'Thurgood Marshall', \n",
    "            'Earl Warren', 'Eleanor Roosevelt', 'Sixth', 'Seventh', 'Eighth'])"
   ]
  },
  {
   "cell_type": "code",
   "execution_count": 32,
   "metadata": {},
   "outputs": [
    {
     "data": {
      "text/plain": [
       "Ellipsis"
      ]
     },
     "execution_count": 32,
     "metadata": {},
     "output_type": "execute_result"
    }
   ],
   "source": [
    "..."
   ]
  },
  {
   "cell_type": "markdown",
   "metadata": {
    "slideshow": {
     "slide_type": "slide"
    }
   },
   "source": [
    "### Ranges\n",
    "\n",
    "- Recall, each element of a list/array has a numerical position.\n",
    "    - The position of the first element is 0, the position of the second element is 1, etc.\n",
    "- We can write a `for`-loop that accesses each element in an array by using its position.\n",
    "- `np.arange` will come in handy."
   ]
  },
  {
   "cell_type": "code",
   "execution_count": 33,
   "metadata": {},
   "outputs": [],
   "source": [
    "actions = np.array(['ate', 'slept', 'ran'])\n",
    "feelings = np.array(['content 🙂', 'energized 😃', 'exhausted 😓'])"
   ]
  },
  {
   "cell_type": "code",
   "execution_count": 34,
   "metadata": {},
   "outputs": [
    {
     "data": {
      "text/plain": [
       "3"
      ]
     },
     "execution_count": 34,
     "metadata": {},
     "output_type": "execute_result"
    }
   ],
   "source": [
    "len(actions)"
   ]
  },
  {
   "cell_type": "code",
   "execution_count": 35,
   "metadata": {},
   "outputs": [
    {
     "name": "stdout",
     "output_type": "stream",
     "text": [
      "0\n",
      "1\n",
      "2\n"
     ]
    }
   ],
   "source": [
    "for i in np.arange(len(actions)):\n",
    "    print(i)"
   ]
  },
  {
   "cell_type": "code",
   "execution_count": 36,
   "metadata": {},
   "outputs": [
    {
     "name": "stdout",
     "output_type": "stream",
     "text": [
      "I ate and I felt content 🙂\n",
      "I slept and I felt energized 😃\n",
      "I ran and I felt exhausted 😓\n"
     ]
    }
   ],
   "source": [
    "for i in np.arange(len(actions)):\n",
    "    print('I', actions[i], 'and I felt', feelings[i])"
   ]
  },
  {
   "cell_type": "markdown",
   "metadata": {
    "slideshow": {
     "slide_type": "slide"
    }
   },
   "source": [
    "### Example: Goldilocks and the Three Bears\n",
    "\n",
    "We don't have to use the loop variable!"
   ]
  },
  {
   "cell_type": "code",
   "execution_count": 37,
   "metadata": {},
   "outputs": [
    {
     "name": "stdout",
     "output_type": "stream",
     "text": [
      "🐻\n",
      "🐻\n",
      "🐻\n",
      "👧🏼\n"
     ]
    }
   ],
   "source": [
    "for i in np.arange(3):\n",
    "    print('🐻')\n",
    "print('👧🏼')"
   ]
  },
  {
   "cell_type": "markdown",
   "metadata": {
    "slideshow": {
     "slide_type": "slide"
    }
   },
   "source": [
    "### Randomization and iteration"
   ]
  },
  {
   "cell_type": "markdown",
   "metadata": {
    "slideshow": {
     "slide_type": "fragment"
    }
   },
   "source": [
    "- In the next few lectures, we'll learn how to **simulate** random events, like flipping a coin."
   ]
  },
  {
   "cell_type": "markdown",
   "metadata": {
    "slideshow": {
     "slide_type": "fragment"
    }
   },
   "source": [
    "- Often, we will:\n",
    "    1. Run an experiment, e.g. \"flip 10 coins.\"\n",
    "    2. Compute some **statistic**, e.g. \"number of heads,\" and write it down somewhere.\n",
    "    3. Repeat steps 1 and 2 many, many times using a `for`-loop."
   ]
  },
  {
   "cell_type": "markdown",
   "metadata": {
    "slideshow": {
     "slide_type": "slide"
    }
   },
   "source": [
    "\n",
    "<center><img src='images/append.jpg' width=60%></center>\n"
   ]
  },
  {
   "cell_type": "markdown",
   "metadata": {
    "slideshow": {
     "slide_type": "slide"
    }
   },
   "source": [
    "### `np.append`\n",
    "\n",
    "- This function takes two inputs:\n",
    "    - An array.\n",
    "    - An element to add on to the end of the array.\n",
    "- It returns a new array. It **does not modify** the input array. \n",
    "- We typically use it like this to extend an array by one element:\n",
    "\n",
    "```py\n",
    "name_of_array = np.append(name_of_array, element_to_add)\n",
    "```\n",
    "- ⚠️ **Remember to store the result!**"
   ]
  },
  {
   "cell_type": "code",
   "execution_count": 38,
   "metadata": {},
   "outputs": [],
   "source": [
    "some_array = np.array([])"
   ]
  },
  {
   "cell_type": "code",
   "execution_count": 39,
   "metadata": {},
   "outputs": [
    {
     "data": {
      "text/plain": [
       "array(['hello'], dtype='<U32')"
      ]
     },
     "execution_count": 39,
     "metadata": {},
     "output_type": "execute_result"
    }
   ],
   "source": [
    "np.append(some_array, 'hello')"
   ]
  },
  {
   "cell_type": "code",
   "execution_count": 40,
   "metadata": {},
   "outputs": [
    {
     "data": {
      "text/plain": [
       "array([], dtype=float64)"
      ]
     },
     "execution_count": 40,
     "metadata": {},
     "output_type": "execute_result"
    }
   ],
   "source": [
    "some_array"
   ]
  },
  {
   "cell_type": "code",
   "execution_count": 41,
   "metadata": {},
   "outputs": [
    {
     "data": {
      "text/plain": [
       "array(['hello'], dtype='<U32')"
      ]
     },
     "execution_count": 41,
     "metadata": {},
     "output_type": "execute_result"
    }
   ],
   "source": [
    "# Need to save the new array!\n",
    "some_array = np.append(some_array, 'hello')\n",
    "some_array"
   ]
  },
  {
   "cell_type": "code",
   "execution_count": 42,
   "metadata": {},
   "outputs": [
    {
     "data": {
      "text/plain": [
       "array(['hello', 'there'], dtype='<U32')"
      ]
     },
     "execution_count": 42,
     "metadata": {},
     "output_type": "execute_result"
    }
   ],
   "source": [
    "some_array = np.append(some_array, 'there')\n",
    "some_array"
   ]
  },
  {
   "cell_type": "markdown",
   "metadata": {
    "slideshow": {
     "slide_type": "slide"
    }
   },
   "source": [
    "### Example: Coin flipping\n",
    "\n",
    "The function `flip(n)` flips `n` fair coins and returns the number of heads it saw. (Don't worry about how it works for now.)"
   ]
  },
  {
   "cell_type": "code",
   "execution_count": 43,
   "metadata": {},
   "outputs": [],
   "source": [
    "def flip(n):\n",
    "    '''Returns the number of heads in n simulated coin flips, using randomness.'''\n",
    "    return np.random.multinomial(n, [0.5, 0.5])[0]"
   ]
  },
  {
   "cell_type": "code",
   "execution_count": 44,
   "metadata": {},
   "outputs": [
    {
     "data": {
      "text/plain": [
       "6"
      ]
     },
     "execution_count": 44,
     "metadata": {},
     "output_type": "execute_result"
    }
   ],
   "source": [
    "# Run this cell a few times – you'll see different results!\n",
    "flip(10)"
   ]
  },
  {
   "cell_type": "markdown",
   "metadata": {
    "slideshow": {
     "slide_type": "fragment"
    }
   },
   "source": [
    "Let's repeat the act of flipping 10 coins, 10000 times. \n",
    "- Each time, we'll use the `flip` function to flip 10 coins and compute the number of heads we saw.\n",
    "- We'll store these numbers in an array, `heads_array`.\n",
    "- Every time we use our `flip` function to flip 10 coins, we'll add an element to the end of `heads_array`."
   ]
  },
  {
   "cell_type": "code",
   "execution_count": 45,
   "metadata": {},
   "outputs": [],
   "source": [
    "# heads_array starts empty – before the simulation, we haven't flipped any coins!\n",
    "heads_array = np.array([])\n",
    "\n",
    "for i in np.arange(10000):\n",
    "    \n",
    "    # Flip 10 coins and count the number of heads.\n",
    "    num_heads = flip(10)\n",
    "    \n",
    "    # Add the number of heads seen to heads_array.\n",
    "    heads_array = np.append(heads_array, num_heads)"
   ]
  },
  {
   "cell_type": "markdown",
   "metadata": {},
   "source": [
    "Now, `heads_array` contains 10000 numbers, each corresponding to the number of heads in 10 simulated coin flips."
   ]
  },
  {
   "cell_type": "code",
   "execution_count": 46,
   "metadata": {},
   "outputs": [
    {
     "data": {
      "text/plain": [
       "array([7., 4., 4., ..., 4., 5., 1.])"
      ]
     },
     "execution_count": 46,
     "metadata": {},
     "output_type": "execute_result"
    }
   ],
   "source": [
    "heads_array"
   ]
  },
  {
   "cell_type": "code",
   "execution_count": 47,
   "metadata": {},
   "outputs": [
    {
     "data": {
      "text/plain": [
       "10000"
      ]
     },
     "execution_count": 47,
     "metadata": {},
     "output_type": "execute_result"
    }
   ],
   "source": [
    "len(heads_array)"
   ]
  },
  {
   "cell_type": "code",
   "execution_count": 48,
   "metadata": {},
   "outputs": [
    {
     "data": {
      "image/png": "[encoded data removed]",
      "text/plain": [
       "<Figure size 640x480 with 1 Axes>"
      ]
     },
     "metadata": {},
     "output_type": "display_data"
    }
   ],
   "source": [
    "(bpd.DataFrame().assign(num_heads=heads_array)\n",
    " .plot(kind='hist', density=True, bins=np.arange(0, 12), ec='w', legend=False, \n",
    "       title = 'Distribution of the number of heads in 10 coin flips')\n",
    ");"
   ]
  },
  {
   "cell_type": "markdown",
   "metadata": {
    "slideshow": {
     "slide_type": "slide"
    }
   },
   "source": [
    "\n",
    "<center><img src='images/accumulate.jpg' width=60%></center>\n",
    "\n"
   ]
  },
  {
   "cell_type": "markdown",
   "metadata": {
    "slideshow": {
     "slide_type": "slide"
    }
   },
   "source": [
    "### The accumulator pattern\n",
    "\n",
    "- To store our results, we'll typically use an `int` or an array.\n",
    "- If using an `int`, we define an `int` variable (usually to `0`) before the loop, then use `+` to add to it inside the loop.\n",
    "    - Think of this like using a tally.\n",
    "- If using an array, we create an array (usually empty) before the loop, then use `np.append` to add to it inside the loop.\n",
    "    - Think of this like writing the results on a piece of paper.\n",
    "- This pattern – of repeatedly adding to an `int` or an array – is called the accumulator pattern."
   ]
  },
  {
   "cell_type": "markdown",
   "metadata": {
    "slideshow": {
     "slide_type": "slide"
    }
   },
   "source": [
    "### `for`-loops in DSC 10\n",
    "\n",
    "- Almost every `for`-loop in DSC 10 will use the accumulator pattern.    \n",
    "- Do **not** use `for`-loops to perform mathematical operations on every element of an array or Series.\n",
    "    - Instead use DataFrame manipulations and built-in array or Series methods.\n",
    "    \n",
    "- Helpful video 🎥: [For Loops (and when not to use them) in DSC 10](https://www.youtube.com/watch?v=BlczSBT80fU)."
   ]
  },
  {
   "cell_type": "markdown",
   "metadata": {
    "slideshow": {
     "slide_type": "slide"
    }
   },
   "source": [
    "### Working with strings\n",
    "\n",
    "String are sequences, so we can iterate over them, too!"
   ]
  },
  {
   "cell_type": "code",
   "execution_count": 49,
   "metadata": {},
   "outputs": [
    {
     "name": "stdout",
     "output_type": "stream",
     "text": [
      "U\n",
      "C\n",
      " \n",
      "S\n",
      "A\n",
      "N\n",
      " \n",
      "D\n",
      "I\n",
      "E\n",
      "G\n",
      "O\n"
     ]
    }
   ],
   "source": [
    "for letter in 'uc san diego':\n",
    "    print(letter.upper())"
   ]
  },
  {
   "cell_type": "code",
   "execution_count": 50,
   "metadata": {},
   "outputs": [
    {
     "data": {
      "text/plain": [
       "2"
      ]
     },
     "execution_count": 50,
     "metadata": {},
     "output_type": "execute_result"
    }
   ],
   "source": [
    "'california'.count('a')"
   ]
  },
  {
   "cell_type": "markdown",
   "metadata": {
    "slideshow": {
     "slide_type": "slide"
    }
   },
   "source": [
    "### Example: Vowel count\n",
    "\n",
    "Below, complete the implementation of the function `vowel_count`, which returns the number of vowels in the input string `s` (including repeats). Example behavior is shown below.\n",
    "\n",
    "```py\n",
    ">>> vowel_count('king triton')\n",
    "3\n",
    "\n",
    ">>> vowel_count('i go to uc san diego')\n",
    "8\n",
    "```\n",
    "\n",
    "<details>\n",
    "<summary>✅ Click <b>here</b> to see the solution <b>after</b> you've tried it yourself.</summary>\n",
    "    \n",
    "<pre>\n",
    "def vowel_count(s):\n",
    "    # We need to keep track of the number of vowels seen so far. Before we start, we've seen zero vowels.\n",
    "    number = 0\n",
    "    \n",
    "    # For each of the 5 vowels:\n",
    "    for vowel in 'aeiou':\n",
    "        # Count the number of occurrences of this vowel in s.\n",
    "        num_vowel = s.count(vowel)\n",
    "        # Add this count to the variable number.\n",
    "        number = number + num_vowel\n",
    "    # Once we've gotten through all 5 vowels, return the answer.\n",
    "    return number\n",
    "</pre>\n",
    "</details>"
   ]
  },
  {
   "cell_type": "code",
   "execution_count": 51,
   "metadata": {},
   "outputs": [],
   "source": [
    "def vowel_count(s):\n",
    "    # We need to keep track of the number of vowels seen so far. Before we start, we've seen zero vowels.\n",
    "    number = 0\n",
    "    \n",
    "    # For each of the 5 vowels:\n",
    "       \n",
    "        # Count the number of occurrences of this vowel in s.\n",
    "        \n",
    "        # Add this count to the variable number.\n",
    "    \n",
    "    # Once we've gotten through all 5 vowels, return the answer.\n",
    "    "
   ]
  },
  {
   "cell_type": "code",
   "execution_count": 52,
   "metadata": {},
   "outputs": [],
   "source": [
    "vowel_count('king triton')"
   ]
  },
  {
   "cell_type": "code",
   "execution_count": 53,
   "metadata": {},
   "outputs": [],
   "source": [
    "vowel_count('i go to uc san diego')"
   ]
  },
  {
   "cell_type": "markdown",
   "metadata": {
    "slideshow": {
     "slide_type": "slide"
    }
   },
   "source": [
    "## Summary, next time"
   ]
  },
  {
   "cell_type": "markdown",
   "metadata": {
    "slideshow": {
     "slide_type": "slide"
    }
   },
   "source": [
    "### Summary\n",
    "\n",
    "- `if`-statements allow us to run pieces of code depending on whether certain conditions are `True`.\n",
    "- `for`-loops are used to repeat the execution of code for every element of a sequence.\n",
    "    - Lists, arrays, and strings are examples of sequences."
   ]
  },
  {
   "cell_type": "markdown",
   "metadata": {
    "slideshow": {
     "slide_type": "slide"
    }
   },
   "source": [
    "### Next time\n",
    "\n",
    "- Probability. \n",
    "- A math lesson – no code!"
   ]
  }
 ],
 "metadata": {
  "kernelspec": {
   "display_name": "Python 3 (ipykernel)",
   "language": "python",
   "name": "python3"
  },
  "language_info": {
   "codemirror_mode": {
    "name": "ipython",
    "version": 3
   },
   "file_extension": ".py",
   "mimetype": "text/x-python",
   "name": "python",
   "nbconvert_exporter": "python",
   "pygments_lexer": "ipython3",
   "version": "3.11.5"
  },
  "livereveal": {
   "scroll": true,
   "transition": "none"
  },
  "rise": {
   "enable_chalkboard": true
  }
 },
 "nbformat": 4,
 "nbformat_minor": 2
}
