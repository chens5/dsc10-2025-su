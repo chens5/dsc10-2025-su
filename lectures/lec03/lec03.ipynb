{
 "cells": [
  {
   "attachments": {},
   "cell_type": "markdown",
   "metadata": {
    "slideshow": {
     "slide_type": "slide"
    }
   },
   "source": [
    "# Lecture 3 – Data visualization and distributions\n",
    "## DSC 10, Summer 2024"
   ]
  },
  {
   "cell_type": "code",
   "execution_count": 2,
   "metadata": {},
   "outputs": [],
   "source": [
    "# Run this cell to set up packages for lecture.\n",
    "from lec03_imports import *"
   ]
  },
  {
   "attachments": {},
   "cell_type": "markdown",
   "metadata": {
    "slideshow": {
     "slide_type": "slide"
    }
   },
   "source": [
    "### Announcements\n",
    "\n",
    "\n"
   ]
  },
  {
   "attachments": {},
   "cell_type": "markdown",
   "metadata": {
    "slideshow": {
     "slide_type": "slide"
    }
   },
   "source": [
    "### Quiz\n"
   ]
  },
  {
   "attachments": {},
   "cell_type": "markdown",
   "metadata": {
    "slideshow": {
     "slide_type": "slide"
    }
   },
   "source": [
    "### Resources 🤝\n"
   ]
  },
  {
   "attachments": {},
   "cell_type": "markdown",
   "metadata": {
    "slideshow": {
     "slide_type": "slide"
    }
   },
   "source": [
    "### Agenda\n",
    "\n",
    "- Grouping.\n",
    "- Why visualize?\n",
    "- Terminology.\n",
    "- Scatter plots.\n",
    "- Line plots.\n",
    "- Bar charts."
   ]
  },
  {
   "attachments": {},
   "cell_type": "markdown",
   "metadata": {},
   "source": [
    "## Grouping"
   ]
  },
  {
   "attachments": {},
   "cell_type": "markdown",
   "metadata": {},
   "source": [
    "### Question: Which region is the most populated?"
   ]
  },
  {
   "cell_type": "code",
   "execution_count": 3,
   "metadata": {},
   "outputs": [
    {
     "data": {
      "text/html": [
       "<div>\n",
       "<style scoped>\n",
       "    .dataframe tbody tr th:only-of-type {\n",
       "        vertical-align: middle;\n",
       "    }\n",
       "\n",
       "    .dataframe tbody tr th {\n",
       "        vertical-align: top;\n",
       "    }\n",
       "\n",
       "    .dataframe thead th {\n",
       "        text-align: right;\n",
       "    }\n",
       "</style>\n",
       "<table border=\"1\" class=\"dataframe\">\n",
       "  <thead>\n",
       "    <tr style=\"text-align: right;\">\n",
       "      <th></th>\n",
       "      <th>Region</th>\n",
       "      <th>Capital City</th>\n",
       "      <th>Population</th>\n",
       "      <th>Land Area</th>\n",
       "      <th>Party</th>\n",
       "      <th>Density</th>\n",
       "    </tr>\n",
       "    <tr>\n",
       "      <th>State</th>\n",
       "      <th></th>\n",
       "      <th></th>\n",
       "      <th></th>\n",
       "      <th></th>\n",
       "      <th></th>\n",
       "      <th></th>\n",
       "    </tr>\n",
       "  </thead>\n",
       "  <tbody>\n",
       "    <tr>\n",
       "      <th>Alabama</th>\n",
       "      <td>South</td>\n",
       "      <td>Montgomery</td>\n",
       "      <td>5024279</td>\n",
       "      <td>50645</td>\n",
       "      <td>Republican</td>\n",
       "      <td>99.21</td>\n",
       "    </tr>\n",
       "    <tr>\n",
       "      <th>Alaska</th>\n",
       "      <td>West</td>\n",
       "      <td>Juneau</td>\n",
       "      <td>733391</td>\n",
       "      <td>570641</td>\n",
       "      <td>Republican</td>\n",
       "      <td>1.29</td>\n",
       "    </tr>\n",
       "    <tr>\n",
       "      <th>Arizona</th>\n",
       "      <td>West</td>\n",
       "      <td>Phoenix</td>\n",
       "      <td>7151502</td>\n",
       "      <td>113594</td>\n",
       "      <td>Republican</td>\n",
       "      <td>62.96</td>\n",
       "    </tr>\n",
       "    <tr>\n",
       "      <th>...</th>\n",
       "      <td>...</td>\n",
       "      <td>...</td>\n",
       "      <td>...</td>\n",
       "      <td>...</td>\n",
       "      <td>...</td>\n",
       "      <td>...</td>\n",
       "    </tr>\n",
       "    <tr>\n",
       "      <th>West Virginia</th>\n",
       "      <td>South</td>\n",
       "      <td>Charleston</td>\n",
       "      <td>1793716</td>\n",
       "      <td>24038</td>\n",
       "      <td>Republican</td>\n",
       "      <td>74.62</td>\n",
       "    </tr>\n",
       "    <tr>\n",
       "      <th>Wisconsin</th>\n",
       "      <td>Midwest</td>\n",
       "      <td>Madison</td>\n",
       "      <td>5893718</td>\n",
       "      <td>54158</td>\n",
       "      <td>Republican</td>\n",
       "      <td>108.82</td>\n",
       "    </tr>\n",
       "    <tr>\n",
       "      <th>Wyoming</th>\n",
       "      <td>West</td>\n",
       "      <td>Cheyenne</td>\n",
       "      <td>576851</td>\n",
       "      <td>97093</td>\n",
       "      <td>Republican</td>\n",
       "      <td>5.94</td>\n",
       "    </tr>\n",
       "  </tbody>\n",
       "</table>\n",
       "<p>50 rows × 6 columns</p>\n",
       "</div>"
      ],
      "text/plain": [
       "                Region Capital City  Population  Land Area       Party  \\\n",
       "State                                                                    \n",
       "Alabama          South   Montgomery     5024279      50645  Republican   \n",
       "Alaska            West       Juneau      733391     570641  Republican   \n",
       "Arizona           West      Phoenix     7151502     113594  Republican   \n",
       "...                ...          ...         ...        ...         ...   \n",
       "West Virginia    South   Charleston     1793716      24038  Republican   \n",
       "Wisconsin      Midwest      Madison     5893718      54158  Republican   \n",
       "Wyoming           West     Cheyenne      576851      97093  Republican   \n",
       "\n",
       "               Density  \n",
       "State                   \n",
       "Alabama          99.21  \n",
       "Alaska            1.29  \n",
       "Arizona          62.96  \n",
       "...                ...  \n",
       "West Virginia    74.62  \n",
       "Wisconsin       108.82  \n",
       "Wyoming           5.94  \n",
       "\n",
       "[50 rows x 6 columns]"
      ]
     },
     "execution_count": 3,
     "metadata": {},
     "output_type": "execute_result"
    }
   ],
   "source": [
    "states = bpd.read_csv('data/states.csv').set_index('State')\n",
    "states = states.assign(Density=states.get('Population') / states.get('Land Area'))\n",
    "states"
   ]
  },
  {
   "attachments": {},
   "cell_type": "markdown",
   "metadata": {},
   "source": [
    "### Organizing states by region with `.groupby`\n",
    "\n",
    "Observe what happens when we use the `.groupby` method on `states` with the argument `'Region'`."
   ]
  },
  {
   "cell_type": "code",
   "execution_count": 4,
   "metadata": {},
   "outputs": [
    {
     "data": {
      "text/html": [
       "<div>\n",
       "<style scoped>\n",
       "    .dataframe tbody tr th:only-of-type {\n",
       "        vertical-align: middle;\n",
       "    }\n",
       "\n",
       "    .dataframe tbody tr th {\n",
       "        vertical-align: top;\n",
       "    }\n",
       "\n",
       "    .dataframe thead th {\n",
       "        text-align: right;\n",
       "    }\n",
       "</style>\n",
       "<table border=\"1\" class=\"dataframe\">\n",
       "  <thead>\n",
       "    <tr style=\"text-align: right;\">\n",
       "      <th></th>\n",
       "      <th>Capital City</th>\n",
       "      <th>Population</th>\n",
       "      <th>Land Area</th>\n",
       "      <th>Party</th>\n",
       "      <th>Density</th>\n",
       "    </tr>\n",
       "    <tr>\n",
       "      <th>Region</th>\n",
       "      <th></th>\n",
       "      <th></th>\n",
       "      <th></th>\n",
       "      <th></th>\n",
       "      <th></th>\n",
       "    </tr>\n",
       "  </thead>\n",
       "  <tbody>\n",
       "    <tr>\n",
       "      <th>Midwest</th>\n",
       "      <td>SpringfieldIndianapolisDes MoinesTopekaLansing...</td>\n",
       "      <td>68985454</td>\n",
       "      <td>750524</td>\n",
       "      <td>DemocraticRepublicanRepublicanRepublicanRepubl...</td>\n",
       "      <td>1298.78</td>\n",
       "    </tr>\n",
       "    <tr>\n",
       "      <th>Northeast</th>\n",
       "      <td>HartfordAugustaBostonConcordTrentonAlbanyHarri...</td>\n",
       "      <td>57609148</td>\n",
       "      <td>161912</td>\n",
       "      <td>DemocraticDemocraticDemocraticDemocraticDemocr...</td>\n",
       "      <td>4957.49</td>\n",
       "    </tr>\n",
       "    <tr>\n",
       "      <th>South</th>\n",
       "      <td>MontgomeryLittle RockDoverTallahasseeAtlantaFr...</td>\n",
       "      <td>125576562</td>\n",
       "      <td>868356</td>\n",
       "      <td>RepublicanRepublicanDemocraticRepublicanRepubl...</td>\n",
       "      <td>3189.37</td>\n",
       "    </tr>\n",
       "    <tr>\n",
       "      <th>West</th>\n",
       "      <td>JuneauPhoenixSacramentoDenverHonoluluBoiseHele...</td>\n",
       "      <td>78588572</td>\n",
       "      <td>1751054</td>\n",
       "      <td>RepublicanRepublicanDemocraticDemocraticDemocr...</td>\n",
       "      <td>881.62</td>\n",
       "    </tr>\n",
       "  </tbody>\n",
       "</table>\n",
       "</div>"
      ],
      "text/plain": [
       "                                                Capital City  Population  \\\n",
       "Region                                                                     \n",
       "Midwest    SpringfieldIndianapolisDes MoinesTopekaLansing...    68985454   \n",
       "Northeast  HartfordAugustaBostonConcordTrentonAlbanyHarri...    57609148   \n",
       "South      MontgomeryLittle RockDoverTallahasseeAtlantaFr...   125576562   \n",
       "West       JuneauPhoenixSacramentoDenverHonoluluBoiseHele...    78588572   \n",
       "\n",
       "           Land Area                                              Party  \\\n",
       "Region                                                                    \n",
       "Midwest       750524  DemocraticRepublicanRepublicanRepublicanRepubl...   \n",
       "Northeast     161912  DemocraticDemocraticDemocraticDemocraticDemocr...   \n",
       "South         868356  RepublicanRepublicanDemocraticRepublicanRepubl...   \n",
       "West         1751054  RepublicanRepublicanDemocraticDemocraticDemocr...   \n",
       "\n",
       "           Density  \n",
       "Region              \n",
       "Midwest    1298.78  \n",
       "Northeast  4957.49  \n",
       "South      3189.37  \n",
       "West        881.62  "
      ]
     },
     "execution_count": 4,
     "metadata": {},
     "output_type": "execute_result"
    }
   ],
   "source": [
    "states.groupby('Region').sum()"
   ]
  },
  {
   "attachments": {},
   "cell_type": "markdown",
   "metadata": {},
   "source": [
    "### An illustrative example: Pets 🐱 🐶🐹\n",
    "\n",
    "Consider the DataFrame `pets`, shown below.\n",
    "\n",
    "<table border=\"1\" class=\"dataframe\">\n",
    "  <thead>\n",
    "    <tr style=\"text-align: right;\">\n",
    "      <th></th>\n",
    "      <th>Species</th>\n",
    "      <th>Color</th>\n",
    "      <th>Weight</th>\n",
    "      <th>Age</th>\n",
    "    </tr>\n",
    "  </thead>\n",
    "  <tbody>\n",
    "    <tr>\n",
    "      <th>0</th>\n",
    "      <td>dog</td>\n",
    "      <td>black</td>\n",
    "      <td>40</td>\n",
    "      <td>5.0</td>\n",
    "    </tr>\n",
    "    <tr>\n",
    "      <th>1</th>\n",
    "      <td>cat</td>\n",
    "      <td>golden</td>\n",
    "      <td>15</td>\n",
    "      <td>8.0</td>\n",
    "    </tr>\n",
    "    <tr>\n",
    "      <th>2</th>\n",
    "      <td>cat</td>\n",
    "      <td>black</td>\n",
    "      <td>20</td>\n",
    "      <td>9.0</td>\n",
    "    </tr>\n",
    "    <tr>\n",
    "      <th>3</th>\n",
    "      <td>dog</td>\n",
    "      <td>white</td>\n",
    "      <td>80</td>\n",
    "      <td>2.0</td>\n",
    "    </tr>\n",
    "    <tr>\n",
    "      <th>4</th>\n",
    "      <td>dog</td>\n",
    "      <td>golden</td>\n",
    "      <td>25</td>\n",
    "      <td>0.5</td>\n",
    "    </tr>\n",
    "    <tr>\n",
    "      <th>5</th>\n",
    "      <td>hamster</td>\n",
    "      <td>golden</td>\n",
    "      <td>1</td>\n",
    "      <td>3.0</td>\n",
    "    </tr>\n",
    "  </tbody>\n",
    "</table>\n",
    "\n",
    "Let's see what happens under the hood when we run `pets.groupby('Species').mean()`.\n"
   ]
  },
  {
   "cell_type": "code",
   "execution_count": 5,
   "metadata": {},
   "outputs": [
    {
     "data": {
      "text/html": [
       "\n",
       "        <iframe\n",
       "            width=\"960\"\n",
       "            height=\"509\"\n",
       "            src=\"https://docs.google.com/presentation/d/e/2PACX-1vTgVlFngQcLMYHP-z1vq5lVXjsBgcHebc-3TX7SW6L_gjX6TD1gsflvVDQUpWiDdeEPqJASenUIfBVd/embed?start=false&loop=false&delayms=60000&rm=minimal\"\n",
       "            frameborder=\"0\"\n",
       "            allowfullscreen\n",
       "            \n",
       "        ></iframe>\n",
       "        "
      ],
      "text/plain": [
       "<IPython.lib.display.IFrame at 0x12606c850>"
      ]
     },
     "metadata": {},
     "output_type": "display_data"
    }
   ],
   "source": [
    "show_grouping_animation()"
   ]
  },
  {
   "cell_type": "markdown",
   "metadata": {},
   "source": []
  },
  {
   "cell_type": "code",
   "execution_count": null,
   "metadata": {},
   "outputs": [],
   "source": []
  }
 ],
 "metadata": {
  "kernelspec": {
   "display_name": "base",
   "language": "python",
   "name": "python3"
  },
  "language_info": {
   "codemirror_mode": {
    "name": "ipython",
    "version": 3
   },
   "file_extension": ".py",
   "mimetype": "text/x-python",
   "name": "python",
   "nbconvert_exporter": "python",
   "pygments_lexer": "ipython3",
   "version": "3.11.5"
  },
  "livereveal": {
   "scroll": true,
   "transition": "none"
  },
  "rise": {
   "enable_chalkboard": true
  },
  "vscode": {
   "interpreter": {
    "hash": "661c719dae718e49a1162d72fd619be7e051566969fd39c03e5568043e0b0a2e"
   }
  }
 },
 "nbformat": 4,
 "nbformat_minor": 2
}
