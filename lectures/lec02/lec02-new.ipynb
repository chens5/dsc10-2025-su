{
 "cells": [
  {
   "cell_type": "code",
   "execution_count": 1,
   "metadata": {},
   "outputs": [],
   "source": [
    "# Run this cell to set up packages for lecture.\n",
    "from lec04_imports import *"
   ]
  },
  {
   "attachments": {},
   "cell_type": "markdown",
   "metadata": {
    "slideshow": {
     "slide_type": "slide"
    }
   },
   "source": [
    "# Lecture 2 –  Arrays and DataFrames\n",
    "\n",
    "## DSC 10, Summer 2024"
   ]
  },
  {
   "attachments": {},
   "cell_type": "markdown",
   "metadata": {
    "slideshow": {
     "slide_type": "slide"
    }
   },
   "source": [
    "### Agenda\n",
    "\n",
    "- Recap of arrays and ranges\n",
    "- DataFrames.\n",
    "    - Querying \n",
    "    - Grouping\n",
    "\n",
    "#### Note:\n",
    "\n",
    "- Remember to check the [resources tab of the course website](https://dsc10.com/resources/) for programming resources.\n",
    "- Some key links moving forward:\n",
    "    - [DSC 10 reference sheet](https://drive.google.com/file/d/1ky0Np67HS2O4LO913P-ing97SJG0j27n/view).\n",
    "    - [`babypandas` notes](https://notes.dsc10.com).\n",
    "    - [`babypandas` documentation](https://babypandas.readthedocs.io/en/latest/index.html)."
   ]
  },
  {
   "cell_type": "markdown",
   "metadata": {
    "slideshow": {
     "slide_type": "slide"
    }
   },
   "source": [
    "## DataFrames"
   ]
  },
  {
   "cell_type": "markdown",
   "metadata": {
    "slideshow": {
     "slide_type": "slide"
    }
   },
   "source": [
    "### `pandas`\n",
    "\n",
    "- `pandas` is a Python package that allows us to work with **tabular** data – that is, data in the form of a table that we might otherwise work with as a spreadsheet (in Excel or Google Sheets).\n",
    "- `pandas` is **the** tool for doing data science in Python.\n",
    "\n",
    "<center>\n",
    "<img src='images/pandas.png' width=400>\n",
    "</center>"
   ]
  },
  {
   "cell_type": "markdown",
   "metadata": {
    "slideshow": {
     "slide_type": "slide"
    }
   },
   "source": [
    "### But `pandas` is not so cute...\n",
    "\n",
    "<center>\n",
    "<img height=100% src=\"images/angrypanda.jpg\"/>\n",
    "</center>"
   ]
  },
  {
   "cell_type": "markdown",
   "metadata": {
    "slideshow": {
     "slide_type": "slide"
    }
   },
   "source": [
    "### Enter `babypandas`!\n",
    "\n",
    "- We at UCSD have created a smaller, nicer version of `pandas` called `babypandas`.\n",
    "- It keeps the important stuff and has much better error messages.\n",
    "- It's easier to learn, but is still valid `pandas` code. **You are learning `pandas`!**\n",
    "    - Think of it like learning how to build LEGOs with many, but not all, of the possible Lego blocks. You're still learning how to build LEGOs, and you can still build cool things!\n",
    "\n",
    "<center>\n",
    "<img height=75% src=\"images/babypanda.jpg\"/ width=400>\n",
    "</center>"
   ]
  },
  {
   "cell_type": "markdown",
   "metadata": {
    "slideshow": {
     "slide_type": "slide"
    }
   },
   "source": [
    "### DataFrames in `babypandas` 🐼\n",
    "\n",
    "- Tables in `babypandas` (and `pandas`) are called \"DataFrames.\"\n",
    "- To use DataFrames, we'll need to import `babypandas`. "
   ]
  },
  {
   "cell_type": "code",
   "execution_count": 19,
   "metadata": {
    "slideshow": {
     "slide_type": "-"
    }
   },
   "outputs": [],
   "source": [
    "import babypandas as bpd"
   ]
  },
  {
   "cell_type": "markdown",
   "metadata": {
    "slideshow": {
     "slide_type": "slide"
    }
   },
   "source": [
    "### Reading data from a file 📖\n",
    "\n",
    "- We'll usually work with data stored in the CSV format. CSV stands for \"comma-separated values.\"\n",
    "\n",
    "- We can read in a CSV using `bpd.read_csv(...)`. Replace the `...` with a path to the CSV file relative to your notebook; if the file is in the same folder as your notebook, this is just the name of the file."
   ]
  },
  {
   "cell_type": "code",
   "execution_count": 20,
   "metadata": {},
   "outputs": [
    {
     "data": {
      "text/html": [
       "<div>\n",
       "<style scoped>\n",
       "    .dataframe tbody tr th:only-of-type {\n",
       "        vertical-align: middle;\n",
       "    }\n",
       "\n",
       "    .dataframe tbody tr th {\n",
       "        vertical-align: top;\n",
       "    }\n",
       "\n",
       "    .dataframe thead th {\n",
       "        text-align: right;\n",
       "    }\n",
       "</style>\n",
       "<table border=\"1\" class=\"dataframe\">\n",
       "  <thead>\n",
       "    <tr style=\"text-align: right;\">\n",
       "      <th></th>\n",
       "      <th>State</th>\n",
       "      <th>Region</th>\n",
       "      <th>Capital City</th>\n",
       "      <th>Population</th>\n",
       "      <th>Land Area</th>\n",
       "      <th>Party</th>\n",
       "    </tr>\n",
       "  </thead>\n",
       "  <tbody>\n",
       "    <tr>\n",
       "      <th>0</th>\n",
       "      <td>Alabama</td>\n",
       "      <td>South</td>\n",
       "      <td>Montgomery</td>\n",
       "      <td>5024279</td>\n",
       "      <td>50645</td>\n",
       "      <td>Republican</td>\n",
       "    </tr>\n",
       "    <tr>\n",
       "      <th>1</th>\n",
       "      <td>Alaska</td>\n",
       "      <td>West</td>\n",
       "      <td>Juneau</td>\n",
       "      <td>733391</td>\n",
       "      <td>570641</td>\n",
       "      <td>Republican</td>\n",
       "    </tr>\n",
       "    <tr>\n",
       "      <th>2</th>\n",
       "      <td>Arizona</td>\n",
       "      <td>West</td>\n",
       "      <td>Phoenix</td>\n",
       "      <td>7151502</td>\n",
       "      <td>113594</td>\n",
       "      <td>Republican</td>\n",
       "    </tr>\n",
       "    <tr>\n",
       "      <th>3</th>\n",
       "      <td>Arkansas</td>\n",
       "      <td>South</td>\n",
       "      <td>Little Rock</td>\n",
       "      <td>3011524</td>\n",
       "      <td>52035</td>\n",
       "      <td>Republican</td>\n",
       "    </tr>\n",
       "    <tr>\n",
       "      <th>4</th>\n",
       "      <td>California</td>\n",
       "      <td>West</td>\n",
       "      <td>Sacramento</td>\n",
       "      <td>39538223</td>\n",
       "      <td>155779</td>\n",
       "      <td>Democratic</td>\n",
       "    </tr>\n",
       "    <tr>\n",
       "      <th>...</th>\n",
       "      <td>...</td>\n",
       "      <td>...</td>\n",
       "      <td>...</td>\n",
       "      <td>...</td>\n",
       "      <td>...</td>\n",
       "      <td>...</td>\n",
       "    </tr>\n",
       "    <tr>\n",
       "      <th>45</th>\n",
       "      <td>Virginia</td>\n",
       "      <td>South</td>\n",
       "      <td>Richmond</td>\n",
       "      <td>8631393</td>\n",
       "      <td>39490</td>\n",
       "      <td>Democratic</td>\n",
       "    </tr>\n",
       "    <tr>\n",
       "      <th>46</th>\n",
       "      <td>Washington</td>\n",
       "      <td>West</td>\n",
       "      <td>Olympia</td>\n",
       "      <td>7705281</td>\n",
       "      <td>66456</td>\n",
       "      <td>Democratic</td>\n",
       "    </tr>\n",
       "    <tr>\n",
       "      <th>47</th>\n",
       "      <td>West Virginia</td>\n",
       "      <td>South</td>\n",
       "      <td>Charleston</td>\n",
       "      <td>1793716</td>\n",
       "      <td>24038</td>\n",
       "      <td>Republican</td>\n",
       "    </tr>\n",
       "    <tr>\n",
       "      <th>48</th>\n",
       "      <td>Wisconsin</td>\n",
       "      <td>Midwest</td>\n",
       "      <td>Madison</td>\n",
       "      <td>5893718</td>\n",
       "      <td>54158</td>\n",
       "      <td>Republican</td>\n",
       "    </tr>\n",
       "    <tr>\n",
       "      <th>49</th>\n",
       "      <td>Wyoming</td>\n",
       "      <td>West</td>\n",
       "      <td>Cheyenne</td>\n",
       "      <td>576851</td>\n",
       "      <td>97093</td>\n",
       "      <td>Republican</td>\n",
       "    </tr>\n",
       "  </tbody>\n",
       "</table>\n",
       "<p>50 rows × 6 columns</p>\n",
       "</div>"
      ],
      "text/plain": [
       "            State   Region Capital City  Population  Land Area       Party\n",
       "0         Alabama    South   Montgomery     5024279      50645  Republican\n",
       "1          Alaska     West       Juneau      733391     570641  Republican\n",
       "2         Arizona     West      Phoenix     7151502     113594  Republican\n",
       "3        Arkansas    South  Little Rock     3011524      52035  Republican\n",
       "4      California     West   Sacramento    39538223     155779  Democratic\n",
       "..            ...      ...          ...         ...        ...         ...\n",
       "45       Virginia    South     Richmond     8631393      39490  Democratic\n",
       "46     Washington     West      Olympia     7705281      66456  Democratic\n",
       "47  West Virginia    South   Charleston     1793716      24038  Republican\n",
       "48      Wisconsin  Midwest      Madison     5893718      54158  Republican\n",
       "49        Wyoming     West     Cheyenne      576851      97093  Republican\n",
       "\n",
       "[50 rows x 6 columns]"
      ]
     },
     "execution_count": 20,
     "metadata": {},
     "output_type": "execute_result"
    }
   ],
   "source": [
    "# Our CSV file is stored not in the same folder as our notebook, \n",
    "# but within a folder called data.\n",
    "states = bpd.read_csv('data/states.csv')\n",
    "states"
   ]
  },
  {
   "cell_type": "markdown",
   "metadata": {
    "slideshow": {
     "slide_type": "slide"
    }
   },
   "source": [
    "### About the data 🗽\n",
    "\n",
    "Most of the data is self-explanatory, but there are a few things to note:"
   ]
  },
  {
   "cell_type": "markdown",
   "metadata": {
    "slideshow": {
     "slide_type": "fragment"
    }
   },
   "source": [
    "- `'Population'` figures come from the 2020 census."
   ]
  },
  {
   "cell_type": "markdown",
   "metadata": {
    "slideshow": {
     "slide_type": "fragment"
    }
   },
   "source": [
    "- `'Land Area'` is measured in square miles."
   ]
  },
  {
   "cell_type": "markdown",
   "metadata": {
    "slideshow": {
     "slide_type": "fragment"
    }
   },
   "source": [
    "- The `'Region'` column places each state in one of four regions, as determined by the US Census Bureau.\n",
    "\n",
    "<center>\n",
    "<img src='images/regions.png' width=600>\n",
    "</center>"
   ]
  },
  {
   "cell_type": "markdown",
   "metadata": {
    "slideshow": {
     "slide_type": "fragment"
    }
   },
   "source": [
    "- The `'Party'` column classifies each state as `'Democratic'` or `'Republican'` based on a political science measurement called the Cook Partisan Voter Index. \n",
    "\n",
    "\n",
    "<center>\n",
    "<img src='images/party.png' width=600>\n",
    "(<a href=\"https://www.cookpolitical.com/cook-pvi/2022-partisan-voting-index/state-map-and-list\">source</a>)\n",
    "</center>"
   ]
  },
  {
   "cell_type": "markdown",
   "metadata": {
    "slideshow": {
     "slide_type": "slide"
    }
   },
   "source": [
    "### Structure of a DataFrame\n",
    "\n",
    "- DataFrames have *columns* and *rows*.\n",
    "    - Think of each column as an array. Columns contain data of the same type.\n",
    "- Each column has a label, e.g. `'Capital City'` and `'Land Area'`.\n",
    "    - Column labels are stored as strings.\n",
    "- Each row has a label too – these are shown in bold at the start of the row.\n",
    "    - Right now, the row labels are 0, 1, 2, and so on.\n",
    "    - Together, the row labels are called the _index_. The index is **not** a column!\n",
    "    "
   ]
  },
  {
   "cell_type": "code",
   "execution_count": 21,
   "metadata": {
    "slideshow": {
     "slide_type": "-"
    }
   },
   "outputs": [
    {
     "data": {
      "text/html": [
       "<div>\n",
       "<style scoped>\n",
       "    .dataframe tbody tr th:only-of-type {\n",
       "        vertical-align: middle;\n",
       "    }\n",
       "\n",
       "    .dataframe tbody tr th {\n",
       "        vertical-align: top;\n",
       "    }\n",
       "\n",
       "    .dataframe thead th {\n",
       "        text-align: right;\n",
       "    }\n",
       "</style>\n",
       "<table border=\"1\" class=\"dataframe\">\n",
       "  <thead>\n",
       "    <tr style=\"text-align: right;\">\n",
       "      <th></th>\n",
       "      <th>State</th>\n",
       "      <th>Region</th>\n",
       "      <th>Capital City</th>\n",
       "      <th>Population</th>\n",
       "      <th>Land Area</th>\n",
       "      <th>Party</th>\n",
       "    </tr>\n",
       "  </thead>\n",
       "  <tbody>\n",
       "    <tr>\n",
       "      <th>0</th>\n",
       "      <td>Alabama</td>\n",
       "      <td>South</td>\n",
       "      <td>Montgomery</td>\n",
       "      <td>5024279</td>\n",
       "      <td>50645</td>\n",
       "      <td>Republican</td>\n",
       "    </tr>\n",
       "    <tr>\n",
       "      <th>1</th>\n",
       "      <td>Alaska</td>\n",
       "      <td>West</td>\n",
       "      <td>Juneau</td>\n",
       "      <td>733391</td>\n",
       "      <td>570641</td>\n",
       "      <td>Republican</td>\n",
       "    </tr>\n",
       "    <tr>\n",
       "      <th>2</th>\n",
       "      <td>Arizona</td>\n",
       "      <td>West</td>\n",
       "      <td>Phoenix</td>\n",
       "      <td>7151502</td>\n",
       "      <td>113594</td>\n",
       "      <td>Republican</td>\n",
       "    </tr>\n",
       "    <tr>\n",
       "      <th>3</th>\n",
       "      <td>Arkansas</td>\n",
       "      <td>South</td>\n",
       "      <td>Little Rock</td>\n",
       "      <td>3011524</td>\n",
       "      <td>52035</td>\n",
       "      <td>Republican</td>\n",
       "    </tr>\n",
       "    <tr>\n",
       "      <th>4</th>\n",
       "      <td>California</td>\n",
       "      <td>West</td>\n",
       "      <td>Sacramento</td>\n",
       "      <td>39538223</td>\n",
       "      <td>155779</td>\n",
       "      <td>Democratic</td>\n",
       "    </tr>\n",
       "    <tr>\n",
       "      <th>...</th>\n",
       "      <td>...</td>\n",
       "      <td>...</td>\n",
       "      <td>...</td>\n",
       "      <td>...</td>\n",
       "      <td>...</td>\n",
       "      <td>...</td>\n",
       "    </tr>\n",
       "    <tr>\n",
       "      <th>45</th>\n",
       "      <td>Virginia</td>\n",
       "      <td>South</td>\n",
       "      <td>Richmond</td>\n",
       "      <td>8631393</td>\n",
       "      <td>39490</td>\n",
       "      <td>Democratic</td>\n",
       "    </tr>\n",
       "    <tr>\n",
       "      <th>46</th>\n",
       "      <td>Washington</td>\n",
       "      <td>West</td>\n",
       "      <td>Olympia</td>\n",
       "      <td>7705281</td>\n",
       "      <td>66456</td>\n",
       "      <td>Democratic</td>\n",
       "    </tr>\n",
       "    <tr>\n",
       "      <th>47</th>\n",
       "      <td>West Virginia</td>\n",
       "      <td>South</td>\n",
       "      <td>Charleston</td>\n",
       "      <td>1793716</td>\n",
       "      <td>24038</td>\n",
       "      <td>Republican</td>\n",
       "    </tr>\n",
       "    <tr>\n",
       "      <th>48</th>\n",
       "      <td>Wisconsin</td>\n",
       "      <td>Midwest</td>\n",
       "      <td>Madison</td>\n",
       "      <td>5893718</td>\n",
       "      <td>54158</td>\n",
       "      <td>Republican</td>\n",
       "    </tr>\n",
       "    <tr>\n",
       "      <th>49</th>\n",
       "      <td>Wyoming</td>\n",
       "      <td>West</td>\n",
       "      <td>Cheyenne</td>\n",
       "      <td>576851</td>\n",
       "      <td>97093</td>\n",
       "      <td>Republican</td>\n",
       "    </tr>\n",
       "  </tbody>\n",
       "</table>\n",
       "<p>50 rows × 6 columns</p>\n",
       "</div>"
      ],
      "text/plain": [
       "            State   Region Capital City  Population  Land Area       Party\n",
       "0         Alabama    South   Montgomery     5024279      50645  Republican\n",
       "1          Alaska     West       Juneau      733391     570641  Republican\n",
       "2         Arizona     West      Phoenix     7151502     113594  Republican\n",
       "3        Arkansas    South  Little Rock     3011524      52035  Republican\n",
       "4      California     West   Sacramento    39538223     155779  Democratic\n",
       "..            ...      ...          ...         ...        ...         ...\n",
       "45       Virginia    South     Richmond     8631393      39490  Democratic\n",
       "46     Washington     West      Olympia     7705281      66456  Democratic\n",
       "47  West Virginia    South   Charleston     1793716      24038  Republican\n",
       "48      Wisconsin  Midwest      Madison     5893718      54158  Republican\n",
       "49        Wyoming     West     Cheyenne      576851      97093  Republican\n",
       "\n",
       "[50 rows x 6 columns]"
      ]
     },
     "execution_count": 21,
     "metadata": {},
     "output_type": "execute_result"
    }
   ],
   "source": [
    "# This DataFrame has 50 rows and 6 columns.\n",
    "states"
   ]
  },
  {
   "cell_type": "markdown",
   "metadata": {
    "slideshow": {
     "slide_type": "slide"
    }
   },
   "source": [
    "## Example 1: Population density\n",
    "\n",
    "**Key concepts**: Accessing columns, performing calculations with them, and adding new columns."
   ]
  },
  {
   "cell_type": "markdown",
   "metadata": {
    "slideshow": {
     "slide_type": "slide"
    }
   },
   "source": [
    "### Finding population density"
   ]
  },
  {
   "cell_type": "markdown",
   "metadata": {
    "slideshow": {
     "slide_type": "fragment"
    }
   },
   "source": [
    "**Question**: What is the population density of each state, in people per square mile?"
   ]
  },
  {
   "cell_type": "code",
   "execution_count": 22,
   "metadata": {},
   "outputs": [
    {
     "data": {
      "text/html": [
       "<div>\n",
       "<style scoped>\n",
       "    .dataframe tbody tr th:only-of-type {\n",
       "        vertical-align: middle;\n",
       "    }\n",
       "\n",
       "    .dataframe tbody tr th {\n",
       "        vertical-align: top;\n",
       "    }\n",
       "\n",
       "    .dataframe thead th {\n",
       "        text-align: right;\n",
       "    }\n",
       "</style>\n",
       "<table border=\"1\" class=\"dataframe\">\n",
       "  <thead>\n",
       "    <tr style=\"text-align: right;\">\n",
       "      <th></th>\n",
       "      <th>State</th>\n",
       "      <th>Region</th>\n",
       "      <th>Capital City</th>\n",
       "      <th>Population</th>\n",
       "      <th>Land Area</th>\n",
       "      <th>Party</th>\n",
       "    </tr>\n",
       "  </thead>\n",
       "  <tbody>\n",
       "    <tr>\n",
       "      <th>0</th>\n",
       "      <td>Alabama</td>\n",
       "      <td>South</td>\n",
       "      <td>Montgomery</td>\n",
       "      <td>5024279</td>\n",
       "      <td>50645</td>\n",
       "      <td>Republican</td>\n",
       "    </tr>\n",
       "    <tr>\n",
       "      <th>1</th>\n",
       "      <td>Alaska</td>\n",
       "      <td>West</td>\n",
       "      <td>Juneau</td>\n",
       "      <td>733391</td>\n",
       "      <td>570641</td>\n",
       "      <td>Republican</td>\n",
       "    </tr>\n",
       "    <tr>\n",
       "      <th>2</th>\n",
       "      <td>Arizona</td>\n",
       "      <td>West</td>\n",
       "      <td>Phoenix</td>\n",
       "      <td>7151502</td>\n",
       "      <td>113594</td>\n",
       "      <td>Republican</td>\n",
       "    </tr>\n",
       "    <tr>\n",
       "      <th>3</th>\n",
       "      <td>Arkansas</td>\n",
       "      <td>South</td>\n",
       "      <td>Little Rock</td>\n",
       "      <td>3011524</td>\n",
       "      <td>52035</td>\n",
       "      <td>Republican</td>\n",
       "    </tr>\n",
       "    <tr>\n",
       "      <th>4</th>\n",
       "      <td>California</td>\n",
       "      <td>West</td>\n",
       "      <td>Sacramento</td>\n",
       "      <td>39538223</td>\n",
       "      <td>155779</td>\n",
       "      <td>Democratic</td>\n",
       "    </tr>\n",
       "    <tr>\n",
       "      <th>...</th>\n",
       "      <td>...</td>\n",
       "      <td>...</td>\n",
       "      <td>...</td>\n",
       "      <td>...</td>\n",
       "      <td>...</td>\n",
       "      <td>...</td>\n",
       "    </tr>\n",
       "    <tr>\n",
       "      <th>45</th>\n",
       "      <td>Virginia</td>\n",
       "      <td>South</td>\n",
       "      <td>Richmond</td>\n",
       "      <td>8631393</td>\n",
       "      <td>39490</td>\n",
       "      <td>Democratic</td>\n",
       "    </tr>\n",
       "    <tr>\n",
       "      <th>46</th>\n",
       "      <td>Washington</td>\n",
       "      <td>West</td>\n",
       "      <td>Olympia</td>\n",
       "      <td>7705281</td>\n",
       "      <td>66456</td>\n",
       "      <td>Democratic</td>\n",
       "    </tr>\n",
       "    <tr>\n",
       "      <th>47</th>\n",
       "      <td>West Virginia</td>\n",
       "      <td>South</td>\n",
       "      <td>Charleston</td>\n",
       "      <td>1793716</td>\n",
       "      <td>24038</td>\n",
       "      <td>Republican</td>\n",
       "    </tr>\n",
       "    <tr>\n",
       "      <th>48</th>\n",
       "      <td>Wisconsin</td>\n",
       "      <td>Midwest</td>\n",
       "      <td>Madison</td>\n",
       "      <td>5893718</td>\n",
       "      <td>54158</td>\n",
       "      <td>Republican</td>\n",
       "    </tr>\n",
       "    <tr>\n",
       "      <th>49</th>\n",
       "      <td>Wyoming</td>\n",
       "      <td>West</td>\n",
       "      <td>Cheyenne</td>\n",
       "      <td>576851</td>\n",
       "      <td>97093</td>\n",
       "      <td>Republican</td>\n",
       "    </tr>\n",
       "  </tbody>\n",
       "</table>\n",
       "<p>50 rows × 6 columns</p>\n",
       "</div>"
      ],
      "text/plain": [
       "            State   Region Capital City  Population  Land Area       Party\n",
       "0         Alabama    South   Montgomery     5024279      50645  Republican\n",
       "1          Alaska     West       Juneau      733391     570641  Republican\n",
       "2         Arizona     West      Phoenix     7151502     113594  Republican\n",
       "3        Arkansas    South  Little Rock     3011524      52035  Republican\n",
       "4      California     West   Sacramento    39538223     155779  Democratic\n",
       "..            ...      ...          ...         ...        ...         ...\n",
       "45       Virginia    South     Richmond     8631393      39490  Democratic\n",
       "46     Washington     West      Olympia     7705281      66456  Democratic\n",
       "47  West Virginia    South   Charleston     1793716      24038  Republican\n",
       "48      Wisconsin  Midwest      Madison     5893718      54158  Republican\n",
       "49        Wyoming     West     Cheyenne      576851      97093  Republican\n",
       "\n",
       "[50 rows x 6 columns]"
      ]
     },
     "execution_count": 22,
     "metadata": {},
     "output_type": "execute_result"
    }
   ],
   "source": [
    "states"
   ]
  },
  {
   "cell_type": "markdown",
   "metadata": {
    "slideshow": {
     "slide_type": "fragment"
    }
   },
   "source": [
    "- We have, separately, the population and land area of each state."
   ]
  },
  {
   "cell_type": "markdown",
   "metadata": {
    "slideshow": {
     "slide_type": "fragment"
    }
   },
   "source": [
    "- Steps:\n",
    "    - Get the `'Population'` column.\n",
    "    - Get the `'Land Area'` column.\n",
    "    - Divide these columns element-wise.\n",
    "    - Add a new column to the DataFrame with these results."
   ]
  },
  {
   "cell_type": "markdown",
   "metadata": {
    "slideshow": {
     "slide_type": "slide"
    }
   },
   "source": [
    "#### Step 1 – Getting the `'Population'` column\n",
    "\n",
    "- We can get a column from a DataFrame using `.get(column_name)`.\n",
    "- 🚨 Column names are case sensitive!\n",
    "- Column names are strings, so we need to use quotes.\n",
    "- The result looks like a 1-column DataFrame, but is actually a *Series*."
   ]
  },
  {
   "cell_type": "code",
   "execution_count": 23,
   "metadata": {},
   "outputs": [
    {
     "data": {
      "text/html": [
       "<div>\n",
       "<style scoped>\n",
       "    .dataframe tbody tr th:only-of-type {\n",
       "        vertical-align: middle;\n",
       "    }\n",
       "\n",
       "    .dataframe tbody tr th {\n",
       "        vertical-align: top;\n",
       "    }\n",
       "\n",
       "    .dataframe thead th {\n",
       "        text-align: right;\n",
       "    }\n",
       "</style>\n",
       "<table border=\"1\" class=\"dataframe\">\n",
       "  <thead>\n",
       "    <tr style=\"text-align: right;\">\n",
       "      <th></th>\n",
       "      <th>State</th>\n",
       "      <th>Region</th>\n",
       "      <th>Capital City</th>\n",
       "      <th>Population</th>\n",
       "      <th>Land Area</th>\n",
       "      <th>Party</th>\n",
       "    </tr>\n",
       "  </thead>\n",
       "  <tbody>\n",
       "    <tr>\n",
       "      <th>0</th>\n",
       "      <td>Alabama</td>\n",
       "      <td>South</td>\n",
       "      <td>Montgomery</td>\n",
       "      <td>5024279</td>\n",
       "      <td>50645</td>\n",
       "      <td>Republican</td>\n",
       "    </tr>\n",
       "    <tr>\n",
       "      <th>1</th>\n",
       "      <td>Alaska</td>\n",
       "      <td>West</td>\n",
       "      <td>Juneau</td>\n",
       "      <td>733391</td>\n",
       "      <td>570641</td>\n",
       "      <td>Republican</td>\n",
       "    </tr>\n",
       "    <tr>\n",
       "      <th>2</th>\n",
       "      <td>Arizona</td>\n",
       "      <td>West</td>\n",
       "      <td>Phoenix</td>\n",
       "      <td>7151502</td>\n",
       "      <td>113594</td>\n",
       "      <td>Republican</td>\n",
       "    </tr>\n",
       "    <tr>\n",
       "      <th>3</th>\n",
       "      <td>Arkansas</td>\n",
       "      <td>South</td>\n",
       "      <td>Little Rock</td>\n",
       "      <td>3011524</td>\n",
       "      <td>52035</td>\n",
       "      <td>Republican</td>\n",
       "    </tr>\n",
       "    <tr>\n",
       "      <th>4</th>\n",
       "      <td>California</td>\n",
       "      <td>West</td>\n",
       "      <td>Sacramento</td>\n",
       "      <td>39538223</td>\n",
       "      <td>155779</td>\n",
       "      <td>Democratic</td>\n",
       "    </tr>\n",
       "    <tr>\n",
       "      <th>...</th>\n",
       "      <td>...</td>\n",
       "      <td>...</td>\n",
       "      <td>...</td>\n",
       "      <td>...</td>\n",
       "      <td>...</td>\n",
       "      <td>...</td>\n",
       "    </tr>\n",
       "    <tr>\n",
       "      <th>45</th>\n",
       "      <td>Virginia</td>\n",
       "      <td>South</td>\n",
       "      <td>Richmond</td>\n",
       "      <td>8631393</td>\n",
       "      <td>39490</td>\n",
       "      <td>Democratic</td>\n",
       "    </tr>\n",
       "    <tr>\n",
       "      <th>46</th>\n",
       "      <td>Washington</td>\n",
       "      <td>West</td>\n",
       "      <td>Olympia</td>\n",
       "      <td>7705281</td>\n",
       "      <td>66456</td>\n",
       "      <td>Democratic</td>\n",
       "    </tr>\n",
       "    <tr>\n",
       "      <th>47</th>\n",
       "      <td>West Virginia</td>\n",
       "      <td>South</td>\n",
       "      <td>Charleston</td>\n",
       "      <td>1793716</td>\n",
       "      <td>24038</td>\n",
       "      <td>Republican</td>\n",
       "    </tr>\n",
       "    <tr>\n",
       "      <th>48</th>\n",
       "      <td>Wisconsin</td>\n",
       "      <td>Midwest</td>\n",
       "      <td>Madison</td>\n",
       "      <td>5893718</td>\n",
       "      <td>54158</td>\n",
       "      <td>Republican</td>\n",
       "    </tr>\n",
       "    <tr>\n",
       "      <th>49</th>\n",
       "      <td>Wyoming</td>\n",
       "      <td>West</td>\n",
       "      <td>Cheyenne</td>\n",
       "      <td>576851</td>\n",
       "      <td>97093</td>\n",
       "      <td>Republican</td>\n",
       "    </tr>\n",
       "  </tbody>\n",
       "</table>\n",
       "<p>50 rows × 6 columns</p>\n",
       "</div>"
      ],
      "text/plain": [
       "            State   Region Capital City  Population  Land Area       Party\n",
       "0         Alabama    South   Montgomery     5024279      50645  Republican\n",
       "1          Alaska     West       Juneau      733391     570641  Republican\n",
       "2         Arizona     West      Phoenix     7151502     113594  Republican\n",
       "3        Arkansas    South  Little Rock     3011524      52035  Republican\n",
       "4      California     West   Sacramento    39538223     155779  Democratic\n",
       "..            ...      ...          ...         ...        ...         ...\n",
       "45       Virginia    South     Richmond     8631393      39490  Democratic\n",
       "46     Washington     West      Olympia     7705281      66456  Democratic\n",
       "47  West Virginia    South   Charleston     1793716      24038  Republican\n",
       "48      Wisconsin  Midwest      Madison     5893718      54158  Republican\n",
       "49        Wyoming     West     Cheyenne      576851      97093  Republican\n",
       "\n",
       "[50 rows x 6 columns]"
      ]
     },
     "execution_count": 23,
     "metadata": {},
     "output_type": "execute_result"
    }
   ],
   "source": [
    "states"
   ]
  },
  {
   "cell_type": "code",
   "execution_count": 24,
   "metadata": {
    "scrolled": true
   },
   "outputs": [
    {
     "data": {
      "text/plain": [
       "0      5024279\n",
       "1       733391\n",
       "2      7151502\n",
       "3      3011524\n",
       "4     39538223\n",
       "        ...   \n",
       "45     8631393\n",
       "46     7705281\n",
       "47     1793716\n",
       "48     5893718\n",
       "49      576851\n",
       "Name: Population, Length: 50, dtype: int64"
      ]
     },
     "execution_count": 24,
     "metadata": {},
     "output_type": "execute_result"
    }
   ],
   "source": [
    "states.get('Population')"
   ]
  },
  {
   "cell_type": "markdown",
   "metadata": {
    "slideshow": {
     "slide_type": "slide"
    }
   },
   "source": [
    "### Digression: Series\n",
    "\n",
    "- A *Series* is like an array, but with an index.\n",
    "- In particular, Series support arithmetic, just like arrays."
   ]
  },
  {
   "cell_type": "code",
   "execution_count": 25,
   "metadata": {},
   "outputs": [
    {
     "data": {
      "text/plain": [
       "0      5024279\n",
       "1       733391\n",
       "2      7151502\n",
       "3      3011524\n",
       "4     39538223\n",
       "        ...   \n",
       "45     8631393\n",
       "46     7705281\n",
       "47     1793716\n",
       "48     5893718\n",
       "49      576851\n",
       "Name: Population, Length: 50, dtype: int64"
      ]
     },
     "execution_count": 25,
     "metadata": {},
     "output_type": "execute_result"
    }
   ],
   "source": [
    "states.get('Population')"
   ]
  },
  {
   "cell_type": "code",
   "execution_count": 26,
   "metadata": {},
   "outputs": [
    {
     "data": {
      "text/plain": [
       "babypandas.bpd.Series"
      ]
     },
     "execution_count": 26,
     "metadata": {},
     "output_type": "execute_result"
    }
   ],
   "source": [
    "type(states.get('Population'))"
   ]
  },
  {
   "cell_type": "markdown",
   "metadata": {
    "slideshow": {
     "slide_type": "slide"
    }
   },
   "source": [
    "#### Steps 2 and 3 – Getting the `'Land Area'` column and dividing element-wise"
   ]
  },
  {
   "cell_type": "code",
   "execution_count": 27,
   "metadata": {
    "scrolled": true
   },
   "outputs": [
    {
     "data": {
      "text/plain": [
       "0      50645\n",
       "1     570641\n",
       "2     113594\n",
       "3      52035\n",
       "4     155779\n",
       "       ...  \n",
       "45     39490\n",
       "46     66456\n",
       "47     24038\n",
       "48     54158\n",
       "49     97093\n",
       "Name: Land Area, Length: 50, dtype: int64"
      ]
     },
     "execution_count": 27,
     "metadata": {},
     "output_type": "execute_result"
    }
   ],
   "source": [
    "states.get('Land Area')"
   ]
  },
  {
   "cell_type": "markdown",
   "metadata": {
    "slideshow": {
     "slide_type": "fragment"
    }
   },
   "source": [
    "- Just like with arrays, we can perform arithmetic operations with two Series, as long as they have the same length and same index. \n",
    "- Operations happen element-wise (by matching up corresponding index values), and the result is also a Series."
   ]
  },
  {
   "cell_type": "code",
   "execution_count": 28,
   "metadata": {},
   "outputs": [
    {
     "data": {
      "text/plain": [
       "0      99.21\n",
       "1       1.29\n",
       "2      62.96\n",
       "3      57.87\n",
       "4     253.81\n",
       "       ...  \n",
       "45    218.57\n",
       "46    115.95\n",
       "47     74.62\n",
       "48    108.82\n",
       "49      5.94\n",
       "Length: 50, dtype: float64"
      ]
     },
     "execution_count": 28,
     "metadata": {},
     "output_type": "execute_result"
    }
   ],
   "source": [
    "states.get('Population') / states.get('Land Area')"
   ]
  },
  {
   "cell_type": "markdown",
   "metadata": {
    "slideshow": {
     "slide_type": "slide"
    }
   },
   "source": [
    "#### Step 4 – Adding the densities to the DataFrame as a new column\n",
    "\n",
    "- Use `.assign(name_of_column=data_in_series)` to assign a Series (or array, or list) to a DataFrame.\n",
    "- 🚨 Don't put quotes around `name_of_column`.\n",
    "- This creates a new DataFrame, which we must save to a variable if we want to keep using it."
   ]
  },
  {
   "cell_type": "code",
   "execution_count": 29,
   "metadata": {
    "scrolled": true
   },
   "outputs": [
    {
     "data": {
      "text/html": [
       "<div>\n",
       "<style scoped>\n",
       "    .dataframe tbody tr th:only-of-type {\n",
       "        vertical-align: middle;\n",
       "    }\n",
       "\n",
       "    .dataframe tbody tr th {\n",
       "        vertical-align: top;\n",
       "    }\n",
       "\n",
       "    .dataframe thead th {\n",
       "        text-align: right;\n",
       "    }\n",
       "</style>\n",
       "<table border=\"1\" class=\"dataframe\">\n",
       "  <thead>\n",
       "    <tr style=\"text-align: right;\">\n",
       "      <th></th>\n",
       "      <th>State</th>\n",
       "      <th>Region</th>\n",
       "      <th>Capital City</th>\n",
       "      <th>Population</th>\n",
       "      <th>Land Area</th>\n",
       "      <th>Party</th>\n",
       "      <th>Density</th>\n",
       "    </tr>\n",
       "  </thead>\n",
       "  <tbody>\n",
       "    <tr>\n",
       "      <th>0</th>\n",
       "      <td>Alabama</td>\n",
       "      <td>South</td>\n",
       "      <td>Montgomery</td>\n",
       "      <td>5024279</td>\n",
       "      <td>50645</td>\n",
       "      <td>Republican</td>\n",
       "      <td>99.21</td>\n",
       "    </tr>\n",
       "    <tr>\n",
       "      <th>1</th>\n",
       "      <td>Alaska</td>\n",
       "      <td>West</td>\n",
       "      <td>Juneau</td>\n",
       "      <td>733391</td>\n",
       "      <td>570641</td>\n",
       "      <td>Republican</td>\n",
       "      <td>1.29</td>\n",
       "    </tr>\n",
       "    <tr>\n",
       "      <th>2</th>\n",
       "      <td>Arizona</td>\n",
       "      <td>West</td>\n",
       "      <td>Phoenix</td>\n",
       "      <td>7151502</td>\n",
       "      <td>113594</td>\n",
       "      <td>Republican</td>\n",
       "      <td>62.96</td>\n",
       "    </tr>\n",
       "    <tr>\n",
       "      <th>3</th>\n",
       "      <td>Arkansas</td>\n",
       "      <td>South</td>\n",
       "      <td>Little Rock</td>\n",
       "      <td>3011524</td>\n",
       "      <td>52035</td>\n",
       "      <td>Republican</td>\n",
       "      <td>57.87</td>\n",
       "    </tr>\n",
       "    <tr>\n",
       "      <th>4</th>\n",
       "      <td>California</td>\n",
       "      <td>West</td>\n",
       "      <td>Sacramento</td>\n",
       "      <td>39538223</td>\n",
       "      <td>155779</td>\n",
       "      <td>Democratic</td>\n",
       "      <td>253.81</td>\n",
       "    </tr>\n",
       "    <tr>\n",
       "      <th>...</th>\n",
       "      <td>...</td>\n",
       "      <td>...</td>\n",
       "      <td>...</td>\n",
       "      <td>...</td>\n",
       "      <td>...</td>\n",
       "      <td>...</td>\n",
       "      <td>...</td>\n",
       "    </tr>\n",
       "    <tr>\n",
       "      <th>45</th>\n",
       "      <td>Virginia</td>\n",
       "      <td>South</td>\n",
       "      <td>Richmond</td>\n",
       "      <td>8631393</td>\n",
       "      <td>39490</td>\n",
       "      <td>Democratic</td>\n",
       "      <td>218.57</td>\n",
       "    </tr>\n",
       "    <tr>\n",
       "      <th>46</th>\n",
       "      <td>Washington</td>\n",
       "      <td>West</td>\n",
       "      <td>Olympia</td>\n",
       "      <td>7705281</td>\n",
       "      <td>66456</td>\n",
       "      <td>Democratic</td>\n",
       "      <td>115.95</td>\n",
       "    </tr>\n",
       "    <tr>\n",
       "      <th>47</th>\n",
       "      <td>West Virginia</td>\n",
       "      <td>South</td>\n",
       "      <td>Charleston</td>\n",
       "      <td>1793716</td>\n",
       "      <td>24038</td>\n",
       "      <td>Republican</td>\n",
       "      <td>74.62</td>\n",
       "    </tr>\n",
       "    <tr>\n",
       "      <th>48</th>\n",
       "      <td>Wisconsin</td>\n",
       "      <td>Midwest</td>\n",
       "      <td>Madison</td>\n",
       "      <td>5893718</td>\n",
       "      <td>54158</td>\n",
       "      <td>Republican</td>\n",
       "      <td>108.82</td>\n",
       "    </tr>\n",
       "    <tr>\n",
       "      <th>49</th>\n",
       "      <td>Wyoming</td>\n",
       "      <td>West</td>\n",
       "      <td>Cheyenne</td>\n",
       "      <td>576851</td>\n",
       "      <td>97093</td>\n",
       "      <td>Republican</td>\n",
       "      <td>5.94</td>\n",
       "    </tr>\n",
       "  </tbody>\n",
       "</table>\n",
       "<p>50 rows × 7 columns</p>\n",
       "</div>"
      ],
      "text/plain": [
       "            State   Region Capital City  Population  Land Area       Party  \\\n",
       "0         Alabama    South   Montgomery     5024279      50645  Republican   \n",
       "1          Alaska     West       Juneau      733391     570641  Republican   \n",
       "2         Arizona     West      Phoenix     7151502     113594  Republican   \n",
       "3        Arkansas    South  Little Rock     3011524      52035  Republican   \n",
       "4      California     West   Sacramento    39538223     155779  Democratic   \n",
       "..            ...      ...          ...         ...        ...         ...   \n",
       "45       Virginia    South     Richmond     8631393      39490  Democratic   \n",
       "46     Washington     West      Olympia     7705281      66456  Democratic   \n",
       "47  West Virginia    South   Charleston     1793716      24038  Republican   \n",
       "48      Wisconsin  Midwest      Madison     5893718      54158  Republican   \n",
       "49        Wyoming     West     Cheyenne      576851      97093  Republican   \n",
       "\n",
       "    Density  \n",
       "0     99.21  \n",
       "1      1.29  \n",
       "2     62.96  \n",
       "3     57.87  \n",
       "4    253.81  \n",
       "..      ...  \n",
       "45   218.57  \n",
       "46   115.95  \n",
       "47    74.62  \n",
       "48   108.82  \n",
       "49     5.94  \n",
       "\n",
       "[50 rows x 7 columns]"
      ]
     },
     "execution_count": 29,
     "metadata": {},
     "output_type": "execute_result"
    }
   ],
   "source": [
    "states.assign(\n",
    "    Density=states.get('Population') / states.get('Land Area')\n",
    ")"
   ]
  },
  {
   "cell_type": "code",
   "execution_count": 30,
   "metadata": {},
   "outputs": [
    {
     "data": {
      "text/html": [
       "<div>\n",
       "<style scoped>\n",
       "    .dataframe tbody tr th:only-of-type {\n",
       "        vertical-align: middle;\n",
       "    }\n",
       "\n",
       "    .dataframe tbody tr th {\n",
       "        vertical-align: top;\n",
       "    }\n",
       "\n",
       "    .dataframe thead th {\n",
       "        text-align: right;\n",
       "    }\n",
       "</style>\n",
       "<table border=\"1\" class=\"dataframe\">\n",
       "  <thead>\n",
       "    <tr style=\"text-align: right;\">\n",
       "      <th></th>\n",
       "      <th>State</th>\n",
       "      <th>Region</th>\n",
       "      <th>Capital City</th>\n",
       "      <th>Population</th>\n",
       "      <th>Land Area</th>\n",
       "      <th>Party</th>\n",
       "    </tr>\n",
       "  </thead>\n",
       "  <tbody>\n",
       "    <tr>\n",
       "      <th>0</th>\n",
       "      <td>Alabama</td>\n",
       "      <td>South</td>\n",
       "      <td>Montgomery</td>\n",
       "      <td>5024279</td>\n",
       "      <td>50645</td>\n",
       "      <td>Republican</td>\n",
       "    </tr>\n",
       "    <tr>\n",
       "      <th>1</th>\n",
       "      <td>Alaska</td>\n",
       "      <td>West</td>\n",
       "      <td>Juneau</td>\n",
       "      <td>733391</td>\n",
       "      <td>570641</td>\n",
       "      <td>Republican</td>\n",
       "    </tr>\n",
       "    <tr>\n",
       "      <th>2</th>\n",
       "      <td>Arizona</td>\n",
       "      <td>West</td>\n",
       "      <td>Phoenix</td>\n",
       "      <td>7151502</td>\n",
       "      <td>113594</td>\n",
       "      <td>Republican</td>\n",
       "    </tr>\n",
       "    <tr>\n",
       "      <th>3</th>\n",
       "      <td>Arkansas</td>\n",
       "      <td>South</td>\n",
       "      <td>Little Rock</td>\n",
       "      <td>3011524</td>\n",
       "      <td>52035</td>\n",
       "      <td>Republican</td>\n",
       "    </tr>\n",
       "    <tr>\n",
       "      <th>4</th>\n",
       "      <td>California</td>\n",
       "      <td>West</td>\n",
       "      <td>Sacramento</td>\n",
       "      <td>39538223</td>\n",
       "      <td>155779</td>\n",
       "      <td>Democratic</td>\n",
       "    </tr>\n",
       "    <tr>\n",
       "      <th>...</th>\n",
       "      <td>...</td>\n",
       "      <td>...</td>\n",
       "      <td>...</td>\n",
       "      <td>...</td>\n",
       "      <td>...</td>\n",
       "      <td>...</td>\n",
       "    </tr>\n",
       "    <tr>\n",
       "      <th>45</th>\n",
       "      <td>Virginia</td>\n",
       "      <td>South</td>\n",
       "      <td>Richmond</td>\n",
       "      <td>8631393</td>\n",
       "      <td>39490</td>\n",
       "      <td>Democratic</td>\n",
       "    </tr>\n",
       "    <tr>\n",
       "      <th>46</th>\n",
       "      <td>Washington</td>\n",
       "      <td>West</td>\n",
       "      <td>Olympia</td>\n",
       "      <td>7705281</td>\n",
       "      <td>66456</td>\n",
       "      <td>Democratic</td>\n",
       "    </tr>\n",
       "    <tr>\n",
       "      <th>47</th>\n",
       "      <td>West Virginia</td>\n",
       "      <td>South</td>\n",
       "      <td>Charleston</td>\n",
       "      <td>1793716</td>\n",
       "      <td>24038</td>\n",
       "      <td>Republican</td>\n",
       "    </tr>\n",
       "    <tr>\n",
       "      <th>48</th>\n",
       "      <td>Wisconsin</td>\n",
       "      <td>Midwest</td>\n",
       "      <td>Madison</td>\n",
       "      <td>5893718</td>\n",
       "      <td>54158</td>\n",
       "      <td>Republican</td>\n",
       "    </tr>\n",
       "    <tr>\n",
       "      <th>49</th>\n",
       "      <td>Wyoming</td>\n",
       "      <td>West</td>\n",
       "      <td>Cheyenne</td>\n",
       "      <td>576851</td>\n",
       "      <td>97093</td>\n",
       "      <td>Republican</td>\n",
       "    </tr>\n",
       "  </tbody>\n",
       "</table>\n",
       "<p>50 rows × 6 columns</p>\n",
       "</div>"
      ],
      "text/plain": [
       "            State   Region Capital City  Population  Land Area       Party\n",
       "0         Alabama    South   Montgomery     5024279      50645  Republican\n",
       "1          Alaska     West       Juneau      733391     570641  Republican\n",
       "2         Arizona     West      Phoenix     7151502     113594  Republican\n",
       "3        Arkansas    South  Little Rock     3011524      52035  Republican\n",
       "4      California     West   Sacramento    39538223     155779  Democratic\n",
       "..            ...      ...          ...         ...        ...         ...\n",
       "45       Virginia    South     Richmond     8631393      39490  Democratic\n",
       "46     Washington     West      Olympia     7705281      66456  Democratic\n",
       "47  West Virginia    South   Charleston     1793716      24038  Republican\n",
       "48      Wisconsin  Midwest      Madison     5893718      54158  Republican\n",
       "49        Wyoming     West     Cheyenne      576851      97093  Republican\n",
       "\n",
       "[50 rows x 6 columns]"
      ]
     },
     "execution_count": 30,
     "metadata": {},
     "output_type": "execute_result"
    }
   ],
   "source": [
    "states"
   ]
  },
  {
   "cell_type": "code",
   "execution_count": 31,
   "metadata": {
    "slideshow": {
     "slide_type": "-"
    }
   },
   "outputs": [
    {
     "data": {
      "text/html": [
       "<div>\n",
       "<style scoped>\n",
       "    .dataframe tbody tr th:only-of-type {\n",
       "        vertical-align: middle;\n",
       "    }\n",
       "\n",
       "    .dataframe tbody tr th {\n",
       "        vertical-align: top;\n",
       "    }\n",
       "\n",
       "    .dataframe thead th {\n",
       "        text-align: right;\n",
       "    }\n",
       "</style>\n",
       "<table border=\"1\" class=\"dataframe\">\n",
       "  <thead>\n",
       "    <tr style=\"text-align: right;\">\n",
       "      <th></th>\n",
       "      <th>State</th>\n",
       "      <th>Region</th>\n",
       "      <th>Capital City</th>\n",
       "      <th>Population</th>\n",
       "      <th>Land Area</th>\n",
       "      <th>Party</th>\n",
       "      <th>Density</th>\n",
       "    </tr>\n",
       "  </thead>\n",
       "  <tbody>\n",
       "    <tr>\n",
       "      <th>0</th>\n",
       "      <td>Alabama</td>\n",
       "      <td>South</td>\n",
       "      <td>Montgomery</td>\n",
       "      <td>5024279</td>\n",
       "      <td>50645</td>\n",
       "      <td>Republican</td>\n",
       "      <td>99.21</td>\n",
       "    </tr>\n",
       "    <tr>\n",
       "      <th>1</th>\n",
       "      <td>Alaska</td>\n",
       "      <td>West</td>\n",
       "      <td>Juneau</td>\n",
       "      <td>733391</td>\n",
       "      <td>570641</td>\n",
       "      <td>Republican</td>\n",
       "      <td>1.29</td>\n",
       "    </tr>\n",
       "    <tr>\n",
       "      <th>2</th>\n",
       "      <td>Arizona</td>\n",
       "      <td>West</td>\n",
       "      <td>Phoenix</td>\n",
       "      <td>7151502</td>\n",
       "      <td>113594</td>\n",
       "      <td>Republican</td>\n",
       "      <td>62.96</td>\n",
       "    </tr>\n",
       "    <tr>\n",
       "      <th>3</th>\n",
       "      <td>Arkansas</td>\n",
       "      <td>South</td>\n",
       "      <td>Little Rock</td>\n",
       "      <td>3011524</td>\n",
       "      <td>52035</td>\n",
       "      <td>Republican</td>\n",
       "      <td>57.87</td>\n",
       "    </tr>\n",
       "    <tr>\n",
       "      <th>4</th>\n",
       "      <td>California</td>\n",
       "      <td>West</td>\n",
       "      <td>Sacramento</td>\n",
       "      <td>39538223</td>\n",
       "      <td>155779</td>\n",
       "      <td>Democratic</td>\n",
       "      <td>253.81</td>\n",
       "    </tr>\n",
       "    <tr>\n",
       "      <th>...</th>\n",
       "      <td>...</td>\n",
       "      <td>...</td>\n",
       "      <td>...</td>\n",
       "      <td>...</td>\n",
       "      <td>...</td>\n",
       "      <td>...</td>\n",
       "      <td>...</td>\n",
       "    </tr>\n",
       "    <tr>\n",
       "      <th>45</th>\n",
       "      <td>Virginia</td>\n",
       "      <td>South</td>\n",
       "      <td>Richmond</td>\n",
       "      <td>8631393</td>\n",
       "      <td>39490</td>\n",
       "      <td>Democratic</td>\n",
       "      <td>218.57</td>\n",
       "    </tr>\n",
       "    <tr>\n",
       "      <th>46</th>\n",
       "      <td>Washington</td>\n",
       "      <td>West</td>\n",
       "      <td>Olympia</td>\n",
       "      <td>7705281</td>\n",
       "      <td>66456</td>\n",
       "      <td>Democratic</td>\n",
       "      <td>115.95</td>\n",
       "    </tr>\n",
       "    <tr>\n",
       "      <th>47</th>\n",
       "      <td>West Virginia</td>\n",
       "      <td>South</td>\n",
       "      <td>Charleston</td>\n",
       "      <td>1793716</td>\n",
       "      <td>24038</td>\n",
       "      <td>Republican</td>\n",
       "      <td>74.62</td>\n",
       "    </tr>\n",
       "    <tr>\n",
       "      <th>48</th>\n",
       "      <td>Wisconsin</td>\n",
       "      <td>Midwest</td>\n",
       "      <td>Madison</td>\n",
       "      <td>5893718</td>\n",
       "      <td>54158</td>\n",
       "      <td>Republican</td>\n",
       "      <td>108.82</td>\n",
       "    </tr>\n",
       "    <tr>\n",
       "      <th>49</th>\n",
       "      <td>Wyoming</td>\n",
       "      <td>West</td>\n",
       "      <td>Cheyenne</td>\n",
       "      <td>576851</td>\n",
       "      <td>97093</td>\n",
       "      <td>Republican</td>\n",
       "      <td>5.94</td>\n",
       "    </tr>\n",
       "  </tbody>\n",
       "</table>\n",
       "<p>50 rows × 7 columns</p>\n",
       "</div>"
      ],
      "text/plain": [
       "            State   Region Capital City  Population  Land Area       Party  \\\n",
       "0         Alabama    South   Montgomery     5024279      50645  Republican   \n",
       "1          Alaska     West       Juneau      733391     570641  Republican   \n",
       "2         Arizona     West      Phoenix     7151502     113594  Republican   \n",
       "3        Arkansas    South  Little Rock     3011524      52035  Republican   \n",
       "4      California     West   Sacramento    39538223     155779  Democratic   \n",
       "..            ...      ...          ...         ...        ...         ...   \n",
       "45       Virginia    South     Richmond     8631393      39490  Democratic   \n",
       "46     Washington     West      Olympia     7705281      66456  Democratic   \n",
       "47  West Virginia    South   Charleston     1793716      24038  Republican   \n",
       "48      Wisconsin  Midwest      Madison     5893718      54158  Republican   \n",
       "49        Wyoming     West     Cheyenne      576851      97093  Republican   \n",
       "\n",
       "    Density  \n",
       "0     99.21  \n",
       "1      1.29  \n",
       "2     62.96  \n",
       "3     57.87  \n",
       "4    253.81  \n",
       "..      ...  \n",
       "45   218.57  \n",
       "46   115.95  \n",
       "47    74.62  \n",
       "48   108.82  \n",
       "49     5.94  \n",
       "\n",
       "[50 rows x 7 columns]"
      ]
     },
     "execution_count": 31,
     "metadata": {},
     "output_type": "execute_result"
    }
   ],
   "source": [
    "states = states.assign(\n",
    "    Density=states.get('Population') / states.get('Land Area')\n",
    ")\n",
    "states"
   ]
  },
  {
   "cell_type": "markdown",
   "metadata": {
    "slideshow": {
     "slide_type": "slide"
    }
   },
   "source": [
    "## Example 2: Exploring population density\n",
    "**Key concept**: Computing statistics of columns using Series methods."
   ]
  },
  {
   "cell_type": "markdown",
   "metadata": {
    "slideshow": {
     "slide_type": "slide"
    }
   },
   "source": [
    "### Questions\n",
    "\n",
    "- What is the highest population density of any one state? \n",
    "- What is the average population density across all states?\n",
    "\n",
    "Series, like arrays, have helpful methods, including `.min()`, `.max()`, and `.mean()`."
   ]
  },
  {
   "cell_type": "code",
   "execution_count": 32,
   "metadata": {},
   "outputs": [
    {
     "data": {
      "text/plain": [
       "1263.1212945335872"
      ]
     },
     "execution_count": 32,
     "metadata": {},
     "output_type": "execute_result"
    }
   ],
   "source": [
    "states.get('Density').max()"
   ]
  },
  {
   "cell_type": "markdown",
   "metadata": {
    "slideshow": {
     "slide_type": "fragment"
    }
   },
   "source": [
    "What state does this correspond to? We'll see how to find out shortly!"
   ]
  },
  {
   "cell_type": "markdown",
   "metadata": {
    "slideshow": {
     "slide_type": "slide"
    }
   },
   "source": [
    "Other statistics:"
   ]
  },
  {
   "cell_type": "code",
   "execution_count": 33,
   "metadata": {},
   "outputs": [
    {
     "data": {
      "text/plain": [
       "1.2852055845969708"
      ]
     },
     "execution_count": 33,
     "metadata": {},
     "output_type": "execute_result"
    }
   ],
   "source": [
    "states.get('Density').min()"
   ]
  },
  {
   "cell_type": "code",
   "execution_count": 34,
   "metadata": {
    "slideshow": {
     "slide_type": "-"
    }
   },
   "outputs": [
    {
     "data": {
      "text/plain": [
       "206.54513507096468"
      ]
     },
     "execution_count": 34,
     "metadata": {},
     "output_type": "execute_result"
    }
   ],
   "source": [
    "states.get('Density').mean()"
   ]
  },
  {
   "cell_type": "code",
   "execution_count": 35,
   "metadata": {},
   "outputs": [
    {
     "data": {
      "text/plain": [
       "108.31649013462203"
      ]
     },
     "execution_count": 35,
     "metadata": {},
     "output_type": "execute_result"
    }
   ],
   "source": [
    "states.get('Density').median()"
   ]
  },
  {
   "cell_type": "code",
   "execution_count": 36,
   "metadata": {},
   "outputs": [
    {
     "data": {
      "text/plain": [
       "count      50.00\n",
       "mean      206.55\n",
       "std       274.93\n",
       "min         1.29\n",
       "25%        47.06\n",
       "50%       108.32\n",
       "75%       224.57\n",
       "max      1263.12\n",
       "Name: Density, dtype: float64"
      ]
     },
     "execution_count": 36,
     "metadata": {},
     "output_type": "execute_result"
    }
   ],
   "source": [
    "# Lots of information at once!\n",
    "states.get('Density').describe()"
   ]
  },
  {
   "cell_type": "markdown",
   "metadata": {
    "slideshow": {
     "slide_type": "slide"
    }
   },
   "source": [
    "## Example 3: *Which* state has the highest population density?\n",
    "\n",
    "**Key concepts**: Sorting. Accessing using integer positions."
   ]
  },
  {
   "cell_type": "markdown",
   "metadata": {
    "slideshow": {
     "slide_type": "slide"
    }
   },
   "source": [
    "#### Step 1  – Sorting the DataFrame\n",
    "\n",
    "- Use the `.sort_values(by=column_name)` method to sort.\n",
    "    - The `by=` can be omitted, but helps with readability.\n",
    "- Like most DataFrame methods, this returns a new DataFrame."
   ]
  },
  {
   "cell_type": "code",
   "execution_count": 37,
   "metadata": {},
   "outputs": [
    {
     "data": {
      "text/html": [
       "<div>\n",
       "<style scoped>\n",
       "    .dataframe tbody tr th:only-of-type {\n",
       "        vertical-align: middle;\n",
       "    }\n",
       "\n",
       "    .dataframe tbody tr th {\n",
       "        vertical-align: top;\n",
       "    }\n",
       "\n",
       "    .dataframe thead th {\n",
       "        text-align: right;\n",
       "    }\n",
       "</style>\n",
       "<table border=\"1\" class=\"dataframe\">\n",
       "  <thead>\n",
       "    <tr style=\"text-align: right;\">\n",
       "      <th></th>\n",
       "      <th>State</th>\n",
       "      <th>Region</th>\n",
       "      <th>Capital City</th>\n",
       "      <th>Population</th>\n",
       "      <th>Land Area</th>\n",
       "      <th>Party</th>\n",
       "      <th>Density</th>\n",
       "    </tr>\n",
       "  </thead>\n",
       "  <tbody>\n",
       "    <tr>\n",
       "      <th>1</th>\n",
       "      <td>Alaska</td>\n",
       "      <td>West</td>\n",
       "      <td>Juneau</td>\n",
       "      <td>733391</td>\n",
       "      <td>570641</td>\n",
       "      <td>Republican</td>\n",
       "      <td>1.29</td>\n",
       "    </tr>\n",
       "    <tr>\n",
       "      <th>49</th>\n",
       "      <td>Wyoming</td>\n",
       "      <td>West</td>\n",
       "      <td>Cheyenne</td>\n",
       "      <td>576851</td>\n",
       "      <td>97093</td>\n",
       "      <td>Republican</td>\n",
       "      <td>5.94</td>\n",
       "    </tr>\n",
       "    <tr>\n",
       "      <th>25</th>\n",
       "      <td>Montana</td>\n",
       "      <td>West</td>\n",
       "      <td>Helena</td>\n",
       "      <td>1084225</td>\n",
       "      <td>145546</td>\n",
       "      <td>Republican</td>\n",
       "      <td>7.45</td>\n",
       "    </tr>\n",
       "    <tr>\n",
       "      <th>33</th>\n",
       "      <td>North Dakota</td>\n",
       "      <td>Midwest</td>\n",
       "      <td>Bismarck</td>\n",
       "      <td>779094</td>\n",
       "      <td>69001</td>\n",
       "      <td>Republican</td>\n",
       "      <td>11.29</td>\n",
       "    </tr>\n",
       "    <tr>\n",
       "      <th>40</th>\n",
       "      <td>South Dakota</td>\n",
       "      <td>Midwest</td>\n",
       "      <td>Pierre</td>\n",
       "      <td>886667</td>\n",
       "      <td>75811</td>\n",
       "      <td>Republican</td>\n",
       "      <td>11.70</td>\n",
       "    </tr>\n",
       "    <tr>\n",
       "      <th>...</th>\n",
       "      <td>...</td>\n",
       "      <td>...</td>\n",
       "      <td>...</td>\n",
       "      <td>...</td>\n",
       "      <td>...</td>\n",
       "      <td>...</td>\n",
       "      <td>...</td>\n",
       "    </tr>\n",
       "    <tr>\n",
       "      <th>19</th>\n",
       "      <td>Maryland</td>\n",
       "      <td>South</td>\n",
       "      <td>Annapolis</td>\n",
       "      <td>6177224</td>\n",
       "      <td>9707</td>\n",
       "      <td>Democratic</td>\n",
       "      <td>636.37</td>\n",
       "    </tr>\n",
       "    <tr>\n",
       "      <th>6</th>\n",
       "      <td>Connecticut</td>\n",
       "      <td>Northeast</td>\n",
       "      <td>Hartford</td>\n",
       "      <td>3605944</td>\n",
       "      <td>4842</td>\n",
       "      <td>Democratic</td>\n",
       "      <td>744.72</td>\n",
       "    </tr>\n",
       "    <tr>\n",
       "      <th>20</th>\n",
       "      <td>Massachusetts</td>\n",
       "      <td>Northeast</td>\n",
       "      <td>Boston</td>\n",
       "      <td>7029917</td>\n",
       "      <td>7800</td>\n",
       "      <td>Democratic</td>\n",
       "      <td>901.27</td>\n",
       "    </tr>\n",
       "    <tr>\n",
       "      <th>38</th>\n",
       "      <td>Rhode Island</td>\n",
       "      <td>Northeast</td>\n",
       "      <td>Providence</td>\n",
       "      <td>1097379</td>\n",
       "      <td>1034</td>\n",
       "      <td>Democratic</td>\n",
       "      <td>1061.29</td>\n",
       "    </tr>\n",
       "    <tr>\n",
       "      <th>29</th>\n",
       "      <td>New Jersey</td>\n",
       "      <td>Northeast</td>\n",
       "      <td>Trenton</td>\n",
       "      <td>9288994</td>\n",
       "      <td>7354</td>\n",
       "      <td>Democratic</td>\n",
       "      <td>1263.12</td>\n",
       "    </tr>\n",
       "  </tbody>\n",
       "</table>\n",
       "<p>50 rows × 7 columns</p>\n",
       "</div>"
      ],
      "text/plain": [
       "            State     Region Capital City  Population  Land Area       Party  \\\n",
       "1          Alaska       West       Juneau      733391     570641  Republican   \n",
       "49        Wyoming       West     Cheyenne      576851      97093  Republican   \n",
       "25        Montana       West       Helena     1084225     145546  Republican   \n",
       "33   North Dakota    Midwest     Bismarck      779094      69001  Republican   \n",
       "40   South Dakota    Midwest       Pierre      886667      75811  Republican   \n",
       "..            ...        ...          ...         ...        ...         ...   \n",
       "19       Maryland      South    Annapolis     6177224       9707  Democratic   \n",
       "6     Connecticut  Northeast     Hartford     3605944       4842  Democratic   \n",
       "20  Massachusetts  Northeast       Boston     7029917       7800  Democratic   \n",
       "38   Rhode Island  Northeast   Providence     1097379       1034  Democratic   \n",
       "29     New Jersey  Northeast      Trenton     9288994       7354  Democratic   \n",
       "\n",
       "    Density  \n",
       "1      1.29  \n",
       "49     5.94  \n",
       "25     7.45  \n",
       "33    11.29  \n",
       "40    11.70  \n",
       "..      ...  \n",
       "19   636.37  \n",
       "6    744.72  \n",
       "20   901.27  \n",
       "38  1061.29  \n",
       "29  1263.12  \n",
       "\n",
       "[50 rows x 7 columns]"
      ]
     },
     "execution_count": 37,
     "metadata": {},
     "output_type": "execute_result"
    }
   ],
   "source": [
    "states.sort_values(by='Density')"
   ]
  },
  {
   "cell_type": "markdown",
   "metadata": {
    "slideshow": {
     "slide_type": "fragment"
    }
   },
   "source": [
    "This sorts, but in ascending order (small to large). The opposite would be nice!"
   ]
  },
  {
   "cell_type": "markdown",
   "metadata": {
    "slideshow": {
     "slide_type": "slide"
    }
   },
   "source": [
    "#### Step 1 – Sorting the DataFrame in *descending* order\n",
    "\n",
    "- Use `.sort_values(by=column_name, ascending=False)` to sort in *descending* order.\n",
    "- `ascending` is an optional argument. If omitted, it will be set to `True` by default.\n",
    "    - This is an example of a *keyword argument*, or a *named argument*.\n",
    "    - If we want to specify the sorting order, we **must** use the keyword `ascending=`."
   ]
  },
  {
   "cell_type": "code",
   "execution_count": 38,
   "metadata": {},
   "outputs": [
    {
     "data": {
      "text/html": [
       "<div>\n",
       "<style scoped>\n",
       "    .dataframe tbody tr th:only-of-type {\n",
       "        vertical-align: middle;\n",
       "    }\n",
       "\n",
       "    .dataframe tbody tr th {\n",
       "        vertical-align: top;\n",
       "    }\n",
       "\n",
       "    .dataframe thead th {\n",
       "        text-align: right;\n",
       "    }\n",
       "</style>\n",
       "<table border=\"1\" class=\"dataframe\">\n",
       "  <thead>\n",
       "    <tr style=\"text-align: right;\">\n",
       "      <th></th>\n",
       "      <th>State</th>\n",
       "      <th>Region</th>\n",
       "      <th>Capital City</th>\n",
       "      <th>Population</th>\n",
       "      <th>Land Area</th>\n",
       "      <th>Party</th>\n",
       "      <th>Density</th>\n",
       "    </tr>\n",
       "  </thead>\n",
       "  <tbody>\n",
       "    <tr>\n",
       "      <th>29</th>\n",
       "      <td>New Jersey</td>\n",
       "      <td>Northeast</td>\n",
       "      <td>Trenton</td>\n",
       "      <td>9288994</td>\n",
       "      <td>7354</td>\n",
       "      <td>Democratic</td>\n",
       "      <td>1263.12</td>\n",
       "    </tr>\n",
       "    <tr>\n",
       "      <th>38</th>\n",
       "      <td>Rhode Island</td>\n",
       "      <td>Northeast</td>\n",
       "      <td>Providence</td>\n",
       "      <td>1097379</td>\n",
       "      <td>1034</td>\n",
       "      <td>Democratic</td>\n",
       "      <td>1061.29</td>\n",
       "    </tr>\n",
       "    <tr>\n",
       "      <th>20</th>\n",
       "      <td>Massachusetts</td>\n",
       "      <td>Northeast</td>\n",
       "      <td>Boston</td>\n",
       "      <td>7029917</td>\n",
       "      <td>7800</td>\n",
       "      <td>Democratic</td>\n",
       "      <td>901.27</td>\n",
       "    </tr>\n",
       "    <tr>\n",
       "      <th>6</th>\n",
       "      <td>Connecticut</td>\n",
       "      <td>Northeast</td>\n",
       "      <td>Hartford</td>\n",
       "      <td>3605944</td>\n",
       "      <td>4842</td>\n",
       "      <td>Democratic</td>\n",
       "      <td>744.72</td>\n",
       "    </tr>\n",
       "    <tr>\n",
       "      <th>19</th>\n",
       "      <td>Maryland</td>\n",
       "      <td>South</td>\n",
       "      <td>Annapolis</td>\n",
       "      <td>6177224</td>\n",
       "      <td>9707</td>\n",
       "      <td>Democratic</td>\n",
       "      <td>636.37</td>\n",
       "    </tr>\n",
       "    <tr>\n",
       "      <th>...</th>\n",
       "      <td>...</td>\n",
       "      <td>...</td>\n",
       "      <td>...</td>\n",
       "      <td>...</td>\n",
       "      <td>...</td>\n",
       "      <td>...</td>\n",
       "      <td>...</td>\n",
       "    </tr>\n",
       "    <tr>\n",
       "      <th>40</th>\n",
       "      <td>South Dakota</td>\n",
       "      <td>Midwest</td>\n",
       "      <td>Pierre</td>\n",
       "      <td>886667</td>\n",
       "      <td>75811</td>\n",
       "      <td>Republican</td>\n",
       "      <td>11.70</td>\n",
       "    </tr>\n",
       "    <tr>\n",
       "      <th>33</th>\n",
       "      <td>North Dakota</td>\n",
       "      <td>Midwest</td>\n",
       "      <td>Bismarck</td>\n",
       "      <td>779094</td>\n",
       "      <td>69001</td>\n",
       "      <td>Republican</td>\n",
       "      <td>11.29</td>\n",
       "    </tr>\n",
       "    <tr>\n",
       "      <th>25</th>\n",
       "      <td>Montana</td>\n",
       "      <td>West</td>\n",
       "      <td>Helena</td>\n",
       "      <td>1084225</td>\n",
       "      <td>145546</td>\n",
       "      <td>Republican</td>\n",
       "      <td>7.45</td>\n",
       "    </tr>\n",
       "    <tr>\n",
       "      <th>49</th>\n",
       "      <td>Wyoming</td>\n",
       "      <td>West</td>\n",
       "      <td>Cheyenne</td>\n",
       "      <td>576851</td>\n",
       "      <td>97093</td>\n",
       "      <td>Republican</td>\n",
       "      <td>5.94</td>\n",
       "    </tr>\n",
       "    <tr>\n",
       "      <th>1</th>\n",
       "      <td>Alaska</td>\n",
       "      <td>West</td>\n",
       "      <td>Juneau</td>\n",
       "      <td>733391</td>\n",
       "      <td>570641</td>\n",
       "      <td>Republican</td>\n",
       "      <td>1.29</td>\n",
       "    </tr>\n",
       "  </tbody>\n",
       "</table>\n",
       "<p>50 rows × 7 columns</p>\n",
       "</div>"
      ],
      "text/plain": [
       "            State     Region Capital City  Population  Land Area       Party  \\\n",
       "29     New Jersey  Northeast      Trenton     9288994       7354  Democratic   \n",
       "38   Rhode Island  Northeast   Providence     1097379       1034  Democratic   \n",
       "20  Massachusetts  Northeast       Boston     7029917       7800  Democratic   \n",
       "6     Connecticut  Northeast     Hartford     3605944       4842  Democratic   \n",
       "19       Maryland      South    Annapolis     6177224       9707  Democratic   \n",
       "..            ...        ...          ...         ...        ...         ...   \n",
       "40   South Dakota    Midwest       Pierre      886667      75811  Republican   \n",
       "33   North Dakota    Midwest     Bismarck      779094      69001  Republican   \n",
       "25        Montana       West       Helena     1084225     145546  Republican   \n",
       "49        Wyoming       West     Cheyenne      576851      97093  Republican   \n",
       "1          Alaska       West       Juneau      733391     570641  Republican   \n",
       "\n",
       "    Density  \n",
       "29  1263.12  \n",
       "38  1061.29  \n",
       "20   901.27  \n",
       "6    744.72  \n",
       "19   636.37  \n",
       "..      ...  \n",
       "40    11.70  \n",
       "33    11.29  \n",
       "25     7.45  \n",
       "49     5.94  \n",
       "1      1.29  \n",
       "\n",
       "[50 rows x 7 columns]"
      ]
     },
     "execution_count": 38,
     "metadata": {},
     "output_type": "execute_result"
    }
   ],
   "source": [
    "ordered_states = states.sort_values(by='Density', ascending=False)\n",
    "ordered_states"
   ]
  },
  {
   "cell_type": "code",
   "execution_count": 39,
   "metadata": {},
   "outputs": [
    {
     "ename": "SyntaxError",
     "evalue": "positional argument follows keyword argument (2563070448.py, line 3)",
     "output_type": "error",
     "traceback": [
      "\u001b[0;36m  Cell \u001b[0;32mIn[39], line 3\u001b[0;36m\u001b[0m\n\u001b[0;31m    states.sort_values(by='Density', False)\u001b[0m\n\u001b[0m                                          ^\u001b[0m\n\u001b[0;31mSyntaxError\u001b[0m\u001b[0;31m:\u001b[0m positional argument follows keyword argument\n"
     ]
    }
   ],
   "source": [
    "# We must specify the role of False by using ascending=, \n",
    "# otherwise Python does not know how to interpret this.\n",
    "states.sort_values(by='Density', False)"
   ]
  },
  {
   "cell_type": "markdown",
   "metadata": {
    "slideshow": {
     "slide_type": "slide"
    }
   },
   "source": [
    "#### Step 2 – Extracting the state name\n",
    "\n",
    "- We saw that the most densely populated state is New Jersey, but how do we extract that information using code?\n",
    "- First, grab an entire column as a Series.\n",
    "- Navigate to a particular entry of the Series using `.iloc[integer_position]`.\n",
    "    - `iloc` stands for \"integer location\" and is used to count the rows, starting at 0."
   ]
  },
  {
   "cell_type": "code",
   "execution_count": 40,
   "metadata": {},
   "outputs": [
    {
     "data": {
      "text/html": [
       "<div>\n",
       "<style scoped>\n",
       "    .dataframe tbody tr th:only-of-type {\n",
       "        vertical-align: middle;\n",
       "    }\n",
       "\n",
       "    .dataframe tbody tr th {\n",
       "        vertical-align: top;\n",
       "    }\n",
       "\n",
       "    .dataframe thead th {\n",
       "        text-align: right;\n",
       "    }\n",
       "</style>\n",
       "<table border=\"1\" class=\"dataframe\">\n",
       "  <thead>\n",
       "    <tr style=\"text-align: right;\">\n",
       "      <th></th>\n",
       "      <th>State</th>\n",
       "      <th>Region</th>\n",
       "      <th>Capital City</th>\n",
       "      <th>Population</th>\n",
       "      <th>Land Area</th>\n",
       "      <th>Party</th>\n",
       "      <th>Density</th>\n",
       "    </tr>\n",
       "  </thead>\n",
       "  <tbody>\n",
       "    <tr>\n",
       "      <th>29</th>\n",
       "      <td>New Jersey</td>\n",
       "      <td>Northeast</td>\n",
       "      <td>Trenton</td>\n",
       "      <td>9288994</td>\n",
       "      <td>7354</td>\n",
       "      <td>Democratic</td>\n",
       "      <td>1263.12</td>\n",
       "    </tr>\n",
       "    <tr>\n",
       "      <th>38</th>\n",
       "      <td>Rhode Island</td>\n",
       "      <td>Northeast</td>\n",
       "      <td>Providence</td>\n",
       "      <td>1097379</td>\n",
       "      <td>1034</td>\n",
       "      <td>Democratic</td>\n",
       "      <td>1061.29</td>\n",
       "    </tr>\n",
       "    <tr>\n",
       "      <th>20</th>\n",
       "      <td>Massachusetts</td>\n",
       "      <td>Northeast</td>\n",
       "      <td>Boston</td>\n",
       "      <td>7029917</td>\n",
       "      <td>7800</td>\n",
       "      <td>Democratic</td>\n",
       "      <td>901.27</td>\n",
       "    </tr>\n",
       "    <tr>\n",
       "      <th>6</th>\n",
       "      <td>Connecticut</td>\n",
       "      <td>Northeast</td>\n",
       "      <td>Hartford</td>\n",
       "      <td>3605944</td>\n",
       "      <td>4842</td>\n",
       "      <td>Democratic</td>\n",
       "      <td>744.72</td>\n",
       "    </tr>\n",
       "    <tr>\n",
       "      <th>19</th>\n",
       "      <td>Maryland</td>\n",
       "      <td>South</td>\n",
       "      <td>Annapolis</td>\n",
       "      <td>6177224</td>\n",
       "      <td>9707</td>\n",
       "      <td>Democratic</td>\n",
       "      <td>636.37</td>\n",
       "    </tr>\n",
       "    <tr>\n",
       "      <th>...</th>\n",
       "      <td>...</td>\n",
       "      <td>...</td>\n",
       "      <td>...</td>\n",
       "      <td>...</td>\n",
       "      <td>...</td>\n",
       "      <td>...</td>\n",
       "      <td>...</td>\n",
       "    </tr>\n",
       "    <tr>\n",
       "      <th>40</th>\n",
       "      <td>South Dakota</td>\n",
       "      <td>Midwest</td>\n",
       "      <td>Pierre</td>\n",
       "      <td>886667</td>\n",
       "      <td>75811</td>\n",
       "      <td>Republican</td>\n",
       "      <td>11.70</td>\n",
       "    </tr>\n",
       "    <tr>\n",
       "      <th>33</th>\n",
       "      <td>North Dakota</td>\n",
       "      <td>Midwest</td>\n",
       "      <td>Bismarck</td>\n",
       "      <td>779094</td>\n",
       "      <td>69001</td>\n",
       "      <td>Republican</td>\n",
       "      <td>11.29</td>\n",
       "    </tr>\n",
       "    <tr>\n",
       "      <th>25</th>\n",
       "      <td>Montana</td>\n",
       "      <td>West</td>\n",
       "      <td>Helena</td>\n",
       "      <td>1084225</td>\n",
       "      <td>145546</td>\n",
       "      <td>Republican</td>\n",
       "      <td>7.45</td>\n",
       "    </tr>\n",
       "    <tr>\n",
       "      <th>49</th>\n",
       "      <td>Wyoming</td>\n",
       "      <td>West</td>\n",
       "      <td>Cheyenne</td>\n",
       "      <td>576851</td>\n",
       "      <td>97093</td>\n",
       "      <td>Republican</td>\n",
       "      <td>5.94</td>\n",
       "    </tr>\n",
       "    <tr>\n",
       "      <th>1</th>\n",
       "      <td>Alaska</td>\n",
       "      <td>West</td>\n",
       "      <td>Juneau</td>\n",
       "      <td>733391</td>\n",
       "      <td>570641</td>\n",
       "      <td>Republican</td>\n",
       "      <td>1.29</td>\n",
       "    </tr>\n",
       "  </tbody>\n",
       "</table>\n",
       "<p>50 rows × 7 columns</p>\n",
       "</div>"
      ],
      "text/plain": [
       "            State     Region Capital City  Population  Land Area       Party  \\\n",
       "29     New Jersey  Northeast      Trenton     9288994       7354  Democratic   \n",
       "38   Rhode Island  Northeast   Providence     1097379       1034  Democratic   \n",
       "20  Massachusetts  Northeast       Boston     7029917       7800  Democratic   \n",
       "6     Connecticut  Northeast     Hartford     3605944       4842  Democratic   \n",
       "19       Maryland      South    Annapolis     6177224       9707  Democratic   \n",
       "..            ...        ...          ...         ...        ...         ...   \n",
       "40   South Dakota    Midwest       Pierre      886667      75811  Republican   \n",
       "33   North Dakota    Midwest     Bismarck      779094      69001  Republican   \n",
       "25        Montana       West       Helena     1084225     145546  Republican   \n",
       "49        Wyoming       West     Cheyenne      576851      97093  Republican   \n",
       "1          Alaska       West       Juneau      733391     570641  Republican   \n",
       "\n",
       "    Density  \n",
       "29  1263.12  \n",
       "38  1061.29  \n",
       "20   901.27  \n",
       "6    744.72  \n",
       "19   636.37  \n",
       "..      ...  \n",
       "40    11.70  \n",
       "33    11.29  \n",
       "25     7.45  \n",
       "49     5.94  \n",
       "1      1.29  \n",
       "\n",
       "[50 rows x 7 columns]"
      ]
     },
     "execution_count": 40,
     "metadata": {},
     "output_type": "execute_result"
    }
   ],
   "source": [
    "ordered_states"
   ]
  },
  {
   "cell_type": "code",
   "execution_count": 41,
   "metadata": {},
   "outputs": [
    {
     "data": {
      "text/plain": [
       "29       New Jersey\n",
       "38     Rhode Island\n",
       "20    Massachusetts\n",
       "6       Connecticut\n",
       "19         Maryland\n",
       "          ...      \n",
       "40     South Dakota\n",
       "33     North Dakota\n",
       "25          Montana\n",
       "49          Wyoming\n",
       "1            Alaska\n",
       "Name: State, Length: 50, dtype: object"
      ]
     },
     "execution_count": 41,
     "metadata": {},
     "output_type": "execute_result"
    }
   ],
   "source": [
    "ordered_states.get('State')"
   ]
  },
  {
   "cell_type": "code",
   "execution_count": 42,
   "metadata": {},
   "outputs": [
    {
     "data": {
      "text/plain": [
       "'New Jersey'"
      ]
     },
     "execution_count": 42,
     "metadata": {},
     "output_type": "execute_result"
    }
   ],
   "source": [
    "# We want the first entry of the Series, which is at \"integer location\" 0.\n",
    "ordered_states.get('State').iloc[0]"
   ]
  },
  {
   "cell_type": "markdown",
   "metadata": {
    "slideshow": {
     "slide_type": "fragment"
    }
   },
   "source": [
    "- The row label that goes with New Jersey is 29, because our original data was alphabetized by state and New Jersey is the 30th state alphabetically. But we **don't use the row label** when accessing with `iloc`; we use the integer position counting from the top."
   ]
  },
  {
   "cell_type": "markdown",
   "metadata": {
    "slideshow": {
     "slide_type": "fragment"
    }
   },
   "source": [
    "- If we try to use the row label (29) with `iloc`, we get the state with the 30th highest population density, which is **not** New Jersey."
   ]
  },
  {
   "cell_type": "code",
   "execution_count": 43,
   "metadata": {
    "slideshow": {
     "slide_type": "-"
    }
   },
   "outputs": [
    {
     "data": {
      "text/plain": [
       "'Minnesota'"
      ]
     },
     "execution_count": 43,
     "metadata": {},
     "output_type": "execute_result"
    }
   ],
   "source": [
    "ordered_states.get('State').iloc[29]"
   ]
  },
  {
   "cell_type": "markdown",
   "metadata": {
    "slideshow": {
     "slide_type": "slide"
    }
   },
   "source": [
    "## Example 4: What is the population density of Pennsylvania?\n",
    "\n",
    "**Key concepts**: Setting the index. Accessing using row labels."
   ]
  },
  {
   "cell_type": "markdown",
   "metadata": {
    "slideshow": {
     "slide_type": "slide"
    }
   },
   "source": [
    "### Population density of Pennsylvania\n",
    "\n",
    "We know how to get the `'Density'` of all states. How do we find the one that corresponds to Pennsylvania?"
   ]
  },
  {
   "cell_type": "code",
   "execution_count": 44,
   "metadata": {
    "scrolled": true
   },
   "outputs": [
    {
     "data": {
      "text/html": [
       "<div>\n",
       "<style scoped>\n",
       "    .dataframe tbody tr th:only-of-type {\n",
       "        vertical-align: middle;\n",
       "    }\n",
       "\n",
       "    .dataframe tbody tr th {\n",
       "        vertical-align: top;\n",
       "    }\n",
       "\n",
       "    .dataframe thead th {\n",
       "        text-align: right;\n",
       "    }\n",
       "</style>\n",
       "<table border=\"1\" class=\"dataframe\">\n",
       "  <thead>\n",
       "    <tr style=\"text-align: right;\">\n",
       "      <th></th>\n",
       "      <th>State</th>\n",
       "      <th>Region</th>\n",
       "      <th>Capital City</th>\n",
       "      <th>Population</th>\n",
       "      <th>Land Area</th>\n",
       "      <th>Party</th>\n",
       "      <th>Density</th>\n",
       "    </tr>\n",
       "  </thead>\n",
       "  <tbody>\n",
       "    <tr>\n",
       "      <th>0</th>\n",
       "      <td>Alabama</td>\n",
       "      <td>South</td>\n",
       "      <td>Montgomery</td>\n",
       "      <td>5024279</td>\n",
       "      <td>50645</td>\n",
       "      <td>Republican</td>\n",
       "      <td>99.21</td>\n",
       "    </tr>\n",
       "    <tr>\n",
       "      <th>1</th>\n",
       "      <td>Alaska</td>\n",
       "      <td>West</td>\n",
       "      <td>Juneau</td>\n",
       "      <td>733391</td>\n",
       "      <td>570641</td>\n",
       "      <td>Republican</td>\n",
       "      <td>1.29</td>\n",
       "    </tr>\n",
       "    <tr>\n",
       "      <th>2</th>\n",
       "      <td>Arizona</td>\n",
       "      <td>West</td>\n",
       "      <td>Phoenix</td>\n",
       "      <td>7151502</td>\n",
       "      <td>113594</td>\n",
       "      <td>Republican</td>\n",
       "      <td>62.96</td>\n",
       "    </tr>\n",
       "    <tr>\n",
       "      <th>3</th>\n",
       "      <td>Arkansas</td>\n",
       "      <td>South</td>\n",
       "      <td>Little Rock</td>\n",
       "      <td>3011524</td>\n",
       "      <td>52035</td>\n",
       "      <td>Republican</td>\n",
       "      <td>57.87</td>\n",
       "    </tr>\n",
       "    <tr>\n",
       "      <th>4</th>\n",
       "      <td>California</td>\n",
       "      <td>West</td>\n",
       "      <td>Sacramento</td>\n",
       "      <td>39538223</td>\n",
       "      <td>155779</td>\n",
       "      <td>Democratic</td>\n",
       "      <td>253.81</td>\n",
       "    </tr>\n",
       "    <tr>\n",
       "      <th>...</th>\n",
       "      <td>...</td>\n",
       "      <td>...</td>\n",
       "      <td>...</td>\n",
       "      <td>...</td>\n",
       "      <td>...</td>\n",
       "      <td>...</td>\n",
       "      <td>...</td>\n",
       "    </tr>\n",
       "    <tr>\n",
       "      <th>45</th>\n",
       "      <td>Virginia</td>\n",
       "      <td>South</td>\n",
       "      <td>Richmond</td>\n",
       "      <td>8631393</td>\n",
       "      <td>39490</td>\n",
       "      <td>Democratic</td>\n",
       "      <td>218.57</td>\n",
       "    </tr>\n",
       "    <tr>\n",
       "      <th>46</th>\n",
       "      <td>Washington</td>\n",
       "      <td>West</td>\n",
       "      <td>Olympia</td>\n",
       "      <td>7705281</td>\n",
       "      <td>66456</td>\n",
       "      <td>Democratic</td>\n",
       "      <td>115.95</td>\n",
       "    </tr>\n",
       "    <tr>\n",
       "      <th>47</th>\n",
       "      <td>West Virginia</td>\n",
       "      <td>South</td>\n",
       "      <td>Charleston</td>\n",
       "      <td>1793716</td>\n",
       "      <td>24038</td>\n",
       "      <td>Republican</td>\n",
       "      <td>74.62</td>\n",
       "    </tr>\n",
       "    <tr>\n",
       "      <th>48</th>\n",
       "      <td>Wisconsin</td>\n",
       "      <td>Midwest</td>\n",
       "      <td>Madison</td>\n",
       "      <td>5893718</td>\n",
       "      <td>54158</td>\n",
       "      <td>Republican</td>\n",
       "      <td>108.82</td>\n",
       "    </tr>\n",
       "    <tr>\n",
       "      <th>49</th>\n",
       "      <td>Wyoming</td>\n",
       "      <td>West</td>\n",
       "      <td>Cheyenne</td>\n",
       "      <td>576851</td>\n",
       "      <td>97093</td>\n",
       "      <td>Republican</td>\n",
       "      <td>5.94</td>\n",
       "    </tr>\n",
       "  </tbody>\n",
       "</table>\n",
       "<p>50 rows × 7 columns</p>\n",
       "</div>"
      ],
      "text/plain": [
       "            State   Region Capital City  Population  Land Area       Party  \\\n",
       "0         Alabama    South   Montgomery     5024279      50645  Republican   \n",
       "1          Alaska     West       Juneau      733391     570641  Republican   \n",
       "2         Arizona     West      Phoenix     7151502     113594  Republican   \n",
       "3        Arkansas    South  Little Rock     3011524      52035  Republican   \n",
       "4      California     West   Sacramento    39538223     155779  Democratic   \n",
       "..            ...      ...          ...         ...        ...         ...   \n",
       "45       Virginia    South     Richmond     8631393      39490  Democratic   \n",
       "46     Washington     West      Olympia     7705281      66456  Democratic   \n",
       "47  West Virginia    South   Charleston     1793716      24038  Republican   \n",
       "48      Wisconsin  Midwest      Madison     5893718      54158  Republican   \n",
       "49        Wyoming     West     Cheyenne      576851      97093  Republican   \n",
       "\n",
       "    Density  \n",
       "0     99.21  \n",
       "1      1.29  \n",
       "2     62.96  \n",
       "3     57.87  \n",
       "4    253.81  \n",
       "..      ...  \n",
       "45   218.57  \n",
       "46   115.95  \n",
       "47    74.62  \n",
       "48   108.82  \n",
       "49     5.94  \n",
       "\n",
       "[50 rows x 7 columns]"
      ]
     },
     "execution_count": 44,
     "metadata": {},
     "output_type": "execute_result"
    }
   ],
   "source": [
    "states"
   ]
  },
  {
   "cell_type": "code",
   "execution_count": 45,
   "metadata": {},
   "outputs": [
    {
     "data": {
      "text/plain": [
       "0      99.21\n",
       "1       1.29\n",
       "2      62.96\n",
       "3      57.87\n",
       "4     253.81\n",
       "       ...  \n",
       "45    218.57\n",
       "46    115.95\n",
       "47     74.62\n",
       "48    108.82\n",
       "49      5.94\n",
       "Name: Density, Length: 50, dtype: float64"
      ]
     },
     "execution_count": 45,
     "metadata": {},
     "output_type": "execute_result"
    }
   ],
   "source": [
    "# Which one is Pennsylvania?\n",
    "states.get('Density')"
   ]
  },
  {
   "cell_type": "markdown",
   "metadata": {
    "slideshow": {
     "slide_type": "slide"
    }
   },
   "source": [
    "### Utilizing the index"
   ]
  },
  {
   "cell_type": "markdown",
   "metadata": {
    "slideshow": {
     "slide_type": "fragment"
    }
   },
   "source": [
    "- When we load in a DataFrame from a CSV, columns have meaningful names, but rows do not."
   ]
  },
  {
   "cell_type": "code",
   "execution_count": 46,
   "metadata": {},
   "outputs": [
    {
     "data": {
      "text/html": [
       "<div>\n",
       "<style scoped>\n",
       "    .dataframe tbody tr th:only-of-type {\n",
       "        vertical-align: middle;\n",
       "    }\n",
       "\n",
       "    .dataframe tbody tr th {\n",
       "        vertical-align: top;\n",
       "    }\n",
       "\n",
       "    .dataframe thead th {\n",
       "        text-align: right;\n",
       "    }\n",
       "</style>\n",
       "<table border=\"1\" class=\"dataframe\">\n",
       "  <thead>\n",
       "    <tr style=\"text-align: right;\">\n",
       "      <th></th>\n",
       "      <th>State</th>\n",
       "      <th>Region</th>\n",
       "      <th>Capital City</th>\n",
       "      <th>Population</th>\n",
       "      <th>Land Area</th>\n",
       "      <th>Party</th>\n",
       "    </tr>\n",
       "  </thead>\n",
       "  <tbody>\n",
       "    <tr>\n",
       "      <th>0</th>\n",
       "      <td>Alabama</td>\n",
       "      <td>South</td>\n",
       "      <td>Montgomery</td>\n",
       "      <td>5024279</td>\n",
       "      <td>50645</td>\n",
       "      <td>Republican</td>\n",
       "    </tr>\n",
       "    <tr>\n",
       "      <th>1</th>\n",
       "      <td>Alaska</td>\n",
       "      <td>West</td>\n",
       "      <td>Juneau</td>\n",
       "      <td>733391</td>\n",
       "      <td>570641</td>\n",
       "      <td>Republican</td>\n",
       "    </tr>\n",
       "    <tr>\n",
       "      <th>2</th>\n",
       "      <td>Arizona</td>\n",
       "      <td>West</td>\n",
       "      <td>Phoenix</td>\n",
       "      <td>7151502</td>\n",
       "      <td>113594</td>\n",
       "      <td>Republican</td>\n",
       "    </tr>\n",
       "    <tr>\n",
       "      <th>3</th>\n",
       "      <td>Arkansas</td>\n",
       "      <td>South</td>\n",
       "      <td>Little Rock</td>\n",
       "      <td>3011524</td>\n",
       "      <td>52035</td>\n",
       "      <td>Republican</td>\n",
       "    </tr>\n",
       "    <tr>\n",
       "      <th>4</th>\n",
       "      <td>California</td>\n",
       "      <td>West</td>\n",
       "      <td>Sacramento</td>\n",
       "      <td>39538223</td>\n",
       "      <td>155779</td>\n",
       "      <td>Democratic</td>\n",
       "    </tr>\n",
       "    <tr>\n",
       "      <th>...</th>\n",
       "      <td>...</td>\n",
       "      <td>...</td>\n",
       "      <td>...</td>\n",
       "      <td>...</td>\n",
       "      <td>...</td>\n",
       "      <td>...</td>\n",
       "    </tr>\n",
       "    <tr>\n",
       "      <th>45</th>\n",
       "      <td>Virginia</td>\n",
       "      <td>South</td>\n",
       "      <td>Richmond</td>\n",
       "      <td>8631393</td>\n",
       "      <td>39490</td>\n",
       "      <td>Democratic</td>\n",
       "    </tr>\n",
       "    <tr>\n",
       "      <th>46</th>\n",
       "      <td>Washington</td>\n",
       "      <td>West</td>\n",
       "      <td>Olympia</td>\n",
       "      <td>7705281</td>\n",
       "      <td>66456</td>\n",
       "      <td>Democratic</td>\n",
       "    </tr>\n",
       "    <tr>\n",
       "      <th>47</th>\n",
       "      <td>West Virginia</td>\n",
       "      <td>South</td>\n",
       "      <td>Charleston</td>\n",
       "      <td>1793716</td>\n",
       "      <td>24038</td>\n",
       "      <td>Republican</td>\n",
       "    </tr>\n",
       "    <tr>\n",
       "      <th>48</th>\n",
       "      <td>Wisconsin</td>\n",
       "      <td>Midwest</td>\n",
       "      <td>Madison</td>\n",
       "      <td>5893718</td>\n",
       "      <td>54158</td>\n",
       "      <td>Republican</td>\n",
       "    </tr>\n",
       "    <tr>\n",
       "      <th>49</th>\n",
       "      <td>Wyoming</td>\n",
       "      <td>West</td>\n",
       "      <td>Cheyenne</td>\n",
       "      <td>576851</td>\n",
       "      <td>97093</td>\n",
       "      <td>Republican</td>\n",
       "    </tr>\n",
       "  </tbody>\n",
       "</table>\n",
       "<p>50 rows × 6 columns</p>\n",
       "</div>"
      ],
      "text/plain": [
       "            State   Region Capital City  Population  Land Area       Party\n",
       "0         Alabama    South   Montgomery     5024279      50645  Republican\n",
       "1          Alaska     West       Juneau      733391     570641  Republican\n",
       "2         Arizona     West      Phoenix     7151502     113594  Republican\n",
       "3        Arkansas    South  Little Rock     3011524      52035  Republican\n",
       "4      California     West   Sacramento    39538223     155779  Democratic\n",
       "..            ...      ...          ...         ...        ...         ...\n",
       "45       Virginia    South     Richmond     8631393      39490  Democratic\n",
       "46     Washington     West      Olympia     7705281      66456  Democratic\n",
       "47  West Virginia    South   Charleston     1793716      24038  Republican\n",
       "48      Wisconsin  Midwest      Madison     5893718      54158  Republican\n",
       "49        Wyoming     West     Cheyenne      576851      97093  Republican\n",
       "\n",
       "[50 rows x 6 columns]"
      ]
     },
     "execution_count": 46,
     "metadata": {},
     "output_type": "execute_result"
    }
   ],
   "source": [
    "bpd.read_csv('data/states.csv')"
   ]
  },
  {
   "cell_type": "markdown",
   "metadata": {
    "slideshow": {
     "slide_type": "fragment"
    }
   },
   "source": [
    "- The row labels (or the *index*) are how we refer to specific rows. Instead of using numbers, let's refer to these rows by the names of the states they correspond to."
   ]
  },
  {
   "cell_type": "markdown",
   "metadata": {
    "slideshow": {
     "slide_type": "fragment"
    }
   },
   "source": [
    "- This way, we can easily identify, for example, which row corresponds to Pennsylvania."
   ]
  },
  {
   "cell_type": "markdown",
   "metadata": {
    "slideshow": {
     "slide_type": "slide"
    }
   },
   "source": [
    "### Setting the index\n",
    "\n",
    "- To change the index, use `.set_index(column_name)`.\n",
    "- Row labels should be unique identifiers.\n",
    "    - Each row should have a different, descriptive name that corresponds to the contents of that row's data."
   ]
  },
  {
   "cell_type": "code",
   "execution_count": 47,
   "metadata": {},
   "outputs": [
    {
     "data": {
      "text/html": [
       "<div>\n",
       "<style scoped>\n",
       "    .dataframe tbody tr th:only-of-type {\n",
       "        vertical-align: middle;\n",
       "    }\n",
       "\n",
       "    .dataframe tbody tr th {\n",
       "        vertical-align: top;\n",
       "    }\n",
       "\n",
       "    .dataframe thead th {\n",
       "        text-align: right;\n",
       "    }\n",
       "</style>\n",
       "<table border=\"1\" class=\"dataframe\">\n",
       "  <thead>\n",
       "    <tr style=\"text-align: right;\">\n",
       "      <th></th>\n",
       "      <th>State</th>\n",
       "      <th>Region</th>\n",
       "      <th>Capital City</th>\n",
       "      <th>Population</th>\n",
       "      <th>Land Area</th>\n",
       "      <th>Party</th>\n",
       "      <th>Density</th>\n",
       "    </tr>\n",
       "  </thead>\n",
       "  <tbody>\n",
       "    <tr>\n",
       "      <th>0</th>\n",
       "      <td>Alabama</td>\n",
       "      <td>South</td>\n",
       "      <td>Montgomery</td>\n",
       "      <td>5024279</td>\n",
       "      <td>50645</td>\n",
       "      <td>Republican</td>\n",
       "      <td>99.21</td>\n",
       "    </tr>\n",
       "    <tr>\n",
       "      <th>1</th>\n",
       "      <td>Alaska</td>\n",
       "      <td>West</td>\n",
       "      <td>Juneau</td>\n",
       "      <td>733391</td>\n",
       "      <td>570641</td>\n",
       "      <td>Republican</td>\n",
       "      <td>1.29</td>\n",
       "    </tr>\n",
       "    <tr>\n",
       "      <th>2</th>\n",
       "      <td>Arizona</td>\n",
       "      <td>West</td>\n",
       "      <td>Phoenix</td>\n",
       "      <td>7151502</td>\n",
       "      <td>113594</td>\n",
       "      <td>Republican</td>\n",
       "      <td>62.96</td>\n",
       "    </tr>\n",
       "    <tr>\n",
       "      <th>3</th>\n",
       "      <td>Arkansas</td>\n",
       "      <td>South</td>\n",
       "      <td>Little Rock</td>\n",
       "      <td>3011524</td>\n",
       "      <td>52035</td>\n",
       "      <td>Republican</td>\n",
       "      <td>57.87</td>\n",
       "    </tr>\n",
       "    <tr>\n",
       "      <th>4</th>\n",
       "      <td>California</td>\n",
       "      <td>West</td>\n",
       "      <td>Sacramento</td>\n",
       "      <td>39538223</td>\n",
       "      <td>155779</td>\n",
       "      <td>Democratic</td>\n",
       "      <td>253.81</td>\n",
       "    </tr>\n",
       "    <tr>\n",
       "      <th>...</th>\n",
       "      <td>...</td>\n",
       "      <td>...</td>\n",
       "      <td>...</td>\n",
       "      <td>...</td>\n",
       "      <td>...</td>\n",
       "      <td>...</td>\n",
       "      <td>...</td>\n",
       "    </tr>\n",
       "    <tr>\n",
       "      <th>45</th>\n",
       "      <td>Virginia</td>\n",
       "      <td>South</td>\n",
       "      <td>Richmond</td>\n",
       "      <td>8631393</td>\n",
       "      <td>39490</td>\n",
       "      <td>Democratic</td>\n",
       "      <td>218.57</td>\n",
       "    </tr>\n",
       "    <tr>\n",
       "      <th>46</th>\n",
       "      <td>Washington</td>\n",
       "      <td>West</td>\n",
       "      <td>Olympia</td>\n",
       "      <td>7705281</td>\n",
       "      <td>66456</td>\n",
       "      <td>Democratic</td>\n",
       "      <td>115.95</td>\n",
       "    </tr>\n",
       "    <tr>\n",
       "      <th>47</th>\n",
       "      <td>West Virginia</td>\n",
       "      <td>South</td>\n",
       "      <td>Charleston</td>\n",
       "      <td>1793716</td>\n",
       "      <td>24038</td>\n",
       "      <td>Republican</td>\n",
       "      <td>74.62</td>\n",
       "    </tr>\n",
       "    <tr>\n",
       "      <th>48</th>\n",
       "      <td>Wisconsin</td>\n",
       "      <td>Midwest</td>\n",
       "      <td>Madison</td>\n",
       "      <td>5893718</td>\n",
       "      <td>54158</td>\n",
       "      <td>Republican</td>\n",
       "      <td>108.82</td>\n",
       "    </tr>\n",
       "    <tr>\n",
       "      <th>49</th>\n",
       "      <td>Wyoming</td>\n",
       "      <td>West</td>\n",
       "      <td>Cheyenne</td>\n",
       "      <td>576851</td>\n",
       "      <td>97093</td>\n",
       "      <td>Republican</td>\n",
       "      <td>5.94</td>\n",
       "    </tr>\n",
       "  </tbody>\n",
       "</table>\n",
       "<p>50 rows × 7 columns</p>\n",
       "</div>"
      ],
      "text/plain": [
       "            State   Region Capital City  Population  Land Area       Party  \\\n",
       "0         Alabama    South   Montgomery     5024279      50645  Republican   \n",
       "1          Alaska     West       Juneau      733391     570641  Republican   \n",
       "2         Arizona     West      Phoenix     7151502     113594  Republican   \n",
       "3        Arkansas    South  Little Rock     3011524      52035  Republican   \n",
       "4      California     West   Sacramento    39538223     155779  Democratic   \n",
       "..            ...      ...          ...         ...        ...         ...   \n",
       "45       Virginia    South     Richmond     8631393      39490  Democratic   \n",
       "46     Washington     West      Olympia     7705281      66456  Democratic   \n",
       "47  West Virginia    South   Charleston     1793716      24038  Republican   \n",
       "48      Wisconsin  Midwest      Madison     5893718      54158  Republican   \n",
       "49        Wyoming     West     Cheyenne      576851      97093  Republican   \n",
       "\n",
       "    Density  \n",
       "0     99.21  \n",
       "1      1.29  \n",
       "2     62.96  \n",
       "3     57.87  \n",
       "4    253.81  \n",
       "..      ...  \n",
       "45   218.57  \n",
       "46   115.95  \n",
       "47    74.62  \n",
       "48   108.82  \n",
       "49     5.94  \n",
       "\n",
       "[50 rows x 7 columns]"
      ]
     },
     "execution_count": 47,
     "metadata": {},
     "output_type": "execute_result"
    }
   ],
   "source": [
    "states"
   ]
  },
  {
   "cell_type": "code",
   "execution_count": 48,
   "metadata": {},
   "outputs": [
    {
     "data": {
      "text/html": [
       "<div>\n",
       "<style scoped>\n",
       "    .dataframe tbody tr th:only-of-type {\n",
       "        vertical-align: middle;\n",
       "    }\n",
       "\n",
       "    .dataframe tbody tr th {\n",
       "        vertical-align: top;\n",
       "    }\n",
       "\n",
       "    .dataframe thead th {\n",
       "        text-align: right;\n",
       "    }\n",
       "</style>\n",
       "<table border=\"1\" class=\"dataframe\">\n",
       "  <thead>\n",
       "    <tr style=\"text-align: right;\">\n",
       "      <th></th>\n",
       "      <th>Region</th>\n",
       "      <th>Capital City</th>\n",
       "      <th>Population</th>\n",
       "      <th>Land Area</th>\n",
       "      <th>Party</th>\n",
       "      <th>Density</th>\n",
       "    </tr>\n",
       "    <tr>\n",
       "      <th>State</th>\n",
       "      <th></th>\n",
       "      <th></th>\n",
       "      <th></th>\n",
       "      <th></th>\n",
       "      <th></th>\n",
       "      <th></th>\n",
       "    </tr>\n",
       "  </thead>\n",
       "  <tbody>\n",
       "    <tr>\n",
       "      <th>Alabama</th>\n",
       "      <td>South</td>\n",
       "      <td>Montgomery</td>\n",
       "      <td>5024279</td>\n",
       "      <td>50645</td>\n",
       "      <td>Republican</td>\n",
       "      <td>99.21</td>\n",
       "    </tr>\n",
       "    <tr>\n",
       "      <th>Alaska</th>\n",
       "      <td>West</td>\n",
       "      <td>Juneau</td>\n",
       "      <td>733391</td>\n",
       "      <td>570641</td>\n",
       "      <td>Republican</td>\n",
       "      <td>1.29</td>\n",
       "    </tr>\n",
       "    <tr>\n",
       "      <th>Arizona</th>\n",
       "      <td>West</td>\n",
       "      <td>Phoenix</td>\n",
       "      <td>7151502</td>\n",
       "      <td>113594</td>\n",
       "      <td>Republican</td>\n",
       "      <td>62.96</td>\n",
       "    </tr>\n",
       "    <tr>\n",
       "      <th>Arkansas</th>\n",
       "      <td>South</td>\n",
       "      <td>Little Rock</td>\n",
       "      <td>3011524</td>\n",
       "      <td>52035</td>\n",
       "      <td>Republican</td>\n",
       "      <td>57.87</td>\n",
       "    </tr>\n",
       "    <tr>\n",
       "      <th>California</th>\n",
       "      <td>West</td>\n",
       "      <td>Sacramento</td>\n",
       "      <td>39538223</td>\n",
       "      <td>155779</td>\n",
       "      <td>Democratic</td>\n",
       "      <td>253.81</td>\n",
       "    </tr>\n",
       "    <tr>\n",
       "      <th>...</th>\n",
       "      <td>...</td>\n",
       "      <td>...</td>\n",
       "      <td>...</td>\n",
       "      <td>...</td>\n",
       "      <td>...</td>\n",
       "      <td>...</td>\n",
       "    </tr>\n",
       "    <tr>\n",
       "      <th>Virginia</th>\n",
       "      <td>South</td>\n",
       "      <td>Richmond</td>\n",
       "      <td>8631393</td>\n",
       "      <td>39490</td>\n",
       "      <td>Democratic</td>\n",
       "      <td>218.57</td>\n",
       "    </tr>\n",
       "    <tr>\n",
       "      <th>Washington</th>\n",
       "      <td>West</td>\n",
       "      <td>Olympia</td>\n",
       "      <td>7705281</td>\n",
       "      <td>66456</td>\n",
       "      <td>Democratic</td>\n",
       "      <td>115.95</td>\n",
       "    </tr>\n",
       "    <tr>\n",
       "      <th>West Virginia</th>\n",
       "      <td>South</td>\n",
       "      <td>Charleston</td>\n",
       "      <td>1793716</td>\n",
       "      <td>24038</td>\n",
       "      <td>Republican</td>\n",
       "      <td>74.62</td>\n",
       "    </tr>\n",
       "    <tr>\n",
       "      <th>Wisconsin</th>\n",
       "      <td>Midwest</td>\n",
       "      <td>Madison</td>\n",
       "      <td>5893718</td>\n",
       "      <td>54158</td>\n",
       "      <td>Republican</td>\n",
       "      <td>108.82</td>\n",
       "    </tr>\n",
       "    <tr>\n",
       "      <th>Wyoming</th>\n",
       "      <td>West</td>\n",
       "      <td>Cheyenne</td>\n",
       "      <td>576851</td>\n",
       "      <td>97093</td>\n",
       "      <td>Republican</td>\n",
       "      <td>5.94</td>\n",
       "    </tr>\n",
       "  </tbody>\n",
       "</table>\n",
       "<p>50 rows × 6 columns</p>\n",
       "</div>"
      ],
      "text/plain": [
       "                Region Capital City  Population  Land Area       Party  \\\n",
       "State                                                                    \n",
       "Alabama          South   Montgomery     5024279      50645  Republican   \n",
       "Alaska            West       Juneau      733391     570641  Republican   \n",
       "Arizona           West      Phoenix     7151502     113594  Republican   \n",
       "Arkansas         South  Little Rock     3011524      52035  Republican   \n",
       "California        West   Sacramento    39538223     155779  Democratic   \n",
       "...                ...          ...         ...        ...         ...   \n",
       "Virginia         South     Richmond     8631393      39490  Democratic   \n",
       "Washington        West      Olympia     7705281      66456  Democratic   \n",
       "West Virginia    South   Charleston     1793716      24038  Republican   \n",
       "Wisconsin      Midwest      Madison     5893718      54158  Republican   \n",
       "Wyoming           West     Cheyenne      576851      97093  Republican   \n",
       "\n",
       "               Density  \n",
       "State                   \n",
       "Alabama          99.21  \n",
       "Alaska            1.29  \n",
       "Arizona          62.96  \n",
       "Arkansas         57.87  \n",
       "California      253.81  \n",
       "...                ...  \n",
       "Virginia        218.57  \n",
       "Washington      115.95  \n",
       "West Virginia    74.62  \n",
       "Wisconsin       108.82  \n",
       "Wyoming           5.94  \n",
       "\n",
       "[50 rows x 6 columns]"
      ]
     },
     "execution_count": 48,
     "metadata": {},
     "output_type": "execute_result"
    }
   ],
   "source": [
    "states.set_index('State')"
   ]
  },
  {
   "cell_type": "markdown",
   "metadata": {
    "slideshow": {
     "slide_type": "fragment"
    }
   },
   "source": [
    "- Now there is one fewer column. When you set the index, a column becomes the index, and the old index disappears."
   ]
  },
  {
   "cell_type": "markdown",
   "metadata": {
    "slideshow": {
     "slide_type": "fragment"
    }
   },
   "source": [
    "- 🚨 Like most DataFrame methods, `.set_index` returns a new DataFrame; it does not modify the original DataFrame."
   ]
  },
  {
   "cell_type": "code",
   "execution_count": 49,
   "metadata": {},
   "outputs": [
    {
     "data": {
      "text/html": [
       "<div>\n",
       "<style scoped>\n",
       "    .dataframe tbody tr th:only-of-type {\n",
       "        vertical-align: middle;\n",
       "    }\n",
       "\n",
       "    .dataframe tbody tr th {\n",
       "        vertical-align: top;\n",
       "    }\n",
       "\n",
       "    .dataframe thead th {\n",
       "        text-align: right;\n",
       "    }\n",
       "</style>\n",
       "<table border=\"1\" class=\"dataframe\">\n",
       "  <thead>\n",
       "    <tr style=\"text-align: right;\">\n",
       "      <th></th>\n",
       "      <th>State</th>\n",
       "      <th>Region</th>\n",
       "      <th>Capital City</th>\n",
       "      <th>Population</th>\n",
       "      <th>Land Area</th>\n",
       "      <th>Party</th>\n",
       "      <th>Density</th>\n",
       "    </tr>\n",
       "  </thead>\n",
       "  <tbody>\n",
       "    <tr>\n",
       "      <th>0</th>\n",
       "      <td>Alabama</td>\n",
       "      <td>South</td>\n",
       "      <td>Montgomery</td>\n",
       "      <td>5024279</td>\n",
       "      <td>50645</td>\n",
       "      <td>Republican</td>\n",
       "      <td>99.21</td>\n",
       "    </tr>\n",
       "    <tr>\n",
       "      <th>1</th>\n",
       "      <td>Alaska</td>\n",
       "      <td>West</td>\n",
       "      <td>Juneau</td>\n",
       "      <td>733391</td>\n",
       "      <td>570641</td>\n",
       "      <td>Republican</td>\n",
       "      <td>1.29</td>\n",
       "    </tr>\n",
       "    <tr>\n",
       "      <th>2</th>\n",
       "      <td>Arizona</td>\n",
       "      <td>West</td>\n",
       "      <td>Phoenix</td>\n",
       "      <td>7151502</td>\n",
       "      <td>113594</td>\n",
       "      <td>Republican</td>\n",
       "      <td>62.96</td>\n",
       "    </tr>\n",
       "    <tr>\n",
       "      <th>3</th>\n",
       "      <td>Arkansas</td>\n",
       "      <td>South</td>\n",
       "      <td>Little Rock</td>\n",
       "      <td>3011524</td>\n",
       "      <td>52035</td>\n",
       "      <td>Republican</td>\n",
       "      <td>57.87</td>\n",
       "    </tr>\n",
       "    <tr>\n",
       "      <th>4</th>\n",
       "      <td>California</td>\n",
       "      <td>West</td>\n",
       "      <td>Sacramento</td>\n",
       "      <td>39538223</td>\n",
       "      <td>155779</td>\n",
       "      <td>Democratic</td>\n",
       "      <td>253.81</td>\n",
       "    </tr>\n",
       "    <tr>\n",
       "      <th>...</th>\n",
       "      <td>...</td>\n",
       "      <td>...</td>\n",
       "      <td>...</td>\n",
       "      <td>...</td>\n",
       "      <td>...</td>\n",
       "      <td>...</td>\n",
       "      <td>...</td>\n",
       "    </tr>\n",
       "    <tr>\n",
       "      <th>45</th>\n",
       "      <td>Virginia</td>\n",
       "      <td>South</td>\n",
       "      <td>Richmond</td>\n",
       "      <td>8631393</td>\n",
       "      <td>39490</td>\n",
       "      <td>Democratic</td>\n",
       "      <td>218.57</td>\n",
       "    </tr>\n",
       "    <tr>\n",
       "      <th>46</th>\n",
       "      <td>Washington</td>\n",
       "      <td>West</td>\n",
       "      <td>Olympia</td>\n",
       "      <td>7705281</td>\n",
       "      <td>66456</td>\n",
       "      <td>Democratic</td>\n",
       "      <td>115.95</td>\n",
       "    </tr>\n",
       "    <tr>\n",
       "      <th>47</th>\n",
       "      <td>West Virginia</td>\n",
       "      <td>South</td>\n",
       "      <td>Charleston</td>\n",
       "      <td>1793716</td>\n",
       "      <td>24038</td>\n",
       "      <td>Republican</td>\n",
       "      <td>74.62</td>\n",
       "    </tr>\n",
       "    <tr>\n",
       "      <th>48</th>\n",
       "      <td>Wisconsin</td>\n",
       "      <td>Midwest</td>\n",
       "      <td>Madison</td>\n",
       "      <td>5893718</td>\n",
       "      <td>54158</td>\n",
       "      <td>Republican</td>\n",
       "      <td>108.82</td>\n",
       "    </tr>\n",
       "    <tr>\n",
       "      <th>49</th>\n",
       "      <td>Wyoming</td>\n",
       "      <td>West</td>\n",
       "      <td>Cheyenne</td>\n",
       "      <td>576851</td>\n",
       "      <td>97093</td>\n",
       "      <td>Republican</td>\n",
       "      <td>5.94</td>\n",
       "    </tr>\n",
       "  </tbody>\n",
       "</table>\n",
       "<p>50 rows × 7 columns</p>\n",
       "</div>"
      ],
      "text/plain": [
       "            State   Region Capital City  Population  Land Area       Party  \\\n",
       "0         Alabama    South   Montgomery     5024279      50645  Republican   \n",
       "1          Alaska     West       Juneau      733391     570641  Republican   \n",
       "2         Arizona     West      Phoenix     7151502     113594  Republican   \n",
       "3        Arkansas    South  Little Rock     3011524      52035  Republican   \n",
       "4      California     West   Sacramento    39538223     155779  Democratic   \n",
       "..            ...      ...          ...         ...        ...         ...   \n",
       "45       Virginia    South     Richmond     8631393      39490  Democratic   \n",
       "46     Washington     West      Olympia     7705281      66456  Democratic   \n",
       "47  West Virginia    South   Charleston     1793716      24038  Republican   \n",
       "48      Wisconsin  Midwest      Madison     5893718      54158  Republican   \n",
       "49        Wyoming     West     Cheyenne      576851      97093  Republican   \n",
       "\n",
       "    Density  \n",
       "0     99.21  \n",
       "1      1.29  \n",
       "2     62.96  \n",
       "3     57.87  \n",
       "4    253.81  \n",
       "..      ...  \n",
       "45   218.57  \n",
       "46   115.95  \n",
       "47    74.62  \n",
       "48   108.82  \n",
       "49     5.94  \n",
       "\n",
       "[50 rows x 7 columns]"
      ]
     },
     "execution_count": 49,
     "metadata": {},
     "output_type": "execute_result"
    }
   ],
   "source": [
    "states"
   ]
  },
  {
   "cell_type": "code",
   "execution_count": 50,
   "metadata": {},
   "outputs": [
    {
     "data": {
      "text/html": [
       "<div>\n",
       "<style scoped>\n",
       "    .dataframe tbody tr th:only-of-type {\n",
       "        vertical-align: middle;\n",
       "    }\n",
       "\n",
       "    .dataframe tbody tr th {\n",
       "        vertical-align: top;\n",
       "    }\n",
       "\n",
       "    .dataframe thead th {\n",
       "        text-align: right;\n",
       "    }\n",
       "</style>\n",
       "<table border=\"1\" class=\"dataframe\">\n",
       "  <thead>\n",
       "    <tr style=\"text-align: right;\">\n",
       "      <th></th>\n",
       "      <th>Region</th>\n",
       "      <th>Capital City</th>\n",
       "      <th>Population</th>\n",
       "      <th>Land Area</th>\n",
       "      <th>Party</th>\n",
       "      <th>Density</th>\n",
       "    </tr>\n",
       "    <tr>\n",
       "      <th>State</th>\n",
       "      <th></th>\n",
       "      <th></th>\n",
       "      <th></th>\n",
       "      <th></th>\n",
       "      <th></th>\n",
       "      <th></th>\n",
       "    </tr>\n",
       "  </thead>\n",
       "  <tbody>\n",
       "    <tr>\n",
       "      <th>Alabama</th>\n",
       "      <td>South</td>\n",
       "      <td>Montgomery</td>\n",
       "      <td>5024279</td>\n",
       "      <td>50645</td>\n",
       "      <td>Republican</td>\n",
       "      <td>99.21</td>\n",
       "    </tr>\n",
       "    <tr>\n",
       "      <th>Alaska</th>\n",
       "      <td>West</td>\n",
       "      <td>Juneau</td>\n",
       "      <td>733391</td>\n",
       "      <td>570641</td>\n",
       "      <td>Republican</td>\n",
       "      <td>1.29</td>\n",
       "    </tr>\n",
       "    <tr>\n",
       "      <th>Arizona</th>\n",
       "      <td>West</td>\n",
       "      <td>Phoenix</td>\n",
       "      <td>7151502</td>\n",
       "      <td>113594</td>\n",
       "      <td>Republican</td>\n",
       "      <td>62.96</td>\n",
       "    </tr>\n",
       "    <tr>\n",
       "      <th>Arkansas</th>\n",
       "      <td>South</td>\n",
       "      <td>Little Rock</td>\n",
       "      <td>3011524</td>\n",
       "      <td>52035</td>\n",
       "      <td>Republican</td>\n",
       "      <td>57.87</td>\n",
       "    </tr>\n",
       "    <tr>\n",
       "      <th>California</th>\n",
       "      <td>West</td>\n",
       "      <td>Sacramento</td>\n",
       "      <td>39538223</td>\n",
       "      <td>155779</td>\n",
       "      <td>Democratic</td>\n",
       "      <td>253.81</td>\n",
       "    </tr>\n",
       "    <tr>\n",
       "      <th>...</th>\n",
       "      <td>...</td>\n",
       "      <td>...</td>\n",
       "      <td>...</td>\n",
       "      <td>...</td>\n",
       "      <td>...</td>\n",
       "      <td>...</td>\n",
       "    </tr>\n",
       "    <tr>\n",
       "      <th>Virginia</th>\n",
       "      <td>South</td>\n",
       "      <td>Richmond</td>\n",
       "      <td>8631393</td>\n",
       "      <td>39490</td>\n",
       "      <td>Democratic</td>\n",
       "      <td>218.57</td>\n",
       "    </tr>\n",
       "    <tr>\n",
       "      <th>Washington</th>\n",
       "      <td>West</td>\n",
       "      <td>Olympia</td>\n",
       "      <td>7705281</td>\n",
       "      <td>66456</td>\n",
       "      <td>Democratic</td>\n",
       "      <td>115.95</td>\n",
       "    </tr>\n",
       "    <tr>\n",
       "      <th>West Virginia</th>\n",
       "      <td>South</td>\n",
       "      <td>Charleston</td>\n",
       "      <td>1793716</td>\n",
       "      <td>24038</td>\n",
       "      <td>Republican</td>\n",
       "      <td>74.62</td>\n",
       "    </tr>\n",
       "    <tr>\n",
       "      <th>Wisconsin</th>\n",
       "      <td>Midwest</td>\n",
       "      <td>Madison</td>\n",
       "      <td>5893718</td>\n",
       "      <td>54158</td>\n",
       "      <td>Republican</td>\n",
       "      <td>108.82</td>\n",
       "    </tr>\n",
       "    <tr>\n",
       "      <th>Wyoming</th>\n",
       "      <td>West</td>\n",
       "      <td>Cheyenne</td>\n",
       "      <td>576851</td>\n",
       "      <td>97093</td>\n",
       "      <td>Republican</td>\n",
       "      <td>5.94</td>\n",
       "    </tr>\n",
       "  </tbody>\n",
       "</table>\n",
       "<p>50 rows × 6 columns</p>\n",
       "</div>"
      ],
      "text/plain": [
       "                Region Capital City  Population  Land Area       Party  \\\n",
       "State                                                                    \n",
       "Alabama          South   Montgomery     5024279      50645  Republican   \n",
       "Alaska            West       Juneau      733391     570641  Republican   \n",
       "Arizona           West      Phoenix     7151502     113594  Republican   \n",
       "Arkansas         South  Little Rock     3011524      52035  Republican   \n",
       "California        West   Sacramento    39538223     155779  Democratic   \n",
       "...                ...          ...         ...        ...         ...   \n",
       "Virginia         South     Richmond     8631393      39490  Democratic   \n",
       "Washington        West      Olympia     7705281      66456  Democratic   \n",
       "West Virginia    South   Charleston     1793716      24038  Republican   \n",
       "Wisconsin      Midwest      Madison     5893718      54158  Republican   \n",
       "Wyoming           West     Cheyenne      576851      97093  Republican   \n",
       "\n",
       "               Density  \n",
       "State                   \n",
       "Alabama          99.21  \n",
       "Alaska            1.29  \n",
       "Arizona          62.96  \n",
       "Arkansas         57.87  \n",
       "California      253.81  \n",
       "...                ...  \n",
       "Virginia        218.57  \n",
       "Washington      115.95  \n",
       "West Virginia    74.62  \n",
       "Wisconsin       108.82  \n",
       "Wyoming           5.94  \n",
       "\n",
       "[50 rows x 6 columns]"
      ]
     },
     "execution_count": 50,
     "metadata": {},
     "output_type": "execute_result"
    }
   ],
   "source": [
    "states = states.set_index('State')\n",
    "states"
   ]
  },
  {
   "cell_type": "code",
   "execution_count": 51,
   "metadata": {},
   "outputs": [
    {
     "data": {
      "text/plain": [
       "State\n",
       "Alabama           99.21\n",
       "Alaska             1.29\n",
       "Arizona           62.96\n",
       "Arkansas          57.87\n",
       "California       253.81\n",
       "                  ...  \n",
       "Virginia         218.57\n",
       "Washington       115.95\n",
       "West Virginia     74.62\n",
       "Wisconsin        108.82\n",
       "Wyoming            5.94\n",
       "Name: Density, Length: 50, dtype: float64"
      ]
     },
     "execution_count": 51,
     "metadata": {},
     "output_type": "execute_result"
    }
   ],
   "source": [
    "# Which one is Pennsylvania? The one whose row label is \"Pennsylvania\"!\n",
    "states.get('Density')"
   ]
  },
  {
   "cell_type": "markdown",
   "metadata": {
    "slideshow": {
     "slide_type": "slide"
    }
   },
   "source": [
    "### Accessing using the row label\n",
    "\n",
    "To pull out one particular entry of a DataFrame corresponding to a row and column with certain labels:\n",
    "1. Use `.get(column_name)` to extract the entire column as a Series.\n",
    "2. Use `.loc[]` to access the element of a Series with a particular row label.\n",
    "\n",
    "In this class, we'll always first access a column, then a row (but row, then column is also possible)."
   ]
  },
  {
   "cell_type": "code",
   "execution_count": 52,
   "metadata": {},
   "outputs": [
    {
     "data": {
      "text/plain": [
       "State\n",
       "Alabama           99.21\n",
       "Alaska             1.29\n",
       "Arizona           62.96\n",
       "Arkansas          57.87\n",
       "California       253.81\n",
       "                  ...  \n",
       "Virginia         218.57\n",
       "Washington       115.95\n",
       "West Virginia     74.62\n",
       "Wisconsin        108.82\n",
       "Wyoming            5.94\n",
       "Name: Density, Length: 50, dtype: float64"
      ]
     },
     "execution_count": 52,
     "metadata": {},
     "output_type": "execute_result"
    }
   ],
   "source": [
    "states.get('Density')"
   ]
  },
  {
   "cell_type": "code",
   "execution_count": 53,
   "metadata": {},
   "outputs": [
    {
     "data": {
      "text/plain": [
       "290.60858681804973"
      ]
     },
     "execution_count": 53,
     "metadata": {},
     "output_type": "execute_result"
    }
   ],
   "source": [
    "states.get('Density').loc['Pennsylvania']"
   ]
  },
  {
   "cell_type": "markdown",
   "metadata": {
    "slideshow": {
     "slide_type": "slide"
    }
   },
   "source": [
    "### Summary: Accessing elements of a DataFrame\n",
    "\n",
    "- First, `.get` the appropriate column as a Series.\n",
    "- Then, use one of two ways to access an element of a Series:\n",
    "    - `.iloc[]` uses the integer position.\n",
    "    - `.loc[]` uses the row label.\n",
    "    - Each is best for different scenarios."
   ]
  },
  {
   "cell_type": "code",
   "execution_count": 54,
   "metadata": {},
   "outputs": [
    {
     "data": {
      "text/plain": [
       "State\n",
       "Alabama           99.21\n",
       "Alaska             1.29\n",
       "Arizona           62.96\n",
       "Arkansas          57.87\n",
       "California       253.81\n",
       "                  ...  \n",
       "Virginia         218.57\n",
       "Washington       115.95\n",
       "West Virginia     74.62\n",
       "Wisconsin        108.82\n",
       "Wyoming            5.94\n",
       "Name: Density, Length: 50, dtype: float64"
      ]
     },
     "execution_count": 54,
     "metadata": {},
     "output_type": "execute_result"
    }
   ],
   "source": [
    "states.get('Density')"
   ]
  },
  {
   "cell_type": "code",
   "execution_count": 55,
   "metadata": {},
   "outputs": [
    {
     "data": {
      "text/plain": [
       "253.80971119342146"
      ]
     },
     "execution_count": 55,
     "metadata": {},
     "output_type": "execute_result"
    }
   ],
   "source": [
    "states.get('Density').iloc[4]"
   ]
  },
  {
   "cell_type": "code",
   "execution_count": 56,
   "metadata": {},
   "outputs": [
    {
     "data": {
      "text/plain": [
       "253.80971119342146"
      ]
     },
     "execution_count": 56,
     "metadata": {},
     "output_type": "execute_result"
    }
   ],
   "source": [
    "states.get('Density').loc['California']"
   ]
  },
  {
   "cell_type": "markdown",
   "metadata": {
    "slideshow": {
     "slide_type": "slide"
    }
   },
   "source": [
    "### Note\n",
    "\n",
    "- Sometimes the integer position and row label are the same.\n",
    "- This happens by default with `bpd.read_csv`."
   ]
  },
  {
   "cell_type": "code",
   "execution_count": 57,
   "metadata": {},
   "outputs": [
    {
     "data": {
      "text/html": [
       "<div>\n",
       "<style scoped>\n",
       "    .dataframe tbody tr th:only-of-type {\n",
       "        vertical-align: middle;\n",
       "    }\n",
       "\n",
       "    .dataframe tbody tr th {\n",
       "        vertical-align: top;\n",
       "    }\n",
       "\n",
       "    .dataframe thead th {\n",
       "        text-align: right;\n",
       "    }\n",
       "</style>\n",
       "<table border=\"1\" class=\"dataframe\">\n",
       "  <thead>\n",
       "    <tr style=\"text-align: right;\">\n",
       "      <th></th>\n",
       "      <th>State</th>\n",
       "      <th>Region</th>\n",
       "      <th>Capital City</th>\n",
       "      <th>Population</th>\n",
       "      <th>Land Area</th>\n",
       "      <th>Party</th>\n",
       "    </tr>\n",
       "  </thead>\n",
       "  <tbody>\n",
       "    <tr>\n",
       "      <th>0</th>\n",
       "      <td>Alabama</td>\n",
       "      <td>South</td>\n",
       "      <td>Montgomery</td>\n",
       "      <td>5024279</td>\n",
       "      <td>50645</td>\n",
       "      <td>Republican</td>\n",
       "    </tr>\n",
       "    <tr>\n",
       "      <th>1</th>\n",
       "      <td>Alaska</td>\n",
       "      <td>West</td>\n",
       "      <td>Juneau</td>\n",
       "      <td>733391</td>\n",
       "      <td>570641</td>\n",
       "      <td>Republican</td>\n",
       "    </tr>\n",
       "    <tr>\n",
       "      <th>2</th>\n",
       "      <td>Arizona</td>\n",
       "      <td>West</td>\n",
       "      <td>Phoenix</td>\n",
       "      <td>7151502</td>\n",
       "      <td>113594</td>\n",
       "      <td>Republican</td>\n",
       "    </tr>\n",
       "    <tr>\n",
       "      <th>3</th>\n",
       "      <td>Arkansas</td>\n",
       "      <td>South</td>\n",
       "      <td>Little Rock</td>\n",
       "      <td>3011524</td>\n",
       "      <td>52035</td>\n",
       "      <td>Republican</td>\n",
       "    </tr>\n",
       "    <tr>\n",
       "      <th>4</th>\n",
       "      <td>California</td>\n",
       "      <td>West</td>\n",
       "      <td>Sacramento</td>\n",
       "      <td>39538223</td>\n",
       "      <td>155779</td>\n",
       "      <td>Democratic</td>\n",
       "    </tr>\n",
       "    <tr>\n",
       "      <th>...</th>\n",
       "      <td>...</td>\n",
       "      <td>...</td>\n",
       "      <td>...</td>\n",
       "      <td>...</td>\n",
       "      <td>...</td>\n",
       "      <td>...</td>\n",
       "    </tr>\n",
       "    <tr>\n",
       "      <th>45</th>\n",
       "      <td>Virginia</td>\n",
       "      <td>South</td>\n",
       "      <td>Richmond</td>\n",
       "      <td>8631393</td>\n",
       "      <td>39490</td>\n",
       "      <td>Democratic</td>\n",
       "    </tr>\n",
       "    <tr>\n",
       "      <th>46</th>\n",
       "      <td>Washington</td>\n",
       "      <td>West</td>\n",
       "      <td>Olympia</td>\n",
       "      <td>7705281</td>\n",
       "      <td>66456</td>\n",
       "      <td>Democratic</td>\n",
       "    </tr>\n",
       "    <tr>\n",
       "      <th>47</th>\n",
       "      <td>West Virginia</td>\n",
       "      <td>South</td>\n",
       "      <td>Charleston</td>\n",
       "      <td>1793716</td>\n",
       "      <td>24038</td>\n",
       "      <td>Republican</td>\n",
       "    </tr>\n",
       "    <tr>\n",
       "      <th>48</th>\n",
       "      <td>Wisconsin</td>\n",
       "      <td>Midwest</td>\n",
       "      <td>Madison</td>\n",
       "      <td>5893718</td>\n",
       "      <td>54158</td>\n",
       "      <td>Republican</td>\n",
       "    </tr>\n",
       "    <tr>\n",
       "      <th>49</th>\n",
       "      <td>Wyoming</td>\n",
       "      <td>West</td>\n",
       "      <td>Cheyenne</td>\n",
       "      <td>576851</td>\n",
       "      <td>97093</td>\n",
       "      <td>Republican</td>\n",
       "    </tr>\n",
       "  </tbody>\n",
       "</table>\n",
       "<p>50 rows × 6 columns</p>\n",
       "</div>"
      ],
      "text/plain": [
       "            State   Region Capital City  Population  Land Area       Party\n",
       "0         Alabama    South   Montgomery     5024279      50645  Republican\n",
       "1          Alaska     West       Juneau      733391     570641  Republican\n",
       "2         Arizona     West      Phoenix     7151502     113594  Republican\n",
       "3        Arkansas    South  Little Rock     3011524      52035  Republican\n",
       "4      California     West   Sacramento    39538223     155779  Democratic\n",
       "..            ...      ...          ...         ...        ...         ...\n",
       "45       Virginia    South     Richmond     8631393      39490  Democratic\n",
       "46     Washington     West      Olympia     7705281      66456  Democratic\n",
       "47  West Virginia    South   Charleston     1793716      24038  Republican\n",
       "48      Wisconsin  Midwest      Madison     5893718      54158  Republican\n",
       "49        Wyoming     West     Cheyenne      576851      97093  Republican\n",
       "\n",
       "[50 rows x 6 columns]"
      ]
     },
     "execution_count": 57,
     "metadata": {},
     "output_type": "execute_result"
    }
   ],
   "source": [
    "bpd.read_csv('data/states.csv')"
   ]
  },
  {
   "cell_type": "code",
   "execution_count": 58,
   "metadata": {},
   "outputs": [
    {
     "data": {
      "text/plain": [
       "'Oklahoma City'"
      ]
     },
     "execution_count": 58,
     "metadata": {},
     "output_type": "execute_result"
    }
   ],
   "source": [
    "bpd.read_csv('data/states.csv').get('Capital City').loc[35]"
   ]
  },
  {
   "cell_type": "code",
   "execution_count": 59,
   "metadata": {},
   "outputs": [
    {
     "data": {
      "text/plain": [
       "'Oklahoma City'"
      ]
     },
     "execution_count": 59,
     "metadata": {},
     "output_type": "execute_result"
    }
   ],
   "source": [
    "bpd.read_csv('data/states.csv').get('Capital City').iloc[35]"
   ]
  },
  {
   "attachments": {},
   "cell_type": "markdown",
   "metadata": {},
   "source": [
    "# Querying and Grouping\n"
   ]
  },
  {
   "attachments": {},
   "cell_type": "markdown",
   "metadata": {},
   "source": [
    "### The data: US states  🗽\n",
    "\n",
    "We'll continue working with the same data from last time."
   ]
  },
  {
   "cell_type": "code",
   "execution_count": null,
   "metadata": {},
   "outputs": [],
   "source": [
    "states = bpd.read_csv('data/states.csv')\n",
    "states = states.assign(Density=states.get('Population') / states.get('Land Area'))\n",
    "states"
   ]
  },
  {
   "attachments": {},
   "cell_type": "markdown",
   "metadata": {},
   "source": [
    "Index by state, not row numbers."
   ]
  },
  {
   "cell_type": "code",
   "execution_count": null,
   "metadata": {},
   "outputs": [],
   "source": [
    "states = states.set_index('State')"
   ]
  },
  {
   "attachments": {},
   "cell_type": "markdown",
   "metadata": {},
   "source": [
    "## Example 5: Which states are in the West?\n",
    "\n",
    "**Key concept**: Querying.\n",
    "\n",
    "_Not covered on the quiz!_"
   ]
  },
  {
   "attachments": {},
   "cell_type": "markdown",
   "metadata": {},
   "source": [
    "### The problem\n",
    "\n",
    "We want to create a DataFrame consisting of only the states whose `'Region'` is `'West'`. How do we do that?"
   ]
  },
  {
   "attachments": {},
   "cell_type": "markdown",
   "metadata": {},
   "source": [
    "### The solution"
   ]
  },
  {
   "cell_type": "code",
   "execution_count": 1,
   "metadata": {},
   "outputs": [
    {
     "ename": "NameError",
     "evalue": "name 'states' is not defined",
     "output_type": "error",
     "traceback": [
      "\u001b[0;31m---------------------------------------------------------------------------\u001b[0m",
      "\u001b[0;31mNameError\u001b[0m                                 Traceback (most recent call last)",
      "Cell \u001b[0;32mIn[1], line 2\u001b[0m\n\u001b[1;32m      1\u001b[0m \u001b[39m# This DataFrame only contains rows where the 'Region' is 'West'!\u001b[39;00m\n\u001b[0;32m----> 2\u001b[0m only_west \u001b[39m=\u001b[39m states[states\u001b[39m.\u001b[39mget(\u001b[39m'\u001b[39m\u001b[39mRegion\u001b[39m\u001b[39m'\u001b[39m) \u001b[39m==\u001b[39m \u001b[39m'\u001b[39m\u001b[39mWest\u001b[39m\u001b[39m'\u001b[39m]\n\u001b[1;32m      3\u001b[0m only_west\n",
      "\u001b[0;31mNameError\u001b[0m: name 'states' is not defined"
     ]
    }
   ],
   "source": [
    "# This DataFrame only contains rows where the 'Region' is 'West'!\n",
    "only_west = states[states.get('Region') == 'West']\n",
    "only_west"
   ]
  },
  {
   "attachments": {},
   "cell_type": "markdown",
   "metadata": {},
   "source": [
    "### Aside: Booleans (another type)\n",
    "\n",
    "- When we compare two values, the result is either `True` or `False`.\n",
    "    - Notice, these words are **not** in quotes.\n",
    "- `bool` is a data type in Python, just like `int`, `float`, and `str`. \n",
    "    - It stands for \"Boolean\", named after George Boole, an early mathematician.\n",
    "- There are only two possible Boolean values: `True` or `False`.\n",
    "    - Yes or no.\n",
    "    - On or off.\n",
    "    - 1 or 0."
   ]
  },
  {
   "cell_type": "code",
   "execution_count": null,
   "metadata": {},
   "outputs": [],
   "source": [
    "5 == 6"
   ]
  },
  {
   "cell_type": "code",
   "execution_count": null,
   "metadata": {},
   "outputs": [],
   "source": [
    "type(5 == 6)"
   ]
  },
  {
   "cell_type": "code",
   "execution_count": null,
   "metadata": {},
   "outputs": [],
   "source": [
    "9 + 10 < 21"
   ]
  },
  {
   "attachments": {},
   "cell_type": "markdown",
   "metadata": {},
   "source": [
    "### Comparison operators\n",
    "\n",
    "There are several types of comparisons we can make.\n",
    "\n",
    "|symbol|meaning|\n",
    "|--------|--------|\n",
    "|`==` |equal to |\n",
    "|`!=` |not equal to |\n",
    "|`<`|less than|\n",
    "|`<=`|less than or equal to|\n",
    "|`>`|greater than|\n",
    "|`>=`|greater than or equal to|\n",
    "\n",
    "When comparing an entire Series to a single value, the result is a Series of `bool`s (via broadcasting)."
   ]
  },
  {
   "cell_type": "code",
   "execution_count": null,
   "metadata": {},
   "outputs": [],
   "source": [
    "states"
   ]
  },
  {
   "cell_type": "code",
   "execution_count": null,
   "metadata": {},
   "outputs": [],
   "source": [
    "states.get('Region') == 'West'"
   ]
  },
  {
   "attachments": {},
   "cell_type": "markdown",
   "metadata": {},
   "source": [
    "### What is a query? 🤔\n",
    "\n",
    "- A *query* is code that extracts rows from a DataFrame for which certain condition(s) are true.\n",
    "- We use queries to *filter* DataFrames to contain only the rows that satisfy given conditions."
   ]
  },
  {
   "attachments": {},
   "cell_type": "markdown",
   "metadata": {},
   "source": [
    "### How do we query a DataFrame?\n",
    "\n",
    "To select only certain rows of `states`:\n",
    "\n",
    "1. Make a sequence (list/array/Series) of `True`s (keep) and `False`s (discard), usually by making a comparison.\n",
    "2. Then pass it into `states[sequence_goes_here]`."
   ]
  },
  {
   "cell_type": "code",
   "execution_count": 2,
   "metadata": {},
   "outputs": [
    {
     "ename": "NameError",
     "evalue": "name 'states' is not defined",
     "output_type": "error",
     "traceback": [
      "\u001b[0;31m---------------------------------------------------------------------------\u001b[0m",
      "\u001b[0;31mNameError\u001b[0m                                 Traceback (most recent call last)",
      "Cell \u001b[0;32mIn[2], line 1\u001b[0m\n\u001b[0;32m----> 1\u001b[0m states[states\u001b[39m.\u001b[39mget(\u001b[39m'\u001b[39m\u001b[39mRegion\u001b[39m\u001b[39m'\u001b[39m) \u001b[39m==\u001b[39m \u001b[39m'\u001b[39m\u001b[39mPacific Northwest\u001b[39m\u001b[39m'\u001b[39m]\n",
      "\u001b[0;31mNameError\u001b[0m: name 'states' is not defined"
     ]
    }
   ],
   "source": [
    "states[states.get('Region') == 'Pacific Northwest']"
   ]
  },
  {
   "cell_type": "code",
   "execution_count": null,
   "metadata": {},
   "outputs": [],
   "source": [
    "states.get('Region') == 'Pacific Northwest'"
   ]
  },
  {
   "attachments": {},
   "cell_type": "markdown",
   "metadata": {},
   "source": [
    "## Example 6: What proportion of US states are Republican?\n",
    "\n",
    "**Key concept**: Shape of a DataFrame. "
   ]
  },
  {
   "attachments": {},
   "cell_type": "markdown",
   "metadata": {},
   "source": [
    "##### Strategy\n",
    "1. Query to extract a DataFrame of just the states where the `'Party'` is `'Republican'`.\n",
    "2. Count the number of such states.\n",
    "3. Divide by the total number of states."
   ]
  },
  {
   "cell_type": "code",
   "execution_count": null,
   "metadata": {},
   "outputs": [],
   "source": [
    "only_rep = states[states.get('Party') == 'Republican']\n",
    "only_rep"
   ]
  },
  {
   "attachments": {},
   "cell_type": "markdown",
   "metadata": {},
   "source": [
    "### Shape of a DataFrame\n",
    "\n",
    "- `.shape` returns the number of rows and columns in a given DataFrame.\n",
    "    - `.shape` is not a method, so we **don't use parentheses**.\n",
    "    - `.shape` is an *attribute*, as it describes the DataFrame.\n",
    "- Access each with `[]`: \n",
    "    - `.shape[0]` for rows.\n",
    "    - `.shape[1]` for columns."
   ]
  },
  {
   "cell_type": "code",
   "execution_count": null,
   "metadata": {},
   "outputs": [],
   "source": [
    "only_rep.shape"
   ]
  },
  {
   "cell_type": "code",
   "execution_count": null,
   "metadata": {},
   "outputs": [],
   "source": [
    "# Number of rows.\n",
    "only_rep.shape[0]"
   ]
  },
  {
   "cell_type": "code",
   "execution_count": null,
   "metadata": {},
   "outputs": [],
   "source": [
    "# Number of columns.\n",
    "only_rep.shape[1]"
   ]
  },
  {
   "cell_type": "code",
   "execution_count": null,
   "metadata": {},
   "outputs": [],
   "source": [
    "# What proportion of US states are Republican?\n",
    "only_rep.shape[0] / states.shape[0]"
   ]
  },
  {
   "attachments": {},
   "cell_type": "markdown",
   "metadata": {},
   "source": [
    "## Example 7: Which Midwestern state has the most land area?\n",
    "\n",
    "**Key concepts**: Working with the index. Combining multiple steps."
   ]
  },
  {
   "attachments": {},
   "cell_type": "markdown",
   "metadata": {},
   "source": [
    "##### Strategy\n",
    "1. Query to extract a DataFrame of just the states in the `'Midwest'`.\n",
    "2. Sort by `'Land Area'` in descending order.\n",
    "3. Extract the first element from the index."
   ]
  },
  {
   "cell_type": "code",
   "execution_count": 3,
   "metadata": {},
   "outputs": [
    {
     "ename": "NameError",
     "evalue": "name 'states' is not defined",
     "output_type": "error",
     "traceback": [
      "\u001b[0;31m---------------------------------------------------------------------------\u001b[0m",
      "\u001b[0;31mNameError\u001b[0m                                 Traceback (most recent call last)",
      "Cell \u001b[0;32mIn[3], line 1\u001b[0m\n\u001b[0;32m----> 1\u001b[0m midwest \u001b[39m=\u001b[39m states[states\u001b[39m.\u001b[39mget(\u001b[39m'\u001b[39m\u001b[39mRegion\u001b[39m\u001b[39m'\u001b[39m) \u001b[39m==\u001b[39m \u001b[39m'\u001b[39m\u001b[39mMidwest\u001b[39m\u001b[39m'\u001b[39m]\n\u001b[1;32m      2\u001b[0m midwest\n",
      "\u001b[0;31mNameError\u001b[0m: name 'states' is not defined"
     ]
    }
   ],
   "source": [
    "midwest = states[states.get('Region') == 'Midwest']\n",
    "midwest"
   ]
  },
  {
   "cell_type": "code",
   "execution_count": null,
   "metadata": {},
   "outputs": [],
   "source": [
    "midwest_sorted = midwest.sort_values(by='Land Area', ascending=False)\n",
    "midwest_sorted"
   ]
  },
  {
   "cell_type": "code",
   "execution_count": null,
   "metadata": {},
   "outputs": [],
   "source": [
    "midwest_sorted.get('State').iloc[0]"
   ]
  },
  {
   "attachments": {},
   "cell_type": "markdown",
   "metadata": {},
   "source": [
    "### Working with the index\n",
    "\n",
    "- We can't use `.get` because `.get` is only for columns, and there is no column called `'State'`. \n",
    "    - Instead, `'State'` is the index of the DataFrame. \n",
    "- To extract the index of a DataFrame, use `.index`.\n",
    "    - Like `.shape`, this is an attribute of the DataFrame, not a method. Don't use parentheses.  \n",
    "- Access particular elements in the index with `[]`."
   ]
  },
  {
   "cell_type": "code",
   "execution_count": null,
   "metadata": {},
   "outputs": [],
   "source": [
    "midwest_sorted.index"
   ]
  },
  {
   "cell_type": "code",
   "execution_count": null,
   "metadata": {},
   "outputs": [],
   "source": [
    "midwest_sorted.index[0]"
   ]
  },
  {
   "attachments": {},
   "cell_type": "markdown",
   "metadata": {},
   "source": [
    "### Combining multiple steps\n",
    "\n",
    "- It is not necessary to define the intermediate variables `midwest` and `midwest_sorted`. We can do everything in one line of code.\n",
    "\n",
    "- When solving a multi-step problem, develop your solution incrementally. Write one piece of code at a time and run it."
   ]
  },
  {
   "cell_type": "code",
   "execution_count": 4,
   "metadata": {},
   "outputs": [
    {
     "ename": "NameError",
     "evalue": "name 'states' is not defined",
     "output_type": "error",
     "traceback": [
      "\u001b[0;31m---------------------------------------------------------------------------\u001b[0m",
      "\u001b[0;31mNameError\u001b[0m                                 Traceback (most recent call last)",
      "Cell \u001b[0;32mIn[4], line 2\u001b[0m\n\u001b[1;32m      1\u001b[0m \u001b[39m# Full answer, which you should build up one step at a time.\u001b[39;00m\n\u001b[0;32m----> 2\u001b[0m states[states\u001b[39m.\u001b[39mget(\u001b[39m'\u001b[39m\u001b[39mRegion\u001b[39m\u001b[39m'\u001b[39m) \u001b[39m==\u001b[39m \u001b[39m'\u001b[39m\u001b[39mMidwest\u001b[39m\u001b[39m'\u001b[39m]\u001b[39m.\u001b[39msort_values(by\u001b[39m=\u001b[39m\u001b[39m'\u001b[39m\u001b[39mLand Area\u001b[39m\u001b[39m'\u001b[39m, ascending\u001b[39m=\u001b[39m\u001b[39mFalse\u001b[39;00m)\u001b[39m.\u001b[39mindex[\u001b[39m0\u001b[39m]\n",
      "\u001b[0;31mNameError\u001b[0m: name 'states' is not defined"
     ]
    }
   ],
   "source": [
    "# Full answer, which you should build up one step at a time.\n",
    "states[states.get('Region') == 'Midwest'].sort_values(by='Land Area', ascending=False).index[0]"
   ]
  },
  {
   "attachments": {},
   "cell_type": "markdown",
   "metadata": {},
   "source": [
    "- If a line of code gets too long, enclose it in parentheses to split it over multiple lines."
   ]
  },
  {
   "cell_type": "code",
   "execution_count": null,
   "metadata": {},
   "outputs": [],
   "source": [
    "# You can space your code out like this if needed.\n",
    "(\n",
    "    states[states.get('Region') == 'Midwest']\n",
    "    .sort_values(by='Land Area', ascending=False)\n",
    "    .index[0]\n",
    ")"
   ]
  },
  {
   "attachments": {},
   "cell_type": "markdown",
   "metadata": {},
   "source": [
    "### Concept Check ✅ – Answer at [cc.dsc10.com](http://cc.dsc10.com) \n",
    "\n",
    "Which expression below evaluates to **the total population of the `'West'`**?\n",
    "\n",
    "A. `states[states.get('Region') == 'West'].get('Population').sum()`\n",
    "\n",
    "B. `states.get('Population').sum()[states.get('Region') == 'West']`\n",
    "\n",
    "C. `states['West'].get('Population').sum()`\n",
    "   \n",
    "D. More than one of the above."
   ]
  },
  {
   "attachments": {},
   "cell_type": "markdown",
   "metadata": {},
   "source": [
    "## Example 8: What are the top three most-populated Republican states in the South?\n",
    "\n",
    "**Key concepts**: Queries with multiple conditions. Selecting rows by position."
   ]
  },
  {
   "attachments": {},
   "cell_type": "markdown",
   "metadata": {},
   "source": [
    "### Multiple conditions\n",
    "\n",
    "- To write a query with multiple conditions, use `&` for \"and\" and `|` for \"or\".\n",
    "    - `&`: All conditions must be true.\n",
    "    - `|`: At least one condition must be true.\n",
    "- **You must use `(`parentheses`)` around each condition!**\n",
    "- 🚨 Don't use the Python keywords `and` and `or` here! They do not behave as you'd want.\n",
    "    - See [BPD 10.3](https://notes.dsc10.com/02-data_sets/querying.html#multiple-conditions) for an explanation."
   ]
  },
  {
   "cell_type": "code",
   "execution_count": null,
   "metadata": {},
   "outputs": [],
   "source": [
    "states[(states.get('Party') == 'Republican') & (states.get('Region') == 'South')]"
   ]
  },
  {
   "cell_type": "code",
   "execution_count": null,
   "metadata": {},
   "outputs": [],
   "source": [
    "# You can also add line breaks within brackets.\n",
    "states[(states.get('Party') == 'Republican') & \n",
    "       (states.get('Region') == 'South')]"
   ]
  },
  {
   "attachments": {},
   "cell_type": "markdown",
   "metadata": {},
   "source": [
    "### The `&` and `|` operators work element-wise!"
   ]
  },
  {
   "cell_type": "code",
   "execution_count": null,
   "metadata": {},
   "outputs": [],
   "source": [
    "(states.get('Party') == 'Republican')"
   ]
  },
  {
   "cell_type": "code",
   "execution_count": null,
   "metadata": {},
   "outputs": [],
   "source": [
    "(states.get('Region') == 'South')"
   ]
  },
  {
   "cell_type": "code",
   "execution_count": null,
   "metadata": {},
   "outputs": [],
   "source": [
    "(states.get('Party') == 'Republican') & (states.get('Region') == 'South')"
   ]
  },
  {
   "attachments": {},
   "cell_type": "markdown",
   "metadata": {},
   "source": [
    "### Original Question: What are the top three most-populated Republican states in the South?"
   ]
  },
  {
   "cell_type": "code",
   "execution_count": 5,
   "metadata": {},
   "outputs": [
    {
     "ename": "NameError",
     "evalue": "name 'states' is not defined",
     "output_type": "error",
     "traceback": [
      "\u001b[0;31m---------------------------------------------------------------------------\u001b[0m",
      "\u001b[0;31mNameError\u001b[0m                                 Traceback (most recent call last)",
      "Cell \u001b[0;32mIn[5], line 2\u001b[0m\n\u001b[1;32m      1\u001b[0m (\n\u001b[0;32m----> 2\u001b[0m     states[(states\u001b[39m.\u001b[39mget(\u001b[39m'\u001b[39m\u001b[39mParty\u001b[39m\u001b[39m'\u001b[39m) \u001b[39m==\u001b[39m \u001b[39m'\u001b[39m\u001b[39mRepublican\u001b[39m\u001b[39m'\u001b[39m) \u001b[39m&\u001b[39m \n\u001b[1;32m      3\u001b[0m        (states\u001b[39m.\u001b[39mget(\u001b[39m'\u001b[39m\u001b[39mRegion\u001b[39m\u001b[39m'\u001b[39m) \u001b[39m==\u001b[39m \u001b[39m'\u001b[39m\u001b[39mSouth\u001b[39m\u001b[39m'\u001b[39m)]\n\u001b[1;32m      4\u001b[0m     \u001b[39m.\u001b[39msort_values(by\u001b[39m=\u001b[39m\u001b[39m'\u001b[39m\u001b[39mPopulation\u001b[39m\u001b[39m'\u001b[39m, ascending\u001b[39m=\u001b[39m\u001b[39mFalse\u001b[39;00m)\n\u001b[1;32m      5\u001b[0m )\n",
      "\u001b[0;31mNameError\u001b[0m: name 'states' is not defined"
     ]
    }
   ],
   "source": [
    "(\n",
    "    states[(states.get('Party') == 'Republican') & \n",
    "       (states.get('Region') == 'South')]\n",
    "    .sort_values(by='Population', ascending=False)\n",
    ")"
   ]
  },
  {
   "attachments": {},
   "cell_type": "markdown",
   "metadata": {},
   "source": [
    "How do we extract the first three rows of this DataFrame?"
   ]
  },
  {
   "attachments": {},
   "cell_type": "markdown",
   "metadata": {},
   "source": [
    "### Using `.take` to select rows by position\n",
    "\n",
    "- Querying allows us to select rows that satisfy a certain _condition_.\n",
    "- We can also select rows in specific _positions_ with `.take(sequence_of_integer_positions)`. This keeps only the rows whose positions are in the specified sequence (list/array).\n",
    "    - This is analogous to using `.iloc[]` on a Series.\n",
    "    - It's rare to need to select rows by integer position. Querying is **far** more useful."
   ]
  },
  {
   "cell_type": "code",
   "execution_count": null,
   "metadata": {},
   "outputs": [],
   "source": [
    "(\n",
    "    states[(states.get('Party') == 'Republican') & \n",
    "       (states.get('Region')=='South')]\n",
    "    .sort_values(by='Population', ascending=False)\n",
    "    .take([0, 1, 2])\n",
    ")"
   ]
  },
  {
   "attachments": {},
   "cell_type": "markdown",
   "metadata": {},
   "source": [
    "- `.take(np.arange(3))` could equivalently be used in place of `.take([0, 1, 2])`."
   ]
  },
  {
   "attachments": {},
   "cell_type": "markdown",
   "metadata": {},
   "source": [
    "## Example 9: Which region is most populated?\n",
    "\n",
    "**Key concept**: Grouping by one column."
   ]
  },
  {
   "attachments": {},
   "cell_type": "markdown",
   "metadata": {},
   "source": [
    "### Organizing states by region\n",
    "\n",
    "We can find the total population of any one region using the tools we already have."
   ]
  },
  {
   "cell_type": "code",
   "execution_count": null,
   "metadata": {},
   "outputs": [],
   "source": [
    "states[states.get('Region') == 'West'].get('Population').sum()"
   ]
  },
  {
   "cell_type": "code",
   "execution_count": null,
   "metadata": {},
   "outputs": [],
   "source": [
    "states[states.get('Region') == 'Midwest'].get('Population').sum()"
   ]
  },
  {
   "attachments": {},
   "cell_type": "markdown",
   "metadata": {},
   "source": [
    "But can we find the total population of **every** region all at the same time, without writing very similar code multiple times? Yes, there is a better way!"
   ]
  },
  {
   "attachments": {},
   "cell_type": "markdown",
   "metadata": {},
   "source": [
    "### A new method: `.groupby`\n",
    "\n",
    "Observe what happens when we use the `.groupby` method on `states` with the argument `'Region'`."
   ]
  },
  {
   "cell_type": "code",
   "execution_count": null,
   "metadata": {},
   "outputs": [],
   "source": [
    "states.groupby('Region').sum()"
   ]
  },
  {
   "attachments": {},
   "cell_type": "markdown",
   "metadata": {},
   "source": [
    "These populations (for the `'West'` and `'Midwest'`) match the ones we found on the previous slide, except now we get the populations for all regions at the same time. What just happened? 🤯"
   ]
  },
  {
   "attachments": {},
   "cell_type": "markdown",
   "metadata": {},
   "source": [
    "### An illustrative example: Pets 🐱 🐶🐹\n",
    "\n",
    "Consider the DataFrame `pets`, shown below.\n",
    "\n",
    "<table border=\"1\" class=\"dataframe\">\n",
    "  <thead>\n",
    "    <tr style=\"text-align: right;\">\n",
    "      <th></th>\n",
    "      <th>Species</th>\n",
    "      <th>Color</th>\n",
    "      <th>Weight</th>\n",
    "      <th>Age</th>\n",
    "    </tr>\n",
    "  </thead>\n",
    "  <tbody>\n",
    "    <tr>\n",
    "      <th>0</th>\n",
    "      <td>dog</td>\n",
    "      <td>black</td>\n",
    "      <td>40</td>\n",
    "      <td>5.0</td>\n",
    "    </tr>\n",
    "    <tr>\n",
    "      <th>1</th>\n",
    "      <td>cat</td>\n",
    "      <td>golden</td>\n",
    "      <td>15</td>\n",
    "      <td>8.0</td>\n",
    "    </tr>\n",
    "    <tr>\n",
    "      <th>2</th>\n",
    "      <td>cat</td>\n",
    "      <td>black</td>\n",
    "      <td>20</td>\n",
    "      <td>9.0</td>\n",
    "    </tr>\n",
    "    <tr>\n",
    "      <th>3</th>\n",
    "      <td>dog</td>\n",
    "      <td>white</td>\n",
    "      <td>80</td>\n",
    "      <td>2.0</td>\n",
    "    </tr>\n",
    "    <tr>\n",
    "      <th>4</th>\n",
    "      <td>dog</td>\n",
    "      <td>golden</td>\n",
    "      <td>25</td>\n",
    "      <td>0.5</td>\n",
    "    </tr>\n",
    "    <tr>\n",
    "      <th>5</th>\n",
    "      <td>hamster</td>\n",
    "      <td>golden</td>\n",
    "      <td>1</td>\n",
    "      <td>3.0</td>\n",
    "    </tr>\n",
    "  </tbody>\n",
    "</table>\n",
    "\n",
    "Let's see what happens under the hood when we run `pets.groupby('Species').mean()`.\n"
   ]
  },
  {
   "cell_type": "code",
   "execution_count": null,
   "metadata": {},
   "outputs": [],
   "source": [
    "show_grouping_animation()"
   ]
  },
  {
   "attachments": {},
   "cell_type": "markdown",
   "metadata": {},
   "source": [
    "### Let's try it out!"
   ]
  },
  {
   "cell_type": "code",
   "execution_count": null,
   "metadata": {},
   "outputs": [],
   "source": [
    "pets = bpd.DataFrame().assign(\n",
    "    Species=['dog', 'cat', 'cat', 'dog', 'dog', 'hamster'],\n",
    "    Color=['black', 'golden', 'black', 'white', 'golden', 'golden'],\n",
    "    Weight=[40, 15, 20, 80, 25, 1],\n",
    "    Age=[5, 8, 9, 2, 0.5, 3]\n",
    ")\n",
    "pets"
   ]
  },
  {
   "cell_type": "code",
   "execution_count": null,
   "metadata": {},
   "outputs": [],
   "source": [
    "pets.groupby('Species').mean()"
   ]
  },
  {
   "attachments": {},
   "cell_type": "markdown",
   "metadata": {},
   "source": [
    "It takes several steps to go from the original `pets` DataFrame to this grouped DataFrame, but we don't get to see any of Python's inner workings, just the final output."
   ]
  },
  {
   "attachments": {},
   "cell_type": "markdown",
   "metadata": {},
   "source": [
    "### Back to states: which region is most populated?"
   ]
  },
  {
   "cell_type": "code",
   "execution_count": null,
   "metadata": {},
   "outputs": [],
   "source": [
    "states"
   ]
  },
  {
   "cell_type": "code",
   "execution_count": null,
   "metadata": {},
   "outputs": [],
   "source": [
    "states.groupby('Region').sum()"
   ]
  },
  {
   "cell_type": "code",
   "execution_count": null,
   "metadata": {},
   "outputs": [],
   "source": [
    "# Note the use of .index – remember, the index isn't a column!\n",
    "(\n",
    "    states\n",
    "    .groupby('Region')\n",
    "    .sum()\n",
    "    .sort_values(by='Population', ascending=False)\n",
    "    .index[0]\n",
    ")"
   ]
  },
  {
   "attachments": {},
   "cell_type": "markdown",
   "metadata": {},
   "source": [
    "### Using `.groupby` in general\n",
    "\n",
    "In short, `.groupby` aggregates (collects) all rows with the same value in a specified column (e.g. `'Region'`) into a single row in the resulting DataFrame, using an aggregation method (e.g. `.sum()`) to combine values from different rows with the same value in the specified column.\n",
    "\n",
    "To use `.groupby`:"
   ]
  },
  {
   "attachments": {},
   "cell_type": "markdown",
   "metadata": {},
   "source": [
    "1. **Choose a column to group by**.\n",
    "    - `.groupby(column_name)` will gather rows which have the same value in the specified column (`column_name`).\n",
    "    - In the resulting DataFrame, there will be one row for every unique value in that column."
   ]
  },
  {
   "attachments": {},
   "cell_type": "markdown",
   "metadata": {},
   "source": [
    "2. **Choose an aggregation method**.\n",
    "    - The aggregation method will be applied **within** each group.\n",
    "    - The aggregation method is applied individually to each column.\n",
    "        - If it doesn't make sense to use the aggregation method on a column, the column is dropped from the output.\n",
    "    - Common aggregation methods include `.count()`, `.sum()`, `.mean()`, `.median()`, `.max()`, and `.min()`."
   ]
  },
  {
   "attachments": {},
   "cell_type": "markdown",
   "metadata": {},
   "source": [
    "### Observations on grouping\n",
    "1. After grouping, the index changes. The new row labels are the *group labels* (i.e., the unique values in the column that we grouped on), sorted in ascending order."
   ]
  },
  {
   "cell_type": "code",
   "execution_count": null,
   "metadata": {},
   "outputs": [],
   "source": [
    "states"
   ]
  },
  {
   "cell_type": "code",
   "execution_count": null,
   "metadata": {},
   "outputs": [],
   "source": [
    "states.groupby('Region').sum()"
   ]
  },
  {
   "attachments": {},
   "cell_type": "markdown",
   "metadata": {},
   "source": [
    "***Tip:*** look for keywords \"per,\" \"for each,\" and \"indexed by\" when solving problems."
   ]
  },
  {
   "attachments": {},
   "cell_type": "markdown",
   "metadata": {},
   "source": [
    "2. The aggregation method is applied separately to each column. If it does not make sense to apply the aggregation method to a certain column, the column will disappear. 🐇🎩  \n"
   ]
  },
  {
   "attachments": {},
   "cell_type": "markdown",
   "metadata": {},
   "source": [
    "3. Since the aggregation method is applied to each column **separately**, the rows of the resulting DataFrame need to be interpreted with care."
   ]
  },
  {
   "cell_type": "code",
   "execution_count": null,
   "metadata": {},
   "outputs": [],
   "source": [
    "states.groupby('Region').max()"
   ]
  },
  {
   "cell_type": "code",
   "execution_count": null,
   "metadata": {},
   "outputs": [],
   "source": [
    "12812508 / 81759 == 288.77"
   ]
  },
  {
   "attachments": {},
   "cell_type": "markdown",
   "metadata": {},
   "source": [
    "4. The column names don't make sense after grouping with the `.count()` aggregation method."
   ]
  },
  {
   "cell_type": "code",
   "execution_count": null,
   "metadata": {},
   "outputs": [],
   "source": [
    "states.groupby('Region').count()"
   ]
  },
  {
   "attachments": {},
   "cell_type": "markdown",
   "metadata": {},
   "source": [
    "### Dropping, renaming, and reordering columns\n",
    "\n",
    "Consider dropping unneeded columns and renaming columns as follows:\n",
    "1. Use `.assign` to create a new column containing the same values as the old column(s).\n",
    "2. Use `.drop(columns=list_of_column_labels)` to drop the old column(s). \n",
    "    - Alternatively, use `.get(list_of_column_labels)` to keep only the columns in the given list. The columns will appear in the order you specify, so this is also useful for reordering columns!"
   ]
  },
  {
   "cell_type": "code",
   "execution_count": null,
   "metadata": {},
   "outputs": [],
   "source": [
    "states_by_region = states.groupby('Region').count()\n",
    "states_by_region = states_by_region.assign(\n",
    "                    States=states_by_region.get('Capital City')\n",
    "                    ).get(['States'])\n",
    "states_by_region"
   ]
  },
  {
   "cell_type": "markdown",
   "metadata": {
    "slideshow": {
     "slide_type": "slide"
    }
   },
   "source": [
    "## Summary, next time"
   ]
  },
  {
   "cell_type": "markdown",
   "metadata": {
    "slideshow": {
     "slide_type": "slide"
    }
   },
   "source": [
    "### Summary\n",
    "\n",
    "- Arrays make it easy to perform arithmetic operations on all elements of an array and to perform element-wise operations on multiple arrays.\n",
    "- Ranges are arrays of equally-spaced numbers.\n",
    "- We learned many DataFrame methods and techniques. **Don't feel the need to memorize them all right away.**\n",
    "- Instead, refer to this lecture, [the DSC 10 reference sheet](https://drive.google.com/file/d/1ky0Np67HS2O4LO913P-ing97SJG0j27n/view), [the `babypandas` notes](https://notes.dsc10.com/front.html), and [the `babypandas` documentation](https://babypandas.readthedocs.io/en/latest/index.html) when working on assignments.\n",
    "- Over time, these techniques will become more and more familiar. Lab 1 will walk you through many of them.\n",
    "- **Practice!** Frame your own questions using this dataset and try to answer them."
   ]
  },
  {
   "cell_type": "markdown",
   "metadata": {
    "slideshow": {
     "slide_type": "slide"
    }
   },
   "source": [
    "### Next time\n",
    "\n",
    "We'll frame more questions and learn more DataFrame manipulation techniques to answer them. In particular, we'll learn about querying and grouping. "
   ]
  },
  {
   "cell_type": "markdown",
   "metadata": {
    "slideshow": {
     "slide_type": "slide"
    }
   },
   "source": [
    "## Have a good Fourth of July weekend! 🌭🎆🇺🇸"
   ]
  }
 ],
 "metadata": {
  "kernelspec": {
   "display_name": "base",
   "language": "python",
   "name": "python3"
  },
  "language_info": {
   "codemirror_mode": {
    "name": "ipython",
    "version": 3
   },
   "file_extension": ".py",
   "mimetype": "text/x-python",
   "name": "python",
   "nbconvert_exporter": "python",
   "pygments_lexer": "ipython3",
   "version": "3.11.5"
  },
  "livereveal": {
   "scroll": true,
   "transition": "none"
  },
  "rise": {
   "enable_chalkboard": true
  },
  "vscode": {
   "interpreter": {
    "hash": "661c719dae718e49a1162d72fd619be7e051566969fd39c03e5568043e0b0a2e"
   }
  }
 },
 "nbformat": 4,
 "nbformat_minor": 2
}
