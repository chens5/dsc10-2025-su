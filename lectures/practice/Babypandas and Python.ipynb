{
 "cells": [
  {
   "cell_type": "code",
   "execution_count": null,
   "id": "bb91ec88-fbe6-46ba-a439-4a4a13e4a58b",
   "metadata": {},
   "outputs": [],
   "source": [
    "import babypandas as bpd\n",
    "import numpy as np"
   ]
  },
  {
   "cell_type": "markdown",
   "id": "a20a3aec-3081-41bd-b9be-a924b4aa782e",
   "metadata": {},
   "source": [
    "# What is the difference between `babypandas` and Python?"
   ]
  },
  {
   "cell_type": "markdown",
   "id": "45d0c8fa-281c-4553-9e07-070f46b3e546",
   "metadata": {},
   "source": [
    "In short, `babypandas` is a library in Python. This means that `babypandas` is a fast and powerful way for us to manipulate DataFrames that was built on the Python programming language."
   ]
  },
  {
   "cell_type": "markdown",
   "id": "285f9fb2-85dc-4092-b1ec-c8eb67bf878f",
   "metadata": {},
   "source": [
    "**Note**: `list` means it is a list variable and `df` means it is a DataFrame.\n",
    "\n",
    "Some common similarities can be found in the table below:\n",
    "\n",
    "| **Similarities**       | **Python**                         | **babypandas**                                   |\n",
    "|---------------------------|------------------------------------|----------------------------------------------|\n",
    "| Creating Data             | Lists                | `bpd.DataFrame()`, `bpd.Series()`              |\n",
    "| Indexing                  | `list[index]`         | `.loc[]`, `.iloc[]`                          |\n",
    "| Adding Data               | `list.append()`| `df.assign(new_column = data)`                      |\n",
    "| Removing Data             | `list.remove()` | `df.drop(columns=['col'])`      |\n",
    "| Applying Function         | `func(list)`              | `df.apply()`               |\n",
    "| Aggregation               | `sum(list)`, `max(list)`, etc.     | `df.sum()`, `df.mean()`          |\n"
   ]
  },
  {
   "cell_type": "markdown",
   "id": "6d39d195-25c9-45f5-bd43-9bd4612b20f6",
   "metadata": {},
   "source": [
    "We will go through the elements in the table above with examples to help explain the differences between `babypandas` and Python."
   ]
  },
  {
   "cell_type": "markdown",
   "id": "54297a1c-73d9-465d-a318-7f239f70bfb2",
   "metadata": {},
   "source": [
    "---"
   ]
  },
  {
   "cell_type": "markdown",
   "id": "79e74c4e-96ae-460e-8bf5-9f7a157995ab",
   "metadata": {},
   "source": [
    "<a id=\"table\"></a>\n",
    "## Table of Contents:\n",
    "\n",
    "Click on the links below to quickly navigate to your desired topic.\n",
    "- [Defined Variables](#variables)\n",
    "- [Creating Data](#creating)\n",
    "- [Indexing](#indexing)\n",
    "- [Adding Data](#adding)\n",
    "- [Removing Data](#removing)\n",
    "- [Applying Functions](#apply-funcs)\n",
    "- [Aggregation](#aggregation)"
   ]
  },
  {
   "cell_type": "markdown",
   "id": "e71a73dd-b584-40a1-9d14-45a5766a1845",
   "metadata": {},
   "source": [
    "---"
   ]
  },
  {
   "cell_type": "markdown",
   "id": "d8fe42aa-431a-44d7-85e4-c1a1288648af",
   "metadata": {},
   "source": [
    "<a id=\"variables\"></a>\n",
    "## Our Data:\n",
    "\n",
    "Before we get into any examples I will establish variables we will use.\n",
    "\n",
    "- `pop_estimates` is a DataFrame.\n",
    "- `tutors` is a list of strings (the tutors).\n",
    "- `fav_nums` is a list of my (Zoe's) favorite numbers."
   ]
  },
  {
   "cell_type": "markdown",
   "id": "3242ac76-6a20-4892-8894-95ddafc0eb3f",
   "metadata": {},
   "source": [
    "You might recall this dataset from Lab 1. The estimates in the column `\"Population\"` come from the [International Database](https://www.census.gov/data-tools/demo/idb/#/table?menu=tableViz&quickReports=CUSTOM&CUSTOM_COLS=POP,TFR,CBR,E0,IMR,CDR,NMR&CCODE=**&show_countries=n&CCODE_SINGLE=**&TABLE_RANGE=1950,2023&TABLE_YEARS=1950,1951,1952,1953,1954,1955,1956,1957,1958,1959,1960,1961,1962,1963,1964,1965,1966,1967,1968,1969,1970,1971,1972,1973,1974,1975,1976,1977,1978,1979,1980,1981,1982,1983,1984,1985,1986,1987,1988,1989,1990,1991,1992,1993,1994,1995,1996,1997,1998,1999,2000,2001,2002,2003,2004,2005,2006,2007,2008,2009,2010,2011,2012,2013,2014,2015,2016,2017,2018,2019,2020,2021,2022,2023&TABLE_USE_RANGE=Y&TABLE_USE_YEARS=N&TABLE_STEP=1), maintained by the US Census Bureau."
   ]
  },
  {
   "cell_type": "code",
   "execution_count": null,
   "id": "2bde55de-9a30-447e-8447-e79f80f54de7",
   "metadata": {},
   "outputs": [],
   "source": [
    "pop_estimates = bpd.read_csv(\"data/world_population_2023.csv\")\n",
    "pop_estimates.iloc[0:5] #Here are the first five rows displayed for your convenience"
   ]
  },
  {
   "cell_type": "markdown",
   "id": "6e10acec-78fe-41ed-8dc7-276cd2503e41",
   "metadata": {},
   "source": [
    "You might recall this dataset from Homework 3. In the `states` DataFrame , each state's `'Favorite Cereal'` is defined as the cereal, among the top 20 varieties, that has been Google searched a disproportionately high amount in that state. "
   ]
  },
  {
   "cell_type": "code",
   "execution_count": null,
   "id": "8317bf9b-e03e-49ee-ab10-c032abe3ec04",
   "metadata": {},
   "outputs": [],
   "source": [
    "states = bpd.read_csv('data/states.csv')\n",
    "states = states.set_index(\"State\")\n",
    "states.iloc[0:5]"
   ]
  },
  {
   "cell_type": "markdown",
   "id": "663ab10f-8a6c-4ae0-b0b4-eead424502fe",
   "metadata": {},
   "source": [
    "The rest of the variables are made up by me (Zoe)!"
   ]
  },
  {
   "cell_type": "code",
   "execution_count": null,
   "id": "852ead99-765d-4354-af05-a1292ac46e45",
   "metadata": {},
   "outputs": [],
   "source": [
    "tutors = [\"Jack\", \"Ashley\", \"Jason\", \"Zoe\", \"Nick\", \"Guoxuan\"]\n",
    "tutors"
   ]
  },
  {
   "cell_type": "code",
   "execution_count": null,
   "id": "a7ed2a34-e1a5-4581-8cbe-b04151ad71dc",
   "metadata": {},
   "outputs": [],
   "source": [
    "fav_nums = [2, np.e, 14] # e is such a nice number!\n",
    "fav_nums"
   ]
  },
  {
   "cell_type": "markdown",
   "id": "4b7a5f85-5197-48cb-81fc-36a436038fc2",
   "metadata": {},
   "source": [
    "---"
   ]
  },
  {
   "cell_type": "markdown",
   "id": "374a6ee1-f5f3-480c-9bf0-027f1b372fc3",
   "metadata": {},
   "source": [
    "<a id=\"creating\"></a>\n",
    "## Creating Data\n",
    "\n",
    "- To create a DataFrame you can do `bpd.DataFrame()`\n",
    "    - Refer to documentation for using [babypandas](https://babypandas.readthedocs.io/en/latest/_autosummary/bpd.DataFrame.__init__.html)\n",
    "- To create a Series you can do `bpd.Series()`\n",
    "- To create a list you use brackets (`[]`)\n",
    "\n",
    "In DSC 10 we read DataFrames in, so this is not super relevant to you all, but it is good to know!"
   ]
  },
  {
   "cell_type": "code",
   "execution_count": null,
   "id": "0aefcf13-63b0-4e5f-8b14-52a204c9d109",
   "metadata": {},
   "outputs": [],
   "source": [
    "# This makes an empty DataFrame... exciting!\n",
    "bpd.DataFrame()"
   ]
  },
  {
   "cell_type": "markdown",
   "id": "5a3dc6ef-2200-4776-bd74-789738fce9d9",
   "metadata": {},
   "source": [
    "---"
   ]
  },
  {
   "cell_type": "markdown",
   "id": "88cd16e5-f21e-422b-955f-64cdc5a43b6d",
   "metadata": {},
   "source": [
    "<a id=\"indexing\"></a>\n",
    "## Indexing"
   ]
  },
  {
   "cell_type": "markdown",
   "id": "0337a0f6-65ad-4203-8f42-35fd629c8538",
   "metadata": {},
   "source": [
    "### Lists\n",
    "\n",
    "Recall we can index lists using brackets `[]` and inside we are following `[start : stop : step]`. This is also known as slicing!\n",
    "\n",
    "**Note:** We are trying to extract multiple or individual elements using the brackets"
   ]
  },
  {
   "cell_type": "code",
   "execution_count": null,
   "id": "a9ec9d52-58b2-4c75-81ce-e344cba80458",
   "metadata": {},
   "outputs": [],
   "source": [
    "# First element in tutors\n",
    "tutors[0]"
   ]
  },
  {
   "cell_type": "code",
   "execution_count": null,
   "id": "50b216df-5477-43e1-bf0c-196de327e710",
   "metadata": {},
   "outputs": [],
   "source": [
    "# First three elements in tutors\n",
    "tutors[0:3] # notice that stop is exclusive!"
   ]
  },
  {
   "cell_type": "code",
   "execution_count": null,
   "id": "eec78c0e-ce6a-49b3-bac2-c1ace35d034f",
   "metadata": {},
   "outputs": [],
   "source": [
    "# Every other tutor\n",
    "print(tutors) # What did tutors look like originally?\n",
    "tutors[0:len(tutors):2]"
   ]
  },
  {
   "cell_type": "code",
   "execution_count": null,
   "id": "5d7b2421-0194-4540-b750-23d81f13efed",
   "metadata": {},
   "outputs": [],
   "source": [
    "# You do not need to specify 0!\n",
    "tutors[::2]"
   ]
  },
  {
   "cell_type": "markdown",
   "id": "7019d786-2507-4f9a-b3e8-b4fbfdebded5",
   "metadata": {},
   "source": [
    "### Babypandas - `iloc`\n",
    "\n",
    "Recall we can use `df.iloc[]` to isolate **at an integer location**. `iloc` uses `[start, stop]`."
   ]
  },
  {
   "cell_type": "code",
   "execution_count": null,
   "id": "e89a5bb0-1f6c-4b71-bef6-4580f0d5ecca",
   "metadata": {},
   "outputs": [],
   "source": [
    "# The first element\n",
    "pop_estimates.iloc[0]"
   ]
  },
  {
   "cell_type": "code",
   "execution_count": null,
   "id": "9d810653-15ae-45f6-a555-cf9df14c0f20",
   "metadata": {},
   "outputs": [],
   "source": [
    "# The first three elements\n",
    "pop_estimates.iloc[0:3]"
   ]
  },
  {
   "cell_type": "code",
   "execution_count": null,
   "id": "d958fddc-ca0e-4655-ba61-5b2ff38a0aa9",
   "metadata": {},
   "outputs": [],
   "source": [
    "# Remember we do not need to put 0 if we don't want to!\n",
    "pop_estimates.iloc[:3]"
   ]
  },
  {
   "cell_type": "markdown",
   "id": "c6eb1192-90f0-41ca-8b19-dbb850b06f10",
   "metadata": {},
   "source": [
    "`iloc` is **at an integer location**, which means we can still use it when the index is not an integer."
   ]
  },
  {
   "cell_type": "code",
   "execution_count": null,
   "id": "19eabf97-c604-44ed-ab79-2ca2d905f20a",
   "metadata": {},
   "outputs": [],
   "source": [
    "# The first element\n",
    "states.iloc[0]"
   ]
  },
  {
   "cell_type": "markdown",
   "id": "ec81589b-e160-44f0-803a-4805ba826561",
   "metadata": {},
   "source": [
    "We can also give `.iloc` a list of elements if we want specific integer locations."
   ]
  },
  {
   "cell_type": "code",
   "execution_count": null,
   "id": "be1125e2-6672-44c4-a659-ae841e8bc7a7",
   "metadata": {},
   "outputs": [],
   "source": [
    "pop_estimates.iloc[[2, 14, 44]]"
   ]
  },
  {
   "cell_type": "markdown",
   "id": "434efa25-7796-4302-a3e2-683c3df4d209",
   "metadata": {},
   "source": [
    "### Babypandas - `loc`\n",
    "\n",
    "Recall we can use `df.loc[]` to isolate with **a specific label**. `loc` also uses `[start : stop]`."
   ]
  },
  {
   "cell_type": "code",
   "execution_count": null,
   "id": "2dd9c923-cd79-4649-a724-4428d53e35a6",
   "metadata": {},
   "outputs": [],
   "source": [
    "# The first element \n",
    "pop_estimates.loc[0] #the index's label is 0!"
   ]
  },
  {
   "cell_type": "code",
   "execution_count": null,
   "id": "f963b752-15fa-4991-8ab3-5adb6e53432e",
   "metadata": {},
   "outputs": [],
   "source": [
    "# A re-fresh of the states' DataFrame\n",
    "states.iloc[0:5]"
   ]
  },
  {
   "cell_type": "code",
   "execution_count": null,
   "id": "3454abbd-5964-49a0-a891-d25a1164be68",
   "metadata": {},
   "outputs": [],
   "source": [
    "# We want California\n",
    "states.loc[\"California\"]"
   ]
  },
  {
   "cell_type": "code",
   "execution_count": null,
   "id": "cc10c6ac-68b2-4045-9165-9ac15972d223",
   "metadata": {},
   "outputs": [],
   "source": [
    "# We want Illinois and Arkansas\n",
    "states.loc[[\"Illinois\", \"Arkansas\"]]"
   ]
  },
  {
   "cell_type": "markdown",
   "id": "c1c4dbd0-381f-48a6-92ff-05c633eabf35",
   "metadata": {},
   "source": [
    "---"
   ]
  },
  {
   "cell_type": "markdown",
   "id": "9ecc8aff-7f4c-45fd-88a3-4729f204e639",
   "metadata": {},
   "source": [
    "<a id=\"adding\"></a>\n",
    "## Adding Data"
   ]
  },
  {
   "cell_type": "markdown",
   "id": "3022f6f4-0863-46fb-92bf-5a5cffc269bb",
   "metadata": {},
   "source": [
    "### Lists - `.append`\n",
    "\n",
    "This will add an item to the end of the list. It happens in place.\n",
    "\n",
    "**Note**: When something happens in place it means the object is modified directly. You do not need to re-assign the variable."
   ]
  },
  {
   "cell_type": "code",
   "execution_count": null,
   "id": "c1de6985-85a2-4422-bc01-101460d38f53",
   "metadata": {},
   "outputs": [],
   "source": [
    "tutors"
   ]
  },
  {
   "cell_type": "code",
   "execution_count": null,
   "id": "93911df8-ad13-4365-b362-80871a92dedd",
   "metadata": {},
   "outputs": [],
   "source": [
    "tutors.append(\"Baby Panda\")"
   ]
  },
  {
   "cell_type": "code",
   "execution_count": null,
   "id": "940065f9-4342-4ca2-b820-66aff9c64166",
   "metadata": {},
   "outputs": [],
   "source": [
    "tutors"
   ]
  },
  {
   "cell_type": "markdown",
   "id": "c3f944b8-16a2-438a-8e3b-734bbd4c6e6f",
   "metadata": {},
   "source": [
    "### Numpy Array - `np.append`\n",
    "\n",
    "This will add an arrays to one another. Note this is different from a list's version!\n",
    "\n",
    "You can read more about it [here](https://numpy.org/doc/stable/reference/generated/numpy.append.html)."
   ]
  },
  {
   "cell_type": "code",
   "execution_count": null,
   "id": "6405646e-33e7-419d-a64e-848492c68568",
   "metadata": {},
   "outputs": [],
   "source": [
    "# You first give it an array, then you give it the values you want to add to the original array!\n",
    "np.append([1, 2, 3], [[2, 4, 6],[1, 3, 5]])"
   ]
  },
  {
   "cell_type": "markdown",
   "id": "064cd508-676d-4867-a3aa-3bf14154aa5a",
   "metadata": {},
   "source": [
    "### DataFrames - `.assign`\n",
    "\n",
    "This will add a new column to the DataFrame. It does not happen in place."
   ]
  },
  {
   "cell_type": "code",
   "execution_count": null,
   "id": "3bf0ff36-a12a-422a-b306-e71b595eaac9",
   "metadata": {},
   "outputs": [],
   "source": [
    "pop_estimates.assign(Population_Dupe = pop_estimates.get(\"Population\")).iloc[0:5]"
   ]
  },
  {
   "cell_type": "code",
   "execution_count": null,
   "id": "99ad0155-7bbc-403f-b253-eab6e100b421",
   "metadata": {},
   "outputs": [],
   "source": [
    "pop_estimates.iloc[0:5] #Notice it was not changed!"
   ]
  },
  {
   "cell_type": "code",
   "execution_count": null,
   "id": "1ea0e0f3-b43c-4444-b530-646a2039d4bc",
   "metadata": {},
   "outputs": [],
   "source": [
    "# This means we need a variable or need to re-assign the variable to contain the updated information\n",
    "temp = pop_estimates.assign(Population_Dupe = pop_estimates.get(\"Population\"))\n",
    "temp.iloc[0:5]"
   ]
  },
  {
   "cell_type": "markdown",
   "id": "90375e02-523d-42dc-9eb5-82ef1240f46a",
   "metadata": {},
   "source": [
    "---"
   ]
  },
  {
   "cell_type": "markdown",
   "id": "fddf246d-a882-48af-82e9-38e529957ab3",
   "metadata": {},
   "source": [
    "<a id=\"removing\"></a>\n",
    "## Removing Data"
   ]
  },
  {
   "cell_type": "markdown",
   "id": "b66cbb13-0219-4420-9a62-893bb4e1c055",
   "metadata": {},
   "source": [
    "### List - `.remove`\n",
    "\n",
    "These are not necessary for our class. I am pointing this out so you do not try and `.drop` from a list or dictionary!\n",
    "\n",
    "`.remove` happens in place."
   ]
  },
  {
   "cell_type": "code",
   "execution_count": null,
   "id": "a48479ec-833c-46d8-97da-22e0c044357f",
   "metadata": {},
   "outputs": [],
   "source": [
    "tutors"
   ]
  },
  {
   "cell_type": "code",
   "execution_count": null,
   "id": "11cfe649-9185-4dcd-b595-765574a0ea70",
   "metadata": {},
   "outputs": [],
   "source": [
    "tutors.remove(\"Baby Panda\")"
   ]
  },
  {
   "cell_type": "code",
   "execution_count": null,
   "id": "ef0d4072-c3e5-45b9-a62d-4b15b26f0067",
   "metadata": {},
   "outputs": [],
   "source": [
    "tutors"
   ]
  },
  {
   "cell_type": "markdown",
   "id": "564b5fab-6ffe-445e-be0c-b85f91f88300",
   "metadata": {},
   "source": [
    "### DataFrame - `.drop`\n",
    "\n",
    "This will remove the column we specify to drop. It does not happen in place."
   ]
  },
  {
   "cell_type": "code",
   "execution_count": null,
   "id": "f0e9eaaf-58fa-48fc-9744-87f1daec23f0",
   "metadata": {},
   "outputs": [],
   "source": [
    "temp.drop(columns = \"Population_Dupe\").iloc[0:5]"
   ]
  },
  {
   "cell_type": "code",
   "execution_count": null,
   "id": "4716709c-864a-4cca-b34f-f1bf4bd3473d",
   "metadata": {},
   "outputs": [],
   "source": [
    "# Use a list to drop multiple columns\n",
    "temp.drop(columns = [\"Population_Dupe\"]).iloc[0:5]"
   ]
  },
  {
   "cell_type": "code",
   "execution_count": null,
   "id": "79564ec8-c175-4a6b-85d1-3ab501507f27",
   "metadata": {},
   "outputs": [],
   "source": [
    "# Notice once again that we did not update temp, so the column was not dropped\n",
    "temp.iloc[0:5]"
   ]
  },
  {
   "cell_type": "code",
   "execution_count": null,
   "id": "d3d46db6-519b-4003-b64c-6ad21b1607db",
   "metadata": {},
   "outputs": [],
   "source": [
    "temp = temp.drop(columns = \"Population_Dupe\")\n",
    "temp.iloc[0:5]"
   ]
  },
  {
   "cell_type": "markdown",
   "id": "4f532bf8-d3bd-4db8-b280-258157ebd1d7",
   "metadata": {},
   "source": [
    "---"
   ]
  },
  {
   "cell_type": "markdown",
   "id": "1c8a450c-6d36-46de-838c-24ef16e3bc10",
   "metadata": {},
   "source": [
    "<a id=\"apply-funcs\"></a>\n",
    "## Applying Functions\n",
    "\n",
    "For this part I have made some functions below."
   ]
  },
  {
   "cell_type": "code",
   "execution_count": null,
   "id": "a56149ae-1f0a-44a6-97d1-703bd82c645a",
   "metadata": {},
   "outputs": [],
   "source": [
    "# This function determines if a year was from the 20th or 21st century\n",
    "\n",
    "def determine_century(year):\n",
    "    if 1900 <= year <= 1999:\n",
    "        return \"20th Century\"\n",
    "    elif year >= 2000:\n",
    "        return \"21st Century\""
   ]
  },
  {
   "cell_type": "code",
   "execution_count": null,
   "id": "e8c3cb01-a594-447c-987b-fccdce5d6ac1",
   "metadata": {},
   "outputs": [],
   "source": [
    "# This function creates a list of Booleans if the number inside the list is greater than 5\n",
    "\n",
    "def bigger_five(nums):\n",
    "    output = []\n",
    "    for num in nums:\n",
    "        if num > 5:\n",
    "            output.append(True)\n",
    "        else:\n",
    "            output.append(False)\n",
    "    return output"
   ]
  },
  {
   "cell_type": "markdown",
   "id": "e715c014-4693-4dff-96c5-0f067ad5bde4",
   "metadata": {},
   "source": [
    "### Lists - The function goes around your value!"
   ]
  },
  {
   "cell_type": "code",
   "execution_count": null,
   "id": "99fe3e33-6600-4b4b-a5f6-46dc39617588",
   "metadata": {},
   "outputs": [],
   "source": [
    "# Recall the variable fav_nums\n",
    "fav_nums"
   ]
  },
  {
   "cell_type": "code",
   "execution_count": null,
   "id": "d70e8185-c213-4acc-89a0-1a283b2c441f",
   "metadata": {},
   "outputs": [],
   "source": [
    "bigger_five(fav_nums)"
   ]
  },
  {
   "cell_type": "markdown",
   "id": "20fd5b1a-342c-48f1-9d36-7dfca2f2b425",
   "metadata": {},
   "source": [
    "## Babypandas - `.apply`\n",
    "\n",
    "This is a method that will apply your function to each row inside of a **Series**. This will not work on a DataFrame!"
   ]
  },
  {
   "cell_type": "code",
   "execution_count": null,
   "id": "40a70193-d342-4862-a695-a7c14a4ec97e",
   "metadata": {},
   "outputs": [],
   "source": [
    "pop_estimates.get(\"Year\").apply(determine_century) # You get a series back"
   ]
  },
  {
   "cell_type": "code",
   "execution_count": null,
   "id": "3fd3025c-1131-47d4-8eeb-658331c85c6c",
   "metadata": {},
   "outputs": [],
   "source": [
    "pop_estimates = pop_estimates.assign(Century = pop_estimates.get(\"Year\").apply(determine_century))\n",
    "pop_estimates.iloc[[0, -1]]"
   ]
  },
  {
   "cell_type": "markdown",
   "id": "b26ddf9b-73ed-4827-a6cc-f2a1c6a3fe70",
   "metadata": {},
   "source": [
    "---"
   ]
  },
  {
   "cell_type": "markdown",
   "id": "079c6ea0-6ce2-458c-9597-dd5b794b89fb",
   "metadata": {},
   "source": [
    "<a id=\"aggregation\"></a>\n",
    "## Aggregation"
   ]
  },
  {
   "cell_type": "markdown",
   "id": "22717d52-e084-4c71-8985-e8227ea0efc0",
   "metadata": {},
   "source": [
    "A **function** is a block of reusable code that performs a specific task. It can take in inputs, perform operations, and return an output. They are defined with `def`. They are not tied to any specific object. I (Zoe) likes to think of functions as something that hugs elements (parameters). It is surrounding the thing we want to transform.\n",
    "\n",
    "A **method** also performs a specific task, but it is associated with an object. They are defined within a class and are called on objects. I (Zoe) likes to think of methods as something that follows an element (an object). It is always behind a variable with a dot (`.`).\n",
    "\n",
    "This might get a bit technical, but here is a table of the differences:\n",
    "\n",
    "| Function                                | Method                                           |\n",
    "|-----------------------------------------|--------------------------------------------------|\n",
    "| Independent and not associated with any object | Associated with an object (instance methods) or a class (class methods) |\n",
    "| Called by its name directly             | Called on an object or class                     |\n",
    "| Parameters are user-defined             | First parameter is `self` (for instance methods) or `cls` (for class methods) |\n",
    "| Defined using the `def` keyword outside of a class | Defined inside a class                           |\n"
   ]
  },
  {
   "cell_type": "markdown",
   "id": "0936ef9f-cc63-4e14-b24f-7be8bd03f736",
   "metadata": {},
   "source": [
    "### Lists - Functions (`min` and `max`)"
   ]
  },
  {
   "cell_type": "code",
   "execution_count": null,
   "id": "66810fa2-96ea-4cf4-8c50-9f84459efb02",
   "metadata": {},
   "outputs": [],
   "source": [
    "# If I want the minimum of a list I use a function\n",
    "min(fav_nums)"
   ]
  },
  {
   "cell_type": "code",
   "execution_count": null,
   "id": "a6d06be3-a3d1-48ab-a7b4-75727f27bcaf",
   "metadata": {},
   "outputs": [],
   "source": [
    "# If I want the maximum of a list I use a function\n",
    "max(fav_nums)"
   ]
  },
  {
   "cell_type": "markdown",
   "id": "237a3e3f-9074-4814-8cbe-3823e9ade5c7",
   "metadata": {},
   "source": [
    "### Babypandas - Methods (`.min` and `.max`)"
   ]
  },
  {
   "cell_type": "code",
   "execution_count": null,
   "id": "941e8a7f-509b-4058-8c9f-947717282838",
   "metadata": {},
   "outputs": [],
   "source": [
    "# If I want the minimum of a Series I use a method\n",
    "pop_estimates.get(\"Population\").min()"
   ]
  },
  {
   "cell_type": "code",
   "execution_count": null,
   "id": "77bc98e8-7027-4f92-8b1b-ed614adec843",
   "metadata": {},
   "outputs": [],
   "source": [
    "# If I want the maximum of a Series I use a method\n",
    "pop_estimates.get(\"Population\").max()"
   ]
  },
  {
   "cell_type": "markdown",
   "id": "613126f7-ea92-4231-b71f-e1be142027ed",
   "metadata": {},
   "source": [
    "### Lists - Functions (`mean`)"
   ]
  },
  {
   "cell_type": "code",
   "execution_count": null,
   "id": "270de5c7-9b89-4f97-9ee0-3df5944b6f15",
   "metadata": {},
   "outputs": [],
   "source": [
    "np.mean(fav_nums)"
   ]
  },
  {
   "cell_type": "markdown",
   "id": "f62c1cef-3d72-48ff-923e-67997e685b6d",
   "metadata": {},
   "source": [
    "### Babypandas - Methods (`.mean`)"
   ]
  },
  {
   "cell_type": "code",
   "execution_count": null,
   "id": "021c4694-644f-4486-b92a-5b8691e93be5",
   "metadata": {},
   "outputs": [],
   "source": [
    "pop_estimates.get(\"Population\").mean()"
   ]
  },
  {
   "cell_type": "markdown",
   "id": "02784b65-941b-4ee5-afcf-0dfea9abd10f",
   "metadata": {},
   "source": [
    "### Lists - Functions (`sum`)"
   ]
  },
  {
   "cell_type": "code",
   "execution_count": null,
   "id": "86cb874a-f352-437a-a7cb-9504766d412f",
   "metadata": {},
   "outputs": [],
   "source": [
    "sum(fav_nums)"
   ]
  },
  {
   "cell_type": "markdown",
   "id": "8e4e3c68-6375-4007-b59f-0681e1937d1c",
   "metadata": {},
   "source": [
    "### Babypandas - Methods (`.sum`)"
   ]
  },
  {
   "cell_type": "code",
   "execution_count": null,
   "id": "5eb06e3f-4e9f-472a-947c-c1f15d1ee6bf",
   "metadata": {},
   "outputs": [],
   "source": [
    "pop_estimates.get(\"Population\").sum()"
   ]
  },
  {
   "cell_type": "markdown",
   "id": "a2132f63-641a-43ae-b8a0-7d448804d2fb",
   "metadata": {},
   "source": [
    "---"
   ]
  },
  {
   "cell_type": "markdown",
   "id": "19aba5cc-94bb-4a9b-8237-50031ee54f45",
   "metadata": {},
   "source": [
    "# The End!\n",
    "\n",
    "As you can see there are differences between normal Python (the coding language) and `babypandas`. I hope you can refer to this as a guide to help you avoid making silly mistakes. If you have questions please post them on Ed. Thank you!\n",
    "\n",
    "[Back to Table of Contents](#table)"
   ]
  },
  {
   "cell_type": "code",
   "execution_count": null,
   "id": "232e5c40-2193-40af-a235-cc37022bf8d0",
   "metadata": {},
   "outputs": [],
   "source": []
  }
 ],
 "metadata": {
  "kernelspec": {
   "display_name": "Python 3 (ipykernel)",
   "language": "python",
   "name": "python3"
  },
  "language_info": {
   "codemirror_mode": {
    "name": "ipython",
    "version": 3
   },
   "file_extension": ".py",
   "mimetype": "text/x-python",
   "name": "python",
   "nbconvert_exporter": "python",
   "pygments_lexer": "ipython3",
   "version": "3.11.5"
  }
 },
 "nbformat": 4,
 "nbformat_minor": 5
}
