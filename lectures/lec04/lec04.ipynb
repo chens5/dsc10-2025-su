{
 "cells": [
  {
   "cell_type": "code",
   "execution_count": 1,
   "metadata": {},
   "outputs": [],
   "source": [
    "# Run this cell to set up packages for lecture.\n",
    "from lec04_imports import *"
   ]
  },
  {
   "cell_type": "markdown",
   "metadata": {
    "slideshow": {
     "slide_type": "slide"
    }
   },
   "source": [
    "# Lecture 4 –  Arrays and DataFrames\n",
    "\n",
    "## DSC 10, Summer 2024"
   ]
  },
  {
   "cell_type": "markdown",
   "metadata": {
    "slideshow": {
     "slide_type": "slide"
    }
   },
   "source": [
    "### Agenda\n",
    "\n",
    "- Arrays.\n",
    "- Ranges.\n",
    "- DataFrames.\n",
    "\n",
    "#### Note:\n",
    "\n",
    "- Remember to check the [resources tab of the course website](https://dsc10.com/resources/) for programming resources.\n",
    "- Some key links moving forward:\n",
    "    - [DSC 10 reference sheet](https://drive.google.com/file/d/1ky0Np67HS2O4LO913P-ing97SJG0j27n/view).\n",
    "    - [`babypandas` notes](https://notes.dsc10.com).\n",
    "    - [`babypandas` documentation](https://babypandas.readthedocs.io/en/latest/index.html)."
   ]
  },
  {
   "cell_type": "markdown",
   "metadata": {
    "slideshow": {
     "slide_type": "slide"
    }
   },
   "source": [
    "## Arrays"
   ]
  },
  {
   "cell_type": "markdown",
   "metadata": {
    "slideshow": {
     "slide_type": "slide"
    }
   },
   "source": [
    "### Recap: arrays\n",
    "\n",
    "- Arrays are provided by a module called `numpy` that we need to import to use."
   ]
  },
  {
   "cell_type": "code",
   "execution_count": 2,
   "metadata": {},
   "outputs": [],
   "source": [
    "import numpy as np"
   ]
  },
  {
   "cell_type": "markdown",
   "metadata": {
    "slideshow": {
     "slide_type": "fragment"
    }
   },
   "source": [
    "- Arrays store _sequences_ of values of the same data type. "
   ]
  },
  {
   "cell_type": "markdown",
   "metadata": {
    "slideshow": {
     "slide_type": "fragment"
    }
   },
   "source": [
    "- To create an array, we pass a list as input to the `np.array` function."
   ]
  },
  {
   "cell_type": "code",
   "execution_count": 3,
   "metadata": {},
   "outputs": [
    {
     "data": {
      "text/plain": [
       "array([68, 73, 70, 74, 76, 72, 74])"
      ]
     },
     "execution_count": 3,
     "metadata": {},
     "output_type": "execute_result"
    }
   ],
   "source": [
    "temperature_array = np.array([68, 73, 70, 74, 76, 72, 74])\n",
    "temperature_array"
   ]
  },
  {
   "cell_type": "markdown",
   "metadata": {
    "slideshow": {
     "slide_type": "fragment"
    }
   },
   "source": [
    "- Use square brackets with the position number to access an array element. The first element is in position 0."
   ]
  },
  {
   "cell_type": "code",
   "execution_count": 4,
   "metadata": {
    "slideshow": {
     "slide_type": "-"
    }
   },
   "outputs": [
    {
     "data": {
      "text/plain": [
       "array([68, 73, 70, 74, 76, 72, 74])"
      ]
     },
     "execution_count": 4,
     "metadata": {},
     "output_type": "execute_result"
    }
   ],
   "source": [
    "temperature_array"
   ]
  },
  {
   "cell_type": "code",
   "execution_count": 5,
   "metadata": {},
   "outputs": [
    {
     "data": {
      "text/plain": [
       "73"
      ]
     },
     "execution_count": 5,
     "metadata": {},
     "output_type": "execute_result"
    }
   ],
   "source": [
    "temperature_array[1]"
   ]
  },
  {
   "cell_type": "markdown",
   "metadata": {
    "slideshow": {
     "slide_type": "slide"
    }
   },
   "source": [
    "### Array-number arithmetic\n",
    "\n",
    "Arrays make it easy to perform the same operation to every element. This behavior is formally known as \"broadcasting\".\n",
    "\n",
    "<center><img src=\"images/broadcasting.jpg\" width=80%></center>\n",
    "    "
   ]
  },
  {
   "cell_type": "code",
   "execution_count": 6,
   "metadata": {},
   "outputs": [
    {
     "data": {
      "text/plain": [
       "array([68, 73, 70, 74, 76, 72, 74])"
      ]
     },
     "execution_count": 6,
     "metadata": {},
     "output_type": "execute_result"
    }
   ],
   "source": [
    "temperature_array"
   ]
  },
  {
   "cell_type": "code",
   "execution_count": 7,
   "metadata": {},
   "outputs": [
    {
     "data": {
      "text/plain": [
       "array([20.  , 22.78, 21.11, 23.33, 24.44, 22.22, 23.33])"
      ]
     },
     "execution_count": 7,
     "metadata": {},
     "output_type": "execute_result"
    }
   ],
   "source": [
    "# Convert all temperatures to Celsius.\n",
    "(5 / 9) * (temperature_array - 32)"
   ]
  },
  {
   "cell_type": "markdown",
   "metadata": {
    "slideshow": {
     "slide_type": "slide"
    }
   },
   "source": [
    "### Element-wise arithmetic\n",
    "\n",
    "- We can apply arithmetic operations to multiple arrays, provided they have the same length.\n",
    "- The result is computed **element-wise**, which means that the arithmetic operation is applied to one pair of elements from each array at a time.\n",
    "\n",
    "<center><img src=\"images/elementwise.jpg\" width=80%></center>"
   ]
  },
  {
   "cell_type": "code",
   "execution_count": 8,
   "metadata": {},
   "outputs": [],
   "source": [
    "a = np.array([4, 5, -1])\n",
    "b = np.array([2, 3, 2])"
   ]
  },
  {
   "cell_type": "code",
   "execution_count": 9,
   "metadata": {},
   "outputs": [
    {
     "data": {
      "text/plain": [
       "array([20, 34,  5])"
      ]
     },
     "execution_count": 9,
     "metadata": {},
     "output_type": "execute_result"
    }
   ],
   "source": [
    "a ** 2 + b ** 2"
   ]
  },
  {
   "cell_type": "markdown",
   "metadata": {
    "slideshow": {
     "slide_type": "slide"
    }
   },
   "source": [
    "### Array methods\n",
    "\n",
    "- Arrays work with a variety of **methods**, which are functions designed to operate specifically on arrays. \n",
    "\n",
    "- Call these methods using dot notation, e.g. `array_name.method()`.\n",
    "\n",
    "<center><img src=\"images/methods.jpg\" width=70%></center>"
   ]
  },
  {
   "cell_type": "code",
   "execution_count": 10,
   "metadata": {},
   "outputs": [
    {
     "data": {
      "text/plain": [
       "76"
      ]
     },
     "execution_count": 10,
     "metadata": {},
     "output_type": "execute_result"
    }
   ],
   "source": [
    "temperature_array.max()"
   ]
  },
  {
   "cell_type": "code",
   "execution_count": 11,
   "metadata": {},
   "outputs": [
    {
     "data": {
      "text/plain": [
       "72.42857142857143"
      ]
     },
     "execution_count": 11,
     "metadata": {},
     "output_type": "execute_result"
    }
   ],
   "source": [
    "temperature_array.mean()"
   ]
  },
  {
   "cell_type": "markdown",
   "metadata": {
    "slideshow": {
     "slide_type": "slide"
    }
   },
   "source": [
    "## Ranges"
   ]
  },
  {
   "cell_type": "markdown",
   "metadata": {
    "slideshow": {
     "slide_type": "slide"
    }
   },
   "source": [
    "### Motivation\n",
    "\n",
    "We often find ourselves needing to make arrays like this:"
   ]
  },
  {
   "cell_type": "code",
   "execution_count": 12,
   "metadata": {},
   "outputs": [],
   "source": [
    "day_of_month = np.array([\n",
    "    1, 2, 3, 4, 5, 6, 7, 8, 9, 10, 11, 12, \n",
    "    13, 14, 15, 16, 17, 18, 19, 20, 21, 22, \n",
    "    23, 24, 25, 26, 27, 28, 29, 30, 31\n",
    "])"
   ]
  },
  {
   "cell_type": "markdown",
   "metadata": {
    "slideshow": {
     "slide_type": "fragment"
    }
   },
   "source": [
    "There needs to be an easier way to do this!"
   ]
  },
  {
   "cell_type": "markdown",
   "metadata": {
    "slideshow": {
     "slide_type": "slide"
    }
   },
   "source": [
    "### Ranges\n",
    "* A **range** is an array of evenly spaced numbers. We create ranges using `np.arange`.\n",
    "* The most general way to create a range is `np.arange(start, end, step)`. This returns an array such that:\n",
    "    - The first number is `start`. **By default, `start` is 0.**\n",
    "    - All subsequent numbers are spaced out by `step`, until (but excluding) `end`. **By default, `step` is 1.**"
   ]
  },
  {
   "cell_type": "code",
   "execution_count": 13,
   "metadata": {},
   "outputs": [
    {
     "data": {
      "text/plain": [
       "array([0, 1, 2, 3, 4, 5, 6, 7])"
      ]
     },
     "execution_count": 13,
     "metadata": {},
     "output_type": "execute_result"
    }
   ],
   "source": [
    "# Start at 0, end before 8, step by 1.\n",
    "# This will be our most common use-case!\n",
    "np.arange(8)"
   ]
  },
  {
   "cell_type": "code",
   "execution_count": 14,
   "metadata": {},
   "outputs": [
    {
     "data": {
      "text/plain": [
       "array([5, 6, 7, 8, 9])"
      ]
     },
     "execution_count": 14,
     "metadata": {},
     "output_type": "execute_result"
    }
   ],
   "source": [
    "# Start at 5, end before 10, step by 1.\n",
    "np.arange(5, 10)"
   ]
  },
  {
   "cell_type": "code",
   "execution_count": 15,
   "metadata": {},
   "outputs": [
    {
     "data": {
      "text/plain": [
       "array([ 3,  8, 13, 18, 23, 28])"
      ]
     },
     "execution_count": 15,
     "metadata": {},
     "output_type": "execute_result"
    }
   ],
   "source": [
    "# Start at 3, end before 32, step by 5.\n",
    "np.arange(3, 32, 5)"
   ]
  },
  {
   "cell_type": "markdown",
   "metadata": {
    "slideshow": {
     "slide_type": "slide"
    }
   },
   "source": [
    "### Extra practice\n",
    "\n",
    "The step size in `np.arange` can be fractional, or even negative. Predict what arrays will be produced by each line of code below. Then copy each line into a code cell and run it to see if you're right.\n",
    "\n",
    "```\n",
    "np.arange(-3, 2, 0.5)\n",
    "\n",
    "np.arange(1, -10, -3)\n",
    "```"
   ]
  },
  {
   "cell_type": "code",
   "execution_count": 16,
   "metadata": {},
   "outputs": [
    {
     "data": {
      "text/plain": [
       "Ellipsis"
      ]
     },
     "execution_count": 16,
     "metadata": {},
     "output_type": "execute_result"
    }
   ],
   "source": [
    "..."
   ]
  },
  {
   "cell_type": "code",
   "execution_count": 17,
   "metadata": {},
   "outputs": [
    {
     "data": {
      "text/plain": [
       "Ellipsis"
      ]
     },
     "execution_count": 17,
     "metadata": {},
     "output_type": "execute_result"
    }
   ],
   "source": [
    "..."
   ]
  },
  {
   "cell_type": "markdown",
   "metadata": {
    "slideshow": {
     "slide_type": "slide"
    }
   },
   "source": [
    "### Challenge\n",
    "\n",
    "🎉 Congrats! 🎉 You won the lottery 💰. Here's how your payout works: on the first day of September, you are paid \\\\$0.01. Every day thereafter, your pay doubles, so on the second day you're paid \\\\$0.02, on the third day you're paid \\\\$0.04, on the fourth day you're paid \\\\$0.08, and so on.\n",
    "\n",
    "September has 30 days.\n",
    "\n",
    "Write a **one-line expression** that uses the numbers `2` and `30`, along with the function `np.arange` and the method `.sum()`, that computes the total amount **in dollars** you will be paid in September."
   ]
  },
  {
   "cell_type": "code",
   "execution_count": 18,
   "metadata": {},
   "outputs": [
    {
     "data": {
      "text/plain": [
       "Ellipsis"
      ]
     },
     "execution_count": 18,
     "metadata": {},
     "output_type": "execute_result"
    }
   ],
   "source": [
    "..."
   ]
  },
  {
   "cell_type": "markdown",
   "metadata": {
    "slideshow": {
     "slide_type": "fragment"
    }
   },
   "source": [
    "**After** trying the challenge problem on your own, watch this walkthrough [🎥 video](https://youtu.be/w_witptT6Ts?si=F3r0VvpAIWytZSy-)."
   ]
  },
  {
   "cell_type": "markdown",
   "metadata": {
    "slideshow": {
     "slide_type": "slide"
    }
   },
   "source": [
    "## DataFrames"
   ]
  },
  {
   "cell_type": "markdown",
   "metadata": {
    "slideshow": {
     "slide_type": "slide"
    }
   },
   "source": [
    "### `pandas`\n",
    "\n",
    "- `pandas` is a Python package that allows us to work with **tabular** data – that is, data in the form of a table that we might otherwise work with as a spreadsheet (in Excel or Google Sheets).\n",
    "- `pandas` is **the** tool for doing data science in Python.\n",
    "\n",
    "<center>\n",
    "<img src='images/pandas.png' width=400>\n",
    "</center>"
   ]
  },
  {
   "cell_type": "markdown",
   "metadata": {
    "slideshow": {
     "slide_type": "slide"
    }
   },
   "source": [
    "### But `pandas` is not so cute...\n",
    "\n",
    "<center>\n",
    "<img height=100% src=\"images/angrypanda.jpg\"/>\n",
    "</center>"
   ]
  },
  {
   "cell_type": "markdown",
   "metadata": {
    "slideshow": {
     "slide_type": "slide"
    }
   },
   "source": [
    "### Enter `babypandas`!\n",
    "\n",
    "- We at UCSD have created a smaller, nicer version of `pandas` called `babypandas`.\n",
    "- It keeps the important stuff and has much better error messages.\n",
    "- It's easier to learn, but is still valid `pandas` code. **You are learning `pandas`!**\n",
    "    - Think of it like learning how to build LEGOs with many, but not all, of the possible Lego blocks. You're still learning how to build LEGOs, and you can still build cool things!\n",
    "\n",
    "<center>\n",
    "<img height=75% src=\"images/babypanda.jpg\"/ width=400>\n",
    "</center>"
   ]
  },
  {
   "cell_type": "markdown",
   "metadata": {
    "slideshow": {
     "slide_type": "slide"
    }
   },
   "source": [
    "### DataFrames in `babypandas` 🐼\n",
    "\n",
    "- Tables in `babypandas` (and `pandas`) are called \"DataFrames.\"\n",
    "- To use DataFrames, we'll need to import `babypandas`. "
   ]
  },
  {
   "cell_type": "code",
   "execution_count": 19,
   "metadata": {
    "slideshow": {
     "slide_type": "-"
    }
   },
   "outputs": [],
   "source": [
    "import babypandas as bpd"
   ]
  },
  {
   "cell_type": "markdown",
   "metadata": {
    "slideshow": {
     "slide_type": "slide"
    }
   },
   "source": [
    "### Reading data from a file 📖\n",
    "\n",
    "- We'll usually work with data stored in the CSV format. CSV stands for \"comma-separated values.\"\n",
    "\n",
    "- We can read in a CSV using `bpd.read_csv(...)`. Replace the `...` with a path to the CSV file relative to your notebook; if the file is in the same folder as your notebook, this is just the name of the file."
   ]
  },
  {
   "cell_type": "code",
   "execution_count": 20,
   "metadata": {},
   "outputs": [
    {
     "data": {
      "text/html": [
       "<div>\n",
       "<style scoped>\n",
       "    .dataframe tbody tr th:only-of-type {\n",
       "        vertical-align: middle;\n",
       "    }\n",
       "\n",
       "    .dataframe tbody tr th {\n",
       "        vertical-align: top;\n",
       "    }\n",
       "\n",
       "    .dataframe thead th {\n",
       "        text-align: right;\n",
       "    }\n",
       "</style>\n",
       "<table border=\"1\" class=\"dataframe\">\n",
       "  <thead>\n",
       "    <tr style=\"text-align: right;\">\n",
       "      <th></th>\n",
       "      <th>State</th>\n",
       "      <th>Region</th>\n",
       "      <th>Capital City</th>\n",
       "      <th>Population</th>\n",
       "      <th>Land Area</th>\n",
       "      <th>Party</th>\n",
       "    </tr>\n",
       "  </thead>\n",
       "  <tbody>\n",
       "    <tr>\n",
       "      <th>0</th>\n",
       "      <td>Alabama</td>\n",
       "      <td>South</td>\n",
       "      <td>Montgomery</td>\n",
       "      <td>5024279</td>\n",
       "      <td>50645</td>\n",
       "      <td>Republican</td>\n",
       "    </tr>\n",
       "    <tr>\n",
       "      <th>1</th>\n",
       "      <td>Alaska</td>\n",
       "      <td>West</td>\n",
       "      <td>Juneau</td>\n",
       "      <td>733391</td>\n",
       "      <td>570641</td>\n",
       "      <td>Republican</td>\n",
       "    </tr>\n",
       "    <tr>\n",
       "      <th>2</th>\n",
       "      <td>Arizona</td>\n",
       "      <td>West</td>\n",
       "      <td>Phoenix</td>\n",
       "      <td>7151502</td>\n",
       "      <td>113594</td>\n",
       "      <td>Republican</td>\n",
       "    </tr>\n",
       "    <tr>\n",
       "      <th>3</th>\n",
       "      <td>Arkansas</td>\n",
       "      <td>South</td>\n",
       "      <td>Little Rock</td>\n",
       "      <td>3011524</td>\n",
       "      <td>52035</td>\n",
       "      <td>Republican</td>\n",
       "    </tr>\n",
       "    <tr>\n",
       "      <th>4</th>\n",
       "      <td>California</td>\n",
       "      <td>West</td>\n",
       "      <td>Sacramento</td>\n",
       "      <td>39538223</td>\n",
       "      <td>155779</td>\n",
       "      <td>Democratic</td>\n",
       "    </tr>\n",
       "    <tr>\n",
       "      <th>...</th>\n",
       "      <td>...</td>\n",
       "      <td>...</td>\n",
       "      <td>...</td>\n",
       "      <td>...</td>\n",
       "      <td>...</td>\n",
       "      <td>...</td>\n",
       "    </tr>\n",
       "    <tr>\n",
       "      <th>45</th>\n",
       "      <td>Virginia</td>\n",
       "      <td>South</td>\n",
       "      <td>Richmond</td>\n",
       "      <td>8631393</td>\n",
       "      <td>39490</td>\n",
       "      <td>Democratic</td>\n",
       "    </tr>\n",
       "    <tr>\n",
       "      <th>46</th>\n",
       "      <td>Washington</td>\n",
       "      <td>West</td>\n",
       "      <td>Olympia</td>\n",
       "      <td>7705281</td>\n",
       "      <td>66456</td>\n",
       "      <td>Democratic</td>\n",
       "    </tr>\n",
       "    <tr>\n",
       "      <th>47</th>\n",
       "      <td>West Virginia</td>\n",
       "      <td>South</td>\n",
       "      <td>Charleston</td>\n",
       "      <td>1793716</td>\n",
       "      <td>24038</td>\n",
       "      <td>Republican</td>\n",
       "    </tr>\n",
       "    <tr>\n",
       "      <th>48</th>\n",
       "      <td>Wisconsin</td>\n",
       "      <td>Midwest</td>\n",
       "      <td>Madison</td>\n",
       "      <td>5893718</td>\n",
       "      <td>54158</td>\n",
       "      <td>Republican</td>\n",
       "    </tr>\n",
       "    <tr>\n",
       "      <th>49</th>\n",
       "      <td>Wyoming</td>\n",
       "      <td>West</td>\n",
       "      <td>Cheyenne</td>\n",
       "      <td>576851</td>\n",
       "      <td>97093</td>\n",
       "      <td>Republican</td>\n",
       "    </tr>\n",
       "  </tbody>\n",
       "</table>\n",
       "<p>50 rows × 6 columns</p>\n",
       "</div>"
      ],
      "text/plain": [
       "            State   Region Capital City  Population  Land Area       Party\n",
       "0         Alabama    South   Montgomery     5024279      50645  Republican\n",
       "1          Alaska     West       Juneau      733391     570641  Republican\n",
       "2         Arizona     West      Phoenix     7151502     113594  Republican\n",
       "3        Arkansas    South  Little Rock     3011524      52035  Republican\n",
       "4      California     West   Sacramento    39538223     155779  Democratic\n",
       "..            ...      ...          ...         ...        ...         ...\n",
       "45       Virginia    South     Richmond     8631393      39490  Democratic\n",
       "46     Washington     West      Olympia     7705281      66456  Democratic\n",
       "47  West Virginia    South   Charleston     1793716      24038  Republican\n",
       "48      Wisconsin  Midwest      Madison     5893718      54158  Republican\n",
       "49        Wyoming     West     Cheyenne      576851      97093  Republican\n",
       "\n",
       "[50 rows x 6 columns]"
      ]
     },
     "execution_count": 20,
     "metadata": {},
     "output_type": "execute_result"
    }
   ],
   "source": [
    "# Our CSV file is stored not in the same folder as our notebook, \n",
    "# but within a folder called data.\n",
    "states = bpd.read_csv('data/states.csv')\n",
    "states"
   ]
  },
  {
   "cell_type": "markdown",
   "metadata": {
    "slideshow": {
     "slide_type": "slide"
    }
   },
   "source": [
    "### About the data 🗽\n",
    "\n",
    "Most of the data is self-explanatory, but there are a few things to note:"
   ]
  },
  {
   "cell_type": "markdown",
   "metadata": {
    "slideshow": {
     "slide_type": "fragment"
    }
   },
   "source": [
    "- `'Population'` figures come from the 2020 census."
   ]
  },
  {
   "cell_type": "markdown",
   "metadata": {
    "slideshow": {
     "slide_type": "fragment"
    }
   },
   "source": [
    "- `'Land Area'` is measured in square miles."
   ]
  },
  {
   "cell_type": "markdown",
   "metadata": {
    "slideshow": {
     "slide_type": "fragment"
    }
   },
   "source": [
    "- The `'Region'` column places each state in one of four regions, as determined by the US Census Bureau.\n",
    "\n",
    "<center>\n",
    "<img src='images/regions.png' width=600>\n",
    "</center>"
   ]
  },
  {
   "cell_type": "markdown",
   "metadata": {
    "slideshow": {
     "slide_type": "fragment"
    }
   },
   "source": [
    "- The `'Party'` column classifies each state as `'Democratic'` or `'Republican'` based on a political science measurement called the Cook Partisan Voter Index. \n",
    "\n",
    "\n",
    "<center>\n",
    "<img src='images/party.png' width=600>\n",
    "(<a href=\"https://www.cookpolitical.com/cook-pvi/2022-partisan-voting-index/state-map-and-list\">source</a>)\n",
    "</center>"
   ]
  },
  {
   "cell_type": "markdown",
   "metadata": {
    "slideshow": {
     "slide_type": "slide"
    }
   },
   "source": [
    "### Structure of a DataFrame\n",
    "\n",
    "- DataFrames have *columns* and *rows*.\n",
    "    - Think of each column as an array. Columns contain data of the same type.\n",
    "- Each column has a label, e.g. `'Capital City'` and `'Land Area'`.\n",
    "    - Column labels are stored as strings.\n",
    "- Each row has a label too – these are shown in bold at the start of the row.\n",
    "    - Right now, the row labels are 0, 1, 2, and so on.\n",
    "    - Together, the row labels are called the _index_. The index is **not** a column!\n",
    "    "
   ]
  },
  {
   "cell_type": "code",
   "execution_count": 21,
   "metadata": {
    "slideshow": {
     "slide_type": "-"
    }
   },
   "outputs": [
    {
     "data": {
      "text/html": [
       "<div>\n",
       "<style scoped>\n",
       "    .dataframe tbody tr th:only-of-type {\n",
       "        vertical-align: middle;\n",
       "    }\n",
       "\n",
       "    .dataframe tbody tr th {\n",
       "        vertical-align: top;\n",
       "    }\n",
       "\n",
       "    .dataframe thead th {\n",
       "        text-align: right;\n",
       "    }\n",
       "</style>\n",
       "<table border=\"1\" class=\"dataframe\">\n",
       "  <thead>\n",
       "    <tr style=\"text-align: right;\">\n",
       "      <th></th>\n",
       "      <th>State</th>\n",
       "      <th>Region</th>\n",
       "      <th>Capital City</th>\n",
       "      <th>Population</th>\n",
       "      <th>Land Area</th>\n",
       "      <th>Party</th>\n",
       "    </tr>\n",
       "  </thead>\n",
       "  <tbody>\n",
       "    <tr>\n",
       "      <th>0</th>\n",
       "      <td>Alabama</td>\n",
       "      <td>South</td>\n",
       "      <td>Montgomery</td>\n",
       "      <td>5024279</td>\n",
       "      <td>50645</td>\n",
       "      <td>Republican</td>\n",
       "    </tr>\n",
       "    <tr>\n",
       "      <th>1</th>\n",
       "      <td>Alaska</td>\n",
       "      <td>West</td>\n",
       "      <td>Juneau</td>\n",
       "      <td>733391</td>\n",
       "      <td>570641</td>\n",
       "      <td>Republican</td>\n",
       "    </tr>\n",
       "    <tr>\n",
       "      <th>2</th>\n",
       "      <td>Arizona</td>\n",
       "      <td>West</td>\n",
       "      <td>Phoenix</td>\n",
       "      <td>7151502</td>\n",
       "      <td>113594</td>\n",
       "      <td>Republican</td>\n",
       "    </tr>\n",
       "    <tr>\n",
       "      <th>3</th>\n",
       "      <td>Arkansas</td>\n",
       "      <td>South</td>\n",
       "      <td>Little Rock</td>\n",
       "      <td>3011524</td>\n",
       "      <td>52035</td>\n",
       "      <td>Republican</td>\n",
       "    </tr>\n",
       "    <tr>\n",
       "      <th>4</th>\n",
       "      <td>California</td>\n",
       "      <td>West</td>\n",
       "      <td>Sacramento</td>\n",
       "      <td>39538223</td>\n",
       "      <td>155779</td>\n",
       "      <td>Democratic</td>\n",
       "    </tr>\n",
       "    <tr>\n",
       "      <th>...</th>\n",
       "      <td>...</td>\n",
       "      <td>...</td>\n",
       "      <td>...</td>\n",
       "      <td>...</td>\n",
       "      <td>...</td>\n",
       "      <td>...</td>\n",
       "    </tr>\n",
       "    <tr>\n",
       "      <th>45</th>\n",
       "      <td>Virginia</td>\n",
       "      <td>South</td>\n",
       "      <td>Richmond</td>\n",
       "      <td>8631393</td>\n",
       "      <td>39490</td>\n",
       "      <td>Democratic</td>\n",
       "    </tr>\n",
       "    <tr>\n",
       "      <th>46</th>\n",
       "      <td>Washington</td>\n",
       "      <td>West</td>\n",
       "      <td>Olympia</td>\n",
       "      <td>7705281</td>\n",
       "      <td>66456</td>\n",
       "      <td>Democratic</td>\n",
       "    </tr>\n",
       "    <tr>\n",
       "      <th>47</th>\n",
       "      <td>West Virginia</td>\n",
       "      <td>South</td>\n",
       "      <td>Charleston</td>\n",
       "      <td>1793716</td>\n",
       "      <td>24038</td>\n",
       "      <td>Republican</td>\n",
       "    </tr>\n",
       "    <tr>\n",
       "      <th>48</th>\n",
       "      <td>Wisconsin</td>\n",
       "      <td>Midwest</td>\n",
       "      <td>Madison</td>\n",
       "      <td>5893718</td>\n",
       "      <td>54158</td>\n",
       "      <td>Republican</td>\n",
       "    </tr>\n",
       "    <tr>\n",
       "      <th>49</th>\n",
       "      <td>Wyoming</td>\n",
       "      <td>West</td>\n",
       "      <td>Cheyenne</td>\n",
       "      <td>576851</td>\n",
       "      <td>97093</td>\n",
       "      <td>Republican</td>\n",
       "    </tr>\n",
       "  </tbody>\n",
       "</table>\n",
       "<p>50 rows × 6 columns</p>\n",
       "</div>"
      ],
      "text/plain": [
       "            State   Region Capital City  Population  Land Area       Party\n",
       "0         Alabama    South   Montgomery     5024279      50645  Republican\n",
       "1          Alaska     West       Juneau      733391     570641  Republican\n",
       "2         Arizona     West      Phoenix     7151502     113594  Republican\n",
       "3        Arkansas    South  Little Rock     3011524      52035  Republican\n",
       "4      California     West   Sacramento    39538223     155779  Democratic\n",
       "..            ...      ...          ...         ...        ...         ...\n",
       "45       Virginia    South     Richmond     8631393      39490  Democratic\n",
       "46     Washington     West      Olympia     7705281      66456  Democratic\n",
       "47  West Virginia    South   Charleston     1793716      24038  Republican\n",
       "48      Wisconsin  Midwest      Madison     5893718      54158  Republican\n",
       "49        Wyoming     West     Cheyenne      576851      97093  Republican\n",
       "\n",
       "[50 rows x 6 columns]"
      ]
     },
     "execution_count": 21,
     "metadata": {},
     "output_type": "execute_result"
    }
   ],
   "source": [
    "# This DataFrame has 50 rows and 6 columns.\n",
    "states"
   ]
  },
  {
   "cell_type": "markdown",
   "metadata": {
    "slideshow": {
     "slide_type": "slide"
    }
   },
   "source": [
    "## Example 1: Population density\n",
    "\n",
    "**Key concepts**: Accessing columns, performing calculations with them, and adding new columns."
   ]
  },
  {
   "cell_type": "markdown",
   "metadata": {
    "slideshow": {
     "slide_type": "slide"
    }
   },
   "source": [
    "### Finding population density"
   ]
  },
  {
   "cell_type": "markdown",
   "metadata": {
    "slideshow": {
     "slide_type": "fragment"
    }
   },
   "source": [
    "**Question**: What is the population density of each state, in people per square mile?"
   ]
  },
  {
   "cell_type": "code",
   "execution_count": 22,
   "metadata": {},
   "outputs": [
    {
     "data": {
      "text/html": [
       "<div>\n",
       "<style scoped>\n",
       "    .dataframe tbody tr th:only-of-type {\n",
       "        vertical-align: middle;\n",
       "    }\n",
       "\n",
       "    .dataframe tbody tr th {\n",
       "        vertical-align: top;\n",
       "    }\n",
       "\n",
       "    .dataframe thead th {\n",
       "        text-align: right;\n",
       "    }\n",
       "</style>\n",
       "<table border=\"1\" class=\"dataframe\">\n",
       "  <thead>\n",
       "    <tr style=\"text-align: right;\">\n",
       "      <th></th>\n",
       "      <th>State</th>\n",
       "      <th>Region</th>\n",
       "      <th>Capital City</th>\n",
       "      <th>Population</th>\n",
       "      <th>Land Area</th>\n",
       "      <th>Party</th>\n",
       "    </tr>\n",
       "  </thead>\n",
       "  <tbody>\n",
       "    <tr>\n",
       "      <th>0</th>\n",
       "      <td>Alabama</td>\n",
       "      <td>South</td>\n",
       "      <td>Montgomery</td>\n",
       "      <td>5024279</td>\n",
       "      <td>50645</td>\n",
       "      <td>Republican</td>\n",
       "    </tr>\n",
       "    <tr>\n",
       "      <th>1</th>\n",
       "      <td>Alaska</td>\n",
       "      <td>West</td>\n",
       "      <td>Juneau</td>\n",
       "      <td>733391</td>\n",
       "      <td>570641</td>\n",
       "      <td>Republican</td>\n",
       "    </tr>\n",
       "    <tr>\n",
       "      <th>2</th>\n",
       "      <td>Arizona</td>\n",
       "      <td>West</td>\n",
       "      <td>Phoenix</td>\n",
       "      <td>7151502</td>\n",
       "      <td>113594</td>\n",
       "      <td>Republican</td>\n",
       "    </tr>\n",
       "    <tr>\n",
       "      <th>3</th>\n",
       "      <td>Arkansas</td>\n",
       "      <td>South</td>\n",
       "      <td>Little Rock</td>\n",
       "      <td>3011524</td>\n",
       "      <td>52035</td>\n",
       "      <td>Republican</td>\n",
       "    </tr>\n",
       "    <tr>\n",
       "      <th>4</th>\n",
       "      <td>California</td>\n",
       "      <td>West</td>\n",
       "      <td>Sacramento</td>\n",
       "      <td>39538223</td>\n",
       "      <td>155779</td>\n",
       "      <td>Democratic</td>\n",
       "    </tr>\n",
       "    <tr>\n",
       "      <th>...</th>\n",
       "      <td>...</td>\n",
       "      <td>...</td>\n",
       "      <td>...</td>\n",
       "      <td>...</td>\n",
       "      <td>...</td>\n",
       "      <td>...</td>\n",
       "    </tr>\n",
       "    <tr>\n",
       "      <th>45</th>\n",
       "      <td>Virginia</td>\n",
       "      <td>South</td>\n",
       "      <td>Richmond</td>\n",
       "      <td>8631393</td>\n",
       "      <td>39490</td>\n",
       "      <td>Democratic</td>\n",
       "    </tr>\n",
       "    <tr>\n",
       "      <th>46</th>\n",
       "      <td>Washington</td>\n",
       "      <td>West</td>\n",
       "      <td>Olympia</td>\n",
       "      <td>7705281</td>\n",
       "      <td>66456</td>\n",
       "      <td>Democratic</td>\n",
       "    </tr>\n",
       "    <tr>\n",
       "      <th>47</th>\n",
       "      <td>West Virginia</td>\n",
       "      <td>South</td>\n",
       "      <td>Charleston</td>\n",
       "      <td>1793716</td>\n",
       "      <td>24038</td>\n",
       "      <td>Republican</td>\n",
       "    </tr>\n",
       "    <tr>\n",
       "      <th>48</th>\n",
       "      <td>Wisconsin</td>\n",
       "      <td>Midwest</td>\n",
       "      <td>Madison</td>\n",
       "      <td>5893718</td>\n",
       "      <td>54158</td>\n",
       "      <td>Republican</td>\n",
       "    </tr>\n",
       "    <tr>\n",
       "      <th>49</th>\n",
       "      <td>Wyoming</td>\n",
       "      <td>West</td>\n",
       "      <td>Cheyenne</td>\n",
       "      <td>576851</td>\n",
       "      <td>97093</td>\n",
       "      <td>Republican</td>\n",
       "    </tr>\n",
       "  </tbody>\n",
       "</table>\n",
       "<p>50 rows × 6 columns</p>\n",
       "</div>"
      ],
      "text/plain": [
       "            State   Region Capital City  Population  Land Area       Party\n",
       "0         Alabama    South   Montgomery     5024279      50645  Republican\n",
       "1          Alaska     West       Juneau      733391     570641  Republican\n",
       "2         Arizona     West      Phoenix     7151502     113594  Republican\n",
       "3        Arkansas    South  Little Rock     3011524      52035  Republican\n",
       "4      California     West   Sacramento    39538223     155779  Democratic\n",
       "..            ...      ...          ...         ...        ...         ...\n",
       "45       Virginia    South     Richmond     8631393      39490  Democratic\n",
       "46     Washington     West      Olympia     7705281      66456  Democratic\n",
       "47  West Virginia    South   Charleston     1793716      24038  Republican\n",
       "48      Wisconsin  Midwest      Madison     5893718      54158  Republican\n",
       "49        Wyoming     West     Cheyenne      576851      97093  Republican\n",
       "\n",
       "[50 rows x 6 columns]"
      ]
     },
     "execution_count": 22,
     "metadata": {},
     "output_type": "execute_result"
    }
   ],
   "source": [
    "states"
   ]
  },
  {
   "cell_type": "markdown",
   "metadata": {
    "slideshow": {
     "slide_type": "fragment"
    }
   },
   "source": [
    "- We have, separately, the population and land area of each state."
   ]
  },
  {
   "cell_type": "markdown",
   "metadata": {
    "slideshow": {
     "slide_type": "fragment"
    }
   },
   "source": [
    "- Steps:\n",
    "    - Get the `'Population'` column.\n",
    "    - Get the `'Land Area'` column.\n",
    "    - Divide these columns element-wise.\n",
    "    - Add a new column to the DataFrame with these results."
   ]
  },
  {
   "cell_type": "markdown",
   "metadata": {
    "slideshow": {
     "slide_type": "slide"
    }
   },
   "source": [
    "#### Step 1 – Getting the `'Population'` column\n",
    "\n",
    "- We can get a column from a DataFrame using `.get(column_name)`.\n",
    "- 🚨 Column names are case sensitive!\n",
    "- Column names are strings, so we need to use quotes.\n",
    "- The result looks like a 1-column DataFrame, but is actually a *Series*."
   ]
  },
  {
   "cell_type": "code",
   "execution_count": 23,
   "metadata": {},
   "outputs": [
    {
     "data": {
      "text/html": [
       "<div>\n",
       "<style scoped>\n",
       "    .dataframe tbody tr th:only-of-type {\n",
       "        vertical-align: middle;\n",
       "    }\n",
       "\n",
       "    .dataframe tbody tr th {\n",
       "        vertical-align: top;\n",
       "    }\n",
       "\n",
       "    .dataframe thead th {\n",
       "        text-align: right;\n",
       "    }\n",
       "</style>\n",
       "<table border=\"1\" class=\"dataframe\">\n",
       "  <thead>\n",
       "    <tr style=\"text-align: right;\">\n",
       "      <th></th>\n",
       "      <th>State</th>\n",
       "      <th>Region</th>\n",
       "      <th>Capital City</th>\n",
       "      <th>Population</th>\n",
       "      <th>Land Area</th>\n",
       "      <th>Party</th>\n",
       "    </tr>\n",
       "  </thead>\n",
       "  <tbody>\n",
       "    <tr>\n",
       "      <th>0</th>\n",
       "      <td>Alabama</td>\n",
       "      <td>South</td>\n",
       "      <td>Montgomery</td>\n",
       "      <td>5024279</td>\n",
       "      <td>50645</td>\n",
       "      <td>Republican</td>\n",
       "    </tr>\n",
       "    <tr>\n",
       "      <th>1</th>\n",
       "      <td>Alaska</td>\n",
       "      <td>West</td>\n",
       "      <td>Juneau</td>\n",
       "      <td>733391</td>\n",
       "      <td>570641</td>\n",
       "      <td>Republican</td>\n",
       "    </tr>\n",
       "    <tr>\n",
       "      <th>2</th>\n",
       "      <td>Arizona</td>\n",
       "      <td>West</td>\n",
       "      <td>Phoenix</td>\n",
       "      <td>7151502</td>\n",
       "      <td>113594</td>\n",
       "      <td>Republican</td>\n",
       "    </tr>\n",
       "    <tr>\n",
       "      <th>3</th>\n",
       "      <td>Arkansas</td>\n",
       "      <td>South</td>\n",
       "      <td>Little Rock</td>\n",
       "      <td>3011524</td>\n",
       "      <td>52035</td>\n",
       "      <td>Republican</td>\n",
       "    </tr>\n",
       "    <tr>\n",
       "      <th>4</th>\n",
       "      <td>California</td>\n",
       "      <td>West</td>\n",
       "      <td>Sacramento</td>\n",
       "      <td>39538223</td>\n",
       "      <td>155779</td>\n",
       "      <td>Democratic</td>\n",
       "    </tr>\n",
       "    <tr>\n",
       "      <th>...</th>\n",
       "      <td>...</td>\n",
       "      <td>...</td>\n",
       "      <td>...</td>\n",
       "      <td>...</td>\n",
       "      <td>...</td>\n",
       "      <td>...</td>\n",
       "    </tr>\n",
       "    <tr>\n",
       "      <th>45</th>\n",
       "      <td>Virginia</td>\n",
       "      <td>South</td>\n",
       "      <td>Richmond</td>\n",
       "      <td>8631393</td>\n",
       "      <td>39490</td>\n",
       "      <td>Democratic</td>\n",
       "    </tr>\n",
       "    <tr>\n",
       "      <th>46</th>\n",
       "      <td>Washington</td>\n",
       "      <td>West</td>\n",
       "      <td>Olympia</td>\n",
       "      <td>7705281</td>\n",
       "      <td>66456</td>\n",
       "      <td>Democratic</td>\n",
       "    </tr>\n",
       "    <tr>\n",
       "      <th>47</th>\n",
       "      <td>West Virginia</td>\n",
       "      <td>South</td>\n",
       "      <td>Charleston</td>\n",
       "      <td>1793716</td>\n",
       "      <td>24038</td>\n",
       "      <td>Republican</td>\n",
       "    </tr>\n",
       "    <tr>\n",
       "      <th>48</th>\n",
       "      <td>Wisconsin</td>\n",
       "      <td>Midwest</td>\n",
       "      <td>Madison</td>\n",
       "      <td>5893718</td>\n",
       "      <td>54158</td>\n",
       "      <td>Republican</td>\n",
       "    </tr>\n",
       "    <tr>\n",
       "      <th>49</th>\n",
       "      <td>Wyoming</td>\n",
       "      <td>West</td>\n",
       "      <td>Cheyenne</td>\n",
       "      <td>576851</td>\n",
       "      <td>97093</td>\n",
       "      <td>Republican</td>\n",
       "    </tr>\n",
       "  </tbody>\n",
       "</table>\n",
       "<p>50 rows × 6 columns</p>\n",
       "</div>"
      ],
      "text/plain": [
       "            State   Region Capital City  Population  Land Area       Party\n",
       "0         Alabama    South   Montgomery     5024279      50645  Republican\n",
       "1          Alaska     West       Juneau      733391     570641  Republican\n",
       "2         Arizona     West      Phoenix     7151502     113594  Republican\n",
       "3        Arkansas    South  Little Rock     3011524      52035  Republican\n",
       "4      California     West   Sacramento    39538223     155779  Democratic\n",
       "..            ...      ...          ...         ...        ...         ...\n",
       "45       Virginia    South     Richmond     8631393      39490  Democratic\n",
       "46     Washington     West      Olympia     7705281      66456  Democratic\n",
       "47  West Virginia    South   Charleston     1793716      24038  Republican\n",
       "48      Wisconsin  Midwest      Madison     5893718      54158  Republican\n",
       "49        Wyoming     West     Cheyenne      576851      97093  Republican\n",
       "\n",
       "[50 rows x 6 columns]"
      ]
     },
     "execution_count": 23,
     "metadata": {},
     "output_type": "execute_result"
    }
   ],
   "source": [
    "states"
   ]
  },
  {
   "cell_type": "code",
   "execution_count": 24,
   "metadata": {
    "scrolled": true
   },
   "outputs": [
    {
     "data": {
      "text/plain": [
       "0      5024279\n",
       "1       733391\n",
       "2      7151502\n",
       "3      3011524\n",
       "4     39538223\n",
       "        ...   \n",
       "45     8631393\n",
       "46     7705281\n",
       "47     1793716\n",
       "48     5893718\n",
       "49      576851\n",
       "Name: Population, Length: 50, dtype: int64"
      ]
     },
     "execution_count": 24,
     "metadata": {},
     "output_type": "execute_result"
    }
   ],
   "source": [
    "states.get('Population')"
   ]
  },
  {
   "cell_type": "markdown",
   "metadata": {
    "slideshow": {
     "slide_type": "slide"
    }
   },
   "source": [
    "### Digression: Series\n",
    "\n",
    "- A *Series* is like an array, but with an index.\n",
    "- In particular, Series support arithmetic, just like arrays."
   ]
  },
  {
   "cell_type": "code",
   "execution_count": 25,
   "metadata": {},
   "outputs": [
    {
     "data": {
      "text/plain": [
       "0      5024279\n",
       "1       733391\n",
       "2      7151502\n",
       "3      3011524\n",
       "4     39538223\n",
       "        ...   \n",
       "45     8631393\n",
       "46     7705281\n",
       "47     1793716\n",
       "48     5893718\n",
       "49      576851\n",
       "Name: Population, Length: 50, dtype: int64"
      ]
     },
     "execution_count": 25,
     "metadata": {},
     "output_type": "execute_result"
    }
   ],
   "source": [
    "states.get('Population')"
   ]
  },
  {
   "cell_type": "code",
   "execution_count": 26,
   "metadata": {},
   "outputs": [
    {
     "data": {
      "text/plain": [
       "babypandas.bpd.Series"
      ]
     },
     "execution_count": 26,
     "metadata": {},
     "output_type": "execute_result"
    }
   ],
   "source": [
    "type(states.get('Population'))"
   ]
  },
  {
   "cell_type": "markdown",
   "metadata": {
    "slideshow": {
     "slide_type": "slide"
    }
   },
   "source": [
    "#### Steps 2 and 3 – Getting the `'Land Area'` column and dividing element-wise"
   ]
  },
  {
   "cell_type": "code",
   "execution_count": 27,
   "metadata": {
    "scrolled": true
   },
   "outputs": [
    {
     "data": {
      "text/plain": [
       "0      50645\n",
       "1     570641\n",
       "2     113594\n",
       "3      52035\n",
       "4     155779\n",
       "       ...  \n",
       "45     39490\n",
       "46     66456\n",
       "47     24038\n",
       "48     54158\n",
       "49     97093\n",
       "Name: Land Area, Length: 50, dtype: int64"
      ]
     },
     "execution_count": 27,
     "metadata": {},
     "output_type": "execute_result"
    }
   ],
   "source": [
    "states.get('Land Area')"
   ]
  },
  {
   "cell_type": "markdown",
   "metadata": {
    "slideshow": {
     "slide_type": "fragment"
    }
   },
   "source": [
    "- Just like with arrays, we can perform arithmetic operations with two Series, as long as they have the same length and same index. \n",
    "- Operations happen element-wise (by matching up corresponding index values), and the result is also a Series."
   ]
  },
  {
   "cell_type": "code",
   "execution_count": 28,
   "metadata": {},
   "outputs": [
    {
     "data": {
      "text/plain": [
       "0      99.21\n",
       "1       1.29\n",
       "2      62.96\n",
       "3      57.87\n",
       "4     253.81\n",
       "       ...  \n",
       "45    218.57\n",
       "46    115.95\n",
       "47     74.62\n",
       "48    108.82\n",
       "49      5.94\n",
       "Length: 50, dtype: float64"
      ]
     },
     "execution_count": 28,
     "metadata": {},
     "output_type": "execute_result"
    }
   ],
   "source": [
    "states.get('Population') / states.get('Land Area')"
   ]
  },
  {
   "cell_type": "markdown",
   "metadata": {
    "slideshow": {
     "slide_type": "slide"
    }
   },
   "source": [
    "#### Step 4 – Adding the densities to the DataFrame as a new column\n",
    "\n",
    "- Use `.assign(name_of_column=data_in_series)` to assign a Series (or array, or list) to a DataFrame.\n",
    "- 🚨 Don't put quotes around `name_of_column`.\n",
    "- This creates a new DataFrame, which we must save to a variable if we want to keep using it."
   ]
  },
  {
   "cell_type": "code",
   "execution_count": 29,
   "metadata": {
    "scrolled": true
   },
   "outputs": [
    {
     "data": {
      "text/html": [
       "<div>\n",
       "<style scoped>\n",
       "    .dataframe tbody tr th:only-of-type {\n",
       "        vertical-align: middle;\n",
       "    }\n",
       "\n",
       "    .dataframe tbody tr th {\n",
       "        vertical-align: top;\n",
       "    }\n",
       "\n",
       "    .dataframe thead th {\n",
       "        text-align: right;\n",
       "    }\n",
       "</style>\n",
       "<table border=\"1\" class=\"dataframe\">\n",
       "  <thead>\n",
       "    <tr style=\"text-align: right;\">\n",
       "      <th></th>\n",
       "      <th>State</th>\n",
       "      <th>Region</th>\n",
       "      <th>Capital City</th>\n",
       "      <th>Population</th>\n",
       "      <th>Land Area</th>\n",
       "      <th>Party</th>\n",
       "      <th>Density</th>\n",
       "    </tr>\n",
       "  </thead>\n",
       "  <tbody>\n",
       "    <tr>\n",
       "      <th>0</th>\n",
       "      <td>Alabama</td>\n",
       "      <td>South</td>\n",
       "      <td>Montgomery</td>\n",
       "      <td>5024279</td>\n",
       "      <td>50645</td>\n",
       "      <td>Republican</td>\n",
       "      <td>99.21</td>\n",
       "    </tr>\n",
       "    <tr>\n",
       "      <th>1</th>\n",
       "      <td>Alaska</td>\n",
       "      <td>West</td>\n",
       "      <td>Juneau</td>\n",
       "      <td>733391</td>\n",
       "      <td>570641</td>\n",
       "      <td>Republican</td>\n",
       "      <td>1.29</td>\n",
       "    </tr>\n",
       "    <tr>\n",
       "      <th>2</th>\n",
       "      <td>Arizona</td>\n",
       "      <td>West</td>\n",
       "      <td>Phoenix</td>\n",
       "      <td>7151502</td>\n",
       "      <td>113594</td>\n",
       "      <td>Republican</td>\n",
       "      <td>62.96</td>\n",
       "    </tr>\n",
       "    <tr>\n",
       "      <th>3</th>\n",
       "      <td>Arkansas</td>\n",
       "      <td>South</td>\n",
       "      <td>Little Rock</td>\n",
       "      <td>3011524</td>\n",
       "      <td>52035</td>\n",
       "      <td>Republican</td>\n",
       "      <td>57.87</td>\n",
       "    </tr>\n",
       "    <tr>\n",
       "      <th>4</th>\n",
       "      <td>California</td>\n",
       "      <td>West</td>\n",
       "      <td>Sacramento</td>\n",
       "      <td>39538223</td>\n",
       "      <td>155779</td>\n",
       "      <td>Democratic</td>\n",
       "      <td>253.81</td>\n",
       "    </tr>\n",
       "    <tr>\n",
       "      <th>...</th>\n",
       "      <td>...</td>\n",
       "      <td>...</td>\n",
       "      <td>...</td>\n",
       "      <td>...</td>\n",
       "      <td>...</td>\n",
       "      <td>...</td>\n",
       "      <td>...</td>\n",
       "    </tr>\n",
       "    <tr>\n",
       "      <th>45</th>\n",
       "      <td>Virginia</td>\n",
       "      <td>South</td>\n",
       "      <td>Richmond</td>\n",
       "      <td>8631393</td>\n",
       "      <td>39490</td>\n",
       "      <td>Democratic</td>\n",
       "      <td>218.57</td>\n",
       "    </tr>\n",
       "    <tr>\n",
       "      <th>46</th>\n",
       "      <td>Washington</td>\n",
       "      <td>West</td>\n",
       "      <td>Olympia</td>\n",
       "      <td>7705281</td>\n",
       "      <td>66456</td>\n",
       "      <td>Democratic</td>\n",
       "      <td>115.95</td>\n",
       "    </tr>\n",
       "    <tr>\n",
       "      <th>47</th>\n",
       "      <td>West Virginia</td>\n",
       "      <td>South</td>\n",
       "      <td>Charleston</td>\n",
       "      <td>1793716</td>\n",
       "      <td>24038</td>\n",
       "      <td>Republican</td>\n",
       "      <td>74.62</td>\n",
       "    </tr>\n",
       "    <tr>\n",
       "      <th>48</th>\n",
       "      <td>Wisconsin</td>\n",
       "      <td>Midwest</td>\n",
       "      <td>Madison</td>\n",
       "      <td>5893718</td>\n",
       "      <td>54158</td>\n",
       "      <td>Republican</td>\n",
       "      <td>108.82</td>\n",
       "    </tr>\n",
       "    <tr>\n",
       "      <th>49</th>\n",
       "      <td>Wyoming</td>\n",
       "      <td>West</td>\n",
       "      <td>Cheyenne</td>\n",
       "      <td>576851</td>\n",
       "      <td>97093</td>\n",
       "      <td>Republican</td>\n",
       "      <td>5.94</td>\n",
       "    </tr>\n",
       "  </tbody>\n",
       "</table>\n",
       "<p>50 rows × 7 columns</p>\n",
       "</div>"
      ],
      "text/plain": [
       "            State   Region Capital City  Population  Land Area       Party  \\\n",
       "0         Alabama    South   Montgomery     5024279      50645  Republican   \n",
       "1          Alaska     West       Juneau      733391     570641  Republican   \n",
       "2         Arizona     West      Phoenix     7151502     113594  Republican   \n",
       "3        Arkansas    South  Little Rock     3011524      52035  Republican   \n",
       "4      California     West   Sacramento    39538223     155779  Democratic   \n",
       "..            ...      ...          ...         ...        ...         ...   \n",
       "45       Virginia    South     Richmond     8631393      39490  Democratic   \n",
       "46     Washington     West      Olympia     7705281      66456  Democratic   \n",
       "47  West Virginia    South   Charleston     1793716      24038  Republican   \n",
       "48      Wisconsin  Midwest      Madison     5893718      54158  Republican   \n",
       "49        Wyoming     West     Cheyenne      576851      97093  Republican   \n",
       "\n",
       "    Density  \n",
       "0     99.21  \n",
       "1      1.29  \n",
       "2     62.96  \n",
       "3     57.87  \n",
       "4    253.81  \n",
       "..      ...  \n",
       "45   218.57  \n",
       "46   115.95  \n",
       "47    74.62  \n",
       "48   108.82  \n",
       "49     5.94  \n",
       "\n",
       "[50 rows x 7 columns]"
      ]
     },
     "execution_count": 29,
     "metadata": {},
     "output_type": "execute_result"
    }
   ],
   "source": [
    "states.assign(\n",
    "    Density=states.get('Population') / states.get('Land Area')\n",
    ")"
   ]
  },
  {
   "cell_type": "code",
   "execution_count": 30,
   "metadata": {},
   "outputs": [
    {
     "data": {
      "text/html": [
       "<div>\n",
       "<style scoped>\n",
       "    .dataframe tbody tr th:only-of-type {\n",
       "        vertical-align: middle;\n",
       "    }\n",
       "\n",
       "    .dataframe tbody tr th {\n",
       "        vertical-align: top;\n",
       "    }\n",
       "\n",
       "    .dataframe thead th {\n",
       "        text-align: right;\n",
       "    }\n",
       "</style>\n",
       "<table border=\"1\" class=\"dataframe\">\n",
       "  <thead>\n",
       "    <tr style=\"text-align: right;\">\n",
       "      <th></th>\n",
       "      <th>State</th>\n",
       "      <th>Region</th>\n",
       "      <th>Capital City</th>\n",
       "      <th>Population</th>\n",
       "      <th>Land Area</th>\n",
       "      <th>Party</th>\n",
       "    </tr>\n",
       "  </thead>\n",
       "  <tbody>\n",
       "    <tr>\n",
       "      <th>0</th>\n",
       "      <td>Alabama</td>\n",
       "      <td>South</td>\n",
       "      <td>Montgomery</td>\n",
       "      <td>5024279</td>\n",
       "      <td>50645</td>\n",
       "      <td>Republican</td>\n",
       "    </tr>\n",
       "    <tr>\n",
       "      <th>1</th>\n",
       "      <td>Alaska</td>\n",
       "      <td>West</td>\n",
       "      <td>Juneau</td>\n",
       "      <td>733391</td>\n",
       "      <td>570641</td>\n",
       "      <td>Republican</td>\n",
       "    </tr>\n",
       "    <tr>\n",
       "      <th>2</th>\n",
       "      <td>Arizona</td>\n",
       "      <td>West</td>\n",
       "      <td>Phoenix</td>\n",
       "      <td>7151502</td>\n",
       "      <td>113594</td>\n",
       "      <td>Republican</td>\n",
       "    </tr>\n",
       "    <tr>\n",
       "      <th>3</th>\n",
       "      <td>Arkansas</td>\n",
       "      <td>South</td>\n",
       "      <td>Little Rock</td>\n",
       "      <td>3011524</td>\n",
       "      <td>52035</td>\n",
       "      <td>Republican</td>\n",
       "    </tr>\n",
       "    <tr>\n",
       "      <th>4</th>\n",
       "      <td>California</td>\n",
       "      <td>West</td>\n",
       "      <td>Sacramento</td>\n",
       "      <td>39538223</td>\n",
       "      <td>155779</td>\n",
       "      <td>Democratic</td>\n",
       "    </tr>\n",
       "    <tr>\n",
       "      <th>...</th>\n",
       "      <td>...</td>\n",
       "      <td>...</td>\n",
       "      <td>...</td>\n",
       "      <td>...</td>\n",
       "      <td>...</td>\n",
       "      <td>...</td>\n",
       "    </tr>\n",
       "    <tr>\n",
       "      <th>45</th>\n",
       "      <td>Virginia</td>\n",
       "      <td>South</td>\n",
       "      <td>Richmond</td>\n",
       "      <td>8631393</td>\n",
       "      <td>39490</td>\n",
       "      <td>Democratic</td>\n",
       "    </tr>\n",
       "    <tr>\n",
       "      <th>46</th>\n",
       "      <td>Washington</td>\n",
       "      <td>West</td>\n",
       "      <td>Olympia</td>\n",
       "      <td>7705281</td>\n",
       "      <td>66456</td>\n",
       "      <td>Democratic</td>\n",
       "    </tr>\n",
       "    <tr>\n",
       "      <th>47</th>\n",
       "      <td>West Virginia</td>\n",
       "      <td>South</td>\n",
       "      <td>Charleston</td>\n",
       "      <td>1793716</td>\n",
       "      <td>24038</td>\n",
       "      <td>Republican</td>\n",
       "    </tr>\n",
       "    <tr>\n",
       "      <th>48</th>\n",
       "      <td>Wisconsin</td>\n",
       "      <td>Midwest</td>\n",
       "      <td>Madison</td>\n",
       "      <td>5893718</td>\n",
       "      <td>54158</td>\n",
       "      <td>Republican</td>\n",
       "    </tr>\n",
       "    <tr>\n",
       "      <th>49</th>\n",
       "      <td>Wyoming</td>\n",
       "      <td>West</td>\n",
       "      <td>Cheyenne</td>\n",
       "      <td>576851</td>\n",
       "      <td>97093</td>\n",
       "      <td>Republican</td>\n",
       "    </tr>\n",
       "  </tbody>\n",
       "</table>\n",
       "<p>50 rows × 6 columns</p>\n",
       "</div>"
      ],
      "text/plain": [
       "            State   Region Capital City  Population  Land Area       Party\n",
       "0         Alabama    South   Montgomery     5024279      50645  Republican\n",
       "1          Alaska     West       Juneau      733391     570641  Republican\n",
       "2         Arizona     West      Phoenix     7151502     113594  Republican\n",
       "3        Arkansas    South  Little Rock     3011524      52035  Republican\n",
       "4      California     West   Sacramento    39538223     155779  Democratic\n",
       "..            ...      ...          ...         ...        ...         ...\n",
       "45       Virginia    South     Richmond     8631393      39490  Democratic\n",
       "46     Washington     West      Olympia     7705281      66456  Democratic\n",
       "47  West Virginia    South   Charleston     1793716      24038  Republican\n",
       "48      Wisconsin  Midwest      Madison     5893718      54158  Republican\n",
       "49        Wyoming     West     Cheyenne      576851      97093  Republican\n",
       "\n",
       "[50 rows x 6 columns]"
      ]
     },
     "execution_count": 30,
     "metadata": {},
     "output_type": "execute_result"
    }
   ],
   "source": [
    "states"
   ]
  },
  {
   "cell_type": "code",
   "execution_count": 31,
   "metadata": {
    "slideshow": {
     "slide_type": "-"
    }
   },
   "outputs": [
    {
     "data": {
      "text/html": [
       "<div>\n",
       "<style scoped>\n",
       "    .dataframe tbody tr th:only-of-type {\n",
       "        vertical-align: middle;\n",
       "    }\n",
       "\n",
       "    .dataframe tbody tr th {\n",
       "        vertical-align: top;\n",
       "    }\n",
       "\n",
       "    .dataframe thead th {\n",
       "        text-align: right;\n",
       "    }\n",
       "</style>\n",
       "<table border=\"1\" class=\"dataframe\">\n",
       "  <thead>\n",
       "    <tr style=\"text-align: right;\">\n",
       "      <th></th>\n",
       "      <th>State</th>\n",
       "      <th>Region</th>\n",
       "      <th>Capital City</th>\n",
       "      <th>Population</th>\n",
       "      <th>Land Area</th>\n",
       "      <th>Party</th>\n",
       "      <th>Density</th>\n",
       "    </tr>\n",
       "  </thead>\n",
       "  <tbody>\n",
       "    <tr>\n",
       "      <th>0</th>\n",
       "      <td>Alabama</td>\n",
       "      <td>South</td>\n",
       "      <td>Montgomery</td>\n",
       "      <td>5024279</td>\n",
       "      <td>50645</td>\n",
       "      <td>Republican</td>\n",
       "      <td>99.21</td>\n",
       "    </tr>\n",
       "    <tr>\n",
       "      <th>1</th>\n",
       "      <td>Alaska</td>\n",
       "      <td>West</td>\n",
       "      <td>Juneau</td>\n",
       "      <td>733391</td>\n",
       "      <td>570641</td>\n",
       "      <td>Republican</td>\n",
       "      <td>1.29</td>\n",
       "    </tr>\n",
       "    <tr>\n",
       "      <th>2</th>\n",
       "      <td>Arizona</td>\n",
       "      <td>West</td>\n",
       "      <td>Phoenix</td>\n",
       "      <td>7151502</td>\n",
       "      <td>113594</td>\n",
       "      <td>Republican</td>\n",
       "      <td>62.96</td>\n",
       "    </tr>\n",
       "    <tr>\n",
       "      <th>3</th>\n",
       "      <td>Arkansas</td>\n",
       "      <td>South</td>\n",
       "      <td>Little Rock</td>\n",
       "      <td>3011524</td>\n",
       "      <td>52035</td>\n",
       "      <td>Republican</td>\n",
       "      <td>57.87</td>\n",
       "    </tr>\n",
       "    <tr>\n",
       "      <th>4</th>\n",
       "      <td>California</td>\n",
       "      <td>West</td>\n",
       "      <td>Sacramento</td>\n",
       "      <td>39538223</td>\n",
       "      <td>155779</td>\n",
       "      <td>Democratic</td>\n",
       "      <td>253.81</td>\n",
       "    </tr>\n",
       "    <tr>\n",
       "      <th>...</th>\n",
       "      <td>...</td>\n",
       "      <td>...</td>\n",
       "      <td>...</td>\n",
       "      <td>...</td>\n",
       "      <td>...</td>\n",
       "      <td>...</td>\n",
       "      <td>...</td>\n",
       "    </tr>\n",
       "    <tr>\n",
       "      <th>45</th>\n",
       "      <td>Virginia</td>\n",
       "      <td>South</td>\n",
       "      <td>Richmond</td>\n",
       "      <td>8631393</td>\n",
       "      <td>39490</td>\n",
       "      <td>Democratic</td>\n",
       "      <td>218.57</td>\n",
       "    </tr>\n",
       "    <tr>\n",
       "      <th>46</th>\n",
       "      <td>Washington</td>\n",
       "      <td>West</td>\n",
       "      <td>Olympia</td>\n",
       "      <td>7705281</td>\n",
       "      <td>66456</td>\n",
       "      <td>Democratic</td>\n",
       "      <td>115.95</td>\n",
       "    </tr>\n",
       "    <tr>\n",
       "      <th>47</th>\n",
       "      <td>West Virginia</td>\n",
       "      <td>South</td>\n",
       "      <td>Charleston</td>\n",
       "      <td>1793716</td>\n",
       "      <td>24038</td>\n",
       "      <td>Republican</td>\n",
       "      <td>74.62</td>\n",
       "    </tr>\n",
       "    <tr>\n",
       "      <th>48</th>\n",
       "      <td>Wisconsin</td>\n",
       "      <td>Midwest</td>\n",
       "      <td>Madison</td>\n",
       "      <td>5893718</td>\n",
       "      <td>54158</td>\n",
       "      <td>Republican</td>\n",
       "      <td>108.82</td>\n",
       "    </tr>\n",
       "    <tr>\n",
       "      <th>49</th>\n",
       "      <td>Wyoming</td>\n",
       "      <td>West</td>\n",
       "      <td>Cheyenne</td>\n",
       "      <td>576851</td>\n",
       "      <td>97093</td>\n",
       "      <td>Republican</td>\n",
       "      <td>5.94</td>\n",
       "    </tr>\n",
       "  </tbody>\n",
       "</table>\n",
       "<p>50 rows × 7 columns</p>\n",
       "</div>"
      ],
      "text/plain": [
       "            State   Region Capital City  Population  Land Area       Party  \\\n",
       "0         Alabama    South   Montgomery     5024279      50645  Republican   \n",
       "1          Alaska     West       Juneau      733391     570641  Republican   \n",
       "2         Arizona     West      Phoenix     7151502     113594  Republican   \n",
       "3        Arkansas    South  Little Rock     3011524      52035  Republican   \n",
       "4      California     West   Sacramento    39538223     155779  Democratic   \n",
       "..            ...      ...          ...         ...        ...         ...   \n",
       "45       Virginia    South     Richmond     8631393      39490  Democratic   \n",
       "46     Washington     West      Olympia     7705281      66456  Democratic   \n",
       "47  West Virginia    South   Charleston     1793716      24038  Republican   \n",
       "48      Wisconsin  Midwest      Madison     5893718      54158  Republican   \n",
       "49        Wyoming     West     Cheyenne      576851      97093  Republican   \n",
       "\n",
       "    Density  \n",
       "0     99.21  \n",
       "1      1.29  \n",
       "2     62.96  \n",
       "3     57.87  \n",
       "4    253.81  \n",
       "..      ...  \n",
       "45   218.57  \n",
       "46   115.95  \n",
       "47    74.62  \n",
       "48   108.82  \n",
       "49     5.94  \n",
       "\n",
       "[50 rows x 7 columns]"
      ]
     },
     "execution_count": 31,
     "metadata": {},
     "output_type": "execute_result"
    }
   ],
   "source": [
    "states = states.assign(\n",
    "    Density=states.get('Population') / states.get('Land Area')\n",
    ")\n",
    "states"
   ]
  },
  {
   "cell_type": "markdown",
   "metadata": {
    "slideshow": {
     "slide_type": "slide"
    }
   },
   "source": [
    "## Example 2: Exploring population density\n",
    "**Key concept**: Computing statistics of columns using Series methods."
   ]
  },
  {
   "cell_type": "markdown",
   "metadata": {
    "slideshow": {
     "slide_type": "slide"
    }
   },
   "source": [
    "### Questions\n",
    "\n",
    "- What is the highest population density of any one state? \n",
    "- What is the average population density across all states?\n",
    "\n",
    "Series, like arrays, have helpful methods, including `.min()`, `.max()`, and `.mean()`."
   ]
  },
  {
   "cell_type": "code",
   "execution_count": 32,
   "metadata": {},
   "outputs": [
    {
     "data": {
      "text/plain": [
       "1263.1212945335872"
      ]
     },
     "execution_count": 32,
     "metadata": {},
     "output_type": "execute_result"
    }
   ],
   "source": [
    "states.get('Density').max()"
   ]
  },
  {
   "cell_type": "markdown",
   "metadata": {
    "slideshow": {
     "slide_type": "fragment"
    }
   },
   "source": [
    "What state does this correspond to? We'll see how to find out shortly!"
   ]
  },
  {
   "cell_type": "markdown",
   "metadata": {
    "slideshow": {
     "slide_type": "slide"
    }
   },
   "source": [
    "Other statistics:"
   ]
  },
  {
   "cell_type": "code",
   "execution_count": 33,
   "metadata": {},
   "outputs": [
    {
     "data": {
      "text/plain": [
       "1.2852055845969708"
      ]
     },
     "execution_count": 33,
     "metadata": {},
     "output_type": "execute_result"
    }
   ],
   "source": [
    "states.get('Density').min()"
   ]
  },
  {
   "cell_type": "code",
   "execution_count": 34,
   "metadata": {
    "slideshow": {
     "slide_type": "-"
    }
   },
   "outputs": [
    {
     "data": {
      "text/plain": [
       "206.54513507096468"
      ]
     },
     "execution_count": 34,
     "metadata": {},
     "output_type": "execute_result"
    }
   ],
   "source": [
    "states.get('Density').mean()"
   ]
  },
  {
   "cell_type": "code",
   "execution_count": 35,
   "metadata": {},
   "outputs": [
    {
     "data": {
      "text/plain": [
       "108.31649013462203"
      ]
     },
     "execution_count": 35,
     "metadata": {},
     "output_type": "execute_result"
    }
   ],
   "source": [
    "states.get('Density').median()"
   ]
  },
  {
   "cell_type": "code",
   "execution_count": 36,
   "metadata": {},
   "outputs": [
    {
     "data": {
      "text/plain": [
       "count      50.00\n",
       "mean      206.55\n",
       "std       274.93\n",
       "min         1.29\n",
       "25%        47.06\n",
       "50%       108.32\n",
       "75%       224.57\n",
       "max      1263.12\n",
       "Name: Density, dtype: float64"
      ]
     },
     "execution_count": 36,
     "metadata": {},
     "output_type": "execute_result"
    }
   ],
   "source": [
    "# Lots of information at once!\n",
    "states.get('Density').describe()"
   ]
  },
  {
   "cell_type": "markdown",
   "metadata": {
    "slideshow": {
     "slide_type": "slide"
    }
   },
   "source": [
    "## Example 3: *Which* state has the highest population density?\n",
    "\n",
    "**Key concepts**: Sorting. Accessing using integer positions."
   ]
  },
  {
   "cell_type": "markdown",
   "metadata": {
    "slideshow": {
     "slide_type": "slide"
    }
   },
   "source": [
    "#### Step 1  – Sorting the DataFrame\n",
    "\n",
    "- Use the `.sort_values(by=column_name)` method to sort.\n",
    "    - The `by=` can be omitted, but helps with readability.\n",
    "- Like most DataFrame methods, this returns a new DataFrame."
   ]
  },
  {
   "cell_type": "code",
   "execution_count": 37,
   "metadata": {},
   "outputs": [
    {
     "data": {
      "text/html": [
       "<div>\n",
       "<style scoped>\n",
       "    .dataframe tbody tr th:only-of-type {\n",
       "        vertical-align: middle;\n",
       "    }\n",
       "\n",
       "    .dataframe tbody tr th {\n",
       "        vertical-align: top;\n",
       "    }\n",
       "\n",
       "    .dataframe thead th {\n",
       "        text-align: right;\n",
       "    }\n",
       "</style>\n",
       "<table border=\"1\" class=\"dataframe\">\n",
       "  <thead>\n",
       "    <tr style=\"text-align: right;\">\n",
       "      <th></th>\n",
       "      <th>State</th>\n",
       "      <th>Region</th>\n",
       "      <th>Capital City</th>\n",
       "      <th>Population</th>\n",
       "      <th>Land Area</th>\n",
       "      <th>Party</th>\n",
       "      <th>Density</th>\n",
       "    </tr>\n",
       "  </thead>\n",
       "  <tbody>\n",
       "    <tr>\n",
       "      <th>1</th>\n",
       "      <td>Alaska</td>\n",
       "      <td>West</td>\n",
       "      <td>Juneau</td>\n",
       "      <td>733391</td>\n",
       "      <td>570641</td>\n",
       "      <td>Republican</td>\n",
       "      <td>1.29</td>\n",
       "    </tr>\n",
       "    <tr>\n",
       "      <th>49</th>\n",
       "      <td>Wyoming</td>\n",
       "      <td>West</td>\n",
       "      <td>Cheyenne</td>\n",
       "      <td>576851</td>\n",
       "      <td>97093</td>\n",
       "      <td>Republican</td>\n",
       "      <td>5.94</td>\n",
       "    </tr>\n",
       "    <tr>\n",
       "      <th>25</th>\n",
       "      <td>Montana</td>\n",
       "      <td>West</td>\n",
       "      <td>Helena</td>\n",
       "      <td>1084225</td>\n",
       "      <td>145546</td>\n",
       "      <td>Republican</td>\n",
       "      <td>7.45</td>\n",
       "    </tr>\n",
       "    <tr>\n",
       "      <th>33</th>\n",
       "      <td>North Dakota</td>\n",
       "      <td>Midwest</td>\n",
       "      <td>Bismarck</td>\n",
       "      <td>779094</td>\n",
       "      <td>69001</td>\n",
       "      <td>Republican</td>\n",
       "      <td>11.29</td>\n",
       "    </tr>\n",
       "    <tr>\n",
       "      <th>40</th>\n",
       "      <td>South Dakota</td>\n",
       "      <td>Midwest</td>\n",
       "      <td>Pierre</td>\n",
       "      <td>886667</td>\n",
       "      <td>75811</td>\n",
       "      <td>Republican</td>\n",
       "      <td>11.70</td>\n",
       "    </tr>\n",
       "    <tr>\n",
       "      <th>...</th>\n",
       "      <td>...</td>\n",
       "      <td>...</td>\n",
       "      <td>...</td>\n",
       "      <td>...</td>\n",
       "      <td>...</td>\n",
       "      <td>...</td>\n",
       "      <td>...</td>\n",
       "    </tr>\n",
       "    <tr>\n",
       "      <th>19</th>\n",
       "      <td>Maryland</td>\n",
       "      <td>South</td>\n",
       "      <td>Annapolis</td>\n",
       "      <td>6177224</td>\n",
       "      <td>9707</td>\n",
       "      <td>Democratic</td>\n",
       "      <td>636.37</td>\n",
       "    </tr>\n",
       "    <tr>\n",
       "      <th>6</th>\n",
       "      <td>Connecticut</td>\n",
       "      <td>Northeast</td>\n",
       "      <td>Hartford</td>\n",
       "      <td>3605944</td>\n",
       "      <td>4842</td>\n",
       "      <td>Democratic</td>\n",
       "      <td>744.72</td>\n",
       "    </tr>\n",
       "    <tr>\n",
       "      <th>20</th>\n",
       "      <td>Massachusetts</td>\n",
       "      <td>Northeast</td>\n",
       "      <td>Boston</td>\n",
       "      <td>7029917</td>\n",
       "      <td>7800</td>\n",
       "      <td>Democratic</td>\n",
       "      <td>901.27</td>\n",
       "    </tr>\n",
       "    <tr>\n",
       "      <th>38</th>\n",
       "      <td>Rhode Island</td>\n",
       "      <td>Northeast</td>\n",
       "      <td>Providence</td>\n",
       "      <td>1097379</td>\n",
       "      <td>1034</td>\n",
       "      <td>Democratic</td>\n",
       "      <td>1061.29</td>\n",
       "    </tr>\n",
       "    <tr>\n",
       "      <th>29</th>\n",
       "      <td>New Jersey</td>\n",
       "      <td>Northeast</td>\n",
       "      <td>Trenton</td>\n",
       "      <td>9288994</td>\n",
       "      <td>7354</td>\n",
       "      <td>Democratic</td>\n",
       "      <td>1263.12</td>\n",
       "    </tr>\n",
       "  </tbody>\n",
       "</table>\n",
       "<p>50 rows × 7 columns</p>\n",
       "</div>"
      ],
      "text/plain": [
       "            State     Region Capital City  Population  Land Area       Party  \\\n",
       "1          Alaska       West       Juneau      733391     570641  Republican   \n",
       "49        Wyoming       West     Cheyenne      576851      97093  Republican   \n",
       "25        Montana       West       Helena     1084225     145546  Republican   \n",
       "33   North Dakota    Midwest     Bismarck      779094      69001  Republican   \n",
       "40   South Dakota    Midwest       Pierre      886667      75811  Republican   \n",
       "..            ...        ...          ...         ...        ...         ...   \n",
       "19       Maryland      South    Annapolis     6177224       9707  Democratic   \n",
       "6     Connecticut  Northeast     Hartford     3605944       4842  Democratic   \n",
       "20  Massachusetts  Northeast       Boston     7029917       7800  Democratic   \n",
       "38   Rhode Island  Northeast   Providence     1097379       1034  Democratic   \n",
       "29     New Jersey  Northeast      Trenton     9288994       7354  Democratic   \n",
       "\n",
       "    Density  \n",
       "1      1.29  \n",
       "49     5.94  \n",
       "25     7.45  \n",
       "33    11.29  \n",
       "40    11.70  \n",
       "..      ...  \n",
       "19   636.37  \n",
       "6    744.72  \n",
       "20   901.27  \n",
       "38  1061.29  \n",
       "29  1263.12  \n",
       "\n",
       "[50 rows x 7 columns]"
      ]
     },
     "execution_count": 37,
     "metadata": {},
     "output_type": "execute_result"
    }
   ],
   "source": [
    "states.sort_values(by='Density')"
   ]
  },
  {
   "cell_type": "markdown",
   "metadata": {
    "slideshow": {
     "slide_type": "fragment"
    }
   },
   "source": [
    "This sorts, but in ascending order (small to large). The opposite would be nice!"
   ]
  },
  {
   "cell_type": "markdown",
   "metadata": {
    "slideshow": {
     "slide_type": "slide"
    }
   },
   "source": [
    "#### Step 1 – Sorting the DataFrame in *descending* order\n",
    "\n",
    "- Use `.sort_values(by=column_name, ascending=False)` to sort in *descending* order.\n",
    "- `ascending` is an optional argument. If omitted, it will be set to `True` by default.\n",
    "    - This is an example of a *keyword argument*, or a *named argument*.\n",
    "    - If we want to specify the sorting order, we **must** use the keyword `ascending=`."
   ]
  },
  {
   "cell_type": "code",
   "execution_count": 38,
   "metadata": {},
   "outputs": [
    {
     "data": {
      "text/html": [
       "<div>\n",
       "<style scoped>\n",
       "    .dataframe tbody tr th:only-of-type {\n",
       "        vertical-align: middle;\n",
       "    }\n",
       "\n",
       "    .dataframe tbody tr th {\n",
       "        vertical-align: top;\n",
       "    }\n",
       "\n",
       "    .dataframe thead th {\n",
       "        text-align: right;\n",
       "    }\n",
       "</style>\n",
       "<table border=\"1\" class=\"dataframe\">\n",
       "  <thead>\n",
       "    <tr style=\"text-align: right;\">\n",
       "      <th></th>\n",
       "      <th>State</th>\n",
       "      <th>Region</th>\n",
       "      <th>Capital City</th>\n",
       "      <th>Population</th>\n",
       "      <th>Land Area</th>\n",
       "      <th>Party</th>\n",
       "      <th>Density</th>\n",
       "    </tr>\n",
       "  </thead>\n",
       "  <tbody>\n",
       "    <tr>\n",
       "      <th>29</th>\n",
       "      <td>New Jersey</td>\n",
       "      <td>Northeast</td>\n",
       "      <td>Trenton</td>\n",
       "      <td>9288994</td>\n",
       "      <td>7354</td>\n",
       "      <td>Democratic</td>\n",
       "      <td>1263.12</td>\n",
       "    </tr>\n",
       "    <tr>\n",
       "      <th>38</th>\n",
       "      <td>Rhode Island</td>\n",
       "      <td>Northeast</td>\n",
       "      <td>Providence</td>\n",
       "      <td>1097379</td>\n",
       "      <td>1034</td>\n",
       "      <td>Democratic</td>\n",
       "      <td>1061.29</td>\n",
       "    </tr>\n",
       "    <tr>\n",
       "      <th>20</th>\n",
       "      <td>Massachusetts</td>\n",
       "      <td>Northeast</td>\n",
       "      <td>Boston</td>\n",
       "      <td>7029917</td>\n",
       "      <td>7800</td>\n",
       "      <td>Democratic</td>\n",
       "      <td>901.27</td>\n",
       "    </tr>\n",
       "    <tr>\n",
       "      <th>6</th>\n",
       "      <td>Connecticut</td>\n",
       "      <td>Northeast</td>\n",
       "      <td>Hartford</td>\n",
       "      <td>3605944</td>\n",
       "      <td>4842</td>\n",
       "      <td>Democratic</td>\n",
       "      <td>744.72</td>\n",
       "    </tr>\n",
       "    <tr>\n",
       "      <th>19</th>\n",
       "      <td>Maryland</td>\n",
       "      <td>South</td>\n",
       "      <td>Annapolis</td>\n",
       "      <td>6177224</td>\n",
       "      <td>9707</td>\n",
       "      <td>Democratic</td>\n",
       "      <td>636.37</td>\n",
       "    </tr>\n",
       "    <tr>\n",
       "      <th>...</th>\n",
       "      <td>...</td>\n",
       "      <td>...</td>\n",
       "      <td>...</td>\n",
       "      <td>...</td>\n",
       "      <td>...</td>\n",
       "      <td>...</td>\n",
       "      <td>...</td>\n",
       "    </tr>\n",
       "    <tr>\n",
       "      <th>40</th>\n",
       "      <td>South Dakota</td>\n",
       "      <td>Midwest</td>\n",
       "      <td>Pierre</td>\n",
       "      <td>886667</td>\n",
       "      <td>75811</td>\n",
       "      <td>Republican</td>\n",
       "      <td>11.70</td>\n",
       "    </tr>\n",
       "    <tr>\n",
       "      <th>33</th>\n",
       "      <td>North Dakota</td>\n",
       "      <td>Midwest</td>\n",
       "      <td>Bismarck</td>\n",
       "      <td>779094</td>\n",
       "      <td>69001</td>\n",
       "      <td>Republican</td>\n",
       "      <td>11.29</td>\n",
       "    </tr>\n",
       "    <tr>\n",
       "      <th>25</th>\n",
       "      <td>Montana</td>\n",
       "      <td>West</td>\n",
       "      <td>Helena</td>\n",
       "      <td>1084225</td>\n",
       "      <td>145546</td>\n",
       "      <td>Republican</td>\n",
       "      <td>7.45</td>\n",
       "    </tr>\n",
       "    <tr>\n",
       "      <th>49</th>\n",
       "      <td>Wyoming</td>\n",
       "      <td>West</td>\n",
       "      <td>Cheyenne</td>\n",
       "      <td>576851</td>\n",
       "      <td>97093</td>\n",
       "      <td>Republican</td>\n",
       "      <td>5.94</td>\n",
       "    </tr>\n",
       "    <tr>\n",
       "      <th>1</th>\n",
       "      <td>Alaska</td>\n",
       "      <td>West</td>\n",
       "      <td>Juneau</td>\n",
       "      <td>733391</td>\n",
       "      <td>570641</td>\n",
       "      <td>Republican</td>\n",
       "      <td>1.29</td>\n",
       "    </tr>\n",
       "  </tbody>\n",
       "</table>\n",
       "<p>50 rows × 7 columns</p>\n",
       "</div>"
      ],
      "text/plain": [
       "            State     Region Capital City  Population  Land Area       Party  \\\n",
       "29     New Jersey  Northeast      Trenton     9288994       7354  Democratic   \n",
       "38   Rhode Island  Northeast   Providence     1097379       1034  Democratic   \n",
       "20  Massachusetts  Northeast       Boston     7029917       7800  Democratic   \n",
       "6     Connecticut  Northeast     Hartford     3605944       4842  Democratic   \n",
       "19       Maryland      South    Annapolis     6177224       9707  Democratic   \n",
       "..            ...        ...          ...         ...        ...         ...   \n",
       "40   South Dakota    Midwest       Pierre      886667      75811  Republican   \n",
       "33   North Dakota    Midwest     Bismarck      779094      69001  Republican   \n",
       "25        Montana       West       Helena     1084225     145546  Republican   \n",
       "49        Wyoming       West     Cheyenne      576851      97093  Republican   \n",
       "1          Alaska       West       Juneau      733391     570641  Republican   \n",
       "\n",
       "    Density  \n",
       "29  1263.12  \n",
       "38  1061.29  \n",
       "20   901.27  \n",
       "6    744.72  \n",
       "19   636.37  \n",
       "..      ...  \n",
       "40    11.70  \n",
       "33    11.29  \n",
       "25     7.45  \n",
       "49     5.94  \n",
       "1      1.29  \n",
       "\n",
       "[50 rows x 7 columns]"
      ]
     },
     "execution_count": 38,
     "metadata": {},
     "output_type": "execute_result"
    }
   ],
   "source": [
    "ordered_states = states.sort_values(by='Density', ascending=False)\n",
    "ordered_states"
   ]
  },
  {
   "cell_type": "code",
   "execution_count": 39,
   "metadata": {},
   "outputs": [
    {
     "ename": "SyntaxError",
     "evalue": "positional argument follows keyword argument (2563070448.py, line 3)",
     "output_type": "error",
     "traceback": [
      "\u001b[0;36m  Cell \u001b[0;32mIn[39], line 3\u001b[0;36m\u001b[0m\n\u001b[0;31m    states.sort_values(by='Density', False)\u001b[0m\n\u001b[0m                                          ^\u001b[0m\n\u001b[0;31mSyntaxError\u001b[0m\u001b[0;31m:\u001b[0m positional argument follows keyword argument\n"
     ]
    }
   ],
   "source": [
    "# We must specify the role of False by using ascending=, \n",
    "# otherwise Python does not know how to interpret this.\n",
    "states.sort_values(by='Density', False)"
   ]
  },
  {
   "cell_type": "markdown",
   "metadata": {
    "slideshow": {
     "slide_type": "slide"
    }
   },
   "source": [
    "#### Step 2 – Extracting the state name\n",
    "\n",
    "- We saw that the most densely populated state is New Jersey, but how do we extract that information using code?\n",
    "- First, grab an entire column as a Series.\n",
    "- Navigate to a particular entry of the Series using `.iloc[integer_position]`.\n",
    "    - `iloc` stands for \"integer location\" and is used to count the rows, starting at 0."
   ]
  },
  {
   "cell_type": "code",
   "execution_count": 40,
   "metadata": {},
   "outputs": [
    {
     "data": {
      "text/html": [
       "<div>\n",
       "<style scoped>\n",
       "    .dataframe tbody tr th:only-of-type {\n",
       "        vertical-align: middle;\n",
       "    }\n",
       "\n",
       "    .dataframe tbody tr th {\n",
       "        vertical-align: top;\n",
       "    }\n",
       "\n",
       "    .dataframe thead th {\n",
       "        text-align: right;\n",
       "    }\n",
       "</style>\n",
       "<table border=\"1\" class=\"dataframe\">\n",
       "  <thead>\n",
       "    <tr style=\"text-align: right;\">\n",
       "      <th></th>\n",
       "      <th>State</th>\n",
       "      <th>Region</th>\n",
       "      <th>Capital City</th>\n",
       "      <th>Population</th>\n",
       "      <th>Land Area</th>\n",
       "      <th>Party</th>\n",
       "      <th>Density</th>\n",
       "    </tr>\n",
       "  </thead>\n",
       "  <tbody>\n",
       "    <tr>\n",
       "      <th>29</th>\n",
       "      <td>New Jersey</td>\n",
       "      <td>Northeast</td>\n",
       "      <td>Trenton</td>\n",
       "      <td>9288994</td>\n",
       "      <td>7354</td>\n",
       "      <td>Democratic</td>\n",
       "      <td>1263.12</td>\n",
       "    </tr>\n",
       "    <tr>\n",
       "      <th>38</th>\n",
       "      <td>Rhode Island</td>\n",
       "      <td>Northeast</td>\n",
       "      <td>Providence</td>\n",
       "      <td>1097379</td>\n",
       "      <td>1034</td>\n",
       "      <td>Democratic</td>\n",
       "      <td>1061.29</td>\n",
       "    </tr>\n",
       "    <tr>\n",
       "      <th>20</th>\n",
       "      <td>Massachusetts</td>\n",
       "      <td>Northeast</td>\n",
       "      <td>Boston</td>\n",
       "      <td>7029917</td>\n",
       "      <td>7800</td>\n",
       "      <td>Democratic</td>\n",
       "      <td>901.27</td>\n",
       "    </tr>\n",
       "    <tr>\n",
       "      <th>6</th>\n",
       "      <td>Connecticut</td>\n",
       "      <td>Northeast</td>\n",
       "      <td>Hartford</td>\n",
       "      <td>3605944</td>\n",
       "      <td>4842</td>\n",
       "      <td>Democratic</td>\n",
       "      <td>744.72</td>\n",
       "    </tr>\n",
       "    <tr>\n",
       "      <th>19</th>\n",
       "      <td>Maryland</td>\n",
       "      <td>South</td>\n",
       "      <td>Annapolis</td>\n",
       "      <td>6177224</td>\n",
       "      <td>9707</td>\n",
       "      <td>Democratic</td>\n",
       "      <td>636.37</td>\n",
       "    </tr>\n",
       "    <tr>\n",
       "      <th>...</th>\n",
       "      <td>...</td>\n",
       "      <td>...</td>\n",
       "      <td>...</td>\n",
       "      <td>...</td>\n",
       "      <td>...</td>\n",
       "      <td>...</td>\n",
       "      <td>...</td>\n",
       "    </tr>\n",
       "    <tr>\n",
       "      <th>40</th>\n",
       "      <td>South Dakota</td>\n",
       "      <td>Midwest</td>\n",
       "      <td>Pierre</td>\n",
       "      <td>886667</td>\n",
       "      <td>75811</td>\n",
       "      <td>Republican</td>\n",
       "      <td>11.70</td>\n",
       "    </tr>\n",
       "    <tr>\n",
       "      <th>33</th>\n",
       "      <td>North Dakota</td>\n",
       "      <td>Midwest</td>\n",
       "      <td>Bismarck</td>\n",
       "      <td>779094</td>\n",
       "      <td>69001</td>\n",
       "      <td>Republican</td>\n",
       "      <td>11.29</td>\n",
       "    </tr>\n",
       "    <tr>\n",
       "      <th>25</th>\n",
       "      <td>Montana</td>\n",
       "      <td>West</td>\n",
       "      <td>Helena</td>\n",
       "      <td>1084225</td>\n",
       "      <td>145546</td>\n",
       "      <td>Republican</td>\n",
       "      <td>7.45</td>\n",
       "    </tr>\n",
       "    <tr>\n",
       "      <th>49</th>\n",
       "      <td>Wyoming</td>\n",
       "      <td>West</td>\n",
       "      <td>Cheyenne</td>\n",
       "      <td>576851</td>\n",
       "      <td>97093</td>\n",
       "      <td>Republican</td>\n",
       "      <td>5.94</td>\n",
       "    </tr>\n",
       "    <tr>\n",
       "      <th>1</th>\n",
       "      <td>Alaska</td>\n",
       "      <td>West</td>\n",
       "      <td>Juneau</td>\n",
       "      <td>733391</td>\n",
       "      <td>570641</td>\n",
       "      <td>Republican</td>\n",
       "      <td>1.29</td>\n",
       "    </tr>\n",
       "  </tbody>\n",
       "</table>\n",
       "<p>50 rows × 7 columns</p>\n",
       "</div>"
      ],
      "text/plain": [
       "            State     Region Capital City  Population  Land Area       Party  \\\n",
       "29     New Jersey  Northeast      Trenton     9288994       7354  Democratic   \n",
       "38   Rhode Island  Northeast   Providence     1097379       1034  Democratic   \n",
       "20  Massachusetts  Northeast       Boston     7029917       7800  Democratic   \n",
       "6     Connecticut  Northeast     Hartford     3605944       4842  Democratic   \n",
       "19       Maryland      South    Annapolis     6177224       9707  Democratic   \n",
       "..            ...        ...          ...         ...        ...         ...   \n",
       "40   South Dakota    Midwest       Pierre      886667      75811  Republican   \n",
       "33   North Dakota    Midwest     Bismarck      779094      69001  Republican   \n",
       "25        Montana       West       Helena     1084225     145546  Republican   \n",
       "49        Wyoming       West     Cheyenne      576851      97093  Republican   \n",
       "1          Alaska       West       Juneau      733391     570641  Republican   \n",
       "\n",
       "    Density  \n",
       "29  1263.12  \n",
       "38  1061.29  \n",
       "20   901.27  \n",
       "6    744.72  \n",
       "19   636.37  \n",
       "..      ...  \n",
       "40    11.70  \n",
       "33    11.29  \n",
       "25     7.45  \n",
       "49     5.94  \n",
       "1      1.29  \n",
       "\n",
       "[50 rows x 7 columns]"
      ]
     },
     "execution_count": 40,
     "metadata": {},
     "output_type": "execute_result"
    }
   ],
   "source": [
    "ordered_states"
   ]
  },
  {
   "cell_type": "code",
   "execution_count": 41,
   "metadata": {},
   "outputs": [
    {
     "data": {
      "text/plain": [
       "29       New Jersey\n",
       "38     Rhode Island\n",
       "20    Massachusetts\n",
       "6       Connecticut\n",
       "19         Maryland\n",
       "          ...      \n",
       "40     South Dakota\n",
       "33     North Dakota\n",
       "25          Montana\n",
       "49          Wyoming\n",
       "1            Alaska\n",
       "Name: State, Length: 50, dtype: object"
      ]
     },
     "execution_count": 41,
     "metadata": {},
     "output_type": "execute_result"
    }
   ],
   "source": [
    "ordered_states.get('State')"
   ]
  },
  {
   "cell_type": "code",
   "execution_count": 42,
   "metadata": {},
   "outputs": [
    {
     "data": {
      "text/plain": [
       "'New Jersey'"
      ]
     },
     "execution_count": 42,
     "metadata": {},
     "output_type": "execute_result"
    }
   ],
   "source": [
    "# We want the first entry of the Series, which is at \"integer location\" 0.\n",
    "ordered_states.get('State').iloc[0]"
   ]
  },
  {
   "cell_type": "markdown",
   "metadata": {
    "slideshow": {
     "slide_type": "fragment"
    }
   },
   "source": [
    "- The row label that goes with New Jersey is 29, because our original data was alphabetized by state and New Jersey is the 30th state alphabetically. But we **don't use the row label** when accessing with `iloc`; we use the integer position counting from the top."
   ]
  },
  {
   "cell_type": "markdown",
   "metadata": {
    "slideshow": {
     "slide_type": "fragment"
    }
   },
   "source": [
    "- If we try to use the row label (29) with `iloc`, we get the state with the 30th highest population density, which is **not** New Jersey."
   ]
  },
  {
   "cell_type": "code",
   "execution_count": 43,
   "metadata": {
    "slideshow": {
     "slide_type": "-"
    }
   },
   "outputs": [
    {
     "data": {
      "text/plain": [
       "'Minnesota'"
      ]
     },
     "execution_count": 43,
     "metadata": {},
     "output_type": "execute_result"
    }
   ],
   "source": [
    "ordered_states.get('State').iloc[29]"
   ]
  },
  {
   "cell_type": "markdown",
   "metadata": {
    "slideshow": {
     "slide_type": "slide"
    }
   },
   "source": [
    "## Example 4: What is the population density of Pennsylvania?\n",
    "\n",
    "**Key concepts**: Setting the index. Accessing using row labels."
   ]
  },
  {
   "cell_type": "markdown",
   "metadata": {
    "slideshow": {
     "slide_type": "slide"
    }
   },
   "source": [
    "### Population density of Pennsylvania\n",
    "\n",
    "We know how to get the `'Density'` of all states. How do we find the one that corresponds to Pennsylvania?"
   ]
  },
  {
   "cell_type": "code",
   "execution_count": 44,
   "metadata": {
    "scrolled": true
   },
   "outputs": [
    {
     "data": {
      "text/html": [
       "<div>\n",
       "<style scoped>\n",
       "    .dataframe tbody tr th:only-of-type {\n",
       "        vertical-align: middle;\n",
       "    }\n",
       "\n",
       "    .dataframe tbody tr th {\n",
       "        vertical-align: top;\n",
       "    }\n",
       "\n",
       "    .dataframe thead th {\n",
       "        text-align: right;\n",
       "    }\n",
       "</style>\n",
       "<table border=\"1\" class=\"dataframe\">\n",
       "  <thead>\n",
       "    <tr style=\"text-align: right;\">\n",
       "      <th></th>\n",
       "      <th>State</th>\n",
       "      <th>Region</th>\n",
       "      <th>Capital City</th>\n",
       "      <th>Population</th>\n",
       "      <th>Land Area</th>\n",
       "      <th>Party</th>\n",
       "      <th>Density</th>\n",
       "    </tr>\n",
       "  </thead>\n",
       "  <tbody>\n",
       "    <tr>\n",
       "      <th>0</th>\n",
       "      <td>Alabama</td>\n",
       "      <td>South</td>\n",
       "      <td>Montgomery</td>\n",
       "      <td>5024279</td>\n",
       "      <td>50645</td>\n",
       "      <td>Republican</td>\n",
       "      <td>99.21</td>\n",
       "    </tr>\n",
       "    <tr>\n",
       "      <th>1</th>\n",
       "      <td>Alaska</td>\n",
       "      <td>West</td>\n",
       "      <td>Juneau</td>\n",
       "      <td>733391</td>\n",
       "      <td>570641</td>\n",
       "      <td>Republican</td>\n",
       "      <td>1.29</td>\n",
       "    </tr>\n",
       "    <tr>\n",
       "      <th>2</th>\n",
       "      <td>Arizona</td>\n",
       "      <td>West</td>\n",
       "      <td>Phoenix</td>\n",
       "      <td>7151502</td>\n",
       "      <td>113594</td>\n",
       "      <td>Republican</td>\n",
       "      <td>62.96</td>\n",
       "    </tr>\n",
       "    <tr>\n",
       "      <th>3</th>\n",
       "      <td>Arkansas</td>\n",
       "      <td>South</td>\n",
       "      <td>Little Rock</td>\n",
       "      <td>3011524</td>\n",
       "      <td>52035</td>\n",
       "      <td>Republican</td>\n",
       "      <td>57.87</td>\n",
       "    </tr>\n",
       "    <tr>\n",
       "      <th>4</th>\n",
       "      <td>California</td>\n",
       "      <td>West</td>\n",
       "      <td>Sacramento</td>\n",
       "      <td>39538223</td>\n",
       "      <td>155779</td>\n",
       "      <td>Democratic</td>\n",
       "      <td>253.81</td>\n",
       "    </tr>\n",
       "    <tr>\n",
       "      <th>...</th>\n",
       "      <td>...</td>\n",
       "      <td>...</td>\n",
       "      <td>...</td>\n",
       "      <td>...</td>\n",
       "      <td>...</td>\n",
       "      <td>...</td>\n",
       "      <td>...</td>\n",
       "    </tr>\n",
       "    <tr>\n",
       "      <th>45</th>\n",
       "      <td>Virginia</td>\n",
       "      <td>South</td>\n",
       "      <td>Richmond</td>\n",
       "      <td>8631393</td>\n",
       "      <td>39490</td>\n",
       "      <td>Democratic</td>\n",
       "      <td>218.57</td>\n",
       "    </tr>\n",
       "    <tr>\n",
       "      <th>46</th>\n",
       "      <td>Washington</td>\n",
       "      <td>West</td>\n",
       "      <td>Olympia</td>\n",
       "      <td>7705281</td>\n",
       "      <td>66456</td>\n",
       "      <td>Democratic</td>\n",
       "      <td>115.95</td>\n",
       "    </tr>\n",
       "    <tr>\n",
       "      <th>47</th>\n",
       "      <td>West Virginia</td>\n",
       "      <td>South</td>\n",
       "      <td>Charleston</td>\n",
       "      <td>1793716</td>\n",
       "      <td>24038</td>\n",
       "      <td>Republican</td>\n",
       "      <td>74.62</td>\n",
       "    </tr>\n",
       "    <tr>\n",
       "      <th>48</th>\n",
       "      <td>Wisconsin</td>\n",
       "      <td>Midwest</td>\n",
       "      <td>Madison</td>\n",
       "      <td>5893718</td>\n",
       "      <td>54158</td>\n",
       "      <td>Republican</td>\n",
       "      <td>108.82</td>\n",
       "    </tr>\n",
       "    <tr>\n",
       "      <th>49</th>\n",
       "      <td>Wyoming</td>\n",
       "      <td>West</td>\n",
       "      <td>Cheyenne</td>\n",
       "      <td>576851</td>\n",
       "      <td>97093</td>\n",
       "      <td>Republican</td>\n",
       "      <td>5.94</td>\n",
       "    </tr>\n",
       "  </tbody>\n",
       "</table>\n",
       "<p>50 rows × 7 columns</p>\n",
       "</div>"
      ],
      "text/plain": [
       "            State   Region Capital City  Population  Land Area       Party  \\\n",
       "0         Alabama    South   Montgomery     5024279      50645  Republican   \n",
       "1          Alaska     West       Juneau      733391     570641  Republican   \n",
       "2         Arizona     West      Phoenix     7151502     113594  Republican   \n",
       "3        Arkansas    South  Little Rock     3011524      52035  Republican   \n",
       "4      California     West   Sacramento    39538223     155779  Democratic   \n",
       "..            ...      ...          ...         ...        ...         ...   \n",
       "45       Virginia    South     Richmond     8631393      39490  Democratic   \n",
       "46     Washington     West      Olympia     7705281      66456  Democratic   \n",
       "47  West Virginia    South   Charleston     1793716      24038  Republican   \n",
       "48      Wisconsin  Midwest      Madison     5893718      54158  Republican   \n",
       "49        Wyoming     West     Cheyenne      576851      97093  Republican   \n",
       "\n",
       "    Density  \n",
       "0     99.21  \n",
       "1      1.29  \n",
       "2     62.96  \n",
       "3     57.87  \n",
       "4    253.81  \n",
       "..      ...  \n",
       "45   218.57  \n",
       "46   115.95  \n",
       "47    74.62  \n",
       "48   108.82  \n",
       "49     5.94  \n",
       "\n",
       "[50 rows x 7 columns]"
      ]
     },
     "execution_count": 44,
     "metadata": {},
     "output_type": "execute_result"
    }
   ],
   "source": [
    "states"
   ]
  },
  {
   "cell_type": "code",
   "execution_count": 45,
   "metadata": {},
   "outputs": [
    {
     "data": {
      "text/plain": [
       "0      99.21\n",
       "1       1.29\n",
       "2      62.96\n",
       "3      57.87\n",
       "4     253.81\n",
       "       ...  \n",
       "45    218.57\n",
       "46    115.95\n",
       "47     74.62\n",
       "48    108.82\n",
       "49      5.94\n",
       "Name: Density, Length: 50, dtype: float64"
      ]
     },
     "execution_count": 45,
     "metadata": {},
     "output_type": "execute_result"
    }
   ],
   "source": [
    "# Which one is Pennsylvania?\n",
    "states.get('Density')"
   ]
  },
  {
   "cell_type": "markdown",
   "metadata": {
    "slideshow": {
     "slide_type": "slide"
    }
   },
   "source": [
    "### Utilizing the index"
   ]
  },
  {
   "cell_type": "markdown",
   "metadata": {
    "slideshow": {
     "slide_type": "fragment"
    }
   },
   "source": [
    "- When we load in a DataFrame from a CSV, columns have meaningful names, but rows do not."
   ]
  },
  {
   "cell_type": "code",
   "execution_count": 46,
   "metadata": {},
   "outputs": [
    {
     "data": {
      "text/html": [
       "<div>\n",
       "<style scoped>\n",
       "    .dataframe tbody tr th:only-of-type {\n",
       "        vertical-align: middle;\n",
       "    }\n",
       "\n",
       "    .dataframe tbody tr th {\n",
       "        vertical-align: top;\n",
       "    }\n",
       "\n",
       "    .dataframe thead th {\n",
       "        text-align: right;\n",
       "    }\n",
       "</style>\n",
       "<table border=\"1\" class=\"dataframe\">\n",
       "  <thead>\n",
       "    <tr style=\"text-align: right;\">\n",
       "      <th></th>\n",
       "      <th>State</th>\n",
       "      <th>Region</th>\n",
       "      <th>Capital City</th>\n",
       "      <th>Population</th>\n",
       "      <th>Land Area</th>\n",
       "      <th>Party</th>\n",
       "    </tr>\n",
       "  </thead>\n",
       "  <tbody>\n",
       "    <tr>\n",
       "      <th>0</th>\n",
       "      <td>Alabama</td>\n",
       "      <td>South</td>\n",
       "      <td>Montgomery</td>\n",
       "      <td>5024279</td>\n",
       "      <td>50645</td>\n",
       "      <td>Republican</td>\n",
       "    </tr>\n",
       "    <tr>\n",
       "      <th>1</th>\n",
       "      <td>Alaska</td>\n",
       "      <td>West</td>\n",
       "      <td>Juneau</td>\n",
       "      <td>733391</td>\n",
       "      <td>570641</td>\n",
       "      <td>Republican</td>\n",
       "    </tr>\n",
       "    <tr>\n",
       "      <th>2</th>\n",
       "      <td>Arizona</td>\n",
       "      <td>West</td>\n",
       "      <td>Phoenix</td>\n",
       "      <td>7151502</td>\n",
       "      <td>113594</td>\n",
       "      <td>Republican</td>\n",
       "    </tr>\n",
       "    <tr>\n",
       "      <th>3</th>\n",
       "      <td>Arkansas</td>\n",
       "      <td>South</td>\n",
       "      <td>Little Rock</td>\n",
       "      <td>3011524</td>\n",
       "      <td>52035</td>\n",
       "      <td>Republican</td>\n",
       "    </tr>\n",
       "    <tr>\n",
       "      <th>4</th>\n",
       "      <td>California</td>\n",
       "      <td>West</td>\n",
       "      <td>Sacramento</td>\n",
       "      <td>39538223</td>\n",
       "      <td>155779</td>\n",
       "      <td>Democratic</td>\n",
       "    </tr>\n",
       "    <tr>\n",
       "      <th>...</th>\n",
       "      <td>...</td>\n",
       "      <td>...</td>\n",
       "      <td>...</td>\n",
       "      <td>...</td>\n",
       "      <td>...</td>\n",
       "      <td>...</td>\n",
       "    </tr>\n",
       "    <tr>\n",
       "      <th>45</th>\n",
       "      <td>Virginia</td>\n",
       "      <td>South</td>\n",
       "      <td>Richmond</td>\n",
       "      <td>8631393</td>\n",
       "      <td>39490</td>\n",
       "      <td>Democratic</td>\n",
       "    </tr>\n",
       "    <tr>\n",
       "      <th>46</th>\n",
       "      <td>Washington</td>\n",
       "      <td>West</td>\n",
       "      <td>Olympia</td>\n",
       "      <td>7705281</td>\n",
       "      <td>66456</td>\n",
       "      <td>Democratic</td>\n",
       "    </tr>\n",
       "    <tr>\n",
       "      <th>47</th>\n",
       "      <td>West Virginia</td>\n",
       "      <td>South</td>\n",
       "      <td>Charleston</td>\n",
       "      <td>1793716</td>\n",
       "      <td>24038</td>\n",
       "      <td>Republican</td>\n",
       "    </tr>\n",
       "    <tr>\n",
       "      <th>48</th>\n",
       "      <td>Wisconsin</td>\n",
       "      <td>Midwest</td>\n",
       "      <td>Madison</td>\n",
       "      <td>5893718</td>\n",
       "      <td>54158</td>\n",
       "      <td>Republican</td>\n",
       "    </tr>\n",
       "    <tr>\n",
       "      <th>49</th>\n",
       "      <td>Wyoming</td>\n",
       "      <td>West</td>\n",
       "      <td>Cheyenne</td>\n",
       "      <td>576851</td>\n",
       "      <td>97093</td>\n",
       "      <td>Republican</td>\n",
       "    </tr>\n",
       "  </tbody>\n",
       "</table>\n",
       "<p>50 rows × 6 columns</p>\n",
       "</div>"
      ],
      "text/plain": [
       "            State   Region Capital City  Population  Land Area       Party\n",
       "0         Alabama    South   Montgomery     5024279      50645  Republican\n",
       "1          Alaska     West       Juneau      733391     570641  Republican\n",
       "2         Arizona     West      Phoenix     7151502     113594  Republican\n",
       "3        Arkansas    South  Little Rock     3011524      52035  Republican\n",
       "4      California     West   Sacramento    39538223     155779  Democratic\n",
       "..            ...      ...          ...         ...        ...         ...\n",
       "45       Virginia    South     Richmond     8631393      39490  Democratic\n",
       "46     Washington     West      Olympia     7705281      66456  Democratic\n",
       "47  West Virginia    South   Charleston     1793716      24038  Republican\n",
       "48      Wisconsin  Midwest      Madison     5893718      54158  Republican\n",
       "49        Wyoming     West     Cheyenne      576851      97093  Republican\n",
       "\n",
       "[50 rows x 6 columns]"
      ]
     },
     "execution_count": 46,
     "metadata": {},
     "output_type": "execute_result"
    }
   ],
   "source": [
    "bpd.read_csv('data/states.csv')"
   ]
  },
  {
   "cell_type": "markdown",
   "metadata": {
    "slideshow": {
     "slide_type": "fragment"
    }
   },
   "source": [
    "- The row labels (or the *index*) are how we refer to specific rows. Instead of using numbers, let's refer to these rows by the names of the states they correspond to."
   ]
  },
  {
   "cell_type": "markdown",
   "metadata": {
    "slideshow": {
     "slide_type": "fragment"
    }
   },
   "source": [
    "- This way, we can easily identify, for example, which row corresponds to Pennsylvania."
   ]
  },
  {
   "cell_type": "markdown",
   "metadata": {
    "slideshow": {
     "slide_type": "slide"
    }
   },
   "source": [
    "### Setting the index\n",
    "\n",
    "- To change the index, use `.set_index(column_name)`.\n",
    "- Row labels should be unique identifiers.\n",
    "    - Each row should have a different, descriptive name that corresponds to the contents of that row's data."
   ]
  },
  {
   "cell_type": "code",
   "execution_count": 47,
   "metadata": {},
   "outputs": [
    {
     "data": {
      "text/html": [
       "<div>\n",
       "<style scoped>\n",
       "    .dataframe tbody tr th:only-of-type {\n",
       "        vertical-align: middle;\n",
       "    }\n",
       "\n",
       "    .dataframe tbody tr th {\n",
       "        vertical-align: top;\n",
       "    }\n",
       "\n",
       "    .dataframe thead th {\n",
       "        text-align: right;\n",
       "    }\n",
       "</style>\n",
       "<table border=\"1\" class=\"dataframe\">\n",
       "  <thead>\n",
       "    <tr style=\"text-align: right;\">\n",
       "      <th></th>\n",
       "      <th>State</th>\n",
       "      <th>Region</th>\n",
       "      <th>Capital City</th>\n",
       "      <th>Population</th>\n",
       "      <th>Land Area</th>\n",
       "      <th>Party</th>\n",
       "      <th>Density</th>\n",
       "    </tr>\n",
       "  </thead>\n",
       "  <tbody>\n",
       "    <tr>\n",
       "      <th>0</th>\n",
       "      <td>Alabama</td>\n",
       "      <td>South</td>\n",
       "      <td>Montgomery</td>\n",
       "      <td>5024279</td>\n",
       "      <td>50645</td>\n",
       "      <td>Republican</td>\n",
       "      <td>99.21</td>\n",
       "    </tr>\n",
       "    <tr>\n",
       "      <th>1</th>\n",
       "      <td>Alaska</td>\n",
       "      <td>West</td>\n",
       "      <td>Juneau</td>\n",
       "      <td>733391</td>\n",
       "      <td>570641</td>\n",
       "      <td>Republican</td>\n",
       "      <td>1.29</td>\n",
       "    </tr>\n",
       "    <tr>\n",
       "      <th>2</th>\n",
       "      <td>Arizona</td>\n",
       "      <td>West</td>\n",
       "      <td>Phoenix</td>\n",
       "      <td>7151502</td>\n",
       "      <td>113594</td>\n",
       "      <td>Republican</td>\n",
       "      <td>62.96</td>\n",
       "    </tr>\n",
       "    <tr>\n",
       "      <th>3</th>\n",
       "      <td>Arkansas</td>\n",
       "      <td>South</td>\n",
       "      <td>Little Rock</td>\n",
       "      <td>3011524</td>\n",
       "      <td>52035</td>\n",
       "      <td>Republican</td>\n",
       "      <td>57.87</td>\n",
       "    </tr>\n",
       "    <tr>\n",
       "      <th>4</th>\n",
       "      <td>California</td>\n",
       "      <td>West</td>\n",
       "      <td>Sacramento</td>\n",
       "      <td>39538223</td>\n",
       "      <td>155779</td>\n",
       "      <td>Democratic</td>\n",
       "      <td>253.81</td>\n",
       "    </tr>\n",
       "    <tr>\n",
       "      <th>...</th>\n",
       "      <td>...</td>\n",
       "      <td>...</td>\n",
       "      <td>...</td>\n",
       "      <td>...</td>\n",
       "      <td>...</td>\n",
       "      <td>...</td>\n",
       "      <td>...</td>\n",
       "    </tr>\n",
       "    <tr>\n",
       "      <th>45</th>\n",
       "      <td>Virginia</td>\n",
       "      <td>South</td>\n",
       "      <td>Richmond</td>\n",
       "      <td>8631393</td>\n",
       "      <td>39490</td>\n",
       "      <td>Democratic</td>\n",
       "      <td>218.57</td>\n",
       "    </tr>\n",
       "    <tr>\n",
       "      <th>46</th>\n",
       "      <td>Washington</td>\n",
       "      <td>West</td>\n",
       "      <td>Olympia</td>\n",
       "      <td>7705281</td>\n",
       "      <td>66456</td>\n",
       "      <td>Democratic</td>\n",
       "      <td>115.95</td>\n",
       "    </tr>\n",
       "    <tr>\n",
       "      <th>47</th>\n",
       "      <td>West Virginia</td>\n",
       "      <td>South</td>\n",
       "      <td>Charleston</td>\n",
       "      <td>1793716</td>\n",
       "      <td>24038</td>\n",
       "      <td>Republican</td>\n",
       "      <td>74.62</td>\n",
       "    </tr>\n",
       "    <tr>\n",
       "      <th>48</th>\n",
       "      <td>Wisconsin</td>\n",
       "      <td>Midwest</td>\n",
       "      <td>Madison</td>\n",
       "      <td>5893718</td>\n",
       "      <td>54158</td>\n",
       "      <td>Republican</td>\n",
       "      <td>108.82</td>\n",
       "    </tr>\n",
       "    <tr>\n",
       "      <th>49</th>\n",
       "      <td>Wyoming</td>\n",
       "      <td>West</td>\n",
       "      <td>Cheyenne</td>\n",
       "      <td>576851</td>\n",
       "      <td>97093</td>\n",
       "      <td>Republican</td>\n",
       "      <td>5.94</td>\n",
       "    </tr>\n",
       "  </tbody>\n",
       "</table>\n",
       "<p>50 rows × 7 columns</p>\n",
       "</div>"
      ],
      "text/plain": [
       "            State   Region Capital City  Population  Land Area       Party  \\\n",
       "0         Alabama    South   Montgomery     5024279      50645  Republican   \n",
       "1          Alaska     West       Juneau      733391     570641  Republican   \n",
       "2         Arizona     West      Phoenix     7151502     113594  Republican   \n",
       "3        Arkansas    South  Little Rock     3011524      52035  Republican   \n",
       "4      California     West   Sacramento    39538223     155779  Democratic   \n",
       "..            ...      ...          ...         ...        ...         ...   \n",
       "45       Virginia    South     Richmond     8631393      39490  Democratic   \n",
       "46     Washington     West      Olympia     7705281      66456  Democratic   \n",
       "47  West Virginia    South   Charleston     1793716      24038  Republican   \n",
       "48      Wisconsin  Midwest      Madison     5893718      54158  Republican   \n",
       "49        Wyoming     West     Cheyenne      576851      97093  Republican   \n",
       "\n",
       "    Density  \n",
       "0     99.21  \n",
       "1      1.29  \n",
       "2     62.96  \n",
       "3     57.87  \n",
       "4    253.81  \n",
       "..      ...  \n",
       "45   218.57  \n",
       "46   115.95  \n",
       "47    74.62  \n",
       "48   108.82  \n",
       "49     5.94  \n",
       "\n",
       "[50 rows x 7 columns]"
      ]
     },
     "execution_count": 47,
     "metadata": {},
     "output_type": "execute_result"
    }
   ],
   "source": [
    "states"
   ]
  },
  {
   "cell_type": "code",
   "execution_count": 48,
   "metadata": {},
   "outputs": [
    {
     "data": {
      "text/html": [
       "<div>\n",
       "<style scoped>\n",
       "    .dataframe tbody tr th:only-of-type {\n",
       "        vertical-align: middle;\n",
       "    }\n",
       "\n",
       "    .dataframe tbody tr th {\n",
       "        vertical-align: top;\n",
       "    }\n",
       "\n",
       "    .dataframe thead th {\n",
       "        text-align: right;\n",
       "    }\n",
       "</style>\n",
       "<table border=\"1\" class=\"dataframe\">\n",
       "  <thead>\n",
       "    <tr style=\"text-align: right;\">\n",
       "      <th></th>\n",
       "      <th>Region</th>\n",
       "      <th>Capital City</th>\n",
       "      <th>Population</th>\n",
       "      <th>Land Area</th>\n",
       "      <th>Party</th>\n",
       "      <th>Density</th>\n",
       "    </tr>\n",
       "    <tr>\n",
       "      <th>State</th>\n",
       "      <th></th>\n",
       "      <th></th>\n",
       "      <th></th>\n",
       "      <th></th>\n",
       "      <th></th>\n",
       "      <th></th>\n",
       "    </tr>\n",
       "  </thead>\n",
       "  <tbody>\n",
       "    <tr>\n",
       "      <th>Alabama</th>\n",
       "      <td>South</td>\n",
       "      <td>Montgomery</td>\n",
       "      <td>5024279</td>\n",
       "      <td>50645</td>\n",
       "      <td>Republican</td>\n",
       "      <td>99.21</td>\n",
       "    </tr>\n",
       "    <tr>\n",
       "      <th>Alaska</th>\n",
       "      <td>West</td>\n",
       "      <td>Juneau</td>\n",
       "      <td>733391</td>\n",
       "      <td>570641</td>\n",
       "      <td>Republican</td>\n",
       "      <td>1.29</td>\n",
       "    </tr>\n",
       "    <tr>\n",
       "      <th>Arizona</th>\n",
       "      <td>West</td>\n",
       "      <td>Phoenix</td>\n",
       "      <td>7151502</td>\n",
       "      <td>113594</td>\n",
       "      <td>Republican</td>\n",
       "      <td>62.96</td>\n",
       "    </tr>\n",
       "    <tr>\n",
       "      <th>Arkansas</th>\n",
       "      <td>South</td>\n",
       "      <td>Little Rock</td>\n",
       "      <td>3011524</td>\n",
       "      <td>52035</td>\n",
       "      <td>Republican</td>\n",
       "      <td>57.87</td>\n",
       "    </tr>\n",
       "    <tr>\n",
       "      <th>California</th>\n",
       "      <td>West</td>\n",
       "      <td>Sacramento</td>\n",
       "      <td>39538223</td>\n",
       "      <td>155779</td>\n",
       "      <td>Democratic</td>\n",
       "      <td>253.81</td>\n",
       "    </tr>\n",
       "    <tr>\n",
       "      <th>...</th>\n",
       "      <td>...</td>\n",
       "      <td>...</td>\n",
       "      <td>...</td>\n",
       "      <td>...</td>\n",
       "      <td>...</td>\n",
       "      <td>...</td>\n",
       "    </tr>\n",
       "    <tr>\n",
       "      <th>Virginia</th>\n",
       "      <td>South</td>\n",
       "      <td>Richmond</td>\n",
       "      <td>8631393</td>\n",
       "      <td>39490</td>\n",
       "      <td>Democratic</td>\n",
       "      <td>218.57</td>\n",
       "    </tr>\n",
       "    <tr>\n",
       "      <th>Washington</th>\n",
       "      <td>West</td>\n",
       "      <td>Olympia</td>\n",
       "      <td>7705281</td>\n",
       "      <td>66456</td>\n",
       "      <td>Democratic</td>\n",
       "      <td>115.95</td>\n",
       "    </tr>\n",
       "    <tr>\n",
       "      <th>West Virginia</th>\n",
       "      <td>South</td>\n",
       "      <td>Charleston</td>\n",
       "      <td>1793716</td>\n",
       "      <td>24038</td>\n",
       "      <td>Republican</td>\n",
       "      <td>74.62</td>\n",
       "    </tr>\n",
       "    <tr>\n",
       "      <th>Wisconsin</th>\n",
       "      <td>Midwest</td>\n",
       "      <td>Madison</td>\n",
       "      <td>5893718</td>\n",
       "      <td>54158</td>\n",
       "      <td>Republican</td>\n",
       "      <td>108.82</td>\n",
       "    </tr>\n",
       "    <tr>\n",
       "      <th>Wyoming</th>\n",
       "      <td>West</td>\n",
       "      <td>Cheyenne</td>\n",
       "      <td>576851</td>\n",
       "      <td>97093</td>\n",
       "      <td>Republican</td>\n",
       "      <td>5.94</td>\n",
       "    </tr>\n",
       "  </tbody>\n",
       "</table>\n",
       "<p>50 rows × 6 columns</p>\n",
       "</div>"
      ],
      "text/plain": [
       "                Region Capital City  Population  Land Area       Party  \\\n",
       "State                                                                    \n",
       "Alabama          South   Montgomery     5024279      50645  Republican   \n",
       "Alaska            West       Juneau      733391     570641  Republican   \n",
       "Arizona           West      Phoenix     7151502     113594  Republican   \n",
       "Arkansas         South  Little Rock     3011524      52035  Republican   \n",
       "California        West   Sacramento    39538223     155779  Democratic   \n",
       "...                ...          ...         ...        ...         ...   \n",
       "Virginia         South     Richmond     8631393      39490  Democratic   \n",
       "Washington        West      Olympia     7705281      66456  Democratic   \n",
       "West Virginia    South   Charleston     1793716      24038  Republican   \n",
       "Wisconsin      Midwest      Madison     5893718      54158  Republican   \n",
       "Wyoming           West     Cheyenne      576851      97093  Republican   \n",
       "\n",
       "               Density  \n",
       "State                   \n",
       "Alabama          99.21  \n",
       "Alaska            1.29  \n",
       "Arizona          62.96  \n",
       "Arkansas         57.87  \n",
       "California      253.81  \n",
       "...                ...  \n",
       "Virginia        218.57  \n",
       "Washington      115.95  \n",
       "West Virginia    74.62  \n",
       "Wisconsin       108.82  \n",
       "Wyoming           5.94  \n",
       "\n",
       "[50 rows x 6 columns]"
      ]
     },
     "execution_count": 48,
     "metadata": {},
     "output_type": "execute_result"
    }
   ],
   "source": [
    "states.set_index('State')"
   ]
  },
  {
   "cell_type": "markdown",
   "metadata": {
    "slideshow": {
     "slide_type": "fragment"
    }
   },
   "source": [
    "- Now there is one fewer column. When you set the index, a column becomes the index, and the old index disappears."
   ]
  },
  {
   "cell_type": "markdown",
   "metadata": {
    "slideshow": {
     "slide_type": "fragment"
    }
   },
   "source": [
    "- 🚨 Like most DataFrame methods, `.set_index` returns a new DataFrame; it does not modify the original DataFrame."
   ]
  },
  {
   "cell_type": "code",
   "execution_count": 49,
   "metadata": {},
   "outputs": [
    {
     "data": {
      "text/html": [
       "<div>\n",
       "<style scoped>\n",
       "    .dataframe tbody tr th:only-of-type {\n",
       "        vertical-align: middle;\n",
       "    }\n",
       "\n",
       "    .dataframe tbody tr th {\n",
       "        vertical-align: top;\n",
       "    }\n",
       "\n",
       "    .dataframe thead th {\n",
       "        text-align: right;\n",
       "    }\n",
       "</style>\n",
       "<table border=\"1\" class=\"dataframe\">\n",
       "  <thead>\n",
       "    <tr style=\"text-align: right;\">\n",
       "      <th></th>\n",
       "      <th>State</th>\n",
       "      <th>Region</th>\n",
       "      <th>Capital City</th>\n",
       "      <th>Population</th>\n",
       "      <th>Land Area</th>\n",
       "      <th>Party</th>\n",
       "      <th>Density</th>\n",
       "    </tr>\n",
       "  </thead>\n",
       "  <tbody>\n",
       "    <tr>\n",
       "      <th>0</th>\n",
       "      <td>Alabama</td>\n",
       "      <td>South</td>\n",
       "      <td>Montgomery</td>\n",
       "      <td>5024279</td>\n",
       "      <td>50645</td>\n",
       "      <td>Republican</td>\n",
       "      <td>99.21</td>\n",
       "    </tr>\n",
       "    <tr>\n",
       "      <th>1</th>\n",
       "      <td>Alaska</td>\n",
       "      <td>West</td>\n",
       "      <td>Juneau</td>\n",
       "      <td>733391</td>\n",
       "      <td>570641</td>\n",
       "      <td>Republican</td>\n",
       "      <td>1.29</td>\n",
       "    </tr>\n",
       "    <tr>\n",
       "      <th>2</th>\n",
       "      <td>Arizona</td>\n",
       "      <td>West</td>\n",
       "      <td>Phoenix</td>\n",
       "      <td>7151502</td>\n",
       "      <td>113594</td>\n",
       "      <td>Republican</td>\n",
       "      <td>62.96</td>\n",
       "    </tr>\n",
       "    <tr>\n",
       "      <th>3</th>\n",
       "      <td>Arkansas</td>\n",
       "      <td>South</td>\n",
       "      <td>Little Rock</td>\n",
       "      <td>3011524</td>\n",
       "      <td>52035</td>\n",
       "      <td>Republican</td>\n",
       "      <td>57.87</td>\n",
       "    </tr>\n",
       "    <tr>\n",
       "      <th>4</th>\n",
       "      <td>California</td>\n",
       "      <td>West</td>\n",
       "      <td>Sacramento</td>\n",
       "      <td>39538223</td>\n",
       "      <td>155779</td>\n",
       "      <td>Democratic</td>\n",
       "      <td>253.81</td>\n",
       "    </tr>\n",
       "    <tr>\n",
       "      <th>...</th>\n",
       "      <td>...</td>\n",
       "      <td>...</td>\n",
       "      <td>...</td>\n",
       "      <td>...</td>\n",
       "      <td>...</td>\n",
       "      <td>...</td>\n",
       "      <td>...</td>\n",
       "    </tr>\n",
       "    <tr>\n",
       "      <th>45</th>\n",
       "      <td>Virginia</td>\n",
       "      <td>South</td>\n",
       "      <td>Richmond</td>\n",
       "      <td>8631393</td>\n",
       "      <td>39490</td>\n",
       "      <td>Democratic</td>\n",
       "      <td>218.57</td>\n",
       "    </tr>\n",
       "    <tr>\n",
       "      <th>46</th>\n",
       "      <td>Washington</td>\n",
       "      <td>West</td>\n",
       "      <td>Olympia</td>\n",
       "      <td>7705281</td>\n",
       "      <td>66456</td>\n",
       "      <td>Democratic</td>\n",
       "      <td>115.95</td>\n",
       "    </tr>\n",
       "    <tr>\n",
       "      <th>47</th>\n",
       "      <td>West Virginia</td>\n",
       "      <td>South</td>\n",
       "      <td>Charleston</td>\n",
       "      <td>1793716</td>\n",
       "      <td>24038</td>\n",
       "      <td>Republican</td>\n",
       "      <td>74.62</td>\n",
       "    </tr>\n",
       "    <tr>\n",
       "      <th>48</th>\n",
       "      <td>Wisconsin</td>\n",
       "      <td>Midwest</td>\n",
       "      <td>Madison</td>\n",
       "      <td>5893718</td>\n",
       "      <td>54158</td>\n",
       "      <td>Republican</td>\n",
       "      <td>108.82</td>\n",
       "    </tr>\n",
       "    <tr>\n",
       "      <th>49</th>\n",
       "      <td>Wyoming</td>\n",
       "      <td>West</td>\n",
       "      <td>Cheyenne</td>\n",
       "      <td>576851</td>\n",
       "      <td>97093</td>\n",
       "      <td>Republican</td>\n",
       "      <td>5.94</td>\n",
       "    </tr>\n",
       "  </tbody>\n",
       "</table>\n",
       "<p>50 rows × 7 columns</p>\n",
       "</div>"
      ],
      "text/plain": [
       "            State   Region Capital City  Population  Land Area       Party  \\\n",
       "0         Alabama    South   Montgomery     5024279      50645  Republican   \n",
       "1          Alaska     West       Juneau      733391     570641  Republican   \n",
       "2         Arizona     West      Phoenix     7151502     113594  Republican   \n",
       "3        Arkansas    South  Little Rock     3011524      52035  Republican   \n",
       "4      California     West   Sacramento    39538223     155779  Democratic   \n",
       "..            ...      ...          ...         ...        ...         ...   \n",
       "45       Virginia    South     Richmond     8631393      39490  Democratic   \n",
       "46     Washington     West      Olympia     7705281      66456  Democratic   \n",
       "47  West Virginia    South   Charleston     1793716      24038  Republican   \n",
       "48      Wisconsin  Midwest      Madison     5893718      54158  Republican   \n",
       "49        Wyoming     West     Cheyenne      576851      97093  Republican   \n",
       "\n",
       "    Density  \n",
       "0     99.21  \n",
       "1      1.29  \n",
       "2     62.96  \n",
       "3     57.87  \n",
       "4    253.81  \n",
       "..      ...  \n",
       "45   218.57  \n",
       "46   115.95  \n",
       "47    74.62  \n",
       "48   108.82  \n",
       "49     5.94  \n",
       "\n",
       "[50 rows x 7 columns]"
      ]
     },
     "execution_count": 49,
     "metadata": {},
     "output_type": "execute_result"
    }
   ],
   "source": [
    "states"
   ]
  },
  {
   "cell_type": "code",
   "execution_count": 50,
   "metadata": {},
   "outputs": [
    {
     "data": {
      "text/html": [
       "<div>\n",
       "<style scoped>\n",
       "    .dataframe tbody tr th:only-of-type {\n",
       "        vertical-align: middle;\n",
       "    }\n",
       "\n",
       "    .dataframe tbody tr th {\n",
       "        vertical-align: top;\n",
       "    }\n",
       "\n",
       "    .dataframe thead th {\n",
       "        text-align: right;\n",
       "    }\n",
       "</style>\n",
       "<table border=\"1\" class=\"dataframe\">\n",
       "  <thead>\n",
       "    <tr style=\"text-align: right;\">\n",
       "      <th></th>\n",
       "      <th>Region</th>\n",
       "      <th>Capital City</th>\n",
       "      <th>Population</th>\n",
       "      <th>Land Area</th>\n",
       "      <th>Party</th>\n",
       "      <th>Density</th>\n",
       "    </tr>\n",
       "    <tr>\n",
       "      <th>State</th>\n",
       "      <th></th>\n",
       "      <th></th>\n",
       "      <th></th>\n",
       "      <th></th>\n",
       "      <th></th>\n",
       "      <th></th>\n",
       "    </tr>\n",
       "  </thead>\n",
       "  <tbody>\n",
       "    <tr>\n",
       "      <th>Alabama</th>\n",
       "      <td>South</td>\n",
       "      <td>Montgomery</td>\n",
       "      <td>5024279</td>\n",
       "      <td>50645</td>\n",
       "      <td>Republican</td>\n",
       "      <td>99.21</td>\n",
       "    </tr>\n",
       "    <tr>\n",
       "      <th>Alaska</th>\n",
       "      <td>West</td>\n",
       "      <td>Juneau</td>\n",
       "      <td>733391</td>\n",
       "      <td>570641</td>\n",
       "      <td>Republican</td>\n",
       "      <td>1.29</td>\n",
       "    </tr>\n",
       "    <tr>\n",
       "      <th>Arizona</th>\n",
       "      <td>West</td>\n",
       "      <td>Phoenix</td>\n",
       "      <td>7151502</td>\n",
       "      <td>113594</td>\n",
       "      <td>Republican</td>\n",
       "      <td>62.96</td>\n",
       "    </tr>\n",
       "    <tr>\n",
       "      <th>Arkansas</th>\n",
       "      <td>South</td>\n",
       "      <td>Little Rock</td>\n",
       "      <td>3011524</td>\n",
       "      <td>52035</td>\n",
       "      <td>Republican</td>\n",
       "      <td>57.87</td>\n",
       "    </tr>\n",
       "    <tr>\n",
       "      <th>California</th>\n",
       "      <td>West</td>\n",
       "      <td>Sacramento</td>\n",
       "      <td>39538223</td>\n",
       "      <td>155779</td>\n",
       "      <td>Democratic</td>\n",
       "      <td>253.81</td>\n",
       "    </tr>\n",
       "    <tr>\n",
       "      <th>...</th>\n",
       "      <td>...</td>\n",
       "      <td>...</td>\n",
       "      <td>...</td>\n",
       "      <td>...</td>\n",
       "      <td>...</td>\n",
       "      <td>...</td>\n",
       "    </tr>\n",
       "    <tr>\n",
       "      <th>Virginia</th>\n",
       "      <td>South</td>\n",
       "      <td>Richmond</td>\n",
       "      <td>8631393</td>\n",
       "      <td>39490</td>\n",
       "      <td>Democratic</td>\n",
       "      <td>218.57</td>\n",
       "    </tr>\n",
       "    <tr>\n",
       "      <th>Washington</th>\n",
       "      <td>West</td>\n",
       "      <td>Olympia</td>\n",
       "      <td>7705281</td>\n",
       "      <td>66456</td>\n",
       "      <td>Democratic</td>\n",
       "      <td>115.95</td>\n",
       "    </tr>\n",
       "    <tr>\n",
       "      <th>West Virginia</th>\n",
       "      <td>South</td>\n",
       "      <td>Charleston</td>\n",
       "      <td>1793716</td>\n",
       "      <td>24038</td>\n",
       "      <td>Republican</td>\n",
       "      <td>74.62</td>\n",
       "    </tr>\n",
       "    <tr>\n",
       "      <th>Wisconsin</th>\n",
       "      <td>Midwest</td>\n",
       "      <td>Madison</td>\n",
       "      <td>5893718</td>\n",
       "      <td>54158</td>\n",
       "      <td>Republican</td>\n",
       "      <td>108.82</td>\n",
       "    </tr>\n",
       "    <tr>\n",
       "      <th>Wyoming</th>\n",
       "      <td>West</td>\n",
       "      <td>Cheyenne</td>\n",
       "      <td>576851</td>\n",
       "      <td>97093</td>\n",
       "      <td>Republican</td>\n",
       "      <td>5.94</td>\n",
       "    </tr>\n",
       "  </tbody>\n",
       "</table>\n",
       "<p>50 rows × 6 columns</p>\n",
       "</div>"
      ],
      "text/plain": [
       "                Region Capital City  Population  Land Area       Party  \\\n",
       "State                                                                    \n",
       "Alabama          South   Montgomery     5024279      50645  Republican   \n",
       "Alaska            West       Juneau      733391     570641  Republican   \n",
       "Arizona           West      Phoenix     7151502     113594  Republican   \n",
       "Arkansas         South  Little Rock     3011524      52035  Republican   \n",
       "California        West   Sacramento    39538223     155779  Democratic   \n",
       "...                ...          ...         ...        ...         ...   \n",
       "Virginia         South     Richmond     8631393      39490  Democratic   \n",
       "Washington        West      Olympia     7705281      66456  Democratic   \n",
       "West Virginia    South   Charleston     1793716      24038  Republican   \n",
       "Wisconsin      Midwest      Madison     5893718      54158  Republican   \n",
       "Wyoming           West     Cheyenne      576851      97093  Republican   \n",
       "\n",
       "               Density  \n",
       "State                   \n",
       "Alabama          99.21  \n",
       "Alaska            1.29  \n",
       "Arizona          62.96  \n",
       "Arkansas         57.87  \n",
       "California      253.81  \n",
       "...                ...  \n",
       "Virginia        218.57  \n",
       "Washington      115.95  \n",
       "West Virginia    74.62  \n",
       "Wisconsin       108.82  \n",
       "Wyoming           5.94  \n",
       "\n",
       "[50 rows x 6 columns]"
      ]
     },
     "execution_count": 50,
     "metadata": {},
     "output_type": "execute_result"
    }
   ],
   "source": [
    "states = states.set_index('State')\n",
    "states"
   ]
  },
  {
   "cell_type": "code",
   "execution_count": 51,
   "metadata": {},
   "outputs": [
    {
     "data": {
      "text/plain": [
       "State\n",
       "Alabama           99.21\n",
       "Alaska             1.29\n",
       "Arizona           62.96\n",
       "Arkansas          57.87\n",
       "California       253.81\n",
       "                  ...  \n",
       "Virginia         218.57\n",
       "Washington       115.95\n",
       "West Virginia     74.62\n",
       "Wisconsin        108.82\n",
       "Wyoming            5.94\n",
       "Name: Density, Length: 50, dtype: float64"
      ]
     },
     "execution_count": 51,
     "metadata": {},
     "output_type": "execute_result"
    }
   ],
   "source": [
    "# Which one is Pennsylvania? The one whose row label is \"Pennsylvania\"!\n",
    "states.get('Density')"
   ]
  },
  {
   "cell_type": "markdown",
   "metadata": {
    "slideshow": {
     "slide_type": "slide"
    }
   },
   "source": [
    "### Accessing using the row label\n",
    "\n",
    "To pull out one particular entry of a DataFrame corresponding to a row and column with certain labels:\n",
    "1. Use `.get(column_name)` to extract the entire column as a Series.\n",
    "2. Use `.loc[]` to access the element of a Series with a particular row label.\n",
    "\n",
    "In this class, we'll always first access a column, then a row (but row, then column is also possible)."
   ]
  },
  {
   "cell_type": "code",
   "execution_count": 52,
   "metadata": {},
   "outputs": [
    {
     "data": {
      "text/plain": [
       "State\n",
       "Alabama           99.21\n",
       "Alaska             1.29\n",
       "Arizona           62.96\n",
       "Arkansas          57.87\n",
       "California       253.81\n",
       "                  ...  \n",
       "Virginia         218.57\n",
       "Washington       115.95\n",
       "West Virginia     74.62\n",
       "Wisconsin        108.82\n",
       "Wyoming            5.94\n",
       "Name: Density, Length: 50, dtype: float64"
      ]
     },
     "execution_count": 52,
     "metadata": {},
     "output_type": "execute_result"
    }
   ],
   "source": [
    "states.get('Density')"
   ]
  },
  {
   "cell_type": "code",
   "execution_count": 53,
   "metadata": {},
   "outputs": [
    {
     "data": {
      "text/plain": [
       "290.60858681804973"
      ]
     },
     "execution_count": 53,
     "metadata": {},
     "output_type": "execute_result"
    }
   ],
   "source": [
    "states.get('Density').loc['Pennsylvania']"
   ]
  },
  {
   "cell_type": "markdown",
   "metadata": {
    "slideshow": {
     "slide_type": "slide"
    }
   },
   "source": [
    "### Summary: Accessing elements of a DataFrame\n",
    "\n",
    "- First, `.get` the appropriate column as a Series.\n",
    "- Then, use one of two ways to access an element of a Series:\n",
    "    - `.iloc[]` uses the integer position.\n",
    "    - `.loc[]` uses the row label.\n",
    "    - Each is best for different scenarios."
   ]
  },
  {
   "cell_type": "code",
   "execution_count": 54,
   "metadata": {},
   "outputs": [
    {
     "data": {
      "text/plain": [
       "State\n",
       "Alabama           99.21\n",
       "Alaska             1.29\n",
       "Arizona           62.96\n",
       "Arkansas          57.87\n",
       "California       253.81\n",
       "                  ...  \n",
       "Virginia         218.57\n",
       "Washington       115.95\n",
       "West Virginia     74.62\n",
       "Wisconsin        108.82\n",
       "Wyoming            5.94\n",
       "Name: Density, Length: 50, dtype: float64"
      ]
     },
     "execution_count": 54,
     "metadata": {},
     "output_type": "execute_result"
    }
   ],
   "source": [
    "states.get('Density')"
   ]
  },
  {
   "cell_type": "code",
   "execution_count": 55,
   "metadata": {},
   "outputs": [
    {
     "data": {
      "text/plain": [
       "253.80971119342146"
      ]
     },
     "execution_count": 55,
     "metadata": {},
     "output_type": "execute_result"
    }
   ],
   "source": [
    "states.get('Density').iloc[4]"
   ]
  },
  {
   "cell_type": "code",
   "execution_count": 56,
   "metadata": {},
   "outputs": [
    {
     "data": {
      "text/plain": [
       "253.80971119342146"
      ]
     },
     "execution_count": 56,
     "metadata": {},
     "output_type": "execute_result"
    }
   ],
   "source": [
    "states.get('Density').loc['California']"
   ]
  },
  {
   "cell_type": "markdown",
   "metadata": {
    "slideshow": {
     "slide_type": "slide"
    }
   },
   "source": [
    "### Note\n",
    "\n",
    "- Sometimes the integer position and row label are the same.\n",
    "- This happens by default with `bpd.read_csv`."
   ]
  },
  {
   "cell_type": "code",
   "execution_count": 57,
   "metadata": {},
   "outputs": [
    {
     "data": {
      "text/html": [
       "<div>\n",
       "<style scoped>\n",
       "    .dataframe tbody tr th:only-of-type {\n",
       "        vertical-align: middle;\n",
       "    }\n",
       "\n",
       "    .dataframe tbody tr th {\n",
       "        vertical-align: top;\n",
       "    }\n",
       "\n",
       "    .dataframe thead th {\n",
       "        text-align: right;\n",
       "    }\n",
       "</style>\n",
       "<table border=\"1\" class=\"dataframe\">\n",
       "  <thead>\n",
       "    <tr style=\"text-align: right;\">\n",
       "      <th></th>\n",
       "      <th>State</th>\n",
       "      <th>Region</th>\n",
       "      <th>Capital City</th>\n",
       "      <th>Population</th>\n",
       "      <th>Land Area</th>\n",
       "      <th>Party</th>\n",
       "    </tr>\n",
       "  </thead>\n",
       "  <tbody>\n",
       "    <tr>\n",
       "      <th>0</th>\n",
       "      <td>Alabama</td>\n",
       "      <td>South</td>\n",
       "      <td>Montgomery</td>\n",
       "      <td>5024279</td>\n",
       "      <td>50645</td>\n",
       "      <td>Republican</td>\n",
       "    </tr>\n",
       "    <tr>\n",
       "      <th>1</th>\n",
       "      <td>Alaska</td>\n",
       "      <td>West</td>\n",
       "      <td>Juneau</td>\n",
       "      <td>733391</td>\n",
       "      <td>570641</td>\n",
       "      <td>Republican</td>\n",
       "    </tr>\n",
       "    <tr>\n",
       "      <th>2</th>\n",
       "      <td>Arizona</td>\n",
       "      <td>West</td>\n",
       "      <td>Phoenix</td>\n",
       "      <td>7151502</td>\n",
       "      <td>113594</td>\n",
       "      <td>Republican</td>\n",
       "    </tr>\n",
       "    <tr>\n",
       "      <th>3</th>\n",
       "      <td>Arkansas</td>\n",
       "      <td>South</td>\n",
       "      <td>Little Rock</td>\n",
       "      <td>3011524</td>\n",
       "      <td>52035</td>\n",
       "      <td>Republican</td>\n",
       "    </tr>\n",
       "    <tr>\n",
       "      <th>4</th>\n",
       "      <td>California</td>\n",
       "      <td>West</td>\n",
       "      <td>Sacramento</td>\n",
       "      <td>39538223</td>\n",
       "      <td>155779</td>\n",
       "      <td>Democratic</td>\n",
       "    </tr>\n",
       "    <tr>\n",
       "      <th>...</th>\n",
       "      <td>...</td>\n",
       "      <td>...</td>\n",
       "      <td>...</td>\n",
       "      <td>...</td>\n",
       "      <td>...</td>\n",
       "      <td>...</td>\n",
       "    </tr>\n",
       "    <tr>\n",
       "      <th>45</th>\n",
       "      <td>Virginia</td>\n",
       "      <td>South</td>\n",
       "      <td>Richmond</td>\n",
       "      <td>8631393</td>\n",
       "      <td>39490</td>\n",
       "      <td>Democratic</td>\n",
       "    </tr>\n",
       "    <tr>\n",
       "      <th>46</th>\n",
       "      <td>Washington</td>\n",
       "      <td>West</td>\n",
       "      <td>Olympia</td>\n",
       "      <td>7705281</td>\n",
       "      <td>66456</td>\n",
       "      <td>Democratic</td>\n",
       "    </tr>\n",
       "    <tr>\n",
       "      <th>47</th>\n",
       "      <td>West Virginia</td>\n",
       "      <td>South</td>\n",
       "      <td>Charleston</td>\n",
       "      <td>1793716</td>\n",
       "      <td>24038</td>\n",
       "      <td>Republican</td>\n",
       "    </tr>\n",
       "    <tr>\n",
       "      <th>48</th>\n",
       "      <td>Wisconsin</td>\n",
       "      <td>Midwest</td>\n",
       "      <td>Madison</td>\n",
       "      <td>5893718</td>\n",
       "      <td>54158</td>\n",
       "      <td>Republican</td>\n",
       "    </tr>\n",
       "    <tr>\n",
       "      <th>49</th>\n",
       "      <td>Wyoming</td>\n",
       "      <td>West</td>\n",
       "      <td>Cheyenne</td>\n",
       "      <td>576851</td>\n",
       "      <td>97093</td>\n",
       "      <td>Republican</td>\n",
       "    </tr>\n",
       "  </tbody>\n",
       "</table>\n",
       "<p>50 rows × 6 columns</p>\n",
       "</div>"
      ],
      "text/plain": [
       "            State   Region Capital City  Population  Land Area       Party\n",
       "0         Alabama    South   Montgomery     5024279      50645  Republican\n",
       "1          Alaska     West       Juneau      733391     570641  Republican\n",
       "2         Arizona     West      Phoenix     7151502     113594  Republican\n",
       "3        Arkansas    South  Little Rock     3011524      52035  Republican\n",
       "4      California     West   Sacramento    39538223     155779  Democratic\n",
       "..            ...      ...          ...         ...        ...         ...\n",
       "45       Virginia    South     Richmond     8631393      39490  Democratic\n",
       "46     Washington     West      Olympia     7705281      66456  Democratic\n",
       "47  West Virginia    South   Charleston     1793716      24038  Republican\n",
       "48      Wisconsin  Midwest      Madison     5893718      54158  Republican\n",
       "49        Wyoming     West     Cheyenne      576851      97093  Republican\n",
       "\n",
       "[50 rows x 6 columns]"
      ]
     },
     "execution_count": 57,
     "metadata": {},
     "output_type": "execute_result"
    }
   ],
   "source": [
    "bpd.read_csv('data/states.csv')"
   ]
  },
  {
   "cell_type": "code",
   "execution_count": 58,
   "metadata": {},
   "outputs": [
    {
     "data": {
      "text/plain": [
       "'Oklahoma City'"
      ]
     },
     "execution_count": 58,
     "metadata": {},
     "output_type": "execute_result"
    }
   ],
   "source": [
    "bpd.read_csv('data/states.csv').get('Capital City').loc[35]"
   ]
  },
  {
   "cell_type": "code",
   "execution_count": 59,
   "metadata": {},
   "outputs": [
    {
     "data": {
      "text/plain": [
       "'Oklahoma City'"
      ]
     },
     "execution_count": 59,
     "metadata": {},
     "output_type": "execute_result"
    }
   ],
   "source": [
    "bpd.read_csv('data/states.csv').get('Capital City').iloc[35]"
   ]
  },
  {
   "cell_type": "markdown",
   "metadata": {
    "slideshow": {
     "slide_type": "slide"
    }
   },
   "source": [
    "## Summary, next time"
   ]
  },
  {
   "cell_type": "markdown",
   "metadata": {
    "slideshow": {
     "slide_type": "slide"
    }
   },
   "source": [
    "### Summary\n",
    "\n",
    "- Arrays make it easy to perform arithmetic operations on all elements of an array and to perform element-wise operations on multiple arrays.\n",
    "- Ranges are arrays of equally-spaced numbers.\n",
    "- We learned many DataFrame methods and techniques. **Don't feel the need to memorize them all right away.**\n",
    "- Instead, refer to this lecture, [the DSC 10 reference sheet](https://drive.google.com/file/d/1ky0Np67HS2O4LO913P-ing97SJG0j27n/view), [the `babypandas` notes](https://notes.dsc10.com/front.html), and [the `babypandas` documentation](https://babypandas.readthedocs.io/en/latest/index.html) when working on assignments.\n",
    "- Over time, these techniques will become more and more familiar. Lab 1 will walk you through many of them.\n",
    "- **Practice!** Frame your own questions using this dataset and try to answer them."
   ]
  },
  {
   "cell_type": "markdown",
   "metadata": {
    "slideshow": {
     "slide_type": "slide"
    }
   },
   "source": [
    "### Next time\n",
    "\n",
    "We'll frame more questions and learn more DataFrame manipulation techniques to answer them. In particular, we'll learn about querying and grouping. "
   ]
  },
  {
   "cell_type": "markdown",
   "metadata": {
    "slideshow": {
     "slide_type": "slide"
    }
   },
   "source": [
    "## Have a good Fourth of July weekend! 🌭🎆🇺🇸"
   ]
  }
 ],
 "metadata": {
  "kernelspec": {
   "display_name": "Python 3 (ipykernel)",
   "language": "python",
   "name": "python3"
  },
  "language_info": {
   "codemirror_mode": {
    "name": "ipython",
    "version": 3
   },
   "file_extension": ".py",
   "mimetype": "text/x-python",
   "name": "python",
   "nbconvert_exporter": "python",
   "pygments_lexer": "ipython3",
   "version": "3.11.5"
  },
  "livereveal": {
   "scroll": true,
   "transition": "none"
  },
  "rise": {
   "enable_chalkboard": true
  }
 },
 "nbformat": 4,
 "nbformat_minor": 2
}
