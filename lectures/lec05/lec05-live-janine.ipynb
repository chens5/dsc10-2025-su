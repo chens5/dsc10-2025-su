{
 "cells": [
  {
   "cell_type": "code",
   "execution_count": 2,
   "metadata": {
    "slideshow": {
     "slide_type": "skip"
    }
   },
   "outputs": [],
   "source": [
    "# Run this cell to set up packages for lecture.\n",
    "from lec05_imports import *"
   ]
  },
  {
   "cell_type": "markdown",
   "metadata": {
    "slideshow": {
     "slide_type": "slide"
    }
   },
   "source": [
    "# Lecture 5 –  Querying and Grouping\n",
    "\n",
    "## DSC 10, Summer 2024"
   ]
  },
  {
   "cell_type": "markdown",
   "metadata": {
    "slideshow": {
     "slide_type": "slide"
    }
   },
   "source": [
    "### Announcements\n",
    "\n",
    "- Quiz 1 is coming up on **Friday** in your assigned quiz session.\n",
    "   - You should have been assigned a quiz time in an email with subject \"DSC 10 Quiz Time\".\n",
    "   - This will be a 20 minute paper-based quiz consisting of short answer and multiple choice questions. \n",
    "   - No aids are allowed (no notes, no calculators, no computers, no reference sheet). Questions are designed with this in mind.\n",
    "   - The quiz covers Lectures 1 through 4, or [BPD 1-9](https://notes.dsc10.com/front.html) in the `babypandas` notes. \n",
    "       - This includes \"Example 4: What is the population density of Pennsylvania?\" which is in the Lecture 4 slides, though we'll cover it today.\n",
    "       - Attend **discussion section today** to work on [practice problems](https://practice.dsc10.com/).\n",
    "       - **Homework 1 is due Tuesday**, but working on the homework is excellent preparation for the quiz.\n",
    "- Come to office hours (see the schedule [here](https://dsc10.com/calendar)) and post on Ed for help!"
   ]
  },
  {
   "cell_type": "markdown",
   "metadata": {
    "slideshow": {
     "slide_type": "slide"
    }
   },
   "source": [
    "### Agenda\n",
    "\n",
    "- Recap: accessing using row labels. \n",
    "- Querying.\n",
    "- Querying with multiple conditions.\n",
    "- Grouping.\n",
    "- After class: challenge problems."
   ]
  },
  {
   "cell_type": "markdown",
   "metadata": {
    "slideshow": {
     "slide_type": "fragment"
    }
   },
   "source": [
    "#### Don't forget about these resources!\n",
    "\n",
    "- [DSC 10 Reference Sheet 📌](https://drive.google.com/file/d/1ky0Np67HS2O4LO913P-ing97SJG0j27n/view). \n",
    "- [`babypandas` notes](https://notes.dsc10.com).\n",
    "- [`babypandas` documentation](https://babypandas.readthedocs.io/en/latest/index.html).\n",
    "- [The Resources tab of the course website](https://dsc10.com/resources/)."
   ]
  },
  {
   "cell_type": "markdown",
   "metadata": {
    "slideshow": {
     "slide_type": "slide"
    }
   },
   "source": [
    "### You belong here! 🤝\n",
    "\n",
    "- We're moving _very_ quickly in this class.\n",
    "- This may be the first time you're ever writing code, and you may question whether or not you belong in this class, or if data science is for you.\n",
    "- We promise, no matter what your prior experience is, **the answer is yes, you belong!**\n",
    "    - Watch: [🎥 Developing a Growth Mindset with Carol Dweck](https://www.youtube.com/watch?v=hiiEeMN7vbQ).\n",
    "- Please come to office hours (see the schedule [here](https://dsc10.com/calendar)) and post on Ed for help – we're here to make sure you succeed in this course."
   ]
  },
  {
   "cell_type": "markdown",
   "metadata": {
    "slideshow": {
     "slide_type": "slide"
    }
   },
   "source": [
    "### The data: US states  🗽\n",
    "\n",
    "We'll continue working with the same data from last time."
   ]
  },
  {
   "cell_type": "code",
   "execution_count": 3,
   "metadata": {},
   "outputs": [
    {
     "data": {
      "text/html": [
       "<div>\n",
       "<style scoped>\n",
       "    .dataframe tbody tr th:only-of-type {\n",
       "        vertical-align: middle;\n",
       "    }\n",
       "\n",
       "    .dataframe tbody tr th {\n",
       "        vertical-align: top;\n",
       "    }\n",
       "\n",
       "    .dataframe thead th {\n",
       "        text-align: right;\n",
       "    }\n",
       "</style>\n",
       "<table border=\"1\" class=\"dataframe\">\n",
       "  <thead>\n",
       "    <tr style=\"text-align: right;\">\n",
       "      <th></th>\n",
       "      <th>State</th>\n",
       "      <th>Region</th>\n",
       "      <th>Capital City</th>\n",
       "      <th>Population</th>\n",
       "      <th>Land Area</th>\n",
       "      <th>Party</th>\n",
       "      <th>Density</th>\n",
       "    </tr>\n",
       "  </thead>\n",
       "  <tbody>\n",
       "    <tr>\n",
       "      <th>0</th>\n",
       "      <td>Alabama</td>\n",
       "      <td>South</td>\n",
       "      <td>Montgomery</td>\n",
       "      <td>5024279</td>\n",
       "      <td>50645</td>\n",
       "      <td>Republican</td>\n",
       "      <td>99.21</td>\n",
       "    </tr>\n",
       "    <tr>\n",
       "      <th>1</th>\n",
       "      <td>Alaska</td>\n",
       "      <td>West</td>\n",
       "      <td>Juneau</td>\n",
       "      <td>733391</td>\n",
       "      <td>570641</td>\n",
       "      <td>Republican</td>\n",
       "      <td>1.29</td>\n",
       "    </tr>\n",
       "    <tr>\n",
       "      <th>2</th>\n",
       "      <td>Arizona</td>\n",
       "      <td>West</td>\n",
       "      <td>Phoenix</td>\n",
       "      <td>7151502</td>\n",
       "      <td>113594</td>\n",
       "      <td>Republican</td>\n",
       "      <td>62.96</td>\n",
       "    </tr>\n",
       "    <tr>\n",
       "      <th>...</th>\n",
       "      <td>...</td>\n",
       "      <td>...</td>\n",
       "      <td>...</td>\n",
       "      <td>...</td>\n",
       "      <td>...</td>\n",
       "      <td>...</td>\n",
       "      <td>...</td>\n",
       "    </tr>\n",
       "    <tr>\n",
       "      <th>47</th>\n",
       "      <td>West Virginia</td>\n",
       "      <td>South</td>\n",
       "      <td>Charleston</td>\n",
       "      <td>1793716</td>\n",
       "      <td>24038</td>\n",
       "      <td>Republican</td>\n",
       "      <td>74.62</td>\n",
       "    </tr>\n",
       "    <tr>\n",
       "      <th>48</th>\n",
       "      <td>Wisconsin</td>\n",
       "      <td>Midwest</td>\n",
       "      <td>Madison</td>\n",
       "      <td>5893718</td>\n",
       "      <td>54158</td>\n",
       "      <td>Republican</td>\n",
       "      <td>108.82</td>\n",
       "    </tr>\n",
       "    <tr>\n",
       "      <th>49</th>\n",
       "      <td>Wyoming</td>\n",
       "      <td>West</td>\n",
       "      <td>Cheyenne</td>\n",
       "      <td>576851</td>\n",
       "      <td>97093</td>\n",
       "      <td>Republican</td>\n",
       "      <td>5.94</td>\n",
       "    </tr>\n",
       "  </tbody>\n",
       "</table>\n",
       "<p>50 rows × 7 columns</p>\n",
       "</div>"
      ],
      "text/plain": [
       "            State   Region Capital City  Population  Land Area       Party  \\\n",
       "0         Alabama    South   Montgomery     5024279      50645  Republican   \n",
       "1          Alaska     West       Juneau      733391     570641  Republican   \n",
       "2         Arizona     West      Phoenix     7151502     113594  Republican   \n",
       "..            ...      ...          ...         ...        ...         ...   \n",
       "47  West Virginia    South   Charleston     1793716      24038  Republican   \n",
       "48      Wisconsin  Midwest      Madison     5893718      54158  Republican   \n",
       "49        Wyoming     West     Cheyenne      576851      97093  Republican   \n",
       "\n",
       "    Density  \n",
       "0     99.21  \n",
       "1      1.29  \n",
       "2     62.96  \n",
       "..      ...  \n",
       "47    74.62  \n",
       "48   108.82  \n",
       "49     5.94  \n",
       "\n",
       "[50 rows x 7 columns]"
      ]
     },
     "execution_count": 3,
     "metadata": {},
     "output_type": "execute_result"
    }
   ],
   "source": [
    "states = bpd.read_csv('data/states.csv')\n",
    "states = states.assign(Density=states.get('Population') / states.get('Land Area'))\n",
    "states"
   ]
  },
  {
   "cell_type": "markdown",
   "metadata": {
    "slideshow": {
     "slide_type": "slide"
    }
   },
   "source": [
    "## Example 4: What is the population density of Pennsylvania?\n",
    "\n",
    "**Key concepts**: Setting the index. Accessing using row labels."
   ]
  },
  {
   "cell_type": "markdown",
   "metadata": {
    "slideshow": {
     "slide_type": "slide"
    }
   },
   "source": [
    "### Population density of Pennsylvania\n",
    "\n",
    "We know how to get the `'Density'` of all states. How do we find the one that corresponds to Pennsylvania?"
   ]
  },
  {
   "cell_type": "code",
   "execution_count": 4,
   "metadata": {
    "scrolled": true
   },
   "outputs": [
    {
     "data": {
      "text/html": [
       "<div>\n",
       "<style scoped>\n",
       "    .dataframe tbody tr th:only-of-type {\n",
       "        vertical-align: middle;\n",
       "    }\n",
       "\n",
       "    .dataframe tbody tr th {\n",
       "        vertical-align: top;\n",
       "    }\n",
       "\n",
       "    .dataframe thead th {\n",
       "        text-align: right;\n",
       "    }\n",
       "</style>\n",
       "<table border=\"1\" class=\"dataframe\">\n",
       "  <thead>\n",
       "    <tr style=\"text-align: right;\">\n",
       "      <th></th>\n",
       "      <th>State</th>\n",
       "      <th>Region</th>\n",
       "      <th>Capital City</th>\n",
       "      <th>Population</th>\n",
       "      <th>Land Area</th>\n",
       "      <th>Party</th>\n",
       "      <th>Density</th>\n",
       "    </tr>\n",
       "  </thead>\n",
       "  <tbody>\n",
       "    <tr>\n",
       "      <th>0</th>\n",
       "      <td>Alabama</td>\n",
       "      <td>South</td>\n",
       "      <td>Montgomery</td>\n",
       "      <td>5024279</td>\n",
       "      <td>50645</td>\n",
       "      <td>Republican</td>\n",
       "      <td>99.21</td>\n",
       "    </tr>\n",
       "    <tr>\n",
       "      <th>1</th>\n",
       "      <td>Alaska</td>\n",
       "      <td>West</td>\n",
       "      <td>Juneau</td>\n",
       "      <td>733391</td>\n",
       "      <td>570641</td>\n",
       "      <td>Republican</td>\n",
       "      <td>1.29</td>\n",
       "    </tr>\n",
       "    <tr>\n",
       "      <th>2</th>\n",
       "      <td>Arizona</td>\n",
       "      <td>West</td>\n",
       "      <td>Phoenix</td>\n",
       "      <td>7151502</td>\n",
       "      <td>113594</td>\n",
       "      <td>Republican</td>\n",
       "      <td>62.96</td>\n",
       "    </tr>\n",
       "    <tr>\n",
       "      <th>...</th>\n",
       "      <td>...</td>\n",
       "      <td>...</td>\n",
       "      <td>...</td>\n",
       "      <td>...</td>\n",
       "      <td>...</td>\n",
       "      <td>...</td>\n",
       "      <td>...</td>\n",
       "    </tr>\n",
       "    <tr>\n",
       "      <th>47</th>\n",
       "      <td>West Virginia</td>\n",
       "      <td>South</td>\n",
       "      <td>Charleston</td>\n",
       "      <td>1793716</td>\n",
       "      <td>24038</td>\n",
       "      <td>Republican</td>\n",
       "      <td>74.62</td>\n",
       "    </tr>\n",
       "    <tr>\n",
       "      <th>48</th>\n",
       "      <td>Wisconsin</td>\n",
       "      <td>Midwest</td>\n",
       "      <td>Madison</td>\n",
       "      <td>5893718</td>\n",
       "      <td>54158</td>\n",
       "      <td>Republican</td>\n",
       "      <td>108.82</td>\n",
       "    </tr>\n",
       "    <tr>\n",
       "      <th>49</th>\n",
       "      <td>Wyoming</td>\n",
       "      <td>West</td>\n",
       "      <td>Cheyenne</td>\n",
       "      <td>576851</td>\n",
       "      <td>97093</td>\n",
       "      <td>Republican</td>\n",
       "      <td>5.94</td>\n",
       "    </tr>\n",
       "  </tbody>\n",
       "</table>\n",
       "<p>50 rows × 7 columns</p>\n",
       "</div>"
      ],
      "text/plain": [
       "            State   Region Capital City  Population  Land Area       Party  \\\n",
       "0         Alabama    South   Montgomery     5024279      50645  Republican   \n",
       "1          Alaska     West       Juneau      733391     570641  Republican   \n",
       "2         Arizona     West      Phoenix     7151502     113594  Republican   \n",
       "..            ...      ...          ...         ...        ...         ...   \n",
       "47  West Virginia    South   Charleston     1793716      24038  Republican   \n",
       "48      Wisconsin  Midwest      Madison     5893718      54158  Republican   \n",
       "49        Wyoming     West     Cheyenne      576851      97093  Republican   \n",
       "\n",
       "    Density  \n",
       "0     99.21  \n",
       "1      1.29  \n",
       "2     62.96  \n",
       "..      ...  \n",
       "47    74.62  \n",
       "48   108.82  \n",
       "49     5.94  \n",
       "\n",
       "[50 rows x 7 columns]"
      ]
     },
     "execution_count": 4,
     "metadata": {},
     "output_type": "execute_result"
    }
   ],
   "source": [
    "states"
   ]
  },
  {
   "cell_type": "code",
   "execution_count": 5,
   "metadata": {},
   "outputs": [
    {
     "data": {
      "text/plain": [
       "0      99.21\n",
       "1       1.29\n",
       "2      62.96\n",
       "       ...  \n",
       "47     74.62\n",
       "48    108.82\n",
       "49      5.94\n",
       "Name: Density, Length: 50, dtype: float64"
      ]
     },
     "execution_count": 5,
     "metadata": {},
     "output_type": "execute_result"
    }
   ],
   "source": [
    "# Which one is Pennsylvania?\n",
    "states.get('Density')"
   ]
  },
  {
   "cell_type": "markdown",
   "metadata": {
    "slideshow": {
     "slide_type": "slide"
    }
   },
   "source": [
    "### Utilizing the index"
   ]
  },
  {
   "cell_type": "markdown",
   "metadata": {
    "slideshow": {
     "slide_type": "fragment"
    }
   },
   "source": [
    "- When we load in a DataFrame from a CSV, columns have meaningful names, but rows do not."
   ]
  },
  {
   "cell_type": "code",
   "execution_count": 6,
   "metadata": {},
   "outputs": [
    {
     "data": {
      "text/html": [
       "<div>\n",
       "<style scoped>\n",
       "    .dataframe tbody tr th:only-of-type {\n",
       "        vertical-align: middle;\n",
       "    }\n",
       "\n",
       "    .dataframe tbody tr th {\n",
       "        vertical-align: top;\n",
       "    }\n",
       "\n",
       "    .dataframe thead th {\n",
       "        text-align: right;\n",
       "    }\n",
       "</style>\n",
       "<table border=\"1\" class=\"dataframe\">\n",
       "  <thead>\n",
       "    <tr style=\"text-align: right;\">\n",
       "      <th></th>\n",
       "      <th>State</th>\n",
       "      <th>Region</th>\n",
       "      <th>Capital City</th>\n",
       "      <th>Population</th>\n",
       "      <th>Land Area</th>\n",
       "      <th>Party</th>\n",
       "    </tr>\n",
       "  </thead>\n",
       "  <tbody>\n",
       "    <tr>\n",
       "      <th>0</th>\n",
       "      <td>Alabama</td>\n",
       "      <td>South</td>\n",
       "      <td>Montgomery</td>\n",
       "      <td>5024279</td>\n",
       "      <td>50645</td>\n",
       "      <td>Republican</td>\n",
       "    </tr>\n",
       "    <tr>\n",
       "      <th>1</th>\n",
       "      <td>Alaska</td>\n",
       "      <td>West</td>\n",
       "      <td>Juneau</td>\n",
       "      <td>733391</td>\n",
       "      <td>570641</td>\n",
       "      <td>Republican</td>\n",
       "    </tr>\n",
       "    <tr>\n",
       "      <th>2</th>\n",
       "      <td>Arizona</td>\n",
       "      <td>West</td>\n",
       "      <td>Phoenix</td>\n",
       "      <td>7151502</td>\n",
       "      <td>113594</td>\n",
       "      <td>Republican</td>\n",
       "    </tr>\n",
       "    <tr>\n",
       "      <th>...</th>\n",
       "      <td>...</td>\n",
       "      <td>...</td>\n",
       "      <td>...</td>\n",
       "      <td>...</td>\n",
       "      <td>...</td>\n",
       "      <td>...</td>\n",
       "    </tr>\n",
       "    <tr>\n",
       "      <th>47</th>\n",
       "      <td>West Virginia</td>\n",
       "      <td>South</td>\n",
       "      <td>Charleston</td>\n",
       "      <td>1793716</td>\n",
       "      <td>24038</td>\n",
       "      <td>Republican</td>\n",
       "    </tr>\n",
       "    <tr>\n",
       "      <th>48</th>\n",
       "      <td>Wisconsin</td>\n",
       "      <td>Midwest</td>\n",
       "      <td>Madison</td>\n",
       "      <td>5893718</td>\n",
       "      <td>54158</td>\n",
       "      <td>Republican</td>\n",
       "    </tr>\n",
       "    <tr>\n",
       "      <th>49</th>\n",
       "      <td>Wyoming</td>\n",
       "      <td>West</td>\n",
       "      <td>Cheyenne</td>\n",
       "      <td>576851</td>\n",
       "      <td>97093</td>\n",
       "      <td>Republican</td>\n",
       "    </tr>\n",
       "  </tbody>\n",
       "</table>\n",
       "<p>50 rows × 6 columns</p>\n",
       "</div>"
      ],
      "text/plain": [
       "            State   Region Capital City  Population  Land Area       Party\n",
       "0         Alabama    South   Montgomery     5024279      50645  Republican\n",
       "1          Alaska     West       Juneau      733391     570641  Republican\n",
       "2         Arizona     West      Phoenix     7151502     113594  Republican\n",
       "..            ...      ...          ...         ...        ...         ...\n",
       "47  West Virginia    South   Charleston     1793716      24038  Republican\n",
       "48      Wisconsin  Midwest      Madison     5893718      54158  Republican\n",
       "49        Wyoming     West     Cheyenne      576851      97093  Republican\n",
       "\n",
       "[50 rows x 6 columns]"
      ]
     },
     "execution_count": 6,
     "metadata": {},
     "output_type": "execute_result"
    }
   ],
   "source": [
    "bpd.read_csv('data/states.csv')"
   ]
  },
  {
   "cell_type": "markdown",
   "metadata": {
    "slideshow": {
     "slide_type": "fragment"
    }
   },
   "source": [
    "- The row labels (or the *index*) are how we refer to specific rows. Instead of using numbers, let's refer to these rows by the names of the states they correspond to."
   ]
  },
  {
   "cell_type": "markdown",
   "metadata": {
    "slideshow": {
     "slide_type": "fragment"
    }
   },
   "source": [
    "- This way, we can easily identify, for example, which row corresponds to Pennsylvania."
   ]
  },
  {
   "cell_type": "markdown",
   "metadata": {
    "slideshow": {
     "slide_type": "slide"
    }
   },
   "source": [
    "### Setting the index\n",
    "\n",
    "- To change the index, use `.set_index(column_name)`.\n",
    "- Row labels should be unique identifiers.\n",
    "    - Each row should has a different, descriptive name that corresponds to the contents of that row's data."
   ]
  },
  {
   "cell_type": "code",
   "execution_count": 7,
   "metadata": {},
   "outputs": [
    {
     "data": {
      "text/html": [
       "<div>\n",
       "<style scoped>\n",
       "    .dataframe tbody tr th:only-of-type {\n",
       "        vertical-align: middle;\n",
       "    }\n",
       "\n",
       "    .dataframe tbody tr th {\n",
       "        vertical-align: top;\n",
       "    }\n",
       "\n",
       "    .dataframe thead th {\n",
       "        text-align: right;\n",
       "    }\n",
       "</style>\n",
       "<table border=\"1\" class=\"dataframe\">\n",
       "  <thead>\n",
       "    <tr style=\"text-align: right;\">\n",
       "      <th></th>\n",
       "      <th>State</th>\n",
       "      <th>Region</th>\n",
       "      <th>Capital City</th>\n",
       "      <th>Population</th>\n",
       "      <th>Land Area</th>\n",
       "      <th>Party</th>\n",
       "      <th>Density</th>\n",
       "    </tr>\n",
       "  </thead>\n",
       "  <tbody>\n",
       "    <tr>\n",
       "      <th>0</th>\n",
       "      <td>Alabama</td>\n",
       "      <td>South</td>\n",
       "      <td>Montgomery</td>\n",
       "      <td>5024279</td>\n",
       "      <td>50645</td>\n",
       "      <td>Republican</td>\n",
       "      <td>99.21</td>\n",
       "    </tr>\n",
       "    <tr>\n",
       "      <th>1</th>\n",
       "      <td>Alaska</td>\n",
       "      <td>West</td>\n",
       "      <td>Juneau</td>\n",
       "      <td>733391</td>\n",
       "      <td>570641</td>\n",
       "      <td>Republican</td>\n",
       "      <td>1.29</td>\n",
       "    </tr>\n",
       "    <tr>\n",
       "      <th>2</th>\n",
       "      <td>Arizona</td>\n",
       "      <td>West</td>\n",
       "      <td>Phoenix</td>\n",
       "      <td>7151502</td>\n",
       "      <td>113594</td>\n",
       "      <td>Republican</td>\n",
       "      <td>62.96</td>\n",
       "    </tr>\n",
       "    <tr>\n",
       "      <th>...</th>\n",
       "      <td>...</td>\n",
       "      <td>...</td>\n",
       "      <td>...</td>\n",
       "      <td>...</td>\n",
       "      <td>...</td>\n",
       "      <td>...</td>\n",
       "      <td>...</td>\n",
       "    </tr>\n",
       "    <tr>\n",
       "      <th>47</th>\n",
       "      <td>West Virginia</td>\n",
       "      <td>South</td>\n",
       "      <td>Charleston</td>\n",
       "      <td>1793716</td>\n",
       "      <td>24038</td>\n",
       "      <td>Republican</td>\n",
       "      <td>74.62</td>\n",
       "    </tr>\n",
       "    <tr>\n",
       "      <th>48</th>\n",
       "      <td>Wisconsin</td>\n",
       "      <td>Midwest</td>\n",
       "      <td>Madison</td>\n",
       "      <td>5893718</td>\n",
       "      <td>54158</td>\n",
       "      <td>Republican</td>\n",
       "      <td>108.82</td>\n",
       "    </tr>\n",
       "    <tr>\n",
       "      <th>49</th>\n",
       "      <td>Wyoming</td>\n",
       "      <td>West</td>\n",
       "      <td>Cheyenne</td>\n",
       "      <td>576851</td>\n",
       "      <td>97093</td>\n",
       "      <td>Republican</td>\n",
       "      <td>5.94</td>\n",
       "    </tr>\n",
       "  </tbody>\n",
       "</table>\n",
       "<p>50 rows × 7 columns</p>\n",
       "</div>"
      ],
      "text/plain": [
       "            State   Region Capital City  Population  Land Area       Party  \\\n",
       "0         Alabama    South   Montgomery     5024279      50645  Republican   \n",
       "1          Alaska     West       Juneau      733391     570641  Republican   \n",
       "2         Arizona     West      Phoenix     7151502     113594  Republican   \n",
       "..            ...      ...          ...         ...        ...         ...   \n",
       "47  West Virginia    South   Charleston     1793716      24038  Republican   \n",
       "48      Wisconsin  Midwest      Madison     5893718      54158  Republican   \n",
       "49        Wyoming     West     Cheyenne      576851      97093  Republican   \n",
       "\n",
       "    Density  \n",
       "0     99.21  \n",
       "1      1.29  \n",
       "2     62.96  \n",
       "..      ...  \n",
       "47    74.62  \n",
       "48   108.82  \n",
       "49     5.94  \n",
       "\n",
       "[50 rows x 7 columns]"
      ]
     },
     "execution_count": 7,
     "metadata": {},
     "output_type": "execute_result"
    }
   ],
   "source": [
    "states"
   ]
  },
  {
   "cell_type": "code",
   "execution_count": 8,
   "metadata": {},
   "outputs": [
    {
     "data": {
      "text/html": [
       "<div>\n",
       "<style scoped>\n",
       "    .dataframe tbody tr th:only-of-type {\n",
       "        vertical-align: middle;\n",
       "    }\n",
       "\n",
       "    .dataframe tbody tr th {\n",
       "        vertical-align: top;\n",
       "    }\n",
       "\n",
       "    .dataframe thead th {\n",
       "        text-align: right;\n",
       "    }\n",
       "</style>\n",
       "<table border=\"1\" class=\"dataframe\">\n",
       "  <thead>\n",
       "    <tr style=\"text-align: right;\">\n",
       "      <th></th>\n",
       "      <th>Region</th>\n",
       "      <th>Capital City</th>\n",
       "      <th>Population</th>\n",
       "      <th>Land Area</th>\n",
       "      <th>Party</th>\n",
       "      <th>Density</th>\n",
       "    </tr>\n",
       "    <tr>\n",
       "      <th>State</th>\n",
       "      <th></th>\n",
       "      <th></th>\n",
       "      <th></th>\n",
       "      <th></th>\n",
       "      <th></th>\n",
       "      <th></th>\n",
       "    </tr>\n",
       "  </thead>\n",
       "  <tbody>\n",
       "    <tr>\n",
       "      <th>Alabama</th>\n",
       "      <td>South</td>\n",
       "      <td>Montgomery</td>\n",
       "      <td>5024279</td>\n",
       "      <td>50645</td>\n",
       "      <td>Republican</td>\n",
       "      <td>99.21</td>\n",
       "    </tr>\n",
       "    <tr>\n",
       "      <th>Alaska</th>\n",
       "      <td>West</td>\n",
       "      <td>Juneau</td>\n",
       "      <td>733391</td>\n",
       "      <td>570641</td>\n",
       "      <td>Republican</td>\n",
       "      <td>1.29</td>\n",
       "    </tr>\n",
       "    <tr>\n",
       "      <th>Arizona</th>\n",
       "      <td>West</td>\n",
       "      <td>Phoenix</td>\n",
       "      <td>7151502</td>\n",
       "      <td>113594</td>\n",
       "      <td>Republican</td>\n",
       "      <td>62.96</td>\n",
       "    </tr>\n",
       "    <tr>\n",
       "      <th>...</th>\n",
       "      <td>...</td>\n",
       "      <td>...</td>\n",
       "      <td>...</td>\n",
       "      <td>...</td>\n",
       "      <td>...</td>\n",
       "      <td>...</td>\n",
       "    </tr>\n",
       "    <tr>\n",
       "      <th>West Virginia</th>\n",
       "      <td>South</td>\n",
       "      <td>Charleston</td>\n",
       "      <td>1793716</td>\n",
       "      <td>24038</td>\n",
       "      <td>Republican</td>\n",
       "      <td>74.62</td>\n",
       "    </tr>\n",
       "    <tr>\n",
       "      <th>Wisconsin</th>\n",
       "      <td>Midwest</td>\n",
       "      <td>Madison</td>\n",
       "      <td>5893718</td>\n",
       "      <td>54158</td>\n",
       "      <td>Republican</td>\n",
       "      <td>108.82</td>\n",
       "    </tr>\n",
       "    <tr>\n",
       "      <th>Wyoming</th>\n",
       "      <td>West</td>\n",
       "      <td>Cheyenne</td>\n",
       "      <td>576851</td>\n",
       "      <td>97093</td>\n",
       "      <td>Republican</td>\n",
       "      <td>5.94</td>\n",
       "    </tr>\n",
       "  </tbody>\n",
       "</table>\n",
       "<p>50 rows × 6 columns</p>\n",
       "</div>"
      ],
      "text/plain": [
       "                Region Capital City  Population  Land Area       Party  \\\n",
       "State                                                                    \n",
       "Alabama          South   Montgomery     5024279      50645  Republican   \n",
       "Alaska            West       Juneau      733391     570641  Republican   \n",
       "Arizona           West      Phoenix     7151502     113594  Republican   \n",
       "...                ...          ...         ...        ...         ...   \n",
       "West Virginia    South   Charleston     1793716      24038  Republican   \n",
       "Wisconsin      Midwest      Madison     5893718      54158  Republican   \n",
       "Wyoming           West     Cheyenne      576851      97093  Republican   \n",
       "\n",
       "               Density  \n",
       "State                   \n",
       "Alabama          99.21  \n",
       "Alaska            1.29  \n",
       "Arizona          62.96  \n",
       "...                ...  \n",
       "West Virginia    74.62  \n",
       "Wisconsin       108.82  \n",
       "Wyoming           5.94  \n",
       "\n",
       "[50 rows x 6 columns]"
      ]
     },
     "execution_count": 8,
     "metadata": {},
     "output_type": "execute_result"
    }
   ],
   "source": [
    "states.set_index('State')"
   ]
  },
  {
   "cell_type": "markdown",
   "metadata": {
    "slideshow": {
     "slide_type": "fragment"
    }
   },
   "source": [
    "- Now there is one fewer column. When you set the index, a column becomes the index, and the old index disappears."
   ]
  },
  {
   "cell_type": "markdown",
   "metadata": {
    "slideshow": {
     "slide_type": "fragment"
    }
   },
   "source": [
    "- 🚨 Like most DataFrame methods, `.set_index` returns a new DataFrame; it does not modify the original DataFrame."
   ]
  },
  {
   "cell_type": "code",
   "execution_count": 9,
   "metadata": {},
   "outputs": [
    {
     "data": {
      "text/html": [
       "<div>\n",
       "<style scoped>\n",
       "    .dataframe tbody tr th:only-of-type {\n",
       "        vertical-align: middle;\n",
       "    }\n",
       "\n",
       "    .dataframe tbody tr th {\n",
       "        vertical-align: top;\n",
       "    }\n",
       "\n",
       "    .dataframe thead th {\n",
       "        text-align: right;\n",
       "    }\n",
       "</style>\n",
       "<table border=\"1\" class=\"dataframe\">\n",
       "  <thead>\n",
       "    <tr style=\"text-align: right;\">\n",
       "      <th></th>\n",
       "      <th>State</th>\n",
       "      <th>Region</th>\n",
       "      <th>Capital City</th>\n",
       "      <th>Population</th>\n",
       "      <th>Land Area</th>\n",
       "      <th>Party</th>\n",
       "      <th>Density</th>\n",
       "    </tr>\n",
       "  </thead>\n",
       "  <tbody>\n",
       "    <tr>\n",
       "      <th>0</th>\n",
       "      <td>Alabama</td>\n",
       "      <td>South</td>\n",
       "      <td>Montgomery</td>\n",
       "      <td>5024279</td>\n",
       "      <td>50645</td>\n",
       "      <td>Republican</td>\n",
       "      <td>99.21</td>\n",
       "    </tr>\n",
       "    <tr>\n",
       "      <th>1</th>\n",
       "      <td>Alaska</td>\n",
       "      <td>West</td>\n",
       "      <td>Juneau</td>\n",
       "      <td>733391</td>\n",
       "      <td>570641</td>\n",
       "      <td>Republican</td>\n",
       "      <td>1.29</td>\n",
       "    </tr>\n",
       "    <tr>\n",
       "      <th>2</th>\n",
       "      <td>Arizona</td>\n",
       "      <td>West</td>\n",
       "      <td>Phoenix</td>\n",
       "      <td>7151502</td>\n",
       "      <td>113594</td>\n",
       "      <td>Republican</td>\n",
       "      <td>62.96</td>\n",
       "    </tr>\n",
       "    <tr>\n",
       "      <th>...</th>\n",
       "      <td>...</td>\n",
       "      <td>...</td>\n",
       "      <td>...</td>\n",
       "      <td>...</td>\n",
       "      <td>...</td>\n",
       "      <td>...</td>\n",
       "      <td>...</td>\n",
       "    </tr>\n",
       "    <tr>\n",
       "      <th>47</th>\n",
       "      <td>West Virginia</td>\n",
       "      <td>South</td>\n",
       "      <td>Charleston</td>\n",
       "      <td>1793716</td>\n",
       "      <td>24038</td>\n",
       "      <td>Republican</td>\n",
       "      <td>74.62</td>\n",
       "    </tr>\n",
       "    <tr>\n",
       "      <th>48</th>\n",
       "      <td>Wisconsin</td>\n",
       "      <td>Midwest</td>\n",
       "      <td>Madison</td>\n",
       "      <td>5893718</td>\n",
       "      <td>54158</td>\n",
       "      <td>Republican</td>\n",
       "      <td>108.82</td>\n",
       "    </tr>\n",
       "    <tr>\n",
       "      <th>49</th>\n",
       "      <td>Wyoming</td>\n",
       "      <td>West</td>\n",
       "      <td>Cheyenne</td>\n",
       "      <td>576851</td>\n",
       "      <td>97093</td>\n",
       "      <td>Republican</td>\n",
       "      <td>5.94</td>\n",
       "    </tr>\n",
       "  </tbody>\n",
       "</table>\n",
       "<p>50 rows × 7 columns</p>\n",
       "</div>"
      ],
      "text/plain": [
       "            State   Region Capital City  Population  Land Area       Party  \\\n",
       "0         Alabama    South   Montgomery     5024279      50645  Republican   \n",
       "1          Alaska     West       Juneau      733391     570641  Republican   \n",
       "2         Arizona     West      Phoenix     7151502     113594  Republican   \n",
       "..            ...      ...          ...         ...        ...         ...   \n",
       "47  West Virginia    South   Charleston     1793716      24038  Republican   \n",
       "48      Wisconsin  Midwest      Madison     5893718      54158  Republican   \n",
       "49        Wyoming     West     Cheyenne      576851      97093  Republican   \n",
       "\n",
       "    Density  \n",
       "0     99.21  \n",
       "1      1.29  \n",
       "2     62.96  \n",
       "..      ...  \n",
       "47    74.62  \n",
       "48   108.82  \n",
       "49     5.94  \n",
       "\n",
       "[50 rows x 7 columns]"
      ]
     },
     "execution_count": 9,
     "metadata": {},
     "output_type": "execute_result"
    }
   ],
   "source": [
    "states"
   ]
  },
  {
   "cell_type": "code",
   "execution_count": 10,
   "metadata": {},
   "outputs": [
    {
     "data": {
      "text/html": [
       "<div>\n",
       "<style scoped>\n",
       "    .dataframe tbody tr th:only-of-type {\n",
       "        vertical-align: middle;\n",
       "    }\n",
       "\n",
       "    .dataframe tbody tr th {\n",
       "        vertical-align: top;\n",
       "    }\n",
       "\n",
       "    .dataframe thead th {\n",
       "        text-align: right;\n",
       "    }\n",
       "</style>\n",
       "<table border=\"1\" class=\"dataframe\">\n",
       "  <thead>\n",
       "    <tr style=\"text-align: right;\">\n",
       "      <th></th>\n",
       "      <th>Region</th>\n",
       "      <th>Capital City</th>\n",
       "      <th>Population</th>\n",
       "      <th>Land Area</th>\n",
       "      <th>Party</th>\n",
       "      <th>Density</th>\n",
       "    </tr>\n",
       "    <tr>\n",
       "      <th>State</th>\n",
       "      <th></th>\n",
       "      <th></th>\n",
       "      <th></th>\n",
       "      <th></th>\n",
       "      <th></th>\n",
       "      <th></th>\n",
       "    </tr>\n",
       "  </thead>\n",
       "  <tbody>\n",
       "    <tr>\n",
       "      <th>Alabama</th>\n",
       "      <td>South</td>\n",
       "      <td>Montgomery</td>\n",
       "      <td>5024279</td>\n",
       "      <td>50645</td>\n",
       "      <td>Republican</td>\n",
       "      <td>99.21</td>\n",
       "    </tr>\n",
       "    <tr>\n",
       "      <th>Alaska</th>\n",
       "      <td>West</td>\n",
       "      <td>Juneau</td>\n",
       "      <td>733391</td>\n",
       "      <td>570641</td>\n",
       "      <td>Republican</td>\n",
       "      <td>1.29</td>\n",
       "    </tr>\n",
       "    <tr>\n",
       "      <th>Arizona</th>\n",
       "      <td>West</td>\n",
       "      <td>Phoenix</td>\n",
       "      <td>7151502</td>\n",
       "      <td>113594</td>\n",
       "      <td>Republican</td>\n",
       "      <td>62.96</td>\n",
       "    </tr>\n",
       "    <tr>\n",
       "      <th>...</th>\n",
       "      <td>...</td>\n",
       "      <td>...</td>\n",
       "      <td>...</td>\n",
       "      <td>...</td>\n",
       "      <td>...</td>\n",
       "      <td>...</td>\n",
       "    </tr>\n",
       "    <tr>\n",
       "      <th>West Virginia</th>\n",
       "      <td>South</td>\n",
       "      <td>Charleston</td>\n",
       "      <td>1793716</td>\n",
       "      <td>24038</td>\n",
       "      <td>Republican</td>\n",
       "      <td>74.62</td>\n",
       "    </tr>\n",
       "    <tr>\n",
       "      <th>Wisconsin</th>\n",
       "      <td>Midwest</td>\n",
       "      <td>Madison</td>\n",
       "      <td>5893718</td>\n",
       "      <td>54158</td>\n",
       "      <td>Republican</td>\n",
       "      <td>108.82</td>\n",
       "    </tr>\n",
       "    <tr>\n",
       "      <th>Wyoming</th>\n",
       "      <td>West</td>\n",
       "      <td>Cheyenne</td>\n",
       "      <td>576851</td>\n",
       "      <td>97093</td>\n",
       "      <td>Republican</td>\n",
       "      <td>5.94</td>\n",
       "    </tr>\n",
       "  </tbody>\n",
       "</table>\n",
       "<p>50 rows × 6 columns</p>\n",
       "</div>"
      ],
      "text/plain": [
       "                Region Capital City  Population  Land Area       Party  \\\n",
       "State                                                                    \n",
       "Alabama          South   Montgomery     5024279      50645  Republican   \n",
       "Alaska            West       Juneau      733391     570641  Republican   \n",
       "Arizona           West      Phoenix     7151502     113594  Republican   \n",
       "...                ...          ...         ...        ...         ...   \n",
       "West Virginia    South   Charleston     1793716      24038  Republican   \n",
       "Wisconsin      Midwest      Madison     5893718      54158  Republican   \n",
       "Wyoming           West     Cheyenne      576851      97093  Republican   \n",
       "\n",
       "               Density  \n",
       "State                   \n",
       "Alabama          99.21  \n",
       "Alaska            1.29  \n",
       "Arizona          62.96  \n",
       "...                ...  \n",
       "West Virginia    74.62  \n",
       "Wisconsin       108.82  \n",
       "Wyoming           5.94  \n",
       "\n",
       "[50 rows x 6 columns]"
      ]
     },
     "execution_count": 10,
     "metadata": {},
     "output_type": "execute_result"
    }
   ],
   "source": [
    "states = states.set_index('State')\n",
    "states"
   ]
  },
  {
   "cell_type": "code",
   "execution_count": 11,
   "metadata": {},
   "outputs": [
    {
     "data": {
      "text/plain": [
       "State\n",
       "Alabama           99.21\n",
       "Alaska             1.29\n",
       "Arizona           62.96\n",
       "                  ...  \n",
       "West Virginia     74.62\n",
       "Wisconsin        108.82\n",
       "Wyoming            5.94\n",
       "Name: Density, Length: 50, dtype: float64"
      ]
     },
     "execution_count": 11,
     "metadata": {},
     "output_type": "execute_result"
    }
   ],
   "source": [
    "# Which one is Pennsylvania? The one whose row label is \"Pennsylvania\"!\n",
    "states.get('Density')"
   ]
  },
  {
   "cell_type": "markdown",
   "metadata": {
    "slideshow": {
     "slide_type": "slide"
    }
   },
   "source": [
    "### Accessing using the row label\n",
    "\n",
    "To pull out one particular entry of a DataFrame corresponding to a row and column with certain labels:\n",
    "1. Use `.get(column_name)` to extract the entire column as a Series.\n",
    "2. Use `.loc[]` to access the element of a Series with a particular row label.\n",
    "\n",
    "In this class, we'll always first access a column, then a row (but row, then column is also possible)."
   ]
  },
  {
   "cell_type": "code",
   "execution_count": 12,
   "metadata": {},
   "outputs": [
    {
     "data": {
      "text/plain": [
       "State\n",
       "Alabama           99.21\n",
       "Alaska             1.29\n",
       "Arizona           62.96\n",
       "                  ...  \n",
       "West Virginia     74.62\n",
       "Wisconsin        108.82\n",
       "Wyoming            5.94\n",
       "Name: Density, Length: 50, dtype: float64"
      ]
     },
     "execution_count": 12,
     "metadata": {},
     "output_type": "execute_result"
    }
   ],
   "source": [
    "states.get('Density')"
   ]
  },
  {
   "cell_type": "code",
   "execution_count": 13,
   "metadata": {},
   "outputs": [
    {
     "data": {
      "text/plain": [
       "290.60858681804973"
      ]
     },
     "execution_count": 13,
     "metadata": {},
     "output_type": "execute_result"
    }
   ],
   "source": [
    "states.get('Density').loc['Pennsylvania']"
   ]
  },
  {
   "cell_type": "markdown",
   "metadata": {
    "slideshow": {
     "slide_type": "slide"
    }
   },
   "source": [
    "### Summary: Accessing elements of a DataFrame\n",
    "\n",
    "- First, `.get` the appropriate column as a Series.\n",
    "- Then, use one of two ways to access an element of a Series:\n",
    "    - `.iloc[]` uses the integer position.\n",
    "    - `.loc[]` uses the row label.\n",
    "    - Each is best for different scenarios."
   ]
  },
  {
   "cell_type": "code",
   "execution_count": 14,
   "metadata": {},
   "outputs": [
    {
     "data": {
      "text/plain": [
       "State\n",
       "Alabama           99.21\n",
       "Alaska             1.29\n",
       "Arizona           62.96\n",
       "                  ...  \n",
       "West Virginia     74.62\n",
       "Wisconsin        108.82\n",
       "Wyoming            5.94\n",
       "Name: Density, Length: 50, dtype: float64"
      ]
     },
     "execution_count": 14,
     "metadata": {},
     "output_type": "execute_result"
    }
   ],
   "source": [
    "states.get('Density')"
   ]
  },
  {
   "cell_type": "code",
   "execution_count": 15,
   "metadata": {},
   "outputs": [
    {
     "data": {
      "text/plain": [
       "62.956687853231685"
      ]
     },
     "execution_count": 15,
     "metadata": {},
     "output_type": "execute_result"
    }
   ],
   "source": [
    "states.get('Density').iloc[2]"
   ]
  },
  {
   "cell_type": "code",
   "execution_count": 16,
   "metadata": {},
   "outputs": [
    {
     "data": {
      "text/plain": [
       "62.956687853231685"
      ]
     },
     "execution_count": 16,
     "metadata": {},
     "output_type": "execute_result"
    }
   ],
   "source": [
    "states.get('Density').loc['Arizona']"
   ]
  },
  {
   "cell_type": "markdown",
   "metadata": {
    "slideshow": {
     "slide_type": "slide"
    }
   },
   "source": [
    "### Note\n",
    "\n",
    "- Sometimes the integer position and row label are the same.\n",
    "- This happens by default with `bpd.read_csv`."
   ]
  },
  {
   "cell_type": "code",
   "execution_count": 17,
   "metadata": {},
   "outputs": [
    {
     "data": {
      "text/html": [
       "<div>\n",
       "<style scoped>\n",
       "    .dataframe tbody tr th:only-of-type {\n",
       "        vertical-align: middle;\n",
       "    }\n",
       "\n",
       "    .dataframe tbody tr th {\n",
       "        vertical-align: top;\n",
       "    }\n",
       "\n",
       "    .dataframe thead th {\n",
       "        text-align: right;\n",
       "    }\n",
       "</style>\n",
       "<table border=\"1\" class=\"dataframe\">\n",
       "  <thead>\n",
       "    <tr style=\"text-align: right;\">\n",
       "      <th></th>\n",
       "      <th>State</th>\n",
       "      <th>Region</th>\n",
       "      <th>Capital City</th>\n",
       "      <th>Population</th>\n",
       "      <th>Land Area</th>\n",
       "      <th>Party</th>\n",
       "    </tr>\n",
       "  </thead>\n",
       "  <tbody>\n",
       "    <tr>\n",
       "      <th>0</th>\n",
       "      <td>Alabama</td>\n",
       "      <td>South</td>\n",
       "      <td>Montgomery</td>\n",
       "      <td>5024279</td>\n",
       "      <td>50645</td>\n",
       "      <td>Republican</td>\n",
       "    </tr>\n",
       "    <tr>\n",
       "      <th>1</th>\n",
       "      <td>Alaska</td>\n",
       "      <td>West</td>\n",
       "      <td>Juneau</td>\n",
       "      <td>733391</td>\n",
       "      <td>570641</td>\n",
       "      <td>Republican</td>\n",
       "    </tr>\n",
       "    <tr>\n",
       "      <th>2</th>\n",
       "      <td>Arizona</td>\n",
       "      <td>West</td>\n",
       "      <td>Phoenix</td>\n",
       "      <td>7151502</td>\n",
       "      <td>113594</td>\n",
       "      <td>Republican</td>\n",
       "    </tr>\n",
       "    <tr>\n",
       "      <th>...</th>\n",
       "      <td>...</td>\n",
       "      <td>...</td>\n",
       "      <td>...</td>\n",
       "      <td>...</td>\n",
       "      <td>...</td>\n",
       "      <td>...</td>\n",
       "    </tr>\n",
       "    <tr>\n",
       "      <th>47</th>\n",
       "      <td>West Virginia</td>\n",
       "      <td>South</td>\n",
       "      <td>Charleston</td>\n",
       "      <td>1793716</td>\n",
       "      <td>24038</td>\n",
       "      <td>Republican</td>\n",
       "    </tr>\n",
       "    <tr>\n",
       "      <th>48</th>\n",
       "      <td>Wisconsin</td>\n",
       "      <td>Midwest</td>\n",
       "      <td>Madison</td>\n",
       "      <td>5893718</td>\n",
       "      <td>54158</td>\n",
       "      <td>Republican</td>\n",
       "    </tr>\n",
       "    <tr>\n",
       "      <th>49</th>\n",
       "      <td>Wyoming</td>\n",
       "      <td>West</td>\n",
       "      <td>Cheyenne</td>\n",
       "      <td>576851</td>\n",
       "      <td>97093</td>\n",
       "      <td>Republican</td>\n",
       "    </tr>\n",
       "  </tbody>\n",
       "</table>\n",
       "<p>50 rows × 6 columns</p>\n",
       "</div>"
      ],
      "text/plain": [
       "            State   Region Capital City  Population  Land Area       Party\n",
       "0         Alabama    South   Montgomery     5024279      50645  Republican\n",
       "1          Alaska     West       Juneau      733391     570641  Republican\n",
       "2         Arizona     West      Phoenix     7151502     113594  Republican\n",
       "..            ...      ...          ...         ...        ...         ...\n",
       "47  West Virginia    South   Charleston     1793716      24038  Republican\n",
       "48      Wisconsin  Midwest      Madison     5893718      54158  Republican\n",
       "49        Wyoming     West     Cheyenne      576851      97093  Republican\n",
       "\n",
       "[50 rows x 6 columns]"
      ]
     },
     "execution_count": 17,
     "metadata": {},
     "output_type": "execute_result"
    }
   ],
   "source": [
    "bpd.read_csv('data/states.csv')"
   ]
  },
  {
   "cell_type": "code",
   "execution_count": 18,
   "metadata": {},
   "outputs": [
    {
     "data": {
      "text/plain": [
       "'Oklahoma City'"
      ]
     },
     "execution_count": 18,
     "metadata": {},
     "output_type": "execute_result"
    }
   ],
   "source": [
    "bpd.read_csv('data/states.csv').get('Capital City').loc[35]"
   ]
  },
  {
   "cell_type": "code",
   "execution_count": 19,
   "metadata": {},
   "outputs": [
    {
     "data": {
      "text/plain": [
       "'Oklahoma City'"
      ]
     },
     "execution_count": 19,
     "metadata": {},
     "output_type": "execute_result"
    }
   ],
   "source": [
    "bpd.read_csv('data/states.csv').get('Capital City').iloc[35]"
   ]
  },
  {
   "cell_type": "markdown",
   "metadata": {
    "slideshow": {
     "slide_type": "slide"
    }
   },
   "source": [
    "## Example 5: Which states are in the West?\n",
    "\n",
    "**Key concept**: Querying."
   ]
  },
  {
   "cell_type": "markdown",
   "metadata": {
    "slideshow": {
     "slide_type": "slide"
    }
   },
   "source": [
    "### The problem\n",
    "\n",
    "We want to create a DataFrame consisting of only the states whose `'Region'` is `'West'`. How do we do that?"
   ]
  },
  {
   "cell_type": "markdown",
   "metadata": {
    "slideshow": {
     "slide_type": "slide"
    }
   },
   "source": [
    "### The solution"
   ]
  },
  {
   "cell_type": "code",
   "execution_count": 20,
   "metadata": {},
   "outputs": [
    {
     "data": {
      "text/html": [
       "<div>\n",
       "<style scoped>\n",
       "    .dataframe tbody tr th:only-of-type {\n",
       "        vertical-align: middle;\n",
       "    }\n",
       "\n",
       "    .dataframe tbody tr th {\n",
       "        vertical-align: top;\n",
       "    }\n",
       "\n",
       "    .dataframe thead th {\n",
       "        text-align: right;\n",
       "    }\n",
       "</style>\n",
       "<table border=\"1\" class=\"dataframe\">\n",
       "  <thead>\n",
       "    <tr style=\"text-align: right;\">\n",
       "      <th></th>\n",
       "      <th>Region</th>\n",
       "      <th>Capital City</th>\n",
       "      <th>Population</th>\n",
       "      <th>Land Area</th>\n",
       "      <th>Party</th>\n",
       "      <th>Density</th>\n",
       "    </tr>\n",
       "    <tr>\n",
       "      <th>State</th>\n",
       "      <th></th>\n",
       "      <th></th>\n",
       "      <th></th>\n",
       "      <th></th>\n",
       "      <th></th>\n",
       "      <th></th>\n",
       "    </tr>\n",
       "  </thead>\n",
       "  <tbody>\n",
       "    <tr>\n",
       "      <th>Alaska</th>\n",
       "      <td>West</td>\n",
       "      <td>Juneau</td>\n",
       "      <td>733391</td>\n",
       "      <td>570641</td>\n",
       "      <td>Republican</td>\n",
       "      <td>1.29</td>\n",
       "    </tr>\n",
       "    <tr>\n",
       "      <th>Arizona</th>\n",
       "      <td>West</td>\n",
       "      <td>Phoenix</td>\n",
       "      <td>7151502</td>\n",
       "      <td>113594</td>\n",
       "      <td>Republican</td>\n",
       "      <td>62.96</td>\n",
       "    </tr>\n",
       "    <tr>\n",
       "      <th>California</th>\n",
       "      <td>West</td>\n",
       "      <td>Sacramento</td>\n",
       "      <td>39538223</td>\n",
       "      <td>155779</td>\n",
       "      <td>Democratic</td>\n",
       "      <td>253.81</td>\n",
       "    </tr>\n",
       "    <tr>\n",
       "      <th>...</th>\n",
       "      <td>...</td>\n",
       "      <td>...</td>\n",
       "      <td>...</td>\n",
       "      <td>...</td>\n",
       "      <td>...</td>\n",
       "      <td>...</td>\n",
       "    </tr>\n",
       "    <tr>\n",
       "      <th>Utah</th>\n",
       "      <td>West</td>\n",
       "      <td>Salt Lake City</td>\n",
       "      <td>3271616</td>\n",
       "      <td>82170</td>\n",
       "      <td>Republican</td>\n",
       "      <td>39.82</td>\n",
       "    </tr>\n",
       "    <tr>\n",
       "      <th>Washington</th>\n",
       "      <td>West</td>\n",
       "      <td>Olympia</td>\n",
       "      <td>7705281</td>\n",
       "      <td>66456</td>\n",
       "      <td>Democratic</td>\n",
       "      <td>115.95</td>\n",
       "    </tr>\n",
       "    <tr>\n",
       "      <th>Wyoming</th>\n",
       "      <td>West</td>\n",
       "      <td>Cheyenne</td>\n",
       "      <td>576851</td>\n",
       "      <td>97093</td>\n",
       "      <td>Republican</td>\n",
       "      <td>5.94</td>\n",
       "    </tr>\n",
       "  </tbody>\n",
       "</table>\n",
       "<p>13 rows × 6 columns</p>\n",
       "</div>"
      ],
      "text/plain": [
       "           Region    Capital City  Population  Land Area       Party  Density\n",
       "State                                                                        \n",
       "Alaska       West          Juneau      733391     570641  Republican     1.29\n",
       "Arizona      West         Phoenix     7151502     113594  Republican    62.96\n",
       "California   West      Sacramento    39538223     155779  Democratic   253.81\n",
       "...           ...             ...         ...        ...         ...      ...\n",
       "Utah         West  Salt Lake City     3271616      82170  Republican    39.82\n",
       "Washington   West         Olympia     7705281      66456  Democratic   115.95\n",
       "Wyoming      West        Cheyenne      576851      97093  Republican     5.94\n",
       "\n",
       "[13 rows x 6 columns]"
      ]
     },
     "execution_count": 20,
     "metadata": {},
     "output_type": "execute_result"
    }
   ],
   "source": [
    "# This DataFrame only contains rows where the 'Region' is 'West'!\n",
    "only_west = states[states.get('Region') == 'West']\n",
    "only_west"
   ]
  },
  {
   "cell_type": "markdown",
   "metadata": {
    "slideshow": {
     "slide_type": "fragment"
    }
   },
   "source": [
    "🤯 What just happened?"
   ]
  },
  {
   "cell_type": "markdown",
   "metadata": {
    "slideshow": {
     "slide_type": "slide"
    }
   },
   "source": [
    "### Aside: Booleans\n",
    "\n",
    "- When we compare two values, the result is either `True` or `False`.\n",
    "    - Notice, these words are **not** in quotes.\n",
    "- `bool` is a data type in Python, just like `int`, `float`, and `str`. \n",
    "    - It stands for \"Boolean\", named after George Boole, an early mathematician.\n",
    "- There are only two possible Boolean values: `True` or `False`.\n",
    "    - Yes or no.\n",
    "    - On or off.\n",
    "    - 1 or 0."
   ]
  },
  {
   "cell_type": "code",
   "execution_count": 21,
   "metadata": {
    "scrolled": true
   },
   "outputs": [
    {
     "data": {
      "text/plain": [
       "False"
      ]
     },
     "execution_count": 21,
     "metadata": {},
     "output_type": "execute_result"
    }
   ],
   "source": [
    "5 == 6"
   ]
  },
  {
   "cell_type": "code",
   "execution_count": 22,
   "metadata": {},
   "outputs": [
    {
     "data": {
      "text/plain": [
       "bool"
      ]
     },
     "execution_count": 22,
     "metadata": {},
     "output_type": "execute_result"
    }
   ],
   "source": [
    "type(5 == 6)"
   ]
  },
  {
   "cell_type": "code",
   "execution_count": 23,
   "metadata": {},
   "outputs": [
    {
     "data": {
      "text/plain": [
       "True"
      ]
     },
     "execution_count": 23,
     "metadata": {},
     "output_type": "execute_result"
    }
   ],
   "source": [
    "9 + 10 < 21"
   ]
  },
  {
   "cell_type": "markdown",
   "metadata": {
    "slideshow": {
     "slide_type": "slide"
    }
   },
   "source": [
    "### Comparison operators\n",
    "\n",
    "There are several types of comparisons we can make.\n",
    "\n",
    "|symbol|meaning|\n",
    "|--------|--------|\n",
    "|`==` |equal to |\n",
    "|`!=` |not equal to |\n",
    "|`<`|less than|\n",
    "|`<=`|less than or equal to|\n",
    "|`>`|greater than|\n",
    "|`>=`|greater than or equal to|\n",
    "\n",
    "When comparing an entire Series to a single value, the result is a Series of `bool`s (via broadcasting)."
   ]
  },
  {
   "cell_type": "code",
   "execution_count": 24,
   "metadata": {},
   "outputs": [
    {
     "data": {
      "text/html": [
       "<div>\n",
       "<style scoped>\n",
       "    .dataframe tbody tr th:only-of-type {\n",
       "        vertical-align: middle;\n",
       "    }\n",
       "\n",
       "    .dataframe tbody tr th {\n",
       "        vertical-align: top;\n",
       "    }\n",
       "\n",
       "    .dataframe thead th {\n",
       "        text-align: right;\n",
       "    }\n",
       "</style>\n",
       "<table border=\"1\" class=\"dataframe\">\n",
       "  <thead>\n",
       "    <tr style=\"text-align: right;\">\n",
       "      <th></th>\n",
       "      <th>Region</th>\n",
       "      <th>Capital City</th>\n",
       "      <th>Population</th>\n",
       "      <th>Land Area</th>\n",
       "      <th>Party</th>\n",
       "      <th>Density</th>\n",
       "    </tr>\n",
       "    <tr>\n",
       "      <th>State</th>\n",
       "      <th></th>\n",
       "      <th></th>\n",
       "      <th></th>\n",
       "      <th></th>\n",
       "      <th></th>\n",
       "      <th></th>\n",
       "    </tr>\n",
       "  </thead>\n",
       "  <tbody>\n",
       "    <tr>\n",
       "      <th>Alabama</th>\n",
       "      <td>South</td>\n",
       "      <td>Montgomery</td>\n",
       "      <td>5024279</td>\n",
       "      <td>50645</td>\n",
       "      <td>Republican</td>\n",
       "      <td>99.21</td>\n",
       "    </tr>\n",
       "    <tr>\n",
       "      <th>Alaska</th>\n",
       "      <td>West</td>\n",
       "      <td>Juneau</td>\n",
       "      <td>733391</td>\n",
       "      <td>570641</td>\n",
       "      <td>Republican</td>\n",
       "      <td>1.29</td>\n",
       "    </tr>\n",
       "    <tr>\n",
       "      <th>Arizona</th>\n",
       "      <td>West</td>\n",
       "      <td>Phoenix</td>\n",
       "      <td>7151502</td>\n",
       "      <td>113594</td>\n",
       "      <td>Republican</td>\n",
       "      <td>62.96</td>\n",
       "    </tr>\n",
       "    <tr>\n",
       "      <th>...</th>\n",
       "      <td>...</td>\n",
       "      <td>...</td>\n",
       "      <td>...</td>\n",
       "      <td>...</td>\n",
       "      <td>...</td>\n",
       "      <td>...</td>\n",
       "    </tr>\n",
       "    <tr>\n",
       "      <th>West Virginia</th>\n",
       "      <td>South</td>\n",
       "      <td>Charleston</td>\n",
       "      <td>1793716</td>\n",
       "      <td>24038</td>\n",
       "      <td>Republican</td>\n",
       "      <td>74.62</td>\n",
       "    </tr>\n",
       "    <tr>\n",
       "      <th>Wisconsin</th>\n",
       "      <td>Midwest</td>\n",
       "      <td>Madison</td>\n",
       "      <td>5893718</td>\n",
       "      <td>54158</td>\n",
       "      <td>Republican</td>\n",
       "      <td>108.82</td>\n",
       "    </tr>\n",
       "    <tr>\n",
       "      <th>Wyoming</th>\n",
       "      <td>West</td>\n",
       "      <td>Cheyenne</td>\n",
       "      <td>576851</td>\n",
       "      <td>97093</td>\n",
       "      <td>Republican</td>\n",
       "      <td>5.94</td>\n",
       "    </tr>\n",
       "  </tbody>\n",
       "</table>\n",
       "<p>50 rows × 6 columns</p>\n",
       "</div>"
      ],
      "text/plain": [
       "                Region Capital City  Population  Land Area       Party  \\\n",
       "State                                                                    \n",
       "Alabama          South   Montgomery     5024279      50645  Republican   \n",
       "Alaska            West       Juneau      733391     570641  Republican   \n",
       "Arizona           West      Phoenix     7151502     113594  Republican   \n",
       "...                ...          ...         ...        ...         ...   \n",
       "West Virginia    South   Charleston     1793716      24038  Republican   \n",
       "Wisconsin      Midwest      Madison     5893718      54158  Republican   \n",
       "Wyoming           West     Cheyenne      576851      97093  Republican   \n",
       "\n",
       "               Density  \n",
       "State                   \n",
       "Alabama          99.21  \n",
       "Alaska            1.29  \n",
       "Arizona          62.96  \n",
       "...                ...  \n",
       "West Virginia    74.62  \n",
       "Wisconsin       108.82  \n",
       "Wyoming           5.94  \n",
       "\n",
       "[50 rows x 6 columns]"
      ]
     },
     "execution_count": 24,
     "metadata": {},
     "output_type": "execute_result"
    }
   ],
   "source": [
    "states"
   ]
  },
  {
   "cell_type": "code",
   "execution_count": 25,
   "metadata": {
    "scrolled": true
   },
   "outputs": [
    {
     "data": {
      "text/plain": [
       "State\n",
       "Alabama          False\n",
       "Alaska            True\n",
       "Arizona           True\n",
       "                 ...  \n",
       "West Virginia    False\n",
       "Wisconsin        False\n",
       "Wyoming           True\n",
       "Name: Region, Length: 50, dtype: bool"
      ]
     },
     "execution_count": 25,
     "metadata": {},
     "output_type": "execute_result"
    }
   ],
   "source": [
    "states.get('Region') == 'West'"
   ]
  },
  {
   "cell_type": "markdown",
   "metadata": {
    "slideshow": {
     "slide_type": "slide"
    }
   },
   "source": [
    "### What is a query? 🤔\n",
    "\n",
    "- A *query* is code that extracts rows from a DataFrame for which certain condition(s) are true.\n",
    "- We use queries to *filter* DataFrames to contain only the rows that satisfy given conditions."
   ]
  },
  {
   "cell_type": "markdown",
   "metadata": {
    "slideshow": {
     "slide_type": "slide"
    }
   },
   "source": [
    "### How do we query a DataFrame?\n",
    "\n",
    "To select only certain rows of `states`:\n",
    "\n",
    "1. Make a sequence (list/array/Series) of `True`s (keep) and `False`s (discard), usually by making a comparison.\n",
    "2. Then pass it into `states[sequence_goes_here]`."
   ]
  },
  {
   "cell_type": "code",
   "execution_count": 26,
   "metadata": {},
   "outputs": [],
   "source": [
    "# Query for where the 'Region' is 'West'"
   ]
  },
  {
   "cell_type": "markdown",
   "metadata": {
    "slideshow": {
     "slide_type": "slide"
    }
   },
   "source": [
    "### What if the condition isn't satisfied?"
   ]
  },
  {
   "cell_type": "code",
   "execution_count": 27,
   "metadata": {},
   "outputs": [
    {
     "data": {
      "text/html": [
       "<div>\n",
       "<style scoped>\n",
       "    .dataframe tbody tr th:only-of-type {\n",
       "        vertical-align: middle;\n",
       "    }\n",
       "\n",
       "    .dataframe tbody tr th {\n",
       "        vertical-align: top;\n",
       "    }\n",
       "\n",
       "    .dataframe thead th {\n",
       "        text-align: right;\n",
       "    }\n",
       "</style>\n",
       "<table border=\"1\" class=\"dataframe\">\n",
       "  <thead>\n",
       "    <tr style=\"text-align: right;\">\n",
       "      <th></th>\n",
       "      <th>Region</th>\n",
       "      <th>Capital City</th>\n",
       "      <th>Population</th>\n",
       "      <th>Land Area</th>\n",
       "      <th>Party</th>\n",
       "      <th>Density</th>\n",
       "    </tr>\n",
       "    <tr>\n",
       "      <th>State</th>\n",
       "      <th></th>\n",
       "      <th></th>\n",
       "      <th></th>\n",
       "      <th></th>\n",
       "      <th></th>\n",
       "      <th></th>\n",
       "    </tr>\n",
       "  </thead>\n",
       "  <tbody>\n",
       "  </tbody>\n",
       "</table>\n",
       "</div>"
      ],
      "text/plain": [
       "Empty DataFrame\n",
       "Columns: [Region, Capital City, Population, Land Area, Party, Density]\n",
       "Index: []"
      ]
     },
     "execution_count": 27,
     "metadata": {},
     "output_type": "execute_result"
    }
   ],
   "source": [
    "states[states.get('Region') == 'Pacific Northwest']"
   ]
  },
  {
   "cell_type": "markdown",
   "metadata": {
    "slideshow": {
     "slide_type": "slide"
    }
   },
   "source": [
    "## Example 6: What proportion of US states are Republican?\n",
    "\n",
    "**Key concept**: Shape of a DataFrame. "
   ]
  },
  {
   "cell_type": "markdown",
   "metadata": {
    "slideshow": {
     "slide_type": "fragment"
    }
   },
   "source": [
    "##### Strategy\n",
    "1. Query to extract a DataFrame of just the states where the `'Party'` is `'Republican'`.\n",
    "2. Count the number of such states.\n",
    "3. Divide by the total number of states."
   ]
  },
  {
   "cell_type": "code",
   "execution_count": 28,
   "metadata": {},
   "outputs": [
    {
     "data": {
      "text/plain": [
       "Ellipsis"
      ]
     },
     "execution_count": 28,
     "metadata": {},
     "output_type": "execute_result"
    }
   ],
   "source": [
    "only_rep = ...\n",
    "only_rep"
   ]
  },
  {
   "cell_type": "markdown",
   "metadata": {
    "slideshow": {
     "slide_type": "slide"
    }
   },
   "source": [
    "### Shape of a DataFrame\n",
    "\n",
    "- `.shape` returns the number of rows and columns in a given DataFrame.\n",
    "    - `.shape` is not a method, so we **don't use parentheses**.\n",
    "    - `.shape` is an *attribute*, as it describes the DataFrame.\n",
    "- Access each with `[]`: \n",
    "    - `.shape[0]` for rows.\n",
    "    - `.shape[1]` for columns."
   ]
  },
  {
   "cell_type": "code",
   "execution_count": 29,
   "metadata": {},
   "outputs": [
    {
     "ename": "AttributeError",
     "evalue": "'ellipsis' object has no attribute 'shape'",
     "output_type": "error",
     "traceback": [
      "\u001b[0;31m---------------------------------------------------------------------------\u001b[0m",
      "\u001b[0;31mAttributeError\u001b[0m                            Traceback (most recent call last)",
      "Cell \u001b[0;32mIn[29], line 1\u001b[0m\n\u001b[0;32m----> 1\u001b[0m \u001b[43monly_rep\u001b[49m\u001b[38;5;241;43m.\u001b[39;49m\u001b[43mshape\u001b[49m\n",
      "\u001b[0;31mAttributeError\u001b[0m: 'ellipsis' object has no attribute 'shape'"
     ]
    }
   ],
   "source": [
    "only_rep.shape"
   ]
  },
  {
   "cell_type": "code",
   "execution_count": 30,
   "metadata": {},
   "outputs": [],
   "source": [
    "# Number of rows.\n"
   ]
  },
  {
   "cell_type": "code",
   "execution_count": 31,
   "metadata": {},
   "outputs": [],
   "source": [
    "# Number of columns.\n"
   ]
  },
  {
   "cell_type": "code",
   "execution_count": 32,
   "metadata": {},
   "outputs": [],
   "source": [
    "# What proportion of US states are Republican?\n"
   ]
  },
  {
   "cell_type": "markdown",
   "metadata": {
    "slideshow": {
     "slide_type": "slide"
    }
   },
   "source": [
    "## Example 7: Which Midwestern state has the most land area?\n",
    "\n",
    "**Key concepts**: Working with the index. Combining multiple steps."
   ]
  },
  {
   "cell_type": "markdown",
   "metadata": {
    "slideshow": {
     "slide_type": "fragment"
    }
   },
   "source": [
    "##### Strategy\n",
    "1. Query to extract a DataFrame of just the states in the `'Midwest'`.\n",
    "2. Sort by `'Land Area'` in descending order.\n",
    "3. Extract the first element from the index."
   ]
  },
  {
   "cell_type": "code",
   "execution_count": 33,
   "metadata": {},
   "outputs": [
    {
     "data": {
      "text/html": [
       "<div>\n",
       "<style scoped>\n",
       "    .dataframe tbody tr th:only-of-type {\n",
       "        vertical-align: middle;\n",
       "    }\n",
       "\n",
       "    .dataframe tbody tr th {\n",
       "        vertical-align: top;\n",
       "    }\n",
       "\n",
       "    .dataframe thead th {\n",
       "        text-align: right;\n",
       "    }\n",
       "</style>\n",
       "<table border=\"1\" class=\"dataframe\">\n",
       "  <thead>\n",
       "    <tr style=\"text-align: right;\">\n",
       "      <th></th>\n",
       "      <th>Region</th>\n",
       "      <th>Capital City</th>\n",
       "      <th>Population</th>\n",
       "      <th>Land Area</th>\n",
       "      <th>Party</th>\n",
       "      <th>Density</th>\n",
       "    </tr>\n",
       "    <tr>\n",
       "      <th>State</th>\n",
       "      <th></th>\n",
       "      <th></th>\n",
       "      <th></th>\n",
       "      <th></th>\n",
       "      <th></th>\n",
       "      <th></th>\n",
       "    </tr>\n",
       "  </thead>\n",
       "  <tbody>\n",
       "    <tr>\n",
       "      <th>Illinois</th>\n",
       "      <td>Midwest</td>\n",
       "      <td>Springfield</td>\n",
       "      <td>12812508</td>\n",
       "      <td>55519</td>\n",
       "      <td>Democratic</td>\n",
       "      <td>230.78</td>\n",
       "    </tr>\n",
       "    <tr>\n",
       "      <th>Indiana</th>\n",
       "      <td>Midwest</td>\n",
       "      <td>Indianapolis</td>\n",
       "      <td>6785528</td>\n",
       "      <td>35826</td>\n",
       "      <td>Republican</td>\n",
       "      <td>189.40</td>\n",
       "    </tr>\n",
       "    <tr>\n",
       "      <th>Iowa</th>\n",
       "      <td>Midwest</td>\n",
       "      <td>Des Moines</td>\n",
       "      <td>3190369</td>\n",
       "      <td>55857</td>\n",
       "      <td>Republican</td>\n",
       "      <td>57.12</td>\n",
       "    </tr>\n",
       "    <tr>\n",
       "      <th>...</th>\n",
       "      <td>...</td>\n",
       "      <td>...</td>\n",
       "      <td>...</td>\n",
       "      <td>...</td>\n",
       "      <td>...</td>\n",
       "      <td>...</td>\n",
       "    </tr>\n",
       "    <tr>\n",
       "      <th>Ohio</th>\n",
       "      <td>Midwest</td>\n",
       "      <td>Columbus</td>\n",
       "      <td>11799448</td>\n",
       "      <td>40861</td>\n",
       "      <td>Republican</td>\n",
       "      <td>288.77</td>\n",
       "    </tr>\n",
       "    <tr>\n",
       "      <th>South Dakota</th>\n",
       "      <td>Midwest</td>\n",
       "      <td>Pierre</td>\n",
       "      <td>886667</td>\n",
       "      <td>75811</td>\n",
       "      <td>Republican</td>\n",
       "      <td>11.70</td>\n",
       "    </tr>\n",
       "    <tr>\n",
       "      <th>Wisconsin</th>\n",
       "      <td>Midwest</td>\n",
       "      <td>Madison</td>\n",
       "      <td>5893718</td>\n",
       "      <td>54158</td>\n",
       "      <td>Republican</td>\n",
       "      <td>108.82</td>\n",
       "    </tr>\n",
       "  </tbody>\n",
       "</table>\n",
       "<p>12 rows × 6 columns</p>\n",
       "</div>"
      ],
      "text/plain": [
       "               Region  Capital City  Population  Land Area       Party  \\\n",
       "State                                                                    \n",
       "Illinois      Midwest   Springfield    12812508      55519  Democratic   \n",
       "Indiana       Midwest  Indianapolis     6785528      35826  Republican   \n",
       "Iowa          Midwest    Des Moines     3190369      55857  Republican   \n",
       "...               ...           ...         ...        ...         ...   \n",
       "Ohio          Midwest      Columbus    11799448      40861  Republican   \n",
       "South Dakota  Midwest        Pierre      886667      75811  Republican   \n",
       "Wisconsin     Midwest       Madison     5893718      54158  Republican   \n",
       "\n",
       "              Density  \n",
       "State                  \n",
       "Illinois       230.78  \n",
       "Indiana        189.40  \n",
       "Iowa            57.12  \n",
       "...               ...  \n",
       "Ohio           288.77  \n",
       "South Dakota    11.70  \n",
       "Wisconsin      108.82  \n",
       "\n",
       "[12 rows x 6 columns]"
      ]
     },
     "execution_count": 33,
     "metadata": {},
     "output_type": "execute_result"
    }
   ],
   "source": [
    "midwest = states[states.get('Region') == 'Midwest']\n",
    "midwest"
   ]
  },
  {
   "cell_type": "code",
   "execution_count": 34,
   "metadata": {},
   "outputs": [
    {
     "data": {
      "text/html": [
       "<div>\n",
       "<style scoped>\n",
       "    .dataframe tbody tr th:only-of-type {\n",
       "        vertical-align: middle;\n",
       "    }\n",
       "\n",
       "    .dataframe tbody tr th {\n",
       "        vertical-align: top;\n",
       "    }\n",
       "\n",
       "    .dataframe thead th {\n",
       "        text-align: right;\n",
       "    }\n",
       "</style>\n",
       "<table border=\"1\" class=\"dataframe\">\n",
       "  <thead>\n",
       "    <tr style=\"text-align: right;\">\n",
       "      <th></th>\n",
       "      <th>Region</th>\n",
       "      <th>Capital City</th>\n",
       "      <th>Population</th>\n",
       "      <th>Land Area</th>\n",
       "      <th>Party</th>\n",
       "      <th>Density</th>\n",
       "    </tr>\n",
       "    <tr>\n",
       "      <th>State</th>\n",
       "      <th></th>\n",
       "      <th></th>\n",
       "      <th></th>\n",
       "      <th></th>\n",
       "      <th></th>\n",
       "      <th></th>\n",
       "    </tr>\n",
       "  </thead>\n",
       "  <tbody>\n",
       "    <tr>\n",
       "      <th>Kansas</th>\n",
       "      <td>Midwest</td>\n",
       "      <td>Topeka</td>\n",
       "      <td>2937880</td>\n",
       "      <td>81759</td>\n",
       "      <td>Republican</td>\n",
       "      <td>35.93</td>\n",
       "    </tr>\n",
       "    <tr>\n",
       "      <th>Minnesota</th>\n",
       "      <td>Midwest</td>\n",
       "      <td>Saint Paul</td>\n",
       "      <td>5706494</td>\n",
       "      <td>79627</td>\n",
       "      <td>Democratic</td>\n",
       "      <td>71.67</td>\n",
       "    </tr>\n",
       "    <tr>\n",
       "      <th>Nebraska</th>\n",
       "      <td>Midwest</td>\n",
       "      <td>Lincoln</td>\n",
       "      <td>1961504</td>\n",
       "      <td>76824</td>\n",
       "      <td>Republican</td>\n",
       "      <td>25.53</td>\n",
       "    </tr>\n",
       "    <tr>\n",
       "      <th>...</th>\n",
       "      <td>...</td>\n",
       "      <td>...</td>\n",
       "      <td>...</td>\n",
       "      <td>...</td>\n",
       "      <td>...</td>\n",
       "      <td>...</td>\n",
       "    </tr>\n",
       "    <tr>\n",
       "      <th>Wisconsin</th>\n",
       "      <td>Midwest</td>\n",
       "      <td>Madison</td>\n",
       "      <td>5893718</td>\n",
       "      <td>54158</td>\n",
       "      <td>Republican</td>\n",
       "      <td>108.82</td>\n",
       "    </tr>\n",
       "    <tr>\n",
       "      <th>Ohio</th>\n",
       "      <td>Midwest</td>\n",
       "      <td>Columbus</td>\n",
       "      <td>11799448</td>\n",
       "      <td>40861</td>\n",
       "      <td>Republican</td>\n",
       "      <td>288.77</td>\n",
       "    </tr>\n",
       "    <tr>\n",
       "      <th>Indiana</th>\n",
       "      <td>Midwest</td>\n",
       "      <td>Indianapolis</td>\n",
       "      <td>6785528</td>\n",
       "      <td>35826</td>\n",
       "      <td>Republican</td>\n",
       "      <td>189.40</td>\n",
       "    </tr>\n",
       "  </tbody>\n",
       "</table>\n",
       "<p>12 rows × 6 columns</p>\n",
       "</div>"
      ],
      "text/plain": [
       "            Region  Capital City  Population  Land Area       Party  Density\n",
       "State                                                                       \n",
       "Kansas     Midwest        Topeka     2937880      81759  Republican    35.93\n",
       "Minnesota  Midwest    Saint Paul     5706494      79627  Democratic    71.67\n",
       "Nebraska   Midwest       Lincoln     1961504      76824  Republican    25.53\n",
       "...            ...           ...         ...        ...         ...      ...\n",
       "Wisconsin  Midwest       Madison     5893718      54158  Republican   108.82\n",
       "Ohio       Midwest      Columbus    11799448      40861  Republican   288.77\n",
       "Indiana    Midwest  Indianapolis     6785528      35826  Republican   189.40\n",
       "\n",
       "[12 rows x 6 columns]"
      ]
     },
     "execution_count": 34,
     "metadata": {},
     "output_type": "execute_result"
    }
   ],
   "source": [
    "midwest_sorted = midwest.sort_values(by='Land Area', ascending=False)\n",
    "midwest_sorted"
   ]
  },
  {
   "cell_type": "markdown",
   "metadata": {
    "slideshow": {
     "slide_type": "fragment"
    }
   },
   "source": [
    "- The answer is Kansas, but how do we get it in code?"
   ]
  },
  {
   "cell_type": "code",
   "execution_count": null,
   "metadata": {},
   "outputs": [],
   "source": [
    "midwest_sorted.get('State').iloc[0]"
   ]
  },
  {
   "cell_type": "markdown",
   "metadata": {
    "slideshow": {
     "slide_type": "slide"
    }
   },
   "source": [
    "### Working with the index\n",
    "\n",
    "- We can't use `.get` because `.get` is only for columns, and there is no column called `'State'`. \n",
    "    - Instead, `'State'` is the index of the DataFrame. \n",
    "- To extract the index of a DataFrame, use `.index`.\n",
    "    - Like `.shape`, this is an attribute of the DataFrame, not a method. Don't use parentheses.  \n",
    "- Access particular elements in the index with `[]`."
   ]
  },
  {
   "cell_type": "code",
   "execution_count": null,
   "metadata": {},
   "outputs": [],
   "source": [
    "# Use midwest_sorted to answer the question"
   ]
  },
  {
   "cell_type": "markdown",
   "metadata": {
    "slideshow": {
     "slide_type": "slide"
    }
   },
   "source": [
    "### Combining multiple steps\n",
    "\n",
    "- It is not necessary to define the intermediate variables `midwest` and `midwest_sorted`. We can do everything in one line of code.\n",
    "\n",
    "- When solving a multi-step problem, develop your solution incrementally. Write one piece of code at a time and run it."
   ]
  },
  {
   "cell_type": "code",
   "execution_count": null,
   "metadata": {},
   "outputs": [],
   "source": [
    "# Full answer, which you should build up one step at a time.\n",
    "states[states.get('Region') == 'Midwest'].sort_values(by='Land Area', ascending=False).index[0]"
   ]
  },
  {
   "cell_type": "markdown",
   "metadata": {
    "slideshow": {
     "slide_type": "fragment"
    }
   },
   "source": [
    "- If a line of code gets too long, enclose it in parentheses to split it over multiple lines."
   ]
  },
  {
   "cell_type": "code",
   "execution_count": null,
   "metadata": {},
   "outputs": [],
   "source": [
    "# You can space your code out like this if needed.\n",
    "(\n",
    "    states[states.get('Region') == 'Midwest']\n",
    "    .sort_values(by='Land Area', ascending=False)\n",
    "    .index[0]\n",
    ")"
   ]
  },
  {
   "cell_type": "markdown",
   "metadata": {
    "slideshow": {
     "slide_type": "slide"
    }
   },
   "source": [
    "### Concept Check ✅ – Answer at [cc.dsc10.com](http://cc.dsc10.com) \n",
    "\n",
    "Which expression below evaluates to **the total population of the `'West'`**?\n",
    "\n",
    "A. `states[states.get('Region') == 'West'].get('Population').sum()`\n",
    "\n",
    "B. `states.get('Population').sum()[states.get('Region') == 'West']`\n",
    "\n",
    "C. `states['West'].get('Population').sum()`\n",
    "   \n",
    "D. More than one of the above."
   ]
  },
  {
   "cell_type": "code",
   "execution_count": null,
   "metadata": {},
   "outputs": [],
   "source": [
    "..."
   ]
  },
  {
   "cell_type": "markdown",
   "metadata": {
    "slideshow": {
     "slide_type": "slide"
    }
   },
   "source": [
    "## Example 8: What are the top three most-populated Republican states in the South?\n",
    "\n",
    "**Key concepts**: Queries with multiple conditions. Selecting rows by position."
   ]
  },
  {
   "cell_type": "markdown",
   "metadata": {
    "slideshow": {
     "slide_type": "slide"
    }
   },
   "source": [
    "### Multiple conditions\n",
    "\n",
    "- To write a query with multiple conditions, use `&` for \"and\" and `|` for \"or\".\n",
    "    - `&`: All conditions must be true.\n",
    "    - `|`: At least one condition must be true.\n",
    "- **You must use `(`parentheses`)` around each condition!**\n",
    "- 🚨 Don't use the Python keywords `and` and `or` here! They do not behave as you'd want.\n",
    "    - See [BPD 10.3](https://notes.dsc10.com/02-data_sets/querying.html#multiple-conditions) for an explanation."
   ]
  },
  {
   "cell_type": "code",
   "execution_count": null,
   "metadata": {
    "scrolled": false
   },
   "outputs": [],
   "source": [
    "states[(states.get('Party') == 'Republican') & (states.get('Region') == 'South')]"
   ]
  },
  {
   "cell_type": "code",
   "execution_count": null,
   "metadata": {
    "scrolled": true
   },
   "outputs": [],
   "source": [
    "# You can also add line breaks within brackets.\n",
    "states[(states.get('Party') == 'Republican') & \n",
    "       (states.get('Region') == 'South')]"
   ]
  },
  {
   "cell_type": "markdown",
   "metadata": {
    "slideshow": {
     "slide_type": "slide"
    }
   },
   "source": [
    "### The `&` and `|` operators work element-wise!"
   ]
  },
  {
   "cell_type": "code",
   "execution_count": null,
   "metadata": {},
   "outputs": [],
   "source": [
    "(states.get('Party') == 'Republican')"
   ]
  },
  {
   "cell_type": "code",
   "execution_count": null,
   "metadata": {},
   "outputs": [],
   "source": [
    "(states.get('Region') == 'South')"
   ]
  },
  {
   "cell_type": "code",
   "execution_count": null,
   "metadata": {},
   "outputs": [],
   "source": [
    "(states.get('Party') == 'Republican') & (states.get('Region') == 'South')"
   ]
  },
  {
   "cell_type": "markdown",
   "metadata": {
    "slideshow": {
     "slide_type": "slide"
    }
   },
   "source": [
    "### Original Question: What are the top three most-populated Republican states in the South?"
   ]
  },
  {
   "cell_type": "code",
   "execution_count": null,
   "metadata": {
    "scrolled": false
   },
   "outputs": [],
   "source": [
    "(\n",
    "    states[(states.get('Party') == 'Republican') & \n",
    "       (states.get('Region') == 'South')]\n",
    "    .sort_values(by='Population', ascending=False)\n",
    ")"
   ]
  },
  {
   "cell_type": "markdown",
   "metadata": {
    "slideshow": {
     "slide_type": "fragment"
    }
   },
   "source": [
    "How do we extract the first three rows of this DataFrame?"
   ]
  },
  {
   "cell_type": "markdown",
   "metadata": {
    "slideshow": {
     "slide_type": "slide"
    }
   },
   "source": [
    "### Using `.take` to select rows by position\n",
    "\n",
    "- Querying allows us to select rows that satisfy a certain _condition_.\n",
    "- We can also select rows in specific _positions_ with `.take(seqence_of_integer_positions)`. This keeps only the rows whose positions are in the specified sequence (list/array).\n",
    "    - This is analogous to using `.iloc[]` on a Series.\n",
    "    - It's rare to need to select rows by integer position. Querying is **far** more useful."
   ]
  },
  {
   "cell_type": "code",
   "execution_count": null,
   "metadata": {},
   "outputs": [],
   "source": [
    "(\n",
    "    states[(states.get('Party') == 'Republican') & \n",
    "       (states.get('Region')=='South')]\n",
    "    .sort_values(by='Population', ascending=False)\n",
    "    .take([0, 1, 2])\n",
    ")"
   ]
  },
  {
   "cell_type": "markdown",
   "metadata": {
    "slideshow": {
     "slide_type": "fragment"
    }
   },
   "source": [
    "- `.take(np.arange(3))` could equivalently be used in place of `.take([0, 1, 2])`."
   ]
  },
  {
   "cell_type": "markdown",
   "metadata": {
    "slideshow": {
     "slide_type": "slide"
    }
   },
   "source": [
    "### Extra Practice\n",
    "\n",
    "Write code to answer each question below. \n",
    "\n",
    "1. What is the capital city of the state in the `'West'` with the largest land area?\n",
    "1. How many states in the `'Northeast'` have more land area than an average US state?\n",
    "1. What is the total population of the `'Midwest'`, `'South'`, and `'Northeast`?\n",
    "\n",
    "<details>\n",
    "    <summary>✅ Click <b>here</b> to see the answers <b>after</b> you've attempted the problems on your own.</summary>\n",
    "\n",
    "1. What is the capital city of the state in the West with the largest land area?\n",
    "\n",
    "<pre>\n",
    "states[states.get('Region') == 'West'].sort_values(by='Land Area', ascending=False).get('Capital City').iloc[0]\n",
    "</pre>\n",
    "\n",
    "2. How many states in the Northeast have more land area than an average US state?\n",
    "\n",
    "<pre>\n",
    "states[(states.get('Region') == 'Northeast') & \n",
    "       (states.get('Land Area') > states.get('Land Area').mean())].shape[0]\n",
    "</pre>\n",
    "     \n",
    "3. What is the total population of the Midwest, South, and Northeast?\n",
    "\n",
    "<pre>\n",
    "states[(states.get('Region') == 'Midwest') | \n",
    "       (states.get('Region') == 'South') | \n",
    "       (states.get('Region') == 'Northeast')].get('Population').sum()\n",
    "</pre>\n",
    "&nbsp;&nbsp;&nbsp;&nbsp; Alternate solution to 3:\n",
    "\n",
    "<pre>\n",
    "states.get('Population').sum() - states[states.get('Region') == 'West'].get('Population').sum()\n",
    "</pre>\n",
    "        \n",
    "</details>"
   ]
  },
  {
   "cell_type": "code",
   "execution_count": null,
   "metadata": {},
   "outputs": [],
   "source": [
    "..."
   ]
  },
  {
   "cell_type": "markdown",
   "metadata": {
    "slideshow": {
     "slide_type": "slide"
    }
   },
   "source": [
    "## Example 9: Which region is most populated?\n",
    "\n",
    "**Key concept**: Grouping by one column."
   ]
  },
  {
   "cell_type": "markdown",
   "metadata": {
    "slideshow": {
     "slide_type": "slide"
    }
   },
   "source": [
    "### Organizing states by region\n",
    "\n",
    "We can find the total population of any one region using the tools we already have."
   ]
  },
  {
   "cell_type": "code",
   "execution_count": null,
   "metadata": {
    "scrolled": true,
    "slideshow": {
     "slide_type": "fragment"
    }
   },
   "outputs": [],
   "source": [
    "states[states.get('Region') == 'West'].get('Population').sum()"
   ]
  },
  {
   "cell_type": "code",
   "execution_count": null,
   "metadata": {
    "slideshow": {
     "slide_type": "fragment"
    }
   },
   "outputs": [],
   "source": [
    "states[states.get('Region') == 'Midwest'].get('Population').sum()"
   ]
  },
  {
   "cell_type": "markdown",
   "metadata": {
    "slideshow": {
     "slide_type": "fragment"
    }
   },
   "source": [
    "But can we find the total population of **every** region all at the same time, without writing very similar code multiple times? Yes, there is a better way!"
   ]
  },
  {
   "cell_type": "markdown",
   "metadata": {
    "slideshow": {
     "slide_type": "slide"
    }
   },
   "source": [
    "### A new method: `.groupby`\n",
    "\n",
    "Observe what happens when we use the `.groupby` method on `states` with the argument `'Region'`."
   ]
  },
  {
   "cell_type": "code",
   "execution_count": null,
   "metadata": {
    "slideshow": {
     "slide_type": "-"
    }
   },
   "outputs": [],
   "source": [
    "states.groupby('Region').sum()"
   ]
  },
  {
   "cell_type": "markdown",
   "metadata": {
    "slideshow": {
     "slide_type": "fragment"
    }
   },
   "source": [
    "These populations (for the `'West'` and `'Midwest'`) match the ones we found on the previous slide, except now we get the populations for all regions at the same time. What just happened? 🤯"
   ]
  },
  {
   "cell_type": "markdown",
   "metadata": {
    "slideshow": {
     "slide_type": "slide"
    }
   },
   "source": [
    "### An illustrative example: Pets 🐱 🐶🐹\n",
    "\n",
    "Consider the DataFrame `pets`, shown below.\n",
    "\n",
    "<table border=\"1\" class=\"dataframe\">\n",
    "  <thead>\n",
    "    <tr style=\"text-align: right;\">\n",
    "      <th></th>\n",
    "      <th>Species</th>\n",
    "      <th>Color</th>\n",
    "      <th>Weight</th>\n",
    "      <th>Age</th>\n",
    "    </tr>\n",
    "  </thead>\n",
    "  <tbody>\n",
    "    <tr>\n",
    "      <th>0</th>\n",
    "      <td>dog</td>\n",
    "      <td>black</td>\n",
    "      <td>40</td>\n",
    "      <td>5.0</td>\n",
    "    </tr>\n",
    "    <tr>\n",
    "      <th>1</th>\n",
    "      <td>cat</td>\n",
    "      <td>golden</td>\n",
    "      <td>15</td>\n",
    "      <td>8.0</td>\n",
    "    </tr>\n",
    "    <tr>\n",
    "      <th>2</th>\n",
    "      <td>cat</td>\n",
    "      <td>black</td>\n",
    "      <td>20</td>\n",
    "      <td>9.0</td>\n",
    "    </tr>\n",
    "    <tr>\n",
    "      <th>3</th>\n",
    "      <td>dog</td>\n",
    "      <td>white</td>\n",
    "      <td>80</td>\n",
    "      <td>2.0</td>\n",
    "    </tr>\n",
    "    <tr>\n",
    "      <th>4</th>\n",
    "      <td>dog</td>\n",
    "      <td>golden</td>\n",
    "      <td>25</td>\n",
    "      <td>0.5</td>\n",
    "    </tr>\n",
    "    <tr>\n",
    "      <th>5</th>\n",
    "      <td>hamster</td>\n",
    "      <td>golden</td>\n",
    "      <td>1</td>\n",
    "      <td>3.0</td>\n",
    "    </tr>\n",
    "  </tbody>\n",
    "</table>\n",
    "\n",
    "Let's see what happens under the hood when we run `pets.groupby('Species').mean()`.\n"
   ]
  },
  {
   "cell_type": "code",
   "execution_count": null,
   "metadata": {
    "slideshow": {
     "slide_type": "slide"
    }
   },
   "outputs": [],
   "source": [
    "show_grouping_animation()"
   ]
  },
  {
   "cell_type": "markdown",
   "metadata": {
    "slideshow": {
     "slide_type": "slide"
    }
   },
   "source": [
    "### Let's try it out!"
   ]
  },
  {
   "cell_type": "code",
   "execution_count": null,
   "metadata": {},
   "outputs": [],
   "source": [
    "pets = bpd.DataFrame().assign(\n",
    "    Species=['dog', 'cat', 'cat', 'dog', 'dog', 'hamster'],\n",
    "    Color=['black', 'golden', 'black', 'white', 'golden', 'golden'],\n",
    "    Weight=[40, 15, 20, 80, 25, 1],\n",
    "    Age=[5, 8, 9, 2, 0.5, 3]\n",
    ")\n",
    "pets"
   ]
  },
  {
   "cell_type": "code",
   "execution_count": null,
   "metadata": {
    "scrolled": false
   },
   "outputs": [],
   "source": [
    "pets.groupby('Species').mean()"
   ]
  },
  {
   "cell_type": "markdown",
   "metadata": {
    "slideshow": {
     "slide_type": "fragment"
    }
   },
   "source": [
    "It takes several steps to go from the original `pets` DataFrame to this grouped DataFrame, but we don't get to see any of Python's inner workings, just the final output."
   ]
  },
  {
   "cell_type": "markdown",
   "metadata": {
    "slideshow": {
     "slide_type": "slide"
    }
   },
   "source": [
    "### Back to states: which region is most populated?"
   ]
  },
  {
   "cell_type": "code",
   "execution_count": null,
   "metadata": {},
   "outputs": [],
   "source": [
    "states"
   ]
  },
  {
   "cell_type": "code",
   "execution_count": null,
   "metadata": {},
   "outputs": [],
   "source": [
    "states.groupby('Region').sum()"
   ]
  },
  {
   "cell_type": "code",
   "execution_count": null,
   "metadata": {},
   "outputs": [],
   "source": [
    "# Note the use of .index – remember, the index isn't a column!\n",
    "..."
   ]
  },
  {
   "cell_type": "markdown",
   "metadata": {
    "slideshow": {
     "slide_type": "slide"
    }
   },
   "source": [
    "### Using `.groupby` in general\n",
    "\n",
    "In short, `.groupby` aggregates (collects) all rows with the same value in a specified column (e.g. `'Region'`) into a single row in the resulting DataFrame, using an aggregation method (e.g. `.sum()`) to combine values from different rows with the same value in the specified column.\n",
    "\n",
    "To use `.groupby`:"
   ]
  },
  {
   "cell_type": "markdown",
   "metadata": {
    "slideshow": {
     "slide_type": "fragment"
    }
   },
   "source": [
    "1. **Choose a column to group by**.\n",
    "    - `.groupby(column_name)` will gather rows which have the same value in the specified column (`column_name`).\n",
    "    - In the resulting DataFrame, there will be one row for every unique value in that column."
   ]
  },
  {
   "cell_type": "markdown",
   "metadata": {
    "slideshow": {
     "slide_type": "fragment"
    }
   },
   "source": [
    "2. **Choose an aggregation method**.\n",
    "    - The aggregation method will be applied **within** each group.\n",
    "    - The aggregation method is applied individually to each column.\n",
    "        - If it doesn't make sense to use the aggregation method on a column, the column is dropped from the output.\n",
    "    - Common aggregation methods include `.count()`, `.sum()`, `.mean()`, `.median()`, `.max()`, and `.min()`."
   ]
  },
  {
   "cell_type": "markdown",
   "metadata": {
    "slideshow": {
     "slide_type": "slide"
    }
   },
   "source": [
    "### Observations on grouping\n",
    "1. After grouping, the index changes. The new row labels are the *group labels* (i.e., the unique values in the column that we grouped on), sorted in ascending order."
   ]
  },
  {
   "cell_type": "code",
   "execution_count": null,
   "metadata": {
    "scrolled": false
   },
   "outputs": [],
   "source": [
    "states"
   ]
  },
  {
   "cell_type": "code",
   "execution_count": null,
   "metadata": {},
   "outputs": [],
   "source": [
    "states.groupby('Region').sum()"
   ]
  },
  {
   "cell_type": "markdown",
   "metadata": {},
   "source": [
    "***Tip:*** look for keywords \"per,\" \"for each,\" and \"indexed by\" when solving problems."
   ]
  },
  {
   "cell_type": "markdown",
   "metadata": {
    "slideshow": {
     "slide_type": "fragment"
    }
   },
   "source": [
    "2. The aggregation method is applied separately to each column. If it does not make sense to apply the aggregation method to a certain column, the column will disappear. 🐇🎩  \n"
   ]
  },
  {
   "cell_type": "markdown",
   "metadata": {
    "slideshow": {
     "slide_type": "fragment"
    }
   },
   "source": [
    "3. Since the aggregation method is applied to each column **separately**, the rows of the resulting DataFrame need to be interpreted with care."
   ]
  },
  {
   "cell_type": "code",
   "execution_count": null,
   "metadata": {},
   "outputs": [],
   "source": [
    "states.groupby('Region').max()"
   ]
  },
  {
   "cell_type": "code",
   "execution_count": null,
   "metadata": {
    "slideshow": {
     "slide_type": "-"
    }
   },
   "outputs": [],
   "source": [
    "12812508 / 81759 == 288.77"
   ]
  },
  {
   "cell_type": "markdown",
   "metadata": {
    "slideshow": {
     "slide_type": "fragment"
    }
   },
   "source": [
    "4. The column names don't make sense after grouping with the `.count()` aggregation method."
   ]
  },
  {
   "cell_type": "code",
   "execution_count": null,
   "metadata": {
    "slideshow": {
     "slide_type": "-"
    }
   },
   "outputs": [],
   "source": [
    "states.groupby('Region').count()"
   ]
  },
  {
   "cell_type": "markdown",
   "metadata": {
    "slideshow": {
     "slide_type": "slide"
    }
   },
   "source": [
    "### Dropping, renaming, and reordering columns\n",
    "\n",
    "Consider dropping unneeded columns and renaming columns as follows:\n",
    "1. Use `.assign` to create a new column containing the same values as the old column(s).\n",
    "2. Use `.drop(columns=list_of_column_labels)` to drop the old column(s). \n",
    "    - Alternatively, use `.get(list_of_column_labels)` to keep only the columns in the given list. The columns will appear in the order you specify, so this is also useful for reordering columns!"
   ]
  },
  {
   "cell_type": "code",
   "execution_count": null,
   "metadata": {},
   "outputs": [],
   "source": [
    "states_by_region = states.groupby('Region').count()\n",
    "states_by_region = states_by_region.assign(\n",
    "                    States=states_by_region.get('Capital City')\n",
    "                    ).get(['States'])\n",
    "states_by_region"
   ]
  },
  {
   "cell_type": "markdown",
   "metadata": {
    "slideshow": {
     "slide_type": "slide"
    }
   },
   "source": [
    "## Challenge problems: IMDb dataset 🎞️"
   ]
  },
  {
   "cell_type": "markdown",
   "metadata": {
    "slideshow": {
     "slide_type": "-"
    }
   },
   "source": [
    "<center>\n",
    "<img width=40% src=\"images/imdb.png\"/>\n",
    "</center>"
   ]
  },
  {
   "cell_type": "markdown",
   "metadata": {
    "slideshow": {
     "slide_type": "slide"
    }
   },
   "source": [
    "### Extra practice\n",
    "\n",
    "We won't cover this section in class. Instead, it's here for you to practice with some harder examples.\n",
    "\n",
    "The video below walks through the solutions (it's also linked [here](https://youtu.be/xg7rnjWnZ48)). You can also see the solutions by clicking the \"✅ Click <b>here</b> to see the answer.\" button below each question."
   ]
  },
  {
   "cell_type": "code",
   "execution_count": null,
   "metadata": {},
   "outputs": [],
   "source": [
    "from IPython.display import YouTubeVideo\n",
    "YouTubeVideo('xg7rnjWnZ48')"
   ]
  },
  {
   "cell_type": "markdown",
   "metadata": {
    "slideshow": {
     "slide_type": "fragment"
    }
   },
   "source": [
    "Before watching the video or looking at the solutions, **make sure to try these problems on your own** – they're great prep for homeworks, projects, and exams! Feel free to ask about them in office hours or on Ed."
   ]
  },
  {
   "cell_type": "code",
   "execution_count": null,
   "metadata": {
    "slideshow": {
     "slide_type": "slide"
    }
   },
   "outputs": [],
   "source": [
    "imdb = bpd.read_csv('data/imdb.csv').set_index('Title').sort_values(by='Rating')\n",
    "imdb"
   ]
  },
  {
   "cell_type": "markdown",
   "metadata": {
    "slideshow": {
     "slide_type": "slide"
    }
   },
   "source": [
    "### Question: How many movies appear from each decade?"
   ]
  },
  {
   "cell_type": "code",
   "execution_count": null,
   "metadata": {},
   "outputs": [],
   "source": [
    "imdb.groupby('Decade').count()"
   ]
  },
  {
   "cell_type": "code",
   "execution_count": null,
   "metadata": {
    "scrolled": false
   },
   "outputs": [],
   "source": [
    "# We'll learn how to make plots like this in the next lecture!\n",
    "imdb.groupby('Decade').count().plot(y='Year');"
   ]
  },
  {
   "cell_type": "markdown",
   "metadata": {
    "slideshow": {
     "slide_type": "slide"
    }
   },
   "source": [
    "### Question: What was the highest rated movie of the 1990s?\n",
    "\n",
    "Let's try to do this two different ways."
   ]
  },
  {
   "cell_type": "markdown",
   "metadata": {
    "slideshow": {
     "slide_type": "slide"
    }
   },
   "source": [
    "#### Without grouping"
   ]
  },
  {
   "cell_type": "code",
   "execution_count": null,
   "metadata": {},
   "outputs": [],
   "source": [
    "imdb[imdb.get('Decade') == 1990].sort_values('Rating', ascending=False).index[0]"
   ]
  },
  {
   "cell_type": "markdown",
   "metadata": {
    "slideshow": {
     "slide_type": "fragment"
    }
   },
   "source": [
    "***Note:*** The command to extract the index of a DataFrame is `.index` - no parentheses! This is different than the way we extract columns, with `.get()`, because the index is not a column."
   ]
  },
  {
   "cell_type": "markdown",
   "metadata": {
    "slideshow": {
     "slide_type": "slide"
    }
   },
   "source": [
    "#### With grouping"
   ]
  },
  {
   "cell_type": "code",
   "execution_count": null,
   "metadata": {},
   "outputs": [],
   "source": [
    "imdb.reset_index().groupby('Decade').max()"
   ]
  },
  {
   "cell_type": "markdown",
   "metadata": {
    "slideshow": {
     "slide_type": "fragment"
    }
   },
   "source": [
    "- It turns out that this method **does not** yield the correct answer. \n",
    "- When we use an aggregation method (e.g. `.max()`), aggregation is done to each column individually. \n",
    "- While it's true that the highest rated movie from the 1990s has a rating of 9.2, that movie is **not** Unforgiven – instead, Unforgiven is the movie that's the latest in the alphabet among all movies from the 1990s.\n",
    "- Taking the `max` is not helpful here."
   ]
  },
  {
   "cell_type": "markdown",
   "metadata": {
    "slideshow": {
     "slide_type": "slide"
    }
   },
   "source": [
    "### Question: How many years have more than 3 movies rated above 8.5?"
   ]
  },
  {
   "cell_type": "code",
   "execution_count": null,
   "metadata": {},
   "outputs": [],
   "source": []
  },
  {
   "cell_type": "markdown",
   "metadata": {},
   "source": [
    "<details>\n",
    "    <summary>✅ Click <b>here</b> to see the answer.</summary>\n",
    "\n",
    "<pre>\n",
    "good_movies_per_year = imdb[imdb.get('Rating') > 8.5].groupby('Year').count()\n",
    "good_movies_per_year[good_movies_per_year.get('Votes') > 3].shape[0]    \n",
    "</pre>\n",
    "    \n",
    "As mentioned below, you can also use:\n",
    "    \n",
    "<pre>\n",
    "(good_movies_per_year.get('Votes') > 3).sum() \n",
    "</pre>\n",
    "    \n",
    "</details>"
   ]
  },
  {
   "cell_type": "markdown",
   "metadata": {
    "slideshow": {
     "slide_type": "slide"
    }
   },
   "source": [
    "#### Aside: Using `.sum()` on a boolean array\n",
    "\n",
    "- Summing a boolean array gives a count of the number of `True` elements because Python treats `True` as 1 and `False` as 0. \n",
    "- Can you use that fact here?"
   ]
  },
  {
   "cell_type": "code",
   "execution_count": null,
   "metadata": {},
   "outputs": [],
   "source": []
  },
  {
   "cell_type": "markdown",
   "metadata": {
    "slideshow": {
     "slide_type": "slide"
    }
   },
   "source": [
    "### Question: Out of the years with more than 3 movies, which had the highest average rating?"
   ]
  },
  {
   "cell_type": "code",
   "execution_count": null,
   "metadata": {},
   "outputs": [],
   "source": []
  },
  {
   "cell_type": "markdown",
   "metadata": {},
   "source": [
    "<details>\n",
    "    <summary>✅ Click <b>here</b> to see the answer.</summary>\n",
    "\n",
    "<pre>\n",
    "# A Series of Trues and Falses; True when there were at least 3 movies on the list from that year\n",
    "more_than_3_ix = imdb.groupby('Year').count().get('Votes') > 3\n",
    "\n",
    "# The year with the highest average rating, among the years with more than 3 movies\n",
    "imdb.groupby('Year').mean()[more_than_3_ix].sort_values(by='Rating').index[-1] \n",
    "</pre>\n",
    "    \n",
    "</details>"
   ]
  },
  {
   "cell_type": "markdown",
   "metadata": {
    "slideshow": {
     "slide_type": "slide"
    }
   },
   "source": [
    "### Question: Which year had the longest movie titles, on average?\n",
    "\n",
    "**Hint:** Use `.str.len()` on the column or index that contains the names of the movies."
   ]
  },
  {
   "cell_type": "code",
   "execution_count": null,
   "metadata": {},
   "outputs": [],
   "source": []
  },
  {
   "cell_type": "markdown",
   "metadata": {},
   "source": [
    "<details>\n",
    "    <summary>✅ Click <b>here</b> to see the answer.</summary>\n",
    "\n",
    "<pre>\n",
    "(\n",
    "    imdb.assign(title_length=imdb.index.str.len())\n",
    "    .groupby('Year').mean()\n",
    "    .sort_values(by='title_length')\n",
    "    .index[-1]\n",
    ")\n",
    "</pre>\n",
    "    \n",
    "The year is 1964 – take a look at the movies from 1964 by querying!\n",
    "    \n",
    "</details>"
   ]
  },
  {
   "cell_type": "markdown",
   "metadata": {
    "slideshow": {
     "slide_type": "slide"
    }
   },
   "source": [
    "### Question: What is the average rating of movies from years that had at least 3 movies in the Top 250?"
   ]
  },
  {
   "cell_type": "code",
   "execution_count": null,
   "metadata": {},
   "outputs": [],
   "source": []
  },
  {
   "cell_type": "markdown",
   "metadata": {},
   "source": [
    "<details>\n",
    "    <summary>✅ Click <b>here</b> to see the answer.</summary>\n",
    "\n",
    "<pre>\n",
    "# A Series of Trues and Falses; True when there were at least 3 movies on the list from that year\n",
    "more_than_3_ix = imdb.groupby('Year').count().get('Votes') > 3\n",
    "\n",
    "# The sum of the ratings of movies from years that had at least 3 movies on the list\n",
    "total_rating = imdb.groupby('Year').sum()[more_than_3_ix].get('Rating').sum()\n",
    "\n",
    "# The total number of movies from years that had at least 3 movies on the list\n",
    "count = imdb.groupby('Year').count()[more_than_3_ix].get('Rating').sum()\n",
    "\n",
    "# The correct answer\n",
    "average_rating = total_rating / count\n",
    "\n",
    "# Close, but incorrect: \n",
    "# Doesn't account for the fact that different years have different numbers of movies on the list\n",
    "close_but_wrong = imdb.groupby('Year').mean()[more_than_3_ix].get('Rating').mean()\n",
    "</pre>\n",
    "        \n",
    "</details>"
   ]
  },
  {
   "cell_type": "markdown",
   "metadata": {
    "slideshow": {
     "slide_type": "slide"
    }
   },
   "source": [
    "## Summary, next time"
   ]
  },
  {
   "cell_type": "markdown",
   "metadata": {
    "slideshow": {
     "slide_type": "slide"
    }
   },
   "source": [
    "### Summary\n",
    "\n",
    "- To write queries that involve multiple conditions:\n",
    "    - Put parentheses around all conditions.\n",
    "    - Separate conditions using `&` if you require all to be true, or `|` if you require at least one to be true.\n",
    "- `df.groupby(column_name).agg_method()` **aggregates** all rows with the same value for `column_name` into a single row in the resulting DataFrame, using `agg_method()` to combine values.\n",
    "    - Common aggregation methods include `.count()`, `.sum()`, `.mean()`, `.median()`, `.max()`, and `.min()`.\n",
    "    - ***Tip:*** look for keywords \"per,\" \"for each,\" and \"indexed by\" when solving problems."
   ]
  },
  {
   "cell_type": "markdown",
   "metadata": {
    "slideshow": {
     "slide_type": "slide"
    }
   },
   "source": [
    "### Next time\n",
    "\n",
    " A picture is worth a 1000 words – it's time to visualize!"
   ]
  }
 ],
 "metadata": {
  "kernelspec": {
   "display_name": "Python 3 (ipykernel)",
   "language": "python",
   "name": "python3"
  },
  "language_info": {
   "codemirror_mode": {
    "name": "ipython",
    "version": 3
   },
   "file_extension": ".py",
   "mimetype": "text/x-python",
   "name": "python",
   "nbconvert_exporter": "python",
   "pygments_lexer": "ipython3",
   "version": "3.11.5"
  },
  "livereveal": {
   "scroll": true,
   "transition": "none"
  },
  "rise": {
   "enable_chalkboard": true
  }
 },
 "nbformat": 4,
 "nbformat_minor": 2
}
