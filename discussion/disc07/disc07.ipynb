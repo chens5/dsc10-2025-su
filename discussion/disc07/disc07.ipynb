{
 "cells": [
  {
   "cell_type": "markdown",
   "id": "6cf96aa8",
   "metadata": {
    "slideshow": {
     "slide_type": "slide"
    }
   },
   "source": [
    "# Discussion 7 - Hypothesis Testing, Total Variation Distance, and Permutation Testing\n",
    "\n",
    "## DSC 10, Summer 2024"
   ]
  },
  {
   "cell_type": "markdown",
   "id": "601bec69",
   "metadata": {
    "slideshow": {
     "slide_type": "slide"
    }
   },
   "source": [
    "### Agenda\n",
    "- Review of concepts:\n",
    "    - Hypothesis testing.\n",
    "    - Total variation distance.\n",
    "- Work in groups of 2-4 on practice problems covering these topics.\n",
    "    - Available at [practice.dsc10.com](https://practice.dsc10.com/).\n",
    "- All together, go over the ones people had the most trouble with at the end."
   ]
  },
  {
   "cell_type": "markdown",
   "id": "f97f944a",
   "metadata": {
    "slideshow": {
     "slide_type": "slide"
    }
   },
   "source": [
    "## Hypothesis Testing\n",
    "\n",
    "### 1) Defining hypothesis testing\n",
    "\n",
    "A hypothesis test chooses between two views (**hypotheses**) of how data were generated, based on data in a sample.\n",
    "- Suppose you flip a coin 400 times and see 230 heads. You want to test between two viewpoints:\n",
    "    - \"The coin is fair\" or \"The coin is not fair\"\n",
    "\n",
    "The test picks the hypothesis that is better supported by the observed data."
   ]
  },
  {
   "cell_type": "markdown",
   "id": "cfc79f8e",
   "metadata": {
    "slideshow": {
     "slide_type": "slide"
    }
   },
   "source": [
    "### 2) Null and alternative hypotheses\n",
    "- **Null hypothesis**: a well-defined probability model about how the data was generated.\n",
    "    - \"The coin is fair\" - 0.5 probability for both heads and tails.\n",
    "- **Alternative hypothesis**: a different view about how the data was generated.\n",
    "    - \"The coin is not fair\" - not 0.5 probability for both heads and tails."
   ]
  },
  {
   "cell_type": "markdown",
   "id": "3be023e8",
   "metadata": {
    "slideshow": {
     "slide_type": "slide"
    }
   },
   "source": [
    "### 3) Test statistics\n",
    "\n",
    "**Test statistic**: a single number that we will use to test which viewpoint the data better supports.\n",
    "- Large values should side with one hypothesis.\n",
    "- Small values should side with the other hypothesis.\n",
    "\n",
    "Suppose we simulate flipping a coin 400 times. The $|\\text{number of heads} - 200|$ is a valid test statistic:\n",
    "\n",
    "- Smaller values (# heads is close to 200) support the hypothesis that the coin is fair.\n",
    "- Larger values (# heads is far from 200) support the hypothesis that the coin is not fair. "
   ]
  },
  {
   "cell_type": "markdown",
   "id": "890e9683",
   "metadata": {
    "slideshow": {
     "slide_type": "slide"
    }
   },
   "source": [
    "**Observed statistic**: the test statistic evaluated on our observed data."
   ]
  },
  {
   "cell_type": "code",
   "execution_count": null,
   "id": "9e958c05",
   "metadata": {},
   "outputs": [],
   "source": [
    "observed_stat = np.abs(230 - 200)\n",
    "observed_stat"
   ]
  },
  {
   "cell_type": "markdown",
   "id": "f1d839eb",
   "metadata": {},
   "source": [
    "Our hypothesis test boils down to checking whether the observed statistic is a \"typical value\" to encounter if the null is true."
   ]
  },
  {
   "cell_type": "markdown",
   "id": "b341b66b",
   "metadata": {
    "slideshow": {
     "slide_type": "slide"
    }
   },
   "source": [
    "### 4) Simulation\n",
    "\n",
    "Once we have established our null and alternative hypotheses and test statistic, we have the following structure for running a simulation for a hypothesis test:\n",
    "1. Repeatedly generate samples under the assumption that the **null is true**.\n",
    "1. For each sample, calculate a **test statistic**."
   ]
  },
  {
   "cell_type": "code",
   "execution_count": null,
   "id": "55c985cd",
   "metadata": {},
   "outputs": [],
   "source": [
    "import numpy as np\n",
    "np.random.multinomial(400, [0.5, 0.5])"
   ]
  },
  {
   "cell_type": "code",
   "execution_count": null,
   "id": "39d205b7",
   "metadata": {},
   "outputs": [],
   "source": [
    "results = np.array([])\n",
    "for i in np.arange(10000):\n",
    "    flips = np.random.multinomial(400, [0.5, 0.5])\n",
    "    num_heads = flips[0]\n",
    "    statistic = np.abs(num_heads - 200)\n",
    "    results = np.append(results, statistic)"
   ]
  },
  {
   "cell_type": "markdown",
   "id": "cd09814d",
   "metadata": {
    "slideshow": {
     "slide_type": "slide"
    }
   },
   "source": [
    "### 5) p-values\n",
    "\n",
    "**p-value**: the probability under the null hypothesis that the test statistic is equal to the observed statistic or is even further in the direction of the alternative.\n",
    "\n",
    "- After simulating many sample test statistics, we want to check whether the **observed statistic is a typical value** in the distribution of our test statistic.\n",
    "- If the null is true, what is the chance of seeing an outcome at least as extreme as the observed statistic?"
   ]
  },
  {
   "cell_type": "code",
   "execution_count": null,
   "id": "b0d56aec",
   "metadata": {},
   "outputs": [],
   "source": [
    "# rare to flip a fair coin 400 times and see 230 heads or more, 170 heads or less\n",
    "np.count_nonzero(results >= observed_stat) / len(results)"
   ]
  },
  {
   "cell_type": "code",
   "execution_count": null,
   "id": "4972cee8",
   "metadata": {},
   "outputs": [],
   "source": [
    "# common to flip a fair coin 400 times and see 205 heads or more, 195 heads or less\n",
    "np.count_nonzero(results >= 5) / len(results)"
   ]
  },
  {
   "cell_type": "markdown",
   "id": "7a7d82e7",
   "metadata": {
    "slideshow": {
     "slide_type": "slide"
    }
   },
   "source": [
    "Conventionally, we use a significance level of 0.05, meaning:\n",
    "- if the p-value is **above** the 0.05 cutoff, we **fail to reject the null hypothesis**.\n",
    "- if the p-value is **below** the 0.05 cutoff, we **reject the null hypothesis**."
   ]
  },
  {
   "cell_type": "markdown",
   "id": "05b2c491",
   "metadata": {
    "slideshow": {
     "slide_type": "slide"
    }
   },
   "source": [
    "## Total Variation Distance\n",
    "\n",
    "**Total Variation Distance (TVD)**: a test statistic that calculates the distance between two categorical distributions using the following formula:\n",
    "- the sum of the absolute differences of their proportions, all divided by 2"
   ]
  },
  {
   "cell_type": "code",
   "execution_count": null,
   "id": "759c258d",
   "metadata": {},
   "outputs": [],
   "source": [
    "fair_die = np.array([1/6, 1/6, 1/6, 1/6, 1/6, 1/6])\n",
    "observed = np.array([10/60, 12/60, 8/60, 11/60, 9/60, 10/60])\n",
    "\n",
    "abs_diff = np.abs(fair_die - observed)\n",
    "tvd = np.sum(abs_diff) / 2\n",
    "tvd"
   ]
  },
  {
   "cell_type": "markdown",
   "id": "5bb1f045",
   "metadata": {},
   "source": [
    "- TVD will be a number between 0 and 1. \n",
    "- The further the TVD is from 0, the more the observed distribution deviates from the expected, indicating the die may be biased."
   ]
  }
 ],
 "metadata": {
  "kernelspec": {
   "display_name": "Python 3 (ipykernel)",
   "language": "python",
   "name": "python3"
  },
  "language_info": {
   "codemirror_mode": {
    "name": "ipython",
    "version": 3
   },
   "file_extension": ".py",
   "mimetype": "text/x-python",
   "name": "python",
   "nbconvert_exporter": "python",
   "pygments_lexer": "ipython3",
   "version": "3.11.4"
  },
  "livereveal": {
   "scroll": true,
   "transition": "none"
  },
  "rise": {
   "enable_chalkboard": true
  }
 },
 "nbformat": 4,
 "nbformat_minor": 5
}
