{
 "cells": [
  {
   "cell_type": "markdown",
   "id": "4b201b2e",
   "metadata": {
    "slideshow": {
     "slide_type": "slide"
    }
   },
   "source": [
    "# Discussion 5 - Sampling, Bootstrapping, and Confidence Intervals\n",
    "\n",
    "## DSC 10, Summer 2024"
   ]
  },
  {
   "cell_type": "markdown",
   "id": "48489148",
   "metadata": {
    "slideshow": {
     "slide_type": "slide"
    }
   },
   "source": [
    "### Agenda\n",
    "- Review of concepts:\n",
    "    - Distributions.\n",
    "    - Sampling.\n",
    "    - Bootstrapping. \n",
    "- Work in groups of 2-4 on practice problems covering these topics.\n",
    "    - Available at [practice.dsc10.com](https://practice.dsc10.com/).\n",
    "- All together, go over the ones people had the most trouble with at the end."
   ]
  },
  {
   "cell_type": "markdown",
   "id": "79298f79",
   "metadata": {
    "slideshow": {
     "slide_type": "slide"
    }
   },
   "source": [
    "## Distributions\n",
    "\n",
    "### 1) Probability distributions\n",
    "\n",
    "A probability distribution describes all possible values of a random quantity and the **theoretical** probability of each value.\n",
    "- Dice roll: takes on values 1 through 6, each with probability $ {1 \\over 6} $"
   ]
  },
  {
   "cell_type": "markdown",
   "id": "371c8e15",
   "metadata": {
    "slideshow": {
     "slide_type": "slide"
    }
   },
   "source": [
    "### 2) Empirical distributions\n",
    "\n",
    "An empirical distribution describes all **observed** values of a random experiment and the proportion of experiments in which each value occurred."
   ]
  },
  {
   "cell_type": "code",
   "execution_count": null,
   "id": "a2ecfe73",
   "metadata": {},
   "outputs": [],
   "source": [
    "import numpy as np\n",
    "\n",
    "die_faces = np.arange(1, 7)\n",
    "num_rolls = 25\n",
    "rolls = np.random.choice(die_faces, num_rolls)\n",
    "rolls"
   ]
  },
  {
   "cell_type": "markdown",
   "id": "da32bca6",
   "metadata": {
    "slideshow": {
     "slide_type": "slide"
    }
   },
   "source": [
    "### 3) Law of large numbers\n",
    "\n",
    "The **law of large numbers** states that if a chance experiment is repeated \n",
    "- many times, \n",
    "- independently, and \n",
    "- under the same conditions, \n",
    "\n",
    "the **proportion** of times that an event occurs gets closer and closer to the **theoretical probability** of that event."
   ]
  },
  {
   "cell_type": "code",
   "execution_count": null,
   "id": "2ea495d4",
   "metadata": {},
   "outputs": [],
   "source": [
    "# theoretical prob that roll is 6\n",
    "1/6"
   ]
  },
  {
   "cell_type": "code",
   "execution_count": null,
   "id": "78829e8b",
   "metadata": {},
   "outputs": [],
   "source": [
    "num_rolls = 25\n",
    "die_faces = np.arange(1, 7)\n",
    "rolls = np.random.choice(die_faces, num_rolls)\n",
    "\n",
    "# proportion of times roll is 6\n",
    "np.count_nonzero(rolls == 6) / num_rolls "
   ]
  },
  {
   "cell_type": "markdown",
   "id": "66992601",
   "metadata": {
    "slideshow": {
     "slide_type": "slide"
    }
   },
   "source": [
    "## Sampling\n",
    "\n",
    "### 1) Populations and Samples\n",
    "\n",
    "- A **population** is the complete group of people, objects, or events that we are interested in.\n",
    "    - Often infeasible to collect information about every member of a population.\n",
    "- A **sample** is a subset of the population.\n",
    "\n",
    "We want to estimate the distribution of some numerical variable in the population using only a sample.\n",
    "\n",
    "- A **parameter** is a number associated with the population.\n",
    "- A **statistic** is a number calculated from the sample.\n",
    "- A statistic can be used as an estimate for a parameter."
   ]
  },
  {
   "cell_type": "markdown",
   "id": "3ffab784",
   "metadata": {
    "slideshow": {
     "slide_type": "slide"
    }
   },
   "source": [
    "### 2) Samping strategies\n",
    "\n",
    "A **simple random sample (SRS)** is a sample drawn uniformly at random without replacement.\n",
    "\n",
    "To perform an SRS on an array `arr`:\n",
    "    <br>\n",
    "    <br>\n",
    "    <center>\n",
    "    <code>np.random.choice(arr, sample_size, replace = False)</code>\n",
    "    </center>\n",
    "\n",
    "To perform an SRS on a DataFrame `df`:\n",
    "    <br>\n",
    "    <br>\n",
    "    <center>\n",
    "    <code>df.sample(sample_size)</code>\n",
    "    </center>"
   ]
  },
  {
   "cell_type": "markdown",
   "id": "6a5f06e5",
   "metadata": {
    "slideshow": {
     "slide_type": "slide"
    }
   },
   "source": [
    "## Bootstrapping\n",
    "\n",
    "Suppose we have a random sample of 500 UCSD students and we calculate the average height (a statistic) to estimate the average height of all UCSD students (parameter).\n",
    "\n",
    "Our estimate depends on the random sample. If our sample was different, our estimate may also have been different. But **how different**?\n",
    "\n",
    "We could answer this question if we knew what the distribution of the sample mean looked like."
   ]
  },
  {
   "cell_type": "markdown",
   "id": "ec88cff9",
   "metadata": {
    "slideshow": {
     "slide_type": "slide"
    }
   },
   "source": [
    "### 1) Impractical approach\n",
    "\n",
    "To get the distribution of the sample mean, we could repeatedly collect random samples of 500 UCSD students and compute their average heights.\n",
    "\n",
    "Drawing new samples from the population each time is impractical &mdash; if we were able to do this, why not just collect more data in the first place?"
   ]
  },
  {
   "cell_type": "markdown",
   "id": "72cc26e2",
   "metadata": {
    "slideshow": {
     "slide_type": "slide"
    }
   },
   "source": [
    "### 2) Bootstrapping\n",
    "\n",
    "The key insight is that the original sample itself looks a lot like the population.\n",
    "\n",
    "So, resampling from the sample (**bootstrapping**) is kind of like sampling from the population."
   ]
  },
  {
   "cell_type": "markdown",
   "id": "d114768b",
   "metadata": {
    "slideshow": {
     "slide_type": "slide"
    }
   },
   "source": [
    "Let `my_sample` be a DataFrame containing a random sample of 500 UCSD students and their heights collected from the population of all UCSD students. To bootstrap, resample from the sample **with replacement**:\n",
    "\n",
    "\n",
    "```py\n",
    "n_resamples = 1000\n",
    "boot_means = np.array([])\n",
    "\n",
    "for i in np.arange(n_resamples):\n",
    "\n",
    "    # resample from my_sample with replacement\n",
    "    # create resamples that are of the same size as the original sample\n",
    "    resample = my_sample.sample(500, replace = True)\n",
    "    \n",
    "    # compute mean of the resample\n",
    "    mean = resample.get('height').mean()\n",
    "    \n",
    "    # store it in the array of means\n",
    "    boot_means = np.append(boot_means, mean)\n",
    "```"
   ]
  }
 ],
 "metadata": {
  "kernelspec": {
   "display_name": "Python 3 (ipykernel)",
   "language": "python",
   "name": "python3"
  },
  "language_info": {
   "codemirror_mode": {
    "name": "ipython",
    "version": 3
   },
   "file_extension": ".py",
   "mimetype": "text/x-python",
   "name": "python",
   "nbconvert_exporter": "python",
   "pygments_lexer": "ipython3",
   "version": "3.11.4"
  },
  "livereveal": {
   "scroll": true,
   "transition": "none"
  },
  "rise": {
   "enable_chalkboard": true
  }
 },
 "nbformat": 4,
 "nbformat_minor": 5
}
