{
 "cells": [
  {
   "cell_type": "markdown",
   "id": "8e40db71",
   "metadata": {
    "slideshow": {
     "slide_type": "slide"
    }
   },
   "source": [
    "# Discussion 4 - Functions, DataFrames, Control Flow, Probability, and Simulation\n",
    "\n",
    "## DSC 10, Summer 2024"
   ]
  },
  {
   "cell_type": "markdown",
   "id": "f107fbd3",
   "metadata": {
    "slideshow": {
     "slide_type": "slide"
    }
   },
   "source": [
    "### Agenda\n",
    "- Review of concepts:\n",
    "    - Functions.\n",
    "    - Grouping on multiple columns.\n",
    "    - Merging DataFrames. \n",
    "- Work in groups of 2-4 on practice problems covering these topics.\n",
    "    - Available at [practice.dsc10.com](https://practice.dsc10.com/).\n",
    "- All together, go over the ones people had the most trouble with at the end."
   ]
  },
  {
   "cell_type": "markdown",
   "id": "7e8b32c6",
   "metadata": {
    "slideshow": {
     "slide_type": "slide"
    }
   },
   "source": [
    "## Functions\n",
    "\n",
    "Functions are a way to divide code into small subparts to prevent us from writing repetitive code, which is **prone to error**."
   ]
  },
  {
   "cell_type": "markdown",
   "id": "56bf1cea",
   "metadata": {
    "slideshow": {
     "slide_type": "slide"
    }
   },
   "source": [
    "### 1) Defining functions\n",
    "\n",
    "To define a function in Python, we use the following structure:\n",
    "```py\n",
    "def function(parameters):\n",
    "    # indent!\n",
    "    <function body>\n",
    "    return <expression>\n",
    "```\n",
    "\n",
    "Functions take in inputs (**arguments**), do something, and produce outputs:"
   ]
  },
  {
   "cell_type": "code",
   "execution_count": 4,
   "id": "89c81320",
   "metadata": {
    "slideshow": {
     "slide_type": "-"
    }
   },
   "outputs": [
    {
     "data": {
      "text/plain": [
       "5.0"
      ]
     },
     "execution_count": 4,
     "metadata": {},
     "output_type": "execute_result"
    }
   ],
   "source": [
    "def pythag(a, b):\n",
    "    return (a**2 + b**2) ** 0.5\n",
    "\n",
    "pythag(3, 4)"
   ]
  },
  {
   "cell_type": "markdown",
   "id": "aebfd337",
   "metadata": {
    "slideshow": {
     "slide_type": "-"
    }
   },
   "source": [
    "- `pythag` has 2 **parameters**, `a` and `b` \n",
    "    - When we call `pythag` with the **arguments** 3 and 4, `a` is set to 3 and `b` is set 4 to within the function body.\n",
    "\n",
    "- To be able to **save the function output to a variable, you must use `return`**!"
   ]
  },
  {
   "cell_type": "markdown",
   "id": "a0991cd0",
   "metadata": {
    "slideshow": {
     "slide_type": "slide"
    }
   },
   "source": [
    "### 2) Applying functions to DataFrames\n",
    "\n",
    "To apply a function `func` to every element in a column `'col'` in DataFrame `df`, use syntax \n",
    "<br>\n",
    "<br>\n",
    "<center>\n",
    "    <code>df.get('col').apply(func)</code>\n",
    "</center>\n",
    "\n",
    "- `.apply` is a Series method: it is used on a Series, and outputs a Series.\n",
    "- Each entry in `'col'` will be passed in individually as the argument to `func`.\n",
    "- Only pass the name of the function!"
   ]
  },
  {
   "cell_type": "code",
   "execution_count": 5,
   "id": "d3097dec",
   "metadata": {
    "slideshow": {
     "slide_type": "slide"
    }
   },
   "outputs": [
    {
     "data": {
      "text/html": [
       "<div>\n",
       "<style scoped>\n",
       "    .dataframe tbody tr th:only-of-type {\n",
       "        vertical-align: middle;\n",
       "    }\n",
       "\n",
       "    .dataframe tbody tr th {\n",
       "        vertical-align: top;\n",
       "    }\n",
       "\n",
       "    .dataframe thead th {\n",
       "        text-align: right;\n",
       "    }\n",
       "</style>\n",
       "<table border=\"1\" class=\"dataframe\">\n",
       "  <thead>\n",
       "    <tr style=\"text-align: right;\">\n",
       "      <th></th>\n",
       "      <th>name</th>\n",
       "      <th>section</th>\n",
       "    </tr>\n",
       "  </thead>\n",
       "  <tbody>\n",
       "    <tr>\n",
       "      <th>0</th>\n",
       "      <td>Allie Sazhma</td>\n",
       "      <td>11AM</td>\n",
       "    </tr>\n",
       "    <tr>\n",
       "      <th>1</th>\n",
       "      <td>Amina Igxazd</td>\n",
       "      <td>10AM</td>\n",
       "    </tr>\n",
       "    <tr>\n",
       "      <th>2</th>\n",
       "      <td>Jazmine Enesxr</td>\n",
       "      <td>9AM</td>\n",
       "    </tr>\n",
       "    <tr>\n",
       "      <th>3</th>\n",
       "      <td>Rafi Xnihrd</td>\n",
       "      <td>11AM</td>\n",
       "    </tr>\n",
       "    <tr>\n",
       "      <th>4</th>\n",
       "      <td>Nebiu Ulmqhw</td>\n",
       "      <td>9AM</td>\n",
       "    </tr>\n",
       "    <tr>\n",
       "      <th>...</th>\n",
       "      <td>...</td>\n",
       "      <td>...</td>\n",
       "    </tr>\n",
       "    <tr>\n",
       "      <th>217</th>\n",
       "      <td>Hady Kmczjh</td>\n",
       "      <td>11AM</td>\n",
       "    </tr>\n",
       "    <tr>\n",
       "      <th>218</th>\n",
       "      <td>Shawn Rbpeem</td>\n",
       "      <td>10AM</td>\n",
       "    </tr>\n",
       "    <tr>\n",
       "      <th>219</th>\n",
       "      <td>Ismayl Gwuiij</td>\n",
       "      <td>10AM</td>\n",
       "    </tr>\n",
       "    <tr>\n",
       "      <th>220</th>\n",
       "      <td>Neil Dkaqgm</td>\n",
       "      <td>10AM</td>\n",
       "    </tr>\n",
       "    <tr>\n",
       "      <th>221</th>\n",
       "      <td>Maggie Ldfgau</td>\n",
       "      <td>9AM</td>\n",
       "    </tr>\n",
       "  </tbody>\n",
       "</table>\n",
       "<p>222 rows × 2 columns</p>\n",
       "</div>"
      ],
      "text/plain": [
       "               name section\n",
       "0      Allie Sazhma    11AM\n",
       "1      Amina Igxazd    10AM\n",
       "2    Jazmine Enesxr     9AM\n",
       "3       Rafi Xnihrd    11AM\n",
       "4      Nebiu Ulmqhw     9AM\n",
       "..              ...     ...\n",
       "217     Hady Kmczjh    11AM\n",
       "218    Shawn Rbpeem    10AM\n",
       "219   Ismayl Gwuiij    10AM\n",
       "220     Neil Dkaqgm    10AM\n",
       "221   Maggie Ldfgau     9AM\n",
       "\n",
       "[222 rows x 2 columns]"
      ]
     },
     "execution_count": 5,
     "metadata": {},
     "output_type": "execute_result"
    }
   ],
   "source": [
    "import babypandas as bpd\n",
    "roster = bpd.read_csv('data/roster-anon.csv')\n",
    "roster"
   ]
  },
  {
   "cell_type": "code",
   "execution_count": 6,
   "id": "606b76c4",
   "metadata": {},
   "outputs": [],
   "source": [
    "def first_name(full_name):\n",
    "    return full_name.split(' ')[0]"
   ]
  },
  {
   "cell_type": "code",
   "execution_count": 7,
   "id": "2283f700",
   "metadata": {},
   "outputs": [
    {
     "data": {
      "text/plain": [
       "0        Allie\n",
       "1        Amina\n",
       "2      Jazmine\n",
       "3         Rafi\n",
       "4        Nebiu\n",
       "        ...   \n",
       "217       Hady\n",
       "218      Shawn\n",
       "219     Ismayl\n",
       "220       Neil\n",
       "221     Maggie\n",
       "Name: name, Length: 222, dtype: object"
      ]
     },
     "execution_count": 7,
     "metadata": {},
     "output_type": "execute_result"
    }
   ],
   "source": [
    "roster.get('name').apply(first_name) # each name passed into the function and produces a Series of these function outputs"
   ]
  },
  {
   "cell_type": "markdown",
   "id": "53291fab",
   "metadata": {
    "slideshow": {
     "slide_type": "slide"
    }
   },
   "source": [
    "## Grouping on Multiple Columns\n",
    "\n",
    "To group on multiple columns, use the syntax\n",
    "<br>\n",
    "<br>\n",
    "<center>\n",
    "    <code>df.groupby(['col_1', 'col_2', ..., 'col_k'])</code>\n",
    "</center>\n",
    "\n",
    "- Groups `df` by `'col_1'` first. Within each group in `'col_1'`, groups by `'col_2'`, and so on.\n",
    "- Results in a DataFrame with **one row per unique combination of values in the specified columns**!\n",
    "\n",
    "Helps us answer a question like this: How many of each first name are in each section?"
   ]
  },
  {
   "cell_type": "code",
   "execution_count": 8,
   "id": "78980003",
   "metadata": {
    "slideshow": {
     "slide_type": "slide"
    }
   },
   "outputs": [
    {
     "data": {
      "text/html": [
       "<div>\n",
       "<style scoped>\n",
       "    .dataframe tbody tr th:only-of-type {\n",
       "        vertical-align: middle;\n",
       "    }\n",
       "\n",
       "    .dataframe tbody tr th {\n",
       "        vertical-align: top;\n",
       "    }\n",
       "\n",
       "    .dataframe thead th {\n",
       "        text-align: right;\n",
       "    }\n",
       "</style>\n",
       "<table border=\"1\" class=\"dataframe\">\n",
       "  <thead>\n",
       "    <tr style=\"text-align: right;\">\n",
       "      <th></th>\n",
       "      <th>name</th>\n",
       "      <th>section</th>\n",
       "      <th>first</th>\n",
       "    </tr>\n",
       "  </thead>\n",
       "  <tbody>\n",
       "    <tr>\n",
       "      <th>0</th>\n",
       "      <td>Allie Sazhma</td>\n",
       "      <td>11AM</td>\n",
       "      <td>Allie</td>\n",
       "    </tr>\n",
       "    <tr>\n",
       "      <th>1</th>\n",
       "      <td>Amina Igxazd</td>\n",
       "      <td>10AM</td>\n",
       "      <td>Amina</td>\n",
       "    </tr>\n",
       "    <tr>\n",
       "      <th>2</th>\n",
       "      <td>Jazmine Enesxr</td>\n",
       "      <td>9AM</td>\n",
       "      <td>Jazmine</td>\n",
       "    </tr>\n",
       "    <tr>\n",
       "      <th>3</th>\n",
       "      <td>Rafi Xnihrd</td>\n",
       "      <td>11AM</td>\n",
       "      <td>Rafi</td>\n",
       "    </tr>\n",
       "    <tr>\n",
       "      <th>4</th>\n",
       "      <td>Nebiu Ulmqhw</td>\n",
       "      <td>9AM</td>\n",
       "      <td>Nebiu</td>\n",
       "    </tr>\n",
       "    <tr>\n",
       "      <th>...</th>\n",
       "      <td>...</td>\n",
       "      <td>...</td>\n",
       "      <td>...</td>\n",
       "    </tr>\n",
       "    <tr>\n",
       "      <th>217</th>\n",
       "      <td>Hady Kmczjh</td>\n",
       "      <td>11AM</td>\n",
       "      <td>Hady</td>\n",
       "    </tr>\n",
       "    <tr>\n",
       "      <th>218</th>\n",
       "      <td>Shawn Rbpeem</td>\n",
       "      <td>10AM</td>\n",
       "      <td>Shawn</td>\n",
       "    </tr>\n",
       "    <tr>\n",
       "      <th>219</th>\n",
       "      <td>Ismayl Gwuiij</td>\n",
       "      <td>10AM</td>\n",
       "      <td>Ismayl</td>\n",
       "    </tr>\n",
       "    <tr>\n",
       "      <th>220</th>\n",
       "      <td>Neil Dkaqgm</td>\n",
       "      <td>10AM</td>\n",
       "      <td>Neil</td>\n",
       "    </tr>\n",
       "    <tr>\n",
       "      <th>221</th>\n",
       "      <td>Maggie Ldfgau</td>\n",
       "      <td>9AM</td>\n",
       "      <td>Maggie</td>\n",
       "    </tr>\n",
       "  </tbody>\n",
       "</table>\n",
       "<p>222 rows × 3 columns</p>\n",
       "</div>"
      ],
      "text/plain": [
       "               name section    first\n",
       "0      Allie Sazhma    11AM    Allie\n",
       "1      Amina Igxazd    10AM    Amina\n",
       "2    Jazmine Enesxr     9AM  Jazmine\n",
       "3       Rafi Xnihrd    11AM     Rafi\n",
       "4      Nebiu Ulmqhw     9AM    Nebiu\n",
       "..              ...     ...      ...\n",
       "217     Hady Kmczjh    11AM     Hady\n",
       "218    Shawn Rbpeem    10AM    Shawn\n",
       "219   Ismayl Gwuiij    10AM   Ismayl\n",
       "220     Neil Dkaqgm    10AM     Neil\n",
       "221   Maggie Ldfgau     9AM   Maggie\n",
       "\n",
       "[222 rows x 3 columns]"
      ]
     },
     "execution_count": 8,
     "metadata": {},
     "output_type": "execute_result"
    }
   ],
   "source": [
    "roster = roster.assign(first = roster.get('name').apply(first_name))\n",
    "roster"
   ]
  },
  {
   "cell_type": "code",
   "execution_count": 12,
   "id": "8cbfb05c",
   "metadata": {},
   "outputs": [
    {
     "data": {
      "text/html": [
       "<div>\n",
       "<style scoped>\n",
       "    .dataframe tbody tr th:only-of-type {\n",
       "        vertical-align: middle;\n",
       "    }\n",
       "\n",
       "    .dataframe tbody tr th {\n",
       "        vertical-align: top;\n",
       "    }\n",
       "\n",
       "    .dataframe thead th {\n",
       "        text-align: right;\n",
       "    }\n",
       "</style>\n",
       "<table border=\"1\" class=\"dataframe\">\n",
       "  <thead>\n",
       "    <tr style=\"text-align: right;\">\n",
       "      <th></th>\n",
       "      <th>section</th>\n",
       "      <th>first</th>\n",
       "      <th>name</th>\n",
       "    </tr>\n",
       "  </thead>\n",
       "  <tbody>\n",
       "    <tr>\n",
       "      <th>0</th>\n",
       "      <td>10AM</td>\n",
       "      <td>Aadya</td>\n",
       "      <td>1</td>\n",
       "    </tr>\n",
       "    <tr>\n",
       "      <th>1</th>\n",
       "      <td>10AM</td>\n",
       "      <td>Abigail</td>\n",
       "      <td>1</td>\n",
       "    </tr>\n",
       "    <tr>\n",
       "      <th>2</th>\n",
       "      <td>10AM</td>\n",
       "      <td>Achintya</td>\n",
       "      <td>1</td>\n",
       "    </tr>\n",
       "    <tr>\n",
       "      <th>3</th>\n",
       "      <td>10AM</td>\n",
       "      <td>Adeline</td>\n",
       "      <td>1</td>\n",
       "    </tr>\n",
       "    <tr>\n",
       "      <th>4</th>\n",
       "      <td>10AM</td>\n",
       "      <td>Alexander</td>\n",
       "      <td>1</td>\n",
       "    </tr>\n",
       "    <tr>\n",
       "      <th>...</th>\n",
       "      <td>...</td>\n",
       "      <td>...</td>\n",
       "      <td>...</td>\n",
       "    </tr>\n",
       "    <tr>\n",
       "      <th>205</th>\n",
       "      <td>9AM</td>\n",
       "      <td>Veyna</td>\n",
       "      <td>1</td>\n",
       "    </tr>\n",
       "    <tr>\n",
       "      <th>206</th>\n",
       "      <td>9AM</td>\n",
       "      <td>Warsan</td>\n",
       "      <td>1</td>\n",
       "    </tr>\n",
       "    <tr>\n",
       "      <th>207</th>\n",
       "      <td>9AM</td>\n",
       "      <td>Yisi</td>\n",
       "      <td>1</td>\n",
       "    </tr>\n",
       "    <tr>\n",
       "      <th>208</th>\n",
       "      <td>9AM</td>\n",
       "      <td>Yujie</td>\n",
       "      <td>1</td>\n",
       "    </tr>\n",
       "    <tr>\n",
       "      <th>209</th>\n",
       "      <td>9AM</td>\n",
       "      <td>Zixuan</td>\n",
       "      <td>1</td>\n",
       "    </tr>\n",
       "  </tbody>\n",
       "</table>\n",
       "<p>210 rows × 3 columns</p>\n",
       "</div>"
      ],
      "text/plain": [
       "    section      first  name\n",
       "0      10AM      Aadya     1\n",
       "1      10AM    Abigail     1\n",
       "2      10AM   Achintya     1\n",
       "3      10AM    Adeline     1\n",
       "4      10AM  Alexander     1\n",
       "..      ...        ...   ...\n",
       "205     9AM      Veyna     1\n",
       "206     9AM     Warsan     1\n",
       "207     9AM       Yisi     1\n",
       "208     9AM      Yujie     1\n",
       "209     9AM     Zixuan     1\n",
       "\n",
       "[210 rows x 3 columns]"
      ]
     },
     "execution_count": 12,
     "metadata": {},
     "output_type": "execute_result"
    }
   ],
   "source": [
    "#roster.groupby('first').count()\n",
    "roster.groupby(['section', 'first']).count().reset_index()"
   ]
  },
  {
   "cell_type": "markdown",
   "id": "8c1a039e",
   "metadata": {
    "slideshow": {
     "slide_type": "slide"
    }
   },
   "source": [
    "## Merging DataFrames\n",
    "\n",
    "To combine information from multiple DataFrames, use `.merge`:\n",
    "\n",
    "```py\n",
    "left_df.merge(\n",
    "    right_df, \n",
    "    left_on = 'left_col_name', \n",
    "    right_on = 'right_col_name'\n",
    ")\n",
    "```\n",
    "\n",
    "The resulting DataFrame contains a **single row for every match between entries in the two specified columns**.\n",
    "- Rows in either DataFrame without a match will not appear in the merged DataFrame!"
   ]
  },
  {
   "cell_type": "markdown",
   "id": "1238607b",
   "metadata": {
    "slideshow": {
     "slide_type": "slide"
    }
   },
   "source": [
    "<center>\n",
    "    <img src=\"images/merge.png\" width=600>\n",
    "</center>\n",
    "<br>"
   ]
  },
  {
   "cell_type": "markdown",
   "id": "d0f0dd0f",
   "metadata": {},
   "source": [
    "- If the names of the columns we are merging on are the same in both DataFrames, use `on = 'col'`.\n",
    "- If we want to merge using an index instead of a column, use `left_index = True` and/or `right_index = True`.\n",
    "\n",
    "*[PandasTutor](https://pandastutor.com/) is a great resource for visualizing how DataFrame merging works!*"
   ]
  }
 ],
 "metadata": {
  "kernelspec": {
   "display_name": "Python 3 (ipykernel)",
   "language": "python",
   "name": "python3"
  },
  "language_info": {
   "codemirror_mode": {
    "name": "ipython",
    "version": 3
   },
   "file_extension": ".py",
   "mimetype": "text/x-python",
   "name": "python",
   "nbconvert_exporter": "python",
   "pygments_lexer": "ipython3",
   "version": "3.11.4"
  },
  "livereveal": {
   "scroll": true,
   "transition": "none"
  },
  "rise": {
   "enable_chalkboard": true
  }
 },
 "nbformat": 4,
 "nbformat_minor": 5
}
