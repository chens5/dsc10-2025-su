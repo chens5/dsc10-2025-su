{
 "cells": [
  {
   "cell_type": "markdown",
   "id": "8e40db71",
   "metadata": {
    "slideshow": {
     "slide_type": "slide"
    }
   },
   "source": [
    "# Discussion 4 - Functions, DataFrames, Control Flow, Probability, and Simulation\n",
    "\n",
    "## DSC 10, Summer 2024"
   ]
  },
  {
   "cell_type": "markdown",
   "id": "f107fbd3",
   "metadata": {
    "slideshow": {
     "slide_type": "slide"
    }
   },
   "source": [
    "### Agenda\n",
    "- Review of concepts:\n",
    "    - Functions.\n",
    "    - Grouping on multiple columns.\n",
    "    - Merging DataFrames. \n",
    "- Work in groups of 2-4 on practice problems covering these topics.\n",
    "    - Available at [practice.dsc10.com](https://practice.dsc10.com/).\n",
    "- All together, go over the ones people had the most trouble with at the end."
   ]
  },
  {
   "cell_type": "markdown",
   "id": "7e8b32c6",
   "metadata": {
    "slideshow": {
     "slide_type": "slide"
    }
   },
   "source": [
    "## Functions\n",
    "\n",
    "Functions are a way to divide code into small subparts to prevent us from writing repetitive code, which is **prone to error**."
   ]
  },
  {
   "cell_type": "markdown",
   "id": "56bf1cea",
   "metadata": {
    "slideshow": {
     "slide_type": "slide"
    }
   },
   "source": [
    "### 1) Defining functions\n",
    "\n",
    "To define a function in Python, we use the following structure:\n",
    "```py\n",
    "def function(parameters):\n",
    "    # indent!\n",
    "    <function body>\n",
    "    return <expression>\n",
    "```\n",
    "\n",
    "Functions take in inputs (**arguments**), do something, and produce outputs:"
   ]
  },
  {
   "cell_type": "code",
   "execution_count": null,
   "id": "89c81320",
   "metadata": {
    "slideshow": {
     "slide_type": "-"
    }
   },
   "outputs": [],
   "source": [
    "def pythag(a, b):\n",
    "    return (a**2 + b**2) ** 0.5\n",
    "\n",
    "pythag(3, 4)"
   ]
  },
  {
   "cell_type": "markdown",
   "id": "aebfd337",
   "metadata": {
    "slideshow": {
     "slide_type": "-"
    }
   },
   "source": [
    "- `pythag` has 2 **parameters**, `a` and `b` \n",
    "    - When we call `pythag` with the **arguments** 3 and 4, `a` is set to 3 and `b` is set 4 to within the function body.\n",
    "\n",
    "- To be able to **save the function output to a variable, you must use `return`**!"
   ]
  },
  {
   "cell_type": "markdown",
   "id": "a0991cd0",
   "metadata": {
    "slideshow": {
     "slide_type": "slide"
    }
   },
   "source": [
    "### 2) Applying functions to DataFrames\n",
    "\n",
    "To apply a function `func` to every element in a column `'col'` in DataFrame `df`, use syntax \n",
    "<br>\n",
    "<br>\n",
    "<center>\n",
    "    <code>df.get('col').apply(func)</code>\n",
    "</center>\n",
    "\n",
    "- `.apply` is a Series method: it is used on a Series, and outputs a Series.\n",
    "- Each entry in `'col'` will be passed in individually as the argument to `func`.\n",
    "- Only pass the name of the function!"
   ]
  },
  {
   "cell_type": "code",
   "execution_count": null,
   "id": "d3097dec",
   "metadata": {
    "slideshow": {
     "slide_type": "slide"
    }
   },
   "outputs": [],
   "source": [
    "import babypandas as bpd\n",
    "roster = bpd.read_csv('data/roster-anon.csv')\n",
    "roster"
   ]
  },
  {
   "cell_type": "code",
   "execution_count": null,
   "id": "606b76c4",
   "metadata": {},
   "outputs": [],
   "source": [
    "def first_name(full_name):\n",
    "    return full_name.split(' ')[0]"
   ]
  },
  {
   "cell_type": "code",
   "execution_count": null,
   "id": "2283f700",
   "metadata": {},
   "outputs": [],
   "source": [
    "roster.get('name').apply(first_name) # each name passed into the function and produces a Series of these function outputs"
   ]
  },
  {
   "cell_type": "markdown",
   "id": "53291fab",
   "metadata": {
    "slideshow": {
     "slide_type": "slide"
    }
   },
   "source": [
    "## Grouping on Multiple Columns\n",
    "\n",
    "To group on multiple columns, use the syntax\n",
    "<br>\n",
    "<br>\n",
    "<center>\n",
    "    <code>df.groupby(['col_1', 'col_2', ..., 'col_k'])</code>\n",
    "</center>\n",
    "\n",
    "- Groups `df` by `'col_1'` first. Within each group in `'col_1'`, groups by `'col_2'`, and so on.\n",
    "- Results in a DataFrame with **one row per unique combination of values in the specified columns**!\n",
    "\n",
    "Helps us answer a question like this: How many of each first name are in each section?"
   ]
  },
  {
   "cell_type": "code",
   "execution_count": null,
   "id": "78980003",
   "metadata": {
    "slideshow": {
     "slide_type": "slide"
    }
   },
   "outputs": [],
   "source": [
    "roster = roster.assign(first = roster.get('name').apply(first_name))\n",
    "roster"
   ]
  },
  {
   "cell_type": "code",
   "execution_count": null,
   "id": "8cbfb05c",
   "metadata": {},
   "outputs": [],
   "source": [
    "#roster.groupby('first').count()\n",
    "roster.groupby(['section', 'first']).count().reset_index()"
   ]
  },
  {
   "cell_type": "markdown",
   "id": "8c1a039e",
   "metadata": {
    "slideshow": {
     "slide_type": "slide"
    }
   },
   "source": [
    "## Merging DataFrames\n",
    "\n",
    "To combine information from multiple DataFrames, use `.merge`:\n",
    "\n",
    "```py\n",
    "left_df.merge(\n",
    "    right_df, \n",
    "    left_on = 'left_col_name', \n",
    "    right_on = 'right_col_name'\n",
    ")\n",
    "```\n",
    "\n",
    "The resulting DataFrame contains a **single row for every match between entries in the two specified columns**.\n",
    "- Rows in either DataFrame without a match will not appear in the merged DataFrame!"
   ]
  },
  {
   "cell_type": "markdown",
   "id": "1238607b",
   "metadata": {
    "slideshow": {
     "slide_type": "slide"
    }
   },
   "source": [
    "<center>\n",
    "    <img src=\"images/merge.png\" width=600>\n",
    "</center>\n",
    "<br>"
   ]
  },
  {
   "cell_type": "markdown",
   "id": "d0f0dd0f",
   "metadata": {},
   "source": [
    "- If the names of the columns we are merging on are the same in both DataFrames, use `on = 'col'`.\n",
    "- If we want to merge using an index instead of a column, use `left_index = True` and/or `right_index = True`.\n",
    "\n",
    "*[PandasTutor](https://pandastutor.com/) is a great resource for visualizing how DataFrame merging works!*"
   ]
  }
 ],
 "metadata": {
  "kernelspec": {
   "display_name": "Python 3 (ipykernel)",
   "language": "python",
   "name": "python3"
  },
  "language_info": {
   "codemirror_mode": {
    "name": "ipython",
    "version": 3
   },
   "file_extension": ".py",
   "mimetype": "text/x-python",
   "name": "python",
   "nbconvert_exporter": "python",
   "pygments_lexer": "ipython3",
   "version": "3.11.4"
  },
  "livereveal": {
   "scroll": true,
   "transition": "none"
  },
  "rise": {
   "enable_chalkboard": true
  }
 },
 "nbformat": 4,
 "nbformat_minor": 5
}
